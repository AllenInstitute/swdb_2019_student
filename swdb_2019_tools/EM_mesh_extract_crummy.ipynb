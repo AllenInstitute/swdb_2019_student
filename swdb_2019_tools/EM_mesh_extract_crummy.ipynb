{
 "cells": [
  {
   "cell_type": "code",
   "execution_count": null,
   "metadata": {},
   "outputs": [],
   "source": [
    "'''Mesh extraction function for EM connectivity data'''"
   ]
  },
  {
   "cell_type": "code",
   "execution_count": null,
   "metadata": {},
   "outputs": [],
   "source": [
    "def generate_mesh_list(cells_df):\n",
    "    \n",
    "    '''this function is for creating a list that has each mesh for a cell, as well as calculates out the position from voxels to nm\n",
    "       Requires import trimesh_io import of dataset prior to using this function.'''\n",
    "    \n",
    "    cell_meshes = []\n",
    "    \n",
    "    nm_pos = convert_to_nm(cells_df.pt_position)\n",
    "\n",
    "    for ind, row in cells_df.iterrows():\n",
    "        # \n",
    "        meshes = mm.mesh(seg_id = row.pt_root_id)\n",
    "        cell_meshes.append(meshes)\n",
    "    return cell_meshes, nm_pos\n",
    "\n",
    "    '''1. Initialize empty list to store each mesh\n",
    "       2. Loop through dataframe for each cell value to extract a mesh. First create series using itterows to go over each cell in \n",
    "       the dataframe\n",
    "       3. Call mesh from the unique root id for a cell\n",
    "       4. Add each mesh generated with mm.mesh to a list of meshes using .append\n",
    "    ''' "
   ]
  }
 ],
 "metadata": {
  "kernelspec": {
   "display_name": "conda_python3",
   "language": "python",
   "name": "conda_python3"
  },
  "language_info": {
   "codemirror_mode": {
    "name": "ipython",
    "version": 3
   },
   "file_extension": ".py",
   "mimetype": "text/x-python",
   "name": "python",
   "nbconvert_exporter": "python",
   "pygments_lexer": "ipython3",
   "version": "3.6.5"
  }
 },
 "nbformat": 4,
 "nbformat_minor": 2
}

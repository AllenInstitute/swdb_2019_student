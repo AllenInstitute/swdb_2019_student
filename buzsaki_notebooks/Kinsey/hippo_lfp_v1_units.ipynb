{
 "cells": [
  {
   "cell_type": "code",
   "execution_count": 1,
   "metadata": {
    "scrolled": true
   },
   "outputs": [],
   "source": [
    "import os\n",
    "import numpy as np\n",
    "import matplotlib.pyplot as plt\n",
    "import pandas as pd\n",
    "import seaborn as sns\n",
    "from collections import defaultdict\n",
    "\n",
    "from allensdk.brain_observatory.ecephys.ecephys_project_cache import EcephysProjectCache\n",
    "from allensdk.brain_observatory.ecephys import ecephys_session\n",
    "%matplotlib inline\n",
    "\n",
    "# fix slow autocomplete\n",
    "%config Completer.use_jedi = False"
   ]
  },
  {
   "cell_type": "code",
   "execution_count": 2,
   "metadata": {},
   "outputs": [],
   "source": [
    "import platform\n",
    "platstring = platform.platform()\n",
    "\n",
    "if 'Darwin' in platstring:\n",
    "    # OS X \n",
    "    data_root = \"/Volumes/Brain2019/\"\n",
    "elif 'Windows'  in platstring:\n",
    "    # Windows (replace with the drive letter of USB drive)\n",
    "    data_root = \"E:/\"\n",
    "elif ('amzn1' in platstring):\n",
    "    # then on AWS\n",
    "    data_root = \"/data/\"\n",
    "else:\n",
    "    # then your own linux platform\n",
    "    # EDIT location where you mounted hard drive\n",
    "    data_root = \"/media/$USERNAME/Brain2019/\"\n",
    "\n",
    "manifest_path = os.path.join(data_root, \"dynamic-brain-workshop/visual_coding_neuropixels/2019/manifest.json\")"
   ]
  },
  {
   "cell_type": "code",
   "execution_count": 3,
   "metadata": {},
   "outputs": [],
   "source": [
    "cache = EcephysProjectCache.fixed(manifest=manifest_path)\n",
    "sessions = cache.get_sessions()"
   ]
  },
  {
   "cell_type": "code",
   "execution_count": 4,
   "metadata": {
    "scrolled": false
   },
   "outputs": [],
   "source": [
    "import sys\n",
    "sys.path.append('../../swdb_2019_tools')\n",
    "import ecephys_utilities\n",
    "import spikeutils\n",
    "import stim_presentation_FR"
   ]
  },
  {
   "cell_type": "code",
   "execution_count": 107,
   "metadata": {},
   "outputs": [],
   "source": [
    "#Choose a session that has V1 (ultimately re-run analyses for all sessions that have V1, given that all sessions have DG and CA)\n",
    "#Get info for that session\n",
    "sessionID = sessions.index[1]\n",
    "session = cache.get_session_data(sessions.index[1])"
   ]
  },
  {
   "cell_type": "code",
   "execution_count": 17,
   "metadata": {},
   "outputs": [],
   "source": [
    "regions = ['VISp']"
   ]
  },
  {
   "cell_type": "code",
   "execution_count": 18,
   "metadata": {},
   "outputs": [],
   "source": [
    "#Find probe ID(s) that went through V1\n",
    "probeID = session.units.probe_id[(session.units.structure_acronym.isin(regions))].unique()[0]"
   ]
  },
  {
   "cell_type": "code",
   "execution_count": 19,
   "metadata": {},
   "outputs": [
    {
     "data": {
      "text/plain": [
       "757968493"
      ]
     },
     "execution_count": 19,
     "metadata": {},
     "output_type": "execute_result"
    }
   ],
   "source": [
    "probeID"
   ]
  },
  {
   "cell_type": "code",
   "execution_count": 20,
   "metadata": {},
   "outputs": [],
   "source": [
    "#Use THAT probe to pull out LFPs and spikes for DG, CA, V1 \n",
    "#(once pipeline working, also incorporate other probes for CA/DG)\n",
    "\n",
    "#Pull probe with lfps\n",
    "session_lfps_from_probeid = session.get_lfp(probeID)"
   ]
  },
  {
   "cell_type": "code",
   "execution_count": 21,
   "metadata": {},
   "outputs": [
    {
     "name": "stderr",
     "output_type": "stream",
     "text": [
      "/home/ec2-user/anaconda3/envs/python3/lib/python3.6/site-packages/ipykernel/__main__.py:9: FutureWarning: The 'contains' method is deprecated and will be removed in a future version. Use 'key in index' instead of 'index.contains(key)'\n"
     ]
    }
   ],
   "source": [
    "#pull lfps from channel on probe that correspond to different regions and add to dataframe\n",
    "lfps_across_regions_df = pd.DataFrame()\n",
    "for chanid in session_lfps_from_probeid['channel'].values:\n",
    "    for region in ['VISp', 'CA', 'DG']:\n",
    "        region_lfps = []\n",
    "        region_lfp_channel_ids = []\n",
    "        region_channels_on_probe = session.channels[(session.channels.probe_id == probeID) & \n",
    "                                                    (session.channels.manual_structure_acronym == region)]\n",
    "        if region_channels_on_probe.index.contains(chanid):\n",
    "            region_lfp_channel_ids.append(chanid)\n",
    "            region_lfps.append(session_lfps_from_probeid.loc[{'channel': chanid}].values)\n",
    "        region_lfps_df = pd.DataFrame({\"lfps\": region_lfps}, index=pd.Index(data=region_lfp_channel_ids, name=\"channel_id\"))\n",
    "        region_lfps_df['region'] = region\n",
    "        lfps_across_regions_df = lfps_across_regions_df.append(region_lfps_df)\n",
    "\n",
    "session_lfps_from_probeid = None"
   ]
  },
  {
   "cell_type": "code",
   "execution_count": 22,
   "metadata": {},
   "outputs": [],
   "source": [
    "#merge lfp dataframe with other session info about probe position\n",
    "lfps_across_regions_df = pd.merge(lfps_across_regions_df, \n",
    "         session.channels.loc[:, 'probe_id':'probe_vertical_position'], \n",
    "         left_on=lfps_across_regions_df.index, \n",
    "         right_on = session.channels.index,\n",
    "        how = 'left')\n",
    "lfps_across_regions_df = lfps_across_regions_df.rename(columns={\"key_0\": \"channel_id\"})"
   ]
  },
  {
   "cell_type": "code",
   "execution_count": null,
   "metadata": {},
   "outputs": [],
   "source": []
  },
  {
   "cell_type": "code",
   "execution_count": null,
   "metadata": {},
   "outputs": [],
   "source": [
    "#Stimulus presentations:\n",
    "\n",
    "#Grab stimulus presentation info for session\n",
    "#Use session.get_presentations_for_stimulus\n",
    "#Use session.get_stimulus_epochs\n",
    "\n",
    "#Pull out start times, -10 to 500 for each presentation of given stimulus type\n",
    "#Look at session.conditionwise_spike_statistics method"
   ]
  },
  {
   "cell_type": "code",
   "execution_count": 32,
   "metadata": {},
   "outputs": [
    {
     "name": "stderr",
     "output_type": "stream",
     "text": [
      "/home/ec2-user/anaconda3/envs/python3/lib/python3.6/site-packages/pandas/core/ops/__init__.py:1115: FutureWarning: elementwise comparison failed; returning scalar instead, but in the future will perform elementwise comparison\n",
      "  result = method(y)\n"
     ]
    }
   ],
   "source": [
    "stim_epochs = session.get_stimulus_epochs()"
   ]
  },
  {
   "cell_type": "code",
   "execution_count": 33,
   "metadata": {
    "scrolled": false
   },
   "outputs": [
    {
     "data": {
      "text/html": [
       "<div>\n",
       "<style scoped>\n",
       "    .dataframe tbody tr th:only-of-type {\n",
       "        vertical-align: middle;\n",
       "    }\n",
       "\n",
       "    .dataframe tbody tr th {\n",
       "        vertical-align: top;\n",
       "    }\n",
       "\n",
       "    .dataframe thead th {\n",
       "        text-align: right;\n",
       "    }\n",
       "</style>\n",
       "<table border=\"1\" class=\"dataframe\">\n",
       "  <thead>\n",
       "    <tr style=\"text-align: right;\">\n",
       "      <th></th>\n",
       "      <th>start_time</th>\n",
       "      <th>stop_time</th>\n",
       "      <th>duration</th>\n",
       "      <th>stimulus_block</th>\n",
       "    </tr>\n",
       "    <tr>\n",
       "      <th>stimulus_name</th>\n",
       "      <th></th>\n",
       "      <th></th>\n",
       "      <th></th>\n",
       "      <th></th>\n",
       "    </tr>\n",
       "  </thead>\n",
       "  <tbody>\n",
       "    <tr>\n",
       "      <th>drifting_gratings</th>\n",
       "      <td>3</td>\n",
       "      <td>3</td>\n",
       "      <td>3</td>\n",
       "      <td>3</td>\n",
       "    </tr>\n",
       "    <tr>\n",
       "      <th>flashes</th>\n",
       "      <td>1</td>\n",
       "      <td>1</td>\n",
       "      <td>1</td>\n",
       "      <td>1</td>\n",
       "    </tr>\n",
       "    <tr>\n",
       "      <th>gabors</th>\n",
       "      <td>1</td>\n",
       "      <td>1</td>\n",
       "      <td>1</td>\n",
       "      <td>1</td>\n",
       "    </tr>\n",
       "    <tr>\n",
       "      <th>natural_movie_one</th>\n",
       "      <td>2</td>\n",
       "      <td>2</td>\n",
       "      <td>2</td>\n",
       "      <td>2</td>\n",
       "    </tr>\n",
       "    <tr>\n",
       "      <th>natural_movie_three</th>\n",
       "      <td>2</td>\n",
       "      <td>2</td>\n",
       "      <td>2</td>\n",
       "      <td>2</td>\n",
       "    </tr>\n",
       "    <tr>\n",
       "      <th>natural_scenes</th>\n",
       "      <td>3</td>\n",
       "      <td>3</td>\n",
       "      <td>3</td>\n",
       "      <td>3</td>\n",
       "    </tr>\n",
       "    <tr>\n",
       "      <th>spontaneous</th>\n",
       "      <td>15</td>\n",
       "      <td>15</td>\n",
       "      <td>15</td>\n",
       "      <td>15</td>\n",
       "    </tr>\n",
       "    <tr>\n",
       "      <th>static_gratings</th>\n",
       "      <td>3</td>\n",
       "      <td>3</td>\n",
       "      <td>3</td>\n",
       "      <td>3</td>\n",
       "    </tr>\n",
       "  </tbody>\n",
       "</table>\n",
       "</div>"
      ],
      "text/plain": [
       "                     start_time  stop_time  duration  stimulus_block\n",
       "stimulus_name                                                       \n",
       "drifting_gratings             3          3         3               3\n",
       "flashes                       1          1         1               1\n",
       "gabors                        1          1         1               1\n",
       "natural_movie_one             2          2         2               2\n",
       "natural_movie_three           2          2         2               2\n",
       "natural_scenes                3          3         3               3\n",
       "spontaneous                  15         15        15              15\n",
       "static_gratings               3          3         3               3"
      ]
     },
     "execution_count": 33,
     "metadata": {},
     "output_type": "execute_result"
    }
   ],
   "source": [
    "stim_epochs.groupby(\"stimulus_name\").count()"
   ]
  },
  {
   "cell_type": "code",
   "execution_count": 34,
   "metadata": {},
   "outputs": [],
   "source": [
    "drifting_gratings_start_times = list(session.stimulus_presentations[session.stimulus_presentations.stimulus_name == 'drifting_gratings'].start_time)"
   ]
  },
  {
   "cell_type": "code",
   "execution_count": 35,
   "metadata": {},
   "outputs": [],
   "source": [
    "flashes_start_times = list(session.stimulus_presentations[session.stimulus_presentations.stimulus_name == \"flashes\"].start_time)"
   ]
  },
  {
   "cell_type": "code",
   "execution_count": 36,
   "metadata": {},
   "outputs": [],
   "source": [
    "#Natural movie 1 is ~30 seconds long\n",
    "natural_movie_one_start_times = list(session.stimulus_presentations[(session.stimulus_presentations.stimulus_name == \"natural_movie_one\") & (session.stimulus_presentations.frame == 1)].start_time)"
   ]
  },
  {
   "cell_type": "code",
   "execution_count": 37,
   "metadata": {},
   "outputs": [],
   "source": [
    "natural_movie_three_start_times = list(session.stimulus_presentations[(session.stimulus_presentations.stimulus_name == \"natural_movie_three\") & (session.stimulus_presentations.frame == 1)].start_time)"
   ]
  },
  {
   "cell_type": "code",
   "execution_count": 38,
   "metadata": {
    "scrolled": true
   },
   "outputs": [],
   "source": [
    "natural_scenes_start_times = list(session.stimulus_presentations[session.stimulus_presentations.stimulus_name == 'natural_scenes'])"
   ]
  },
  {
   "cell_type": "code",
   "execution_count": 39,
   "metadata": {},
   "outputs": [],
   "source": [
    "spontaneous_start_times = list(session.stimulus_presentations[session.stimulus_presentations.stimulus_name == 'spontaneous'].start_time)"
   ]
  },
  {
   "cell_type": "code",
   "execution_count": 40,
   "metadata": {},
   "outputs": [],
   "source": [
    "static_gratings_start_times = list(session.stimulus_presentations[session.stimulus_presentations.stimulus_name == 'static_gratings'].start_time)"
   ]
  },
  {
   "cell_type": "code",
   "execution_count": 98,
   "metadata": {},
   "outputs": [],
   "source": [
    "import scipy.signal\n",
    "from matplotlib import cm\n",
    "\n",
    "VISp_lfp_index = int(lfps_across_regions_df[lfps_across_regions_df.region == \"VISp\"].index.max())//2\n",
    "CA_lfp_index = int(lfps_across_regions_df[lfps_across_regions_df.region == \"CA\"].index.max())//2\n",
    "DG_lfp_index = int(lfps_across_regions_df[lfps_across_regions_df.region == \"DG\"].index.max())//2\n",
    "\n",
    "fs = 2500\n",
    "\n",
    "#Gather info for plot\n",
    "plot_start_time = natural_movie_one_start_times[0] - 1 #in seconds\n",
    "plot_end_time = natural_movie_one_start_times[0] + 2 #in seconds\n",
    "t = np.arange(plot_start_time, plot_end_time, 1/fs)\n",
    "lfp_start_index = int(plot_start_time*fs)\n",
    "lfp_end_index = int(plot_end_time*fs)"
   ]
  },
  {
   "cell_type": "code",
   "execution_count": 119,
   "metadata": {
    "scrolled": true
   },
   "outputs": [
    {
     "data": {
      "image/png": "[encoded data removed]",
      "text/plain": [
       "<Figure size 720x288 with 2 Axes>"
      ]
     },
     "metadata": {},
     "output_type": "display_data"
    }
   ],
   "source": [
    "#Spectrogram for VISp\n",
    "\n",
    "f, t_spec, spec = scipy.signal.spectrogram(lfps_across_regions_df.lfps[VISp_lfp_index][lfp_start_index:lfp_end_index], fs=fs, window='hanning', nperseg=1000, noverlap=1000-1, mode='psd')\n",
    "# Scipy assumes our signal starts at time=0, so we need to provide the offset\n",
    "t_spec = t_spec + t[0]\n",
    "fmax = 60\n",
    "x, y = t_spec, f[f<fmax]\n",
    "plot_data = np.log10(spec[f<fmax])\n",
    "\n",
    "\n",
    "fig, ax = plt.subplots(2, 1, figsize=(10,4))\n",
    "\n",
    "plt.subplot(2,1,1)\n",
    "plt.pcolormesh(x, y, plot_data, cmap=cm.jet)\n",
    "window = [plot_start_time,plot_end_time]\n",
    "plt.xlim(window)\n",
    "plt.ylabel('Frequency (Hz)')\n",
    "plt.axvline(x=natural_movie_one_start_times[0])\n",
    "plt.title('Spectrogram and raw LFP for VISp channel in response to\\n' +\n",
    "    'onset of first presentation of natural movie 1\\nSession: {}\\nProbe: {}\\nChannel: {}'.format(sessionID, \n",
    "                                                                                                 probeID, \n",
    "                                                                                                 lfps_across_regions_df.channel_id[VISp_lfp_index]))\n",
    "\n",
    "plt.subplot(2,1,2)\n",
    "plt.plot(t, lfps_across_regions_df.lfps[VISp_lfp_index][lfp_start_index:lfp_end_index], 'k')\n",
    "plt.xlim(window)\n",
    "plt.xlabel('Time (s)')\n",
    "plt.ylabel('Voltage (a.u.)')\n",
    "plt.axvline(x=natural_movie_one_start_times[0])\n",
    "plt.show()\n",
    "fig.savefig('VISp LFP and Spectrogram to natural movie 1 in session{}_probe{}_channel{}.png'.format(sessionID, \n",
    "                                                                                                    probeID, \n",
    "                                                                                                    lfps_across_regions_df.channel_id[VISp_lfp_index]), \n",
    "            dpi = 300)"
   ]
  },
  {
   "cell_type": "code",
   "execution_count": 120,
   "metadata": {},
   "outputs": [
    {
     "data": {
      "image/png": "[encoded data removed]",
      "text/plain": [
       "<Figure size 720x288 with 2 Axes>"
      ]
     },
     "metadata": {},
     "output_type": "display_data"
    }
   ],
   "source": [
    "#Spectrogram for CA\n",
    "\n",
    "f, t_spec, spec = scipy.signal.spectrogram(lfps_across_regions_df.lfps[CA_lfp_index][lfp_start_index:lfp_end_index], fs=fs, window='hanning', nperseg=1000, noverlap=1000-1, mode='psd')\n",
    "# Scipy assumes our signal starts at time=0, so we need to provide the offset\n",
    "t_spec = t_spec + t[0]\n",
    "fmax = 60\n",
    "x, y = t_spec, f[f<fmax]\n",
    "plot_data = np.log10(spec[f<fmax])\n",
    "\n",
    "\n",
    "fig, ax = plt.subplots(2, 1, figsize=(10,4))\n",
    "\n",
    "plt.subplot(2,1,1)\n",
    "plt.pcolormesh(x, y, plot_data, cmap=cm.jet)\n",
    "window = [plot_start_time,plot_end_time]\n",
    "plt.xlim(window)\n",
    "plt.ylabel('Frequency (Hz)')\n",
    "plt.axvline(x=natural_movie_one_start_times[0])\n",
    "plt.title('Spectrogram and raw LFP for CA channel in response to\\n' +\n",
    "    'onset of first presentation of natural movie 1\\nSession: {}\\nProbe: {}\\nChannel: {}'.format(sessionID, \n",
    "                                                                                                 probeID, \n",
    "                                                                                                 lfps_across_regions_df.channel_id[CA_lfp_index]))\n",
    "\n",
    "plt.subplot(2,1,2)\n",
    "plt.plot(t, lfps_across_regions_df.lfps[CA_lfp_index][lfp_start_index:lfp_end_index], 'k')\n",
    "plt.xlim(window)\n",
    "plt.xlabel('Time (s)')\n",
    "plt.ylabel('Voltage (a.u.)')\n",
    "plt.axvline(x=natural_movie_one_start_times[0])\n",
    "plt.show()\n",
    "fig.savefig('CA LFP and Spectrogram to natural movie 1 in session{}_probe{}_channel{}.png'.format(sessionID, \n",
    "                                                                                                    probeID, \n",
    "                                                                                                    lfps_across_regions_df.channel_id[CA_lfp_index]), \n",
    "            dpi = 300)"
   ]
  },
  {
   "cell_type": "code",
   "execution_count": 121,
   "metadata": {},
   "outputs": [
    {
     "data": {
      "image/png": "[encoded data removed]",
      "text/plain": [
       "<Figure size 720x288 with 2 Axes>"
      ]
     },
     "metadata": {},
     "output_type": "display_data"
    }
   ],
   "source": [
    "#Spectrogram for DG\n",
    "\n",
    "f, t_spec, spec = scipy.signal.spectrogram(lfps_across_regions_df.lfps[DG_lfp_index][lfp_start_index:lfp_end_index], \n",
    "                                           fs=fs, window='hanning', nperseg=1000, noverlap=1000-1, mode='psd')\n",
    "# Scipy assumes our signal starts at time=0, so we need to provide the offset\n",
    "t_spec = t_spec + t[0]\n",
    "fmax = 60\n",
    "x, y = t_spec, f[f<fmax]\n",
    "plot_data = np.log10(spec[f<fmax])\n",
    "\n",
    "\n",
    "fig, ax = plt.subplots(2, 1, figsize=(10,4))\n",
    "\n",
    "plt.subplot(2,1,1)\n",
    "plt.pcolormesh(x, y, plot_data, cmap=cm.jet)\n",
    "window = [plot_start_time,plot_end_time]\n",
    "plt.xlim(window)\n",
    "plt.ylabel('Frequency (Hz)')\n",
    "plt.axvline(x=natural_movie_one_start_times[0])\n",
    "plt.title('Spectrogram and raw LFP for DG channel in response to\\n' +\n",
    "    'onset of first presentation of natural movie 1\\nSession: {}\\nProbe: {}\\nChannel: {}'.format(sessionID, \n",
    "                                                                                                 probeID, \n",
    "                                                                                                 lfps_across_regions_df.channel_id[DG_lfp_index]))\n",
    "\n",
    "plt.subplot(2,1,2)\n",
    "plt.plot(t, lfps_across_regions_df.lfps[DG_lfp_index][lfp_start_index:lfp_end_index], 'k')\n",
    "plt.xlim(window)\n",
    "plt.xlabel('Time (s)')\n",
    "plt.ylabel('Voltage (a.u.)')\n",
    "plt.axvline(x=natural_movie_one_start_times[0])\n",
    "plt.show()\n",
    "fig.savefig('DG LFP and Spectrogram to natural movie 1 in session{}_probe{}_channel{}.png'.format(sessionID, \n",
    "                                                                                                    probeID, \n",
    "                                                                                                    lfps_across_regions_df.channel_id[DG_lfp_index]), \n",
    "            dpi = 300)"
   ]
  },
  {
   "cell_type": "code",
   "execution_count": null,
   "metadata": {},
   "outputs": [],
   "source": []
  },
  {
   "cell_type": "code",
   "execution_count": null,
   "metadata": {},
   "outputs": [],
   "source": [
    "#PSTH (post stimulus spike trains) from -10 to 500 in V1 and hippo\n",
    "#Use session.presentationwise_spike_counts\n",
    "#Use session.presentationwise_spike_times"
   ]
  },
  {
   "cell_type": "code",
   "execution_count": null,
   "metadata": {},
   "outputs": [],
   "source": [
    "#Look at relationship between stimulus-evoked theta phase/amplitude and spikes within hippo between hippo and V1\n",
    "\n",
    "#For LFPs:\n",
    "    #bandpass filter to theta frequency using butterworth filter\n",
    "    #Calculate instantaneous amplitude and phase of theta using hilbert\n",
    "    #Calculate averaged evoked response \n",
    "        #(sum all LFP values within channel across presentations and divide by n presentations)\n",
    "        #Calculate average latency (peak of LFP evoked response post-stimulus)\n",
    "        \n",
    "#For spikes:\n",
    "    #Calculate smoothed firing rate binned into theta phase (4 bins to 10 bins per second)- use for correlations with spikes and LFPs\n",
    "    #Calculate smoothed firing rate before/after stimulus presentations into smaller (1ms) bins\n",
    "        #(sum firing rates across presentations then divide by number of presentations)\n",
    "        #Calculate average latency (peak of firing rate post-stimulus)\n",
    "\n",
    "#Look at correlation matrix within CA/DG instantaneous phase/amplitude + firing rates\n",
    "#Look at correlation matrix between CA/DG instantaneous phase/amplitude + V1 phase/amplitude\n",
    "#Look at correlation matrix between CA/DG firing rates + V1 firing rates\n",
    "#Look at correlation matrix between CA/DG instantaneous phase/amplitude +V1 firing rates\n",
    "\n",
    "#Identify units that correlate and those that don't (threshold r value?), characterize %FS vs. RSU"
   ]
  },
  {
   "cell_type": "code",
   "execution_count": null,
   "metadata": {},
   "outputs": [],
   "source": [
    "#bandpass filter to theta frequency using butterworth filter\n",
    "import scipy.signal\n",
    "freq_window = (4, 10)\n",
    "filt_order = 3\n",
    "fs = 2500\n",
    "b, a = scipy.signal.butter(filt_order, freq_window, btype='bandpass', fs=fs)"
   ]
  },
  {
   "cell_type": "code",
   "execution_count": null,
   "metadata": {},
   "outputs": [],
   "source": [
    "theta_filtered = []\n",
    "for i in lfps_across_regions_df.index:\n",
    "    lfp = lfps_across_regions_df.lfps[i]\n",
    "    theta = scipy.signal.lfilter(b, a, lfp)\n",
    "    theta_filtered.append(theta)\n",
    "lfps_across_regions_df['theta_filtered_lfps'] = theta_filtered"
   ]
  },
  {
   "cell_type": "code",
   "execution_count": null,
   "metadata": {
    "scrolled": true
   },
   "outputs": [],
   "source": [
    "#downsample lfps and theta_filtered lfps\n",
    "lfps_downsampled = []\n",
    "theta_filtered_downsampled = []\n",
    "for i in lfps_across_regions_df.index:\n",
    "    lfps_downsampled.append(scipy.signal.decimate(lfps_across_regions_df.lfps[i], q = 4, ftype = 'iir'))\n",
    "    theta_filtered_downsampled.append(scipy.signal.decimate(lfps_across_regions_df.theta_filtered_lfps[i], q = 4, ftype = 'iir'))\n"
   ]
  },
  {
   "cell_type": "code",
   "execution_count": null,
   "metadata": {},
   "outputs": [],
   "source": [
    "lfps_across_regions_df['lfps_downsampled'] = lfps_downsampled\n",
    "lfps_across_regions_df['theta_downsampled'] = theta_filtered_downsampled"
   ]
  },
  {
   "cell_type": "code",
   "execution_count": null,
   "metadata": {},
   "outputs": [],
   "source": [
    "#Plot LFPs across regions:\n",
    "fs = 625\n",
    "\n",
    "#Gather info for plot\n",
    "plot_start_time = 5 #in seconds\n",
    "plot_end_time = 10 #in seconds\n",
    "t = np.arange(plot_start_time, plot_end_time, 1/fs)\n",
    "lfp_start_index = int(plot_start_time*fs)\n",
    "lfp_end_index = int(plot_end_time*fs)\n",
    "\n",
    "#Make plot\n",
    "plt.figure(figsize=(10, 10))\n",
    "for region in ['DG', 'CA', 'VIS']:\n",
    "    subsample = []\n",
    "    subsample.append(int(lfps_across_regions_df[lfps_across_regions_df.region == region].index.max())/2)\n",
    "    for i in subsample:\n",
    "        plt.plot(t, lfps_across_regions_df.theta_downsampled[i][lfp_start_index:lfp_end_index]/3 - lfps_across_regions_df.probe_vertical_position[i])"
   ]
  },
  {
   "cell_type": "code",
   "execution_count": null,
   "metadata": {},
   "outputs": [],
   "source": [
    "#Calculate instantaneous amplitude and phase of theta using hilbert\n",
    "theta_hilbert = []\n",
    "theta_envelope = []\n",
    "theta_phase = []\n",
    "theta_cosine = []\n",
    "for i in lfps_across_regions_df.index:\n",
    "    hil_sig = scipy.signal.hilbert(lfps_across_regions_df.theta_downsampled[i])\n",
    "    theta_hilbert.append(hil_sig)\n",
    "    theta_envelope.append(np.abs(hil_sig))\n",
    "    theta_phase.append(np.angle(hil_sig))\n",
    "    theta_cosine.append(np.cos(np.unwrap(np.angle(hil_sig))))"
   ]
  },
  {
   "cell_type": "code",
   "execution_count": null,
   "metadata": {},
   "outputs": [],
   "source": [
    "lfps_across_regions_df['theta_hilbert_signal'] = theta_hilbert\n",
    "lfps_across_regions_df['theta_envelope'] = theta_envelope\n",
    "lfps_across_regions_df['theta_phase'] = theta_phase\n",
    "lfps_across_regions_df['theta_cosine'] = theta_cosine"
   ]
  },
  {
   "cell_type": "code",
   "execution_count": null,
   "metadata": {},
   "outputs": [],
   "source": [
    "#Plot LFPs across regions:\n",
    "fs = 625\n",
    "\n",
    "#Gather info for plot\n",
    "plot_start_time = 5 #in seconds\n",
    "plot_end_time = 10 #in seconds\n",
    "t = np.arange(plot_start_time, plot_end_time, 1/fs)\n",
    "lfp_start_index = int(plot_start_time*fs)\n",
    "lfp_end_index = int(plot_end_time*fs)\n",
    "\n",
    "#Make plot\n",
    "plt.figure(figsize=(10, 10))\n",
    "for region in ['DG', 'CA', 'VIS']:\n",
    "    subsample = []\n",
    "    subsample.append(int(lfps_across_regions_df[lfps_across_regions_df.region == region].index.max())/2)\n",
    "    for i in subsample:\n",
    "        plt.plot(t, lfps_across_regions_df.theta_envelope[i][lfp_start_index:lfp_end_index] - lfps_across_regions_df.probe_vertical_position[i])"
   ]
  },
  {
   "cell_type": "code",
   "execution_count": null,
   "metadata": {},
   "outputs": [],
   "source": []
  },
  {
   "cell_type": "code",
   "execution_count": null,
   "metadata": {},
   "outputs": [],
   "source": []
  },
  {
   "cell_type": "code",
   "execution_count": null,
   "metadata": {},
   "outputs": [],
   "source": []
  },
  {
   "cell_type": "code",
   "execution_count": null,
   "metadata": {},
   "outputs": [],
   "source": []
  },
  {
   "cell_type": "code",
   "execution_count": null,
   "metadata": {},
   "outputs": [],
   "source": []
  },
  {
   "cell_type": "code",
   "execution_count": null,
   "metadata": {},
   "outputs": [],
   "source": []
  },
  {
   "cell_type": "code",
   "execution_count": null,
   "metadata": {},
   "outputs": [],
   "source": [
    "session_spikes_df = ecephys_utilities.spike_times_to_dataframe(spike_times=session_spikes)"
   ]
  },
  {
   "cell_type": "code",
   "execution_count": null,
   "metadata": {},
   "outputs": [],
   "source": [
    "session_spikes_df = pd.merge(session_spikes_df, session_info.units, left_on = session_spikes_df.index, right_on = session_info.units.index, how = \"left\")"
   ]
  },
  {
   "cell_type": "code",
   "execution_count": null,
   "metadata": {
    "scrolled": true
   },
   "outputs": [],
   "source": [
    "session_spikes_df.head()"
   ]
  },
  {
   "cell_type": "code",
   "execution_count": null,
   "metadata": {},
   "outputs": [],
   "source": [
    "session_info.get_presentations_for_stimulus(\"spontaneous\")"
   ]
  },
  {
   "cell_type": "code",
   "execution_count": null,
   "metadata": {
    "scrolled": false
   },
   "outputs": [],
   "source": [
    "stim_presentation_FR.stim_presentation_FR(session=session_info, stimulus='gabors')"
   ]
  },
  {
   "cell_type": "code",
   "execution_count": null,
   "metadata": {},
   "outputs": [],
   "source": []
  },
  {
   "cell_type": "code",
   "execution_count": null,
   "metadata": {},
   "outputs": [],
   "source": [
    "regions = ['DG', 'CA', 'VIS']"
   ]
  },
  {
   "cell_type": "code",
   "execution_count": null,
   "metadata": {},
   "outputs": [],
   "source": [
    "sessionIDs = sessions.index[sessions.genotype == 'wt'][6:8]"
   ]
  },
  {
   "cell_type": "code",
   "execution_count": null,
   "metadata": {},
   "outputs": [],
   "source": [
    "for sessionID in sessionIDs:\n",
    "    print(sessionID)"
   ]
  },
  {
   "cell_type": "code",
   "execution_count": null,
   "metadata": {},
   "outputs": [],
   "source": [
    "DG_CA_VIS_spikes = Neuropixels_spike_timeseries.get_spike_timeseries_to_df(cache=cache, sessionIDs=sessionIDs, regions = regions)"
   ]
  },
  {
   "cell_type": "code",
   "execution_count": null,
   "metadata": {
    "scrolled": true
   },
   "outputs": [],
   "source": [
    "session_info = cache.get_session_data(sessions.index[sessions.genotype == 'wt'][7])"
   ]
  },
  {
   "cell_type": "code",
   "execution_count": null,
   "metadata": {},
   "outputs": [],
   "source": [
    "session_ca_channels = session_info.channels.index[session_info.channels.manual_structure_acronym == 'CA']"
   ]
  },
  {
   "cell_type": "code",
   "execution_count": null,
   "metadata": {},
   "outputs": [],
   "source": [
    "session_ca_units = session_info.units.index[session_info.units.peak_channel_id.isin(session_ca_channels)]"
   ]
  },
  {
   "cell_type": "code",
   "execution_count": null,
   "metadata": {},
   "outputs": [],
   "source": [
    "session_spikes = session_info.spike_times"
   ]
  },
  {
   "cell_type": "code",
   "execution_count": null,
   "metadata": {},
   "outputs": [],
   "source": [
    "session_ca_spikes = []\n",
    "for unit in session_ca_units:\n",
    "    session_ca_spikes.append(session_spikes[unit])"
   ]
  },
  {
   "cell_type": "code",
   "execution_count": null,
   "metadata": {
    "scrolled": false
   },
   "outputs": [],
   "source": [
    "ca_rsu_units, ca_fs_units = spikeutils.fs_rsu_split(units_to_split=session_info.units[session_info.units.peak_channel_id.isin(session_ca_channels)], cutoff=.55, return_hist=True)"
   ]
  },
  {
   "cell_type": "code",
   "execution_count": null,
   "metadata": {
    "scrolled": true
   },
   "outputs": [],
   "source": [
    "ca_fs_units.firing_rate.mean()"
   ]
  },
  {
   "cell_type": "code",
   "execution_count": null,
   "metadata": {},
   "outputs": [],
   "source": [
    "ca_rsu_units.firing_rate.mean()"
   ]
  },
  {
   "cell_type": "code",
   "execution_count": null,
   "metadata": {},
   "outputs": [],
   "source": [
    "ca_fs_spikes = [session_spikes[unit] for unit in ca_fs_units.index]"
   ]
  },
  {
   "cell_type": "code",
   "execution_count": null,
   "metadata": {
    "scrolled": true
   },
   "outputs": [],
   "source": [
    "len(ca_fs_spikes)"
   ]
  },
  {
   "cell_type": "code",
   "execution_count": null,
   "metadata": {},
   "outputs": [],
   "source": [
    "len(ca_fs_units)"
   ]
  },
  {
   "cell_type": "code",
   "execution_count": null,
   "metadata": {},
   "outputs": [],
   "source": [
    "spikeutils.spiketimes_to_firingrate?"
   ]
  },
  {
   "cell_type": "code",
   "execution_count": null,
   "metadata": {},
   "outputs": [],
   "source": [
    "session_presentations = session_info.get_stimulus_epochs()"
   ]
  },
  {
   "cell_type": "code",
   "execution_count": null,
   "metadata": {
    "scrolled": true
   },
   "outputs": [],
   "source": [
    "session_presentations.head()"
   ]
  },
  {
   "cell_type": "code",
   "execution_count": null,
   "metadata": {},
   "outputs": [],
   "source": [
    "resting = session_presentations[session_presentations.stimulus_name == 'spontaneous']"
   ]
  },
  {
   "cell_type": "code",
   "execution_count": null,
   "metadata": {},
   "outputs": [],
   "source": [
    "gabors = session_presentations[session_presentations.stimulus_name == 'gabors']"
   ]
  },
  {
   "cell_type": "code",
   "execution_count": null,
   "metadata": {},
   "outputs": [],
   "source": [
    "numunits = len(ca_fs_units)\n",
    "numbins = int(np.ceil(ca_fs_spikes[12].max()))"
   ]
  },
  {
   "cell_type": "code",
   "execution_count": null,
   "metadata": {},
   "outputs": [],
   "source": [
    "print(numunits)\n",
    "print(numbins)"
   ]
  },
  {
   "cell_type": "code",
   "execution_count": null,
   "metadata": {},
   "outputs": [],
   "source": [
    "\n",
    "ca_fs_binned = np.empty((numunits, numbins))\n",
    "for i in range(numunits):\n",
    "    spikes = ca_fs_spikes[i]\n",
    "    for j in range(numbins):\n",
    "        ca_fs_spikes[i,j] = len(spikes[(spikes>j)&(spikes<j+1)]) "
   ]
  },
  {
   "cell_type": "code",
   "execution_count": null,
   "metadata": {},
   "outputs": [],
   "source": [
    "resting_FR_fsunits_ca = []"
   ]
  },
  {
   "cell_type": "code",
   "execution_count": null,
   "metadata": {},
   "outputs": [],
   "source": [
    "gabors_FR_fsunits_ca = []"
   ]
  },
  {
   "cell_type": "code",
   "execution_count": null,
   "metadata": {
    "scrolled": true
   },
   "outputs": [],
   "source": [
    "for unit in range(0, len(ca_fs_spikes)):\n",
    "    for period in gabors.index:\n",
    "        starttime = gabors.start_time[period]\n",
    "        stoptime = gabors.stop_time[period]\n",
    "        fs_unit_firingrate = spikeutils.spiketimes_to_firingrate(binsize = 1, spiketimes = ca_fs_spikes[2], startime=starttime, stoptime=stoptime, binarize=False)\n",
    "        gabors_FR_fsunits_ca.append(fs_unit_firingrate)"
   ]
  },
  {
   "cell_type": "code",
   "execution_count": null,
   "metadata": {},
   "outputs": [],
   "source": [
    "ca_fs_spikes[1]"
   ]
  },
  {
   "cell_type": "code",
   "execution_count": null,
   "metadata": {
    "scrolled": true
   },
   "outputs": [],
   "source": [
    "plt.plot(ca_fs_spikes[12], np.repeat(0,len(ca_fs_spikes[12])), '|')"
   ]
  },
  {
   "cell_type": "code",
   "execution_count": null,
   "metadata": {},
   "outputs": [],
   "source": []
  },
  {
   "cell_type": "code",
   "execution_count": null,
   "metadata": {},
   "outputs": [],
   "source": []
  },
  {
   "cell_type": "code",
   "execution_count": null,
   "metadata": {},
   "outputs": [],
   "source": []
  },
  {
   "cell_type": "code",
   "execution_count": null,
   "metadata": {},
   "outputs": [],
   "source": []
  },
  {
   "cell_type": "code",
   "execution_count": null,
   "metadata": {},
   "outputs": [],
   "source": []
  },
  {
   "cell_type": "code",
   "execution_count": null,
   "metadata": {},
   "outputs": [],
   "source": []
  },
  {
   "cell_type": "code",
   "execution_count": null,
   "metadata": {},
   "outputs": [],
   "source": [
    "import scipy.signal\n",
    "freq_window = (4, 10)\n",
    "filt_order = 3\n",
    "fs = 2500\n",
    "b, a = scipy.signal.butter(filt_order, freq_window, btype='bandpass', fs=fs)"
   ]
  },
  {
   "cell_type": "code",
   "execution_count": null,
   "metadata": {},
   "outputs": [],
   "source": [
    "print(a.shape)\n",
    "print(b.shape)\n"
   ]
  },
  {
   "cell_type": "code",
   "execution_count": null,
   "metadata": {
    "scrolled": true
   },
   "outputs": [],
   "source": [
    "plt.plot(hc_to_v1_lfps.lfp_timeseries[0].to_numpy()[1])"
   ]
  },
  {
   "cell_type": "code",
   "execution_count": null,
   "metadata": {},
   "outputs": [],
   "source": [
    "type(hc_to_v1_lfps.lfp_timeseries)"
   ]
  },
  {
   "cell_type": "code",
   "execution_count": null,
   "metadata": {},
   "outputs": [],
   "source": [
    "lfp_theta = scipy.signal.lfilter(b, a, hc_to_v1_lfps.lfp_timeseries[0].to_numpy())\n",
    "#ca_theta = scipy.signal.lfilter(b, a, ca)\n",
    "#dg_theta = scipy.signal.lfilter(b, a, dg)"
   ]
  },
  {
   "cell_type": "code",
   "execution_count": null,
   "metadata": {},
   "outputs": [],
   "source": [
    "cross_region_lfps = [v1_theta, ca_theta, dg_theta]\n",
    "cross_region_labels = ['v1', 'ca', 'dg']\n",
    "timevec = np.arange(0, 12500*2500, 2500)"
   ]
  },
  {
   "cell_type": "code",
   "execution_count": null,
   "metadata": {},
   "outputs": [],
   "source": []
  },
  {
   "cell_type": "code",
   "execution_count": null,
   "metadata": {},
   "outputs": [],
   "source": [
    "plt.subplots(figsize = (10, 10))\n",
    "for i in range(len(cross_region_lfps)):\n",
    "    plt.plot(cross_region_lfps[i][:12500] - i*cross_region_lfps[i][:12500].max(), label = cross_region_labels[i])\n",
    "plt.legend(loc = 'lower right')\n",
    "plt.xlabel('timestep in 2500 Hz sampling rate')\n",
    "plt.ylabel('LFP (mV)')\n",
    "plt.savefig('single_lfps.png', dpi = 300)\n",
    "#plt.plot(v1_theta[:12500], color = 'black')\n",
    "#plt.plot(ca_theta[:12500], color = 'red')\n",
    "#plt.plot(dg_theta[:12500], color = 'blue')"
   ]
  },
  {
   "cell_type": "code",
   "execution_count": null,
   "metadata": {
    "scrolled": true
   },
   "outputs": [],
   "source": [
    "timeseries = []\n",
    "for key, value in ca_lfps.items():\n",
    "    timeseries.append(len(value))"
   ]
  },
  {
   "cell_type": "code",
   "execution_count": null,
   "metadata": {},
   "outputs": [],
   "source": [
    "#ca_channels_lfp = probe_lfp.loc[dict(channel=probe_lfp.channel.isin(ca_channelinfo.index))]"
   ]
  },
  {
   "cell_type": "code",
   "execution_count": null,
   "metadata": {},
   "outputs": [],
   "source": [
    "#calculating time (in minutes) for shortest timeseries as lowest commmon demoninator\n",
    "shortest_time = min(timeseries)\n",
    "time_in_minutes = shortest_time/(2500*60)\n",
    "#timeseries"
   ]
  },
  {
   "cell_type": "code",
   "execution_count": null,
   "metadata": {},
   "outputs": [],
   "source": [
    "2500*60*5"
   ]
  },
  {
   "cell_type": "code",
   "execution_count": null,
   "metadata": {},
   "outputs": [],
   "source": [
    "type(np.array(ca_lfps.values()))"
   ]
  },
  {
   "cell_type": "code",
   "execution_count": null,
   "metadata": {},
   "outputs": [],
   "source": [
    "fig, ax = plt.subplots(figsize=(20,10))\n",
    "for key, value in ca_lfps.items():\n",
    "    ax.plot(value)"
   ]
  },
  {
   "cell_type": "code",
   "execution_count": null,
   "metadata": {},
   "outputs": [],
   "source": []
  },
  {
   "cell_type": "code",
   "execution_count": null,
   "metadata": {},
   "outputs": [],
   "source": []
  },
  {
   "cell_type": "code",
   "execution_count": null,
   "metadata": {},
   "outputs": [],
   "source": []
  },
  {
   "cell_type": "code",
   "execution_count": null,
   "metadata": {},
   "outputs": [],
   "source": [
    "#fig, ax = plt.subplots()\n",
    "plt.figure(figsize=(20,10))\n",
    "for i in range(2):\n",
    "    plt.plot(ca_channels_lfp.values[:,i]+i*np.max(ca_channels_lfp.values[:,i]))\n",
    "#plt.imshow(ca_channels_lfp.values, aspect='auto')\n",
    "\n",
    "#colors = ['blue','orange','green','red','yellow','purple','magenta','gray','lightblue']\n",
    "#for c, stim_name in enumerate(session_info.stimulus_names):\n",
    "#    stim = stimulus_epochs[stimulus_epochs.stimulus_name==stim_name]\n",
    "#    for j in range(len(stim)):\n",
    "#        plt.axvspan(xmin=stim[\"start_time\"].iloc[j], xmax=stim[\"stop_time\"].iloc[j], color=colors[c], alpha=0.1)\n"
   ]
  },
  {
   "cell_type": "code",
   "execution_count": null,
   "metadata": {},
   "outputs": [],
   "source": [
    "t = ca_channels_lfp.time.values\n",
    "v1 = ca_channels_lfp.values[:, 0]\n",
    "v2 = ca_channels_lfp.values[:, 1]\n",
    "import scipy.signal\n",
    "freq_window = (3, 12)\n",
    "filt_order = 3\n",
    "fs = 1/(t[1]-t[0])\n",
    "b, a = scipy.signal.butter(filt_order, freq_window, btype='bandpass', fs=fs)\n",
    "v1_theta = scipy.signal.lfilter(b, a, v1)\n",
    "v2_theta = scipy.signal.lfilter(b, a, v2)"
   ]
  },
  {
   "cell_type": "code",
   "execution_count": null,
   "metadata": {
    "scrolled": true
   },
   "outputs": [],
   "source": [
    "np.corrcoef(v_theta[:, 0], v_theta[:, 1])"
   ]
  },
  {
   "cell_type": "code",
   "execution_count": null,
   "metadata": {
    "scrolled": true
   },
   "outputs": [],
   "source": [
    "plt.figure(figsize=(20,10))\n",
    "plt.plot(v1_theta[:12500])\n",
    "plt.plot(v2_theta[:12500]+np.max(v2_theta[:12500]))\n"
   ]
  },
  {
   "cell_type": "code",
   "execution_count": null,
   "metadata": {},
   "outputs": [],
   "source": []
  }
 ],
 "metadata": {
  "kernelspec": {
   "display_name": "conda_python3",
   "language": "python",
   "name": "conda_python3"
  },
  "language_info": {
   "codemirror_mode": {
    "name": "ipython",
    "version": 3
   },
   "file_extension": ".py",
   "mimetype": "text/x-python",
   "name": "python",
   "nbconvert_exporter": "python",
   "pygments_lexer": "ipython3",
   "version": "3.6.5"
  }
 },
 "nbformat": 4,
 "nbformat_minor": 2
}

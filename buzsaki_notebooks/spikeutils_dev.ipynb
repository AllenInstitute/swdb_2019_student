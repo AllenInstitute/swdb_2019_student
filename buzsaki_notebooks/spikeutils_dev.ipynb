{
 "cells": [
  {
   "cell_type": "code",
   "execution_count": 5,
   "metadata": {},
   "outputs": [],
   "source": [
    "import os\n",
    "import numpy as np\n",
    "import matplotlib.pyplot as plt\n",
    "import pandas as pd\n",
    "\n",
    "from allensdk.brain_observatory.ecephys.ecephys_project_cache import EcephysProjectCache\n",
    "from allensdk.brain_observatory.ecephys import ecephys_session\n",
    "# %matplotlib inline\n",
    "\n",
    "\n",
    "#Note the following three lines are necessary to pull fs_utils\n",
    "import sys\n",
    "sys.path.append('../swdb_2019_tools')\n",
    "# import fs_utils\n",
    "\n",
    "# fix slow autocomplete\n",
    "%config Completer.use_jedi = False\n",
    "\n",
    "import platform\n",
    "platstring = platform.platform()"
   ]
  },
  {
   "cell_type": "code",
   "execution_count": 6,
   "metadata": {},
   "outputs": [],
   "source": [
    "if 'Darwin' in platstring:\n",
    "    # OS X \n",
    "    data_root = \"/Volumes/Brain2019/\"\n",
    "elif 'Windows'  in platstring:\n",
    "    # Windows (replace with the drive letter of USB drive)\n",
    "    data_root = \"E:/\"\n",
    "elif ('amzn1' in platstring):\n",
    "    # then on AWS\n",
    "    data_root = \"/data/\"\n",
    "else:\n",
    "    # then your own linux platform\n",
    "    # EDIT location where you mounted hard drive\n",
    "    data_root = \"/media/$USERNAME/Brain2019/\"\n",
    "\n",
    "manifest_path = os.path.join(data_root, \"dynamic-brain-workshop/visual_coding_neuropixels/2019/manifest.json\")\n",
    "\n",
    "cache = EcephysProjectCache.fixed(manifest=manifest_path)\n",
    "sessions = cache.get_sessions()"
   ]
  },
  {
   "cell_type": "code",
   "execution_count": 7,
   "metadata": {},
   "outputs": [],
   "source": [
    "sessions = cache.get_sessions()\n",
    "session = sessions.index[0]\n",
    "session_data = cache.get_session_data(session)"
   ]
  },
  {
   "cell_type": "code",
   "execution_count": 8,
   "metadata": {},
   "outputs": [],
   "source": [
    "spiketimes = session_data.spike_times"
   ]
  },
  {
   "cell_type": "code",
   "execution_count": 9,
   "metadata": {},
   "outputs": [],
   "source": [
    "spiketrain = spiketimes[914613384]\n",
    "train2 = spiketimes[914613386]\n",
    "train3 = spiketimes[914613390]\n",
    "\n",
    "spiketimes_list = [spiketrain,train2,train3]"
   ]
  },
  {
   "cell_type": "code",
   "execution_count": 20,
   "metadata": {},
   "outputs": [
    {
     "data": {
      "text/plain": [
       "[array([6.62989190e-01, 3.89575906e+00, 4.99826015e+00, ...,\n",
       "        9.27489710e+03, 9.27502220e+03, 9.27511023e+03]),\n",
       " array([6.28122489e-01, 6.54955849e-01, 7.28389255e-01, ...,\n",
       "        9.27778883e+03, 9.27783327e+03, 9.27785537e+03]),\n",
       " array([5.62389091e-01, 6.27822489e-01, 6.68522529e-01, ...,\n",
       "        9.27784967e+03, 9.27787497e+03, 9.27789327e+03])]"
      ]
     },
     "execution_count": 20,
     "metadata": {},
     "output_type": "execute_result"
    }
   ],
   "source": [
    "spiketimes_list"
   ]
  },
  {
   "cell_type": "code",
   "execution_count": 23,
   "metadata": {},
   "outputs": [],
   "source": [
    "def spiketimes_to_firingrate(spiketimes,startime,stoptime,binsize,binarize=False): \n",
    "    '''\n",
    "    Parameters\n",
    "    ==========\n",
    "    spiketimes : np.array\n",
    "        array of spiketimes from one cell\n",
    "    starttime, stoptime : float\n",
    "        bounds of time to calculate firing rate between (in seconds)\n",
    "    binsize : int\n",
    "        size of bins (in milliseconds); use binsize = 1000 to get firing rate in Hz\n",
    "    binarize : Boolean\n",
    "        Binarize bins (returns array of 1's and 0's).  Default is False\n",
    "    \n",
    "    Returns\n",
    "    =======\n",
    "    counts : np.array\n",
    "        array of counts within bins\n",
    "    \n",
    "    Example\n",
    "    =======\n",
    "    # Convert spiketimes of one cell to Hz (1000 ms bins) for a sample of 100 minutes\n",
    "    spiketimes_to_firingrate(spiketrain,startime=0,stoptime=60*100,binsize=1000)\n",
    "    --> array([1, 0, 0, ..., 3, 4, 1])\n",
    "    '''\n",
    "    startime_ms = startime * 1000\n",
    "    stoptime_ms = stoptime * 1000\n",
    "    binrange = np.arange(start = startime_ms,stop = stoptime_ms+1, step = binsize)\n",
    "\n",
    "    spiketimes_cell = np.asarray(spiketimes) * 1000. #spiketimes in seconds * 1000 msec/sec\n",
    "    counts, bins = np.histogram(spiketimes_cell,bins = binrange)\n",
    "    if binarize == True:\n",
    "        #binarize the counts\n",
    "        counts[counts>0] = 1\n",
    "    return(counts)"
   ]
  },
  {
   "cell_type": "code",
   "execution_count": 30,
   "metadata": {},
   "outputs": [],
   "source": [
    "def spiketimes_to_2D_rates(spiketimes_list,startime,stoptime,binsize,binarize=False): \n",
    "    '''\n",
    "    Parameters\n",
    "    ==========\n",
    "    spiketimes_list : list\n",
    "        List of arrays of spiketimes, where each list element is the spiketimes array of a single cell\n",
    "    starttime, stoptime : float\n",
    "        bounds of time to calculate firing rate between (in seconds)\n",
    "    binsize : int\n",
    "        size of bins (in milliseconds); use binsize = 1000 to get firing rate in Hz\n",
    "    binarize : Boolean\n",
    "        Binarize bins (returns array of 1's and 0's).  Default is False\n",
    "    \n",
    "    Returns\n",
    "    =======\n",
    "    spikerates_2D : np.array\n",
    "        N x T array of binned counts where rows are cells and columns are binned time\n",
    "    \n",
    "    Example\n",
    "    =======\n",
    "    # Convert spiketimes of multiple cell to Hz (1000 ms bins) for a sample of 100 minutes\n",
    "    spiketimes_list\n",
    "    --> [array([6.62989190e-01, 3.89575906e+00, 4.99826015e+00, ...,\n",
    "        9.27489710e+03, 9.27502220e+03, 9.27511023e+03]),\n",
    "     array([6.28122489e-01, 6.54955849e-01, 7.28389255e-01, ...,\n",
    "        9.27778883e+03, 9.27783327e+03, 9.27785537e+03]),\n",
    "     array([5.62389091e-01, 6.27822489e-01, 6.68522529e-01, ...,\n",
    "        9.27784967e+03, 9.27787497e+03, 9.27789327e+03])]\n",
    "    \n",
    "    spiketimes_to_2D_rates(spiketimes_list,startime=0,stoptime=60*100,binsize=1000)\n",
    "    --> array([[ 1,  0,  0, ...,  3,  4,  1],\n",
    "           [17, 18, 33, ..., 25, 26, 38],\n",
    "           [ 6, 18, 15, ..., 28, 29, 28]])\n",
    "    '''\n",
    "    startime_ms = startime * 1000\n",
    "    stoptime_ms = stoptime * 1000\n",
    "    binrange = np.arange(start = startime_ms,stop = stoptime_ms+1, step = binsize)\n",
    "    n_cells = len(spiketimes_list)\n",
    "\n",
    "    spikewords_array = np.zeros([n_cells,binrange.shape[0]-1])\n",
    "    for i in range(n_cells):\n",
    "        spiketimes_cell = np.asarray(spiketimes_list)[i] * 1000. #spiketimes in seconds * 1000 msec/sec\n",
    "        counts, bins = np.histogram(spiketimes_cell,bins = binrange)\n",
    "        if binarize == True:\n",
    "            #binarize the counts\n",
    "            counts[counts>0] = 1\n",
    "        spikewords_array[i,:] = counts\n",
    "    spikerates_2D = spikewords_array.astype(np.int)\n",
    "    return(spikerates_2D)"
   ]
  },
  {
   "cell_type": "code",
   "execution_count": 27,
   "metadata": {},
   "outputs": [
    {
     "data": {
      "text/plain": [
       "[array([6.62989190e-01, 3.89575906e+00, 4.99826015e+00, ...,\n",
       "        9.27489710e+03, 9.27502220e+03, 9.27511023e+03]),\n",
       " array([6.28122489e-01, 6.54955849e-01, 7.28389255e-01, ...,\n",
       "        9.27778883e+03, 9.27783327e+03, 9.27785537e+03]),\n",
       " array([5.62389091e-01, 6.27822489e-01, 6.68522529e-01, ...,\n",
       "        9.27784967e+03, 9.27787497e+03, 9.27789327e+03])]"
      ]
     },
     "execution_count": 27,
     "metadata": {},
     "output_type": "execute_result"
    }
   ],
   "source": [
    "spiketimes_list"
   ]
  },
  {
   "cell_type": "code",
   "execution_count": 28,
   "metadata": {},
   "outputs": [
    {
     "data": {
      "text/plain": [
       "array([[ 1,  0,  0, ...,  3,  4,  1],\n",
       "       [17, 18, 33, ..., 25, 26, 38],\n",
       "       [ 6, 18, 15, ..., 28, 29, 28]])"
      ]
     },
     "execution_count": 28,
     "metadata": {},
     "output_type": "execute_result"
    }
   ],
   "source": [
    "spiketimes_to_2D_rates(spiketimes_list,startime=0,stoptime=60*100,binsize=1000)"
   ]
  },
  {
   "cell_type": "code",
   "execution_count": 22,
   "metadata": {},
   "outputs": [
    {
     "name": "stdout",
     "output_type": "stream",
     "text": [
      "Help on function spiketimes_to_firingrate in module __main__:\n",
      "\n",
      "spiketimes_to_firingrate(spiketimes, startime, stoptime, binsize, binarize=False)\n",
      "    Parameters\n",
      "    ==========\n",
      "    spiketimes : np.array\n",
      "        array of spiketimes from one cell\n",
      "    starttime, stoptime : float\n",
      "        bounds of time to calculate firing rate between (in seconds)\n",
      "    binsize : int\n",
      "        size of bins (in milliseconds); use binsize = 1000 to get firing rate in Hz\n",
      "    binarize : Boolean\n",
      "        Binarize bins (returns array of 1's and 0's).  Default is False\n",
      "    \n",
      "    Returns\n",
      "    =======\n",
      "    counts : np.array\n",
      "        array of counts within bins\n",
      "    \n",
      "    Example\n",
      "    =======\n",
      "    spiketimes_to_firingrate(spiketrain,startime=0,stoptime=60*100,binsize=1000)\n",
      "    array([1, 0, 0, ..., 3, 4, 1])\n",
      "\n"
     ]
    }
   ],
   "source": [
    "help(spiketimes_to_firingrate)"
   ]
  },
  {
   "cell_type": "code",
   "execution_count": null,
   "metadata": {},
   "outputs": [],
   "source": []
  }
 ],
 "metadata": {
  "kernelspec": {
   "display_name": "conda_python3",
   "language": "python",
   "name": "conda_python3"
  },
  "language_info": {
   "codemirror_mode": {
    "name": "ipython",
    "version": 3
   },
   "file_extension": ".py",
   "mimetype": "text/x-python",
   "name": "python",
   "nbconvert_exporter": "python",
   "pygments_lexer": "ipython3",
   "version": "3.6.5"
  }
 },
 "nbformat": 4,
 "nbformat_minor": 2
}

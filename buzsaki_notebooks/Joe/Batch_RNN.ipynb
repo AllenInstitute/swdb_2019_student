{
 "cells": [
  {
   "cell_type": "code",
   "execution_count": null,
   "metadata": {},
   "outputs": [],
   "source": [
    "import sys\n",
    "import math\n",
    "import time\n",
    "import numpy as np\n",
    "from numpy import genfromtxt\n",
    "from numpy import random as rd\n",
    "import pandas as pd\n",
    "import matplotlib.pyplot as plt\n",
    "import matplotlib.patches as mpatches\n",
    "#import pylab as pl\n",
    "from IPython import display\n",
    "import holoviews as hv\n",
    "from holoviews import dim, opts\n",
    "import RNNutils\n",
    "hv.notebook_extension('bokeh')"
   ]
  },
  {
   "cell_type": "code",
   "execution_count": null,
   "metadata": {},
   "outputs": [],
   "source": [
    "units = pd.read_csv('./CA_units_session_737581020_binned0to9000Secs1000binsize_GaussianSmoothed_sigma10.csv')\n",
    "unit_id = units.iloc[:,0]\n",
    "cell_type = units.iloc[:,1]\n",
    "firingRates = units.iloc[:,2:].to_numpy()\n",
    "\n",
    "\n",
    "FSUs = np.zeros(firingRates.shape[0])\n",
    "RSUs = np.zeros(firingRates.shape[0])\n",
    "for j in range(firingRates.shape[0]):\n",
    "    if cell_type[j] == 'FSU':\n",
    "        FSUs[j] = 1\n",
    "    else:\n",
    "        RSUs[j] = 1\n",
    "\n",
    "# Plot all currents as heatmap\n",
    "plt.figure(figsize=(25,5))\n",
    "plt.imshow(firingRates, aspect='auto', cmap='viridis')\n",
    "plt.colorbar()\n",
    "plt.show()\n",
    "\n",
    "# Plot individual currents\n",
    "plt.figure(figsize=(20,8))\n",
    "for i in range(20):\n",
    "    plt.plot(firingRates[i,:] + i, linewidth=1)\n",
    "plt.ylabel(\"Current\")\n",
    "plt.xlabel(\"Time (1/30s)\")\n",
    "plt.show()\n",
    "\n",
    "#targets = firingRates[:,2000:3000]"
   ]
  },
  {
   "cell_type": "code",
   "execution_count": null,
   "metadata": {},
   "outputs": [],
   "source": [
    "g = 1.5\n",
    "dt = 1/1000\n",
    "tau = 0.01\n",
    "J1, Errs1 = RNNutils.trainRNN(targets=firingRates[:,:500], g = g, dt = dt, tau = tau)\n",
    "J2, Errs2 = RNNutils.trainRNN(targets=firingRates[:,500:1000], g = g, dt = dt, tau = tau)\n",
    "J3, Errs3 = RNNutils.trainRNN(targets=firingRates[:,1000:1500], g = g, dt = dt, tau = tau)\n",
    "J4, Errs4 = RNNutils.trainRNN(targets=firingRates[:,1500:2000], g = g, dt = dt, tau = tau)"
   ]
  },
  {
   "cell_type": "code",
   "execution_count": null,
   "metadata": {},
   "outputs": [],
   "source": [
    "fig, ax = plt.subplots(nrows=1, ncols=4, figsize=(20,10))\n",
    "ax[0].imshow(J1)\n",
    "ax[1].imshow(J2)\n",
    "ax[2].imshow(J3)\n",
    "ax[3].imshow(J4)\n",
    "plt.show()"
   ]
  },
  {
   "cell_type": "code",
   "execution_count": null,
   "metadata": {},
   "outputs": [],
   "source": [
    "\n",
    "for j, fr in zip([J1, J2, J3, J4], [firingRates[:,:500], firingRates[:,500:1000], firingRates[:,1000:1500], firingRates[:,1500:2000]]):\n",
    "    RNNutils.networkRates(fr, j, dt, tau, plot=True, numUnits=10)"
   ]
  }
 ],
 "metadata": {
  "kernelspec": {
   "display_name": "Python 3",
   "language": "python",
   "name": "python3"
  },
  "language_info": {
   "codemirror_mode": {
    "name": "ipython",
    "version": 3
   },
   "file_extension": ".py",
   "mimetype": "text/x-python",
   "name": "python",
   "nbconvert_exporter": "python",
   "pygments_lexer": "ipython3",
   "version": "3.7.3"
  }
 },
 "nbformat": 4,
 "nbformat_minor": 4
}

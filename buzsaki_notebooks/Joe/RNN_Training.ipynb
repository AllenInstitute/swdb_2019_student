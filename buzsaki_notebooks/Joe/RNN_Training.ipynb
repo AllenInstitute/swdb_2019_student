{
 "cells": [
  {
   "cell_type": "markdown",
   "metadata": {},
   "source": [
    "# Train RNN on Time Series Data\n",
    "> #### This notebook uses a recursive least squares (RLS) algorithm to train a recurrent neural network (RNN) on experimental time series data\n",
    "## Load necessary libraries"
   ]
  },
  {
   "cell_type": "code",
   "execution_count": null,
   "metadata": {},
   "outputs": [],
   "source": [
    "import math\n",
    "import numpy as np\n",
    "from numpy import genfromtxt\n",
    "import pandas as pd\n",
    "import matplotlib.pyplot as plt\n",
    "import matplotlib.patches as mpatches\n",
    "from numpy import random as rd\n",
    "import time\n",
    "import pylab as pl\n",
    "from IPython import display\n",
    "import holoviews as hv\n",
    "from holoviews import dim, opts\n",
    "hv.notebook_extension('bokeh')"
   ]
  },
  {
   "cell_type": "markdown",
   "metadata": {},
   "source": [
    "## Load target neurons & plot them"
   ]
  },
  {
   "cell_type": "code",
   "execution_count": null,
   "metadata": {},
   "outputs": [],
   "source": [
    "units = pd.read_csv('./CA_units_session_737581020_binned0to9000Secs1000binsize_GaussianSmoothed_sigma10.csv')\n",
    "unit_id = units.iloc[:,0]\n",
    "cell_type = units.iloc[:,1]\n",
    "firingRates = units.iloc[:,2:].to_numpy()\n",
    "\n",
    "\n",
    "FSUs = np.zeros(traces.shape[0])\n",
    "RSUs = np.zeros(traces.shape[0])\n",
    "for j in range(traces.shape[0]):\n",
    "    if cell_type[j] == 'FSU':\n",
    "        FSUs[j] = 1\n",
    "    else:\n",
    "        RSUs[j] = 1\n",
    "\n",
    "# Plot all currents as heatmap\n",
    "plt.figure(figsize=(25,5))\n",
    "plt.imshow(traces, aspect='auto', cmap='viridis')\n",
    "plt.colorbar()\n",
    "plt.show()\n",
    "\n",
    "# Plot individual currents\n",
    "plt.figure(figsize=(20,8))\n",
    "for i in range(20):\n",
    "    plt.plot(traces[i,:] + i, linewidth=1)\n",
    "plt.ylabel(\"Current\")\n",
    "plt.xlabel(\"Time (1/30s)\")\n",
    "plt.show()\n",
    "\n",
    "targets = firingRates[:,2000:3000]"
   ]
  },
  {
   "cell_type": "markdown",
   "metadata": {},
   "source": [
    "## Initialize network's parameters"
   ]
  },
  {
   "cell_type": "code",
   "execution_count": null,
   "metadata": {},
   "outputs": [],
   "source": [
    "N = targets.shape[0]\n",
    "g = 1.5\n",
    "dt = 1/1000 # Should be sampling rate of targets\n",
    "T = np.arange(0,targets.shape[1]*dt,dt)\n",
    "tau = 0.01 # Should be ~10x dt\n",
    "noiseLevel = 0.1\n",
    "sigN = noiseLevel * math.sqrt(tau / dt)\n",
    "P0 = 1.0\n",
    "trainRate = 1\n",
    "minDeltaError = 0.00001\n",
    "maxRuns = 10000"
   ]
  },
  {
   "cell_type": "markdown",
   "metadata": {},
   "source": [
    "## Train network"
   ]
  },
  {
   "cell_type": "code",
   "execution_count": null,
   "metadata": {},
   "outputs": [],
   "source": [
    "%%time\n",
    "%matplotlib inline\n",
    "rd.seed(1234)\n",
    "J = g * rd.randn(N, N) / math.sqrt(N)\n",
    "J0 = J.copy()\n",
    "errors = []\n",
    "deltaError = minDeltaError + 1\n",
    "run_error = N + 1\n",
    "runs = 0\n",
    "PJ = P0 * np.eye(N,N)\n",
    "while (deltaError > minDeltaError or run_error > N/100) and runs < maxRuns: \n",
    "    runs = runs + 1\n",
    "    Rates = np.zeros([N,len(T)])\n",
    "    current = targets[:,0]\n",
    "    Rates[:,0] = current\n",
    "    run_error = 0\n",
    "    for t in range(len(T)):\n",
    "        Rates[:,t] = np.tanh(current)\n",
    "        JR = (J @ Rates[:,t]) #+ sigN * np.random.randn(N,)\n",
    "        current = (-current + JR)*dt/tau + current\n",
    "        if t % trainRate == 0:\n",
    "            err = JR - targets[:,t] # e(t) = z(t) - f(t)\n",
    "            run_error = run_error + np.mean(err ** 2)\n",
    "            Pr =  PJ @ Rates[:,t]\n",
    "            rPr = Rates[:,t] @ Pr\n",
    "            c = 1.0 / (1.0 + rPr)\n",
    "            PJ = PJ - np.outer(Pr,Pr)*c\n",
    "            J = J - (c * np.outer(err,Pr))\n",
    "    if len(errors) < 5:\n",
    "        deltaError = minDeltaError + 1\n",
    "    else:\n",
    "        errordiffs = []\n",
    "        for e in range(4):\n",
    "            errordiffs = np.append(errordiffs, (errors[len(errors)-e-2] - errors[len(errors)-e-1]))\n",
    "        deltaError = np.mean(np.abs(errordiffs))\n",
    "    errors = np.append(errors, run_error)\n",
    "    fig = plt.figure(figsize=(15,5))\n",
    "    plt.tick_params(colors='lightgrey')\n",
    "    plt.scatter(x=np.arange(0,len(errors)), y=errors, s=10)\n",
    "    plt.plot(errors, c=\"Salmon\", linewidth=1.2)\n",
    "    plt.title(\"Error across training\").set_color('lightgrey')\n",
    "    plt.ylabel('Mean Squared Error').set_color('lightgrey')\n",
    "    plt.xlabel('Runs').set_color('lightgrey')\n",
    "    display.clear_output(wait=True)\n",
    "    display.display(pl.gcf())\n",
    "    time.sleep(0.001)\n",
    "    plt.close(fig)"
   ]
  },
  {
   "cell_type": "markdown",
   "metadata": {},
   "source": [
    "## Runs trained network over time to compare to targets"
   ]
  },
  {
   "cell_type": "code",
   "execution_count": null,
   "metadata": {},
   "outputs": [],
   "source": [
    "PostRates = np.zeros([N,len(T)])\n",
    "current = targets[:,0]\n",
    "for t in np.arange(0,len(T)):\n",
    "    PostRates[:,t] = np.tanh(current) # Add rate to traces\n",
    "    JR = np.matmul(J,PostRates[:,t])\n",
    "    current = (-current + JR)*dt/tau + current # Update current\n",
    "# Superimposes trained network neuron currents over target neuron currents\n",
    "trainedUnitsPlot = plt.figure(figsize=(20,20))\n",
    "for i in range(10):\n",
    "    plt.plot(np.arctanh(PostRates[i,:]) + i, linewidth=1.2, color=\"salmon\")\n",
    "    plt.plot(targets[i,:] + i, linewidth=1.5, linestyle=\":\", color=\"darkblue\")\n",
    "    plt.ylabel(\"Rate\")\n",
    "    plt.title(\"Red is Trained Network; Blue is Target\")\n",
    "plt.xlabel(\"Time (ms)\")\n",
    "plt.show()\n",
    "#trainedUnitsPlot.savefig('/home/joezaki/Documents/Rajan_Lab/TRAINEDUNITS.png')"
   ]
  },
  {
   "cell_type": "markdown",
   "metadata": {},
   "source": [
    "## Plot post-training $W_{ij}$ with FSUs and RSUs overlaid on presynaptic cells"
   ]
  },
  {
   "cell_type": "code",
   "execution_count": null,
   "metadata": {},
   "outputs": [],
   "source": [
    "plotSize = (18,12)\n",
    "plt.figure(figsize=plotSize)\n",
    "plt.imshow(J, cmap='BrBG', aspect='equal')\n",
    "plt.colorbar()\n",
    "plt.scatter(x=np.arange(N), y=np.repeat(0, N), c='r', s=FSUs*plotSize[0]/1.5, alpha=0.7, label='FSUs')\n",
    "plt.scatter(x=np.arange(N), y=np.repeat(0, N), c='b', s=RSUs*plotSize[0]/1.5, alpha=0.7, label='RSUs')\n",
    "plt.legend(loc='best')\n",
    "plt.xlabel(\"j\", fontsize=plotSize[0]*2)\n",
    "plt.ylabel(\"i\", fontsize=plotSize[0]*2)\n",
    "plt.show()"
   ]
  },
  {
   "cell_type": "markdown",
   "metadata": {},
   "source": [
    "## Plot target traces, network traces, and the difference between the two"
   ]
  },
  {
   "cell_type": "code",
   "execution_count": null,
   "metadata": {},
   "outputs": [],
   "source": [
    "fig, ax = plt.subplots(3,1, figsize=(20,10))\n",
    "ax[0].imshow(targets, aspect='auto')\n",
    "ax[0].set_title('Targets')\n",
    "ax[1].imshow(np.arctanh(PostRates), aspect='auto')\n",
    "ax[1].set_title('Network')\n",
    "ax[2].imshow(targets - np.arctanh(PostRates), aspect='auto')\n",
    "ax[2].set_title('Difference')\n",
    "plt.show()"
   ]
  },
  {
   "cell_type": "markdown",
   "metadata": {},
   "source": [
    "## Plot eigenvalues and distribution of $W_{ij}$ weights before and after training"
   ]
  },
  {
   "cell_type": "code",
   "execution_count": null,
   "metadata": {},
   "outputs": [],
   "source": [
    "fig, ax = plt.subplots(nrows=2,ncols=2,figsize=(10,10))\n",
    "ax[0][0].scatter(x=np.linalg.eigvals(J0).real, y=np.linalg.eigvals(J0).imag, c=\"Salmon\", s=20)\n",
    "ax[0][0].axvline(x=1, color=\"grey\", linestyle=\":\", linewidth=2)\n",
    "ax[0][0].set_title('PreTraining Eigenvalues')\n",
    "\n",
    "countsJ0,bin_edgesJ0 = np.histogram(J0.flatten(),N)\n",
    "bin_centersJ0 = (bin_edgesJ0[:-1] + bin_edgesJ0[1:])/2\n",
    "ax[0][1].scatter(bin_centersJ0, countsJ0, s=15)\n",
    "ax[0][1].plot(bin_centersJ0, countsJ0, c='salmon')\n",
    "\n",
    "ax[1][0].scatter(x=np.linalg.eigvals(J).real, y=np.linalg.eigvals(J).imag, c=\"Salmon\", s=20)\n",
    "ax[1][0].axvline(x=1, color=\"grey\", linestyle=\":\", linewidth=2)\n",
    "ax[1][0].set_title(\"Post-Training Eigenvalues\")\n",
    "\n",
    "countsJ,bin_edgesJ = np.histogram(J.flatten(),N)\n",
    "bin_centersJ = (bin_edgesJ[:-1] + bin_edgesJ[1:])/2\n",
    "ax[1][1].scatter(bin_centersJ, countsJ, s=15)\n",
    "ax[1][1].plot(bin_centersJ, countsJ, c='salmon')\n",
    "plt.show()"
   ]
  },
  {
   "cell_type": "code",
   "execution_count": null,
   "metadata": {},
   "outputs": [],
   "source": []
  }
 ],
 "metadata": {
  "kernelspec": {
   "display_name": "Python 3",
   "language": "python",
   "name": "python3"
  },
  "language_info": {
   "codemirror_mode": {
    "name": "ipython",
    "version": 3
   },
   "file_extension": ".py",
   "mimetype": "text/x-python",
   "name": "python",
   "nbconvert_exporter": "python",
   "pygments_lexer": "ipython3",
   "version": "3.7.3"
  }
 },
 "nbformat": 4,
 "nbformat_minor": 4
}

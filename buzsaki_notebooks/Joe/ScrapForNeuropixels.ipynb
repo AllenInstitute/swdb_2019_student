{
 "cells": [
  {
   "cell_type": "code",
   "execution_count": 1,
   "metadata": {},
   "outputs": [
    {
     "data": {
      "text/html": [
       "<style>.container { width:90% !important; }</style>"
      ],
      "text/plain": [
       "<IPython.core.display.HTML object>"
      ]
     },
     "metadata": {},
     "output_type": "display_data"
    }
   ],
   "source": [
    "import os\n",
    "import sys\n",
    "sys.path.append('../../swdb_2019_tools')\n",
    "import spikeutils\n",
    "import numpy as np\n",
    "import matplotlib.pyplot as plt\n",
    "import pandas as pd\n",
    "from scipy.ndimage.filters import gaussian_filter1d\n",
    "from IPython.core.display import display, HTML\n",
    "display(HTML(\"<style>.container { width:90% !important; }</style>\"))\n",
    "\n",
    "from allensdk.brain_observatory.ecephys.ecephys_project_cache import EcephysProjectCache\n",
    "from allensdk.brain_observatory.ecephys import ecephys_session\n",
    "%matplotlib inline\n",
    "\n",
    "# fix slow autocomplete\n",
    "%config Completer.use_jedi = False\n",
    "\n",
    "import platform\n",
    "platstring = platform.platform()\n",
    "\n",
    "if 'Darwin' in platstring:\n",
    "    # OS X \n",
    "    data_root = \"/Volumes/Brain2019/\"\n",
    "elif 'Windows'  in platstring:\n",
    "    # Windows (replace with the drive letter of USB drive)\n",
    "    data_root = \"E:/\"\n",
    "elif ('amzn1' in platstring):\n",
    "    # then on AWS\n",
    "    data_root = \"/data/\"\n",
    "else:\n",
    "    # then your own linux platform\n",
    "    # EDIT location where you mounted hard drive\n",
    "    data_root = \"/media/$USERNAME/Brain2019/\"\n",
    "\n",
    "manifest_path = os.path.join(data_root, \"dynamic-brain-workshop/visual_coding_neuropixels/2019/manifest.json\")"
   ]
  },
  {
   "cell_type": "code",
   "execution_count": 2,
   "metadata": {},
   "outputs": [
    {
     "name": "stderr",
     "output_type": "stream",
     "text": [
      "/Users/josephzaki/anaconda3/envs/allenbrain/lib/python3.7/site-packages/pandas/core/ops/__init__.py:1115: FutureWarning: elementwise comparison failed; returning scalar instead, but in the future will perform elementwise comparison\n",
      "  result = method(y)\n"
     ]
    }
   ],
   "source": [
    "cache = EcephysProjectCache.fixed(manifest=manifest_path)\n",
    "sessions = cache.get_sessions()\n",
    "\n",
    "areas = ['CA','DG']\n",
    "area_sessions = [] # Adds all the sessions that have the desired areas (designated above)\n",
    "for i in np.arange(len(sessions.structure_acronyms)):\n",
    "    sessionid = sessions.structure_acronyms.index[i]\n",
    "    if any(elem in sessions.structure_acronyms[sessionid] for elem in areas):\n",
    "        area_sessions.append(sessionid)\n",
    "\n",
    "session = cache.get_session_data(area_sessions[0])\n",
    "stim_epochs = session.get_stimulus_epochs()\n",
    "running_speed = session.running_speed\n",
    "\n",
    "units = pd.read_csv('./CA_units_session_737581020_binned0to9000Secs1000binsize_GaussianSmoothed_sigma10.csv')\n",
    "unit_id = units.iloc[:,0]\n",
    "cell_type = units.iloc[:,1]\n",
    "firingRates = units.iloc[:,2:].to_numpy()"
   ]
  },
  {
   "cell_type": "code",
   "execution_count": 3,
   "metadata": {},
   "outputs": [
    {
     "data": {
      "text/html": [
       "<div>\n",
       "<style scoped>\n",
       "    .dataframe tbody tr th:only-of-type {\n",
       "        vertical-align: middle;\n",
       "    }\n",
       "\n",
       "    .dataframe tbody tr th {\n",
       "        vertical-align: top;\n",
       "    }\n",
       "\n",
       "    .dataframe thead th {\n",
       "        text-align: right;\n",
       "    }\n",
       "</style>\n",
       "<table border=\"1\" class=\"dataframe\">\n",
       "  <thead>\n",
       "    <tr style=\"text-align: right;\">\n",
       "      <th></th>\n",
       "      <th>start_time</th>\n",
       "      <th>stop_time</th>\n",
       "      <th>duration</th>\n",
       "      <th>stimulus_name</th>\n",
       "      <th>stimulus_block</th>\n",
       "    </tr>\n",
       "  </thead>\n",
       "  <tbody>\n",
       "    <tr>\n",
       "      <th>0</th>\n",
       "      <td>28.998830</td>\n",
       "      <td>89.065570</td>\n",
       "      <td>60.066740</td>\n",
       "      <td>spontaneous</td>\n",
       "      <td>null</td>\n",
       "    </tr>\n",
       "    <tr>\n",
       "      <th>1</th>\n",
       "      <td>89.065570</td>\n",
       "      <td>1001.060513</td>\n",
       "      <td>911.994943</td>\n",
       "      <td>gabors</td>\n",
       "      <td>0</td>\n",
       "    </tr>\n",
       "    <tr>\n",
       "      <th>2</th>\n",
       "      <td>1001.060513</td>\n",
       "      <td>1290.051910</td>\n",
       "      <td>288.991397</td>\n",
       "      <td>spontaneous</td>\n",
       "      <td>null</td>\n",
       "    </tr>\n",
       "    <tr>\n",
       "      <th>3</th>\n",
       "      <td>1290.051910</td>\n",
       "      <td>1588.551172</td>\n",
       "      <td>298.499263</td>\n",
       "      <td>flashes</td>\n",
       "      <td>1</td>\n",
       "    </tr>\n",
       "    <tr>\n",
       "      <th>4</th>\n",
       "      <td>1588.551172</td>\n",
       "      <td>1590.302620</td>\n",
       "      <td>1.751447</td>\n",
       "      <td>spontaneous</td>\n",
       "      <td>null</td>\n",
       "    </tr>\n",
       "  </tbody>\n",
       "</table>\n",
       "</div>"
      ],
      "text/plain": [
       "    start_time    stop_time    duration stimulus_name stimulus_block\n",
       "0    28.998830    89.065570   60.066740   spontaneous           null\n",
       "1    89.065570  1001.060513  911.994943        gabors              0\n",
       "2  1001.060513  1290.051910  288.991397   spontaneous           null\n",
       "3  1290.051910  1588.551172  298.499263       flashes              1\n",
       "4  1588.551172  1590.302620    1.751447   spontaneous           null"
      ]
     },
     "execution_count": 3,
     "metadata": {},
     "output_type": "execute_result"
    }
   ],
   "source": [
    "stim_epochs.head()"
   ]
  },
  {
   "cell_type": "code",
   "execution_count": 4,
   "metadata": {},
   "outputs": [],
   "source": [
    "epochlabels, epochuniques = pd.factorize(stim_epochs.stimulus_name)\n",
    "startTime = 0\n",
    "endtime = 9000\n",
    "binsize = 1000\n",
    "#assign labels\n",
    "numlabels = len(np.unique(stim_epochs.stimulus_name))\n",
    "numepochs = np.arange(numlabels)\n",
    "labels = np.zeros((int(endtime*1000/binsize)))\n",
    "for i in numepochs:\n",
    "    epochstart = (stim_epochs.start_time[i]*1000)/binsize\n",
    "    epochend = (stim_epochs.stop_time[i]*1000)/binsize\n",
    "    stimname = stim_epochs.stimulus_name[i]\n",
    "    labels[int(epochstart):int(epochend)] = np.where(epochuniques==stimname)[0][0]"
   ]
  },
  {
   "cell_type": "code",
   "execution_count": 8,
   "metadata": {},
   "outputs": [
    {
     "name": "stderr",
     "output_type": "stream",
     "text": [
      "/Users/josephzaki/anaconda3/envs/allenbrain/lib/python3.7/site-packages/pandas/core/ops/__init__.py:1115: FutureWarning: elementwise comparison failed; returning scalar instead, but in the future will perform elementwise comparison\n",
      "  result = method(y)\n"
     ]
    }
   ],
   "source": [
    "# Choose all the sessions that have the given brain region\n",
    "brainRegion = 'CA'\n",
    "sessionsToUse = sessions[[np.isin(brainRegion, x) for x in sessions.structure_acronyms]]\n",
    "sessionsToUse\n",
    "# Get sample session to try binning and smoothing on\n",
    "session = cache.get_session_data(sessionsToUse.index[0])\n",
    "units = session.units\n",
    "regionUnits = units[units.structure_acronym == brainRegion]\n",
    "spike_times = session.spike_times\n",
    "regionSpikes = {unit : spike_times[unit] for unit in regionUnits.index}\n",
    "unitNames = np.asarray([n for n in regionSpikes.keys()])\n",
    "toBin = [sp for sp in regionSpikes.values()]\n",
    "startTime = 0\n",
    "endTime = np.max([np.max(x) for x in spike_times.values()]) # Last spike across all cells in this session\n",
    "binsize = 1000\n",
    "binned = spikeutils.spiketimes_to_2D_rates(toBin, startime=startTime, stoptime=endTime, binsize=binsize)\n",
    "stim_epochs = session.get_stimulus_epochs()\n",
    "epochlabels, epochuniques = pd.factorize(stim_epochs.stimulus_name)\n",
    "#assign labels\n",
    "numlabels = len(np.unique(stim_epochs.stimulus_name))\n",
    "numepochs = np.arange(numlabels)\n",
    "labels = np.zeros((int(endTime*1000/binsize)))\n",
    "for i in numepochs:\n",
    "    epochstart = (stim_epochs.start_time[i]*1000)/binsize\n",
    "    epochend = (stim_epochs.stop_time[i]*1000)/binsize\n",
    "    stimname = stim_epochs.stimulus_name[i]\n",
    "    labels[int(epochstart):int(epochend)] = np.where(epochuniques==stimname)[0][0]\n",
    "epochmapping = {key:value for key, value in zip(np.arange(len(epochuniques)), epochuniques)}\n",
    "labels = labels.astype(int)\n",
    "labels_asNames = ['x']\n",
    "for i in labels:\n",
    "    labels_asNames.append(epochmapping[i])\n",
    "labels_asNames = labels_asNames[1:]"
   ]
  },
  {
   "cell_type": "code",
   "execution_count": 23,
   "metadata": {},
   "outputs": [],
   "source": [
    "####SaM fixing  your shit\n",
    "\n",
    "numepochs = len(stim_epochs.start_time)\n",
    "labels = np.zeros((int(endTime*1000/binsize)))\n",
    "for i in range(numepochs):\n",
    "    epochstart = (stim_epochs.start_time[i]*1000)/binsize\n",
    "    epochend = (stim_epochs.stop_time[i]*1000)/binsize\n",
    "    stimname = stim_epochs.stimulus_name[i]\n",
    "    labels[int(epochstart):int(epochend)] = np.where(epochuniques==stimname)[0][0]\n",
    "epochmapping = {key:value for key, value in zip(np.arange(len(epochuniques)), epochuniques)}\n",
    "labels = labels.astype(int)"
   ]
  },
  {
   "cell_type": "code",
   "execution_count": 25,
   "metadata": {},
   "outputs": [
    {
     "data": {
      "text/plain": [
       "array([0, 1, 2, 3, 4, 5, 6, 7])"
      ]
     },
     "execution_count": 25,
     "metadata": {},
     "output_type": "execute_result"
    }
   ],
   "source": [
    "np.unique(labels)"
   ]
  },
  {
   "cell_type": "code",
   "execution_count": 11,
   "metadata": {},
   "outputs": [
    {
     "data": {
      "text/plain": [
       "Index(['spontaneous', 'gabors', 'flashes', 'drifting_gratings',\n",
       "       'natural_movie_three', 'natural_movie_one', 'static_gratings',\n",
       "       'natural_scenes'],\n",
       "      dtype='object')"
      ]
     },
     "execution_count": 11,
     "metadata": {},
     "output_type": "execute_result"
    }
   ],
   "source": [
    "epochuniques"
   ]
  },
  {
   "cell_type": "code",
   "execution_count": null,
   "metadata": {},
   "outputs": [],
   "source": [
    "epochmapping = {key:value for key, value in zip(np.arange(len(epochuniques)), epochuniques)}\n",
    "labels = labels.astype(int)\n",
    "labels_asNames = ['x']\n",
    "for i in labels:\n",
    "    labels_asNames.append(epochmapping[i])\n",
    "labels_asNames = labels_asNames[1:]"
   ]
  },
  {
   "cell_type": "code",
   "execution_count": null,
   "metadata": {},
   "outputs": [],
   "source": [
    "description = \"CA_stim_epochs_nums\"\n",
    "np.savetxt(('./' + description + '_session_' + str(area_sessions[0]) + \"_binned\" +\n",
    "                      str(startTime) + \"to\" + str(endtime) + \"Secs\" + str(binsize) + \"binsize\" + '.csv'),labels,\n",
    "           delimiter=',', fmt='%s')"
   ]
  },
  {
   "cell_type": "code",
   "execution_count": null,
   "metadata": {},
   "outputs": [],
   "source": []
  }
 ],
 "metadata": {
  "kernelspec": {
   "display_name": "Python 3",
   "language": "python",
   "name": "python3"
  },
  "language_info": {
   "codemirror_mode": {
    "name": "ipython",
    "version": 3
   },
   "file_extension": ".py",
   "mimetype": "text/x-python",
   "name": "python",
   "nbconvert_exporter": "python",
   "pygments_lexer": "ipython3",
   "version": "3.7.3"
  },
  "varInspector": {
   "cols": {
    "lenName": 16,
    "lenType": 16,
    "lenVar": 40
   },
   "kernels_config": {
    "python": {
     "delete_cmd_postfix": "",
     "delete_cmd_prefix": "del ",
     "library": "var_list.py",
     "varRefreshCmd": "print(var_dic_list())"
    },
    "r": {
     "delete_cmd_postfix": ") ",
     "delete_cmd_prefix": "rm(",
     "library": "var_list.r",
     "varRefreshCmd": "cat(var_dic_list()) "
    }
   },
   "types_to_exclude": [
    "module",
    "function",
    "builtin_function_or_method",
    "instance",
    "_Feature"
   ],
   "window_display": false
  }
 },
 "nbformat": 4,
 "nbformat_minor": 4
}

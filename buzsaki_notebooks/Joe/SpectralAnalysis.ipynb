{
 "cells": [
  {
   "cell_type": "markdown",
   "metadata": {},
   "source": [
    "## Load necessary libraries and paths"
   ]
  },
  {
   "cell_type": "code",
   "execution_count": null,
   "metadata": {},
   "outputs": [],
   "source": [
    "import os\n",
    "import numpy as np\n",
    "import matplotlib.pyplot as plt\n",
    "import pandas as pd\n",
    "\n",
    "from allensdk.brain_observatory.ecephys.ecephys_project_cache import EcephysProjectCache\n",
    "from allensdk.brain_observatory.ecephys import ecephys_session\n",
    "%matplotlib inline\n",
    "\n",
    "# fix slow autocomplete\n",
    "%config Completer.use_jedi = False\n",
    "\n",
    "import platform\n",
    "platstring = platform.platform()\n",
    "\n",
    "if 'Darwin' in platstring:\n",
    "    # OS X \n",
    "    data_root = \"/Volumes/Brain2019/\"\n",
    "elif 'Windows'  in platstring:\n",
    "    # Windows (replace with the drive letter of USB drive)\n",
    "    data_root = \"E:/\"\n",
    "elif ('amzn1' in platstring):\n",
    "    # then on AWS\n",
    "    data_root = \"/data/\"\n",
    "else:\n",
    "    # then your own linux platform\n",
    "    # EDIT location where you mounted hard drive\n",
    "    data_root = \"/media/$USERNAME/Brain2019/\"\n",
    "\n",
    "manifest_path = os.path.join(data_root, \"dynamic-brain-workshop/visual_coding_neuropixels/2019/manifest.json\")\n",
    "cache = EcephysProjectCache.fixed(manifest=manifest_path)\n",
    "sessions = cache.get_sessions()"
   ]
  },
  {
   "cell_type": "markdown",
   "metadata": {},
   "source": [
    "- ## Choose brain region (*areas*). This will produce *area_sessions*, the sessions where there are cells with this brain region\n",
    "- ## Choose *session*. This chunk will locate the probe with the most cells and locate an LFP channel from it"
   ]
  },
  {
   "cell_type": "code",
   "execution_count": null,
   "metadata": {},
   "outputs": [],
   "source": [
    "area = ['CA']\n",
    "area_sessions = [] # Adds all the sessions that have the desired area (designated above)\n",
    "for i in np.arange(len(sessions.structure_acronyms)):\n",
    "    sessionid = sessions.structure_acronyms.index[i]\n",
    "    if any(elem in sessions.structure_acronyms[sessionid] for elem in area):\n",
    "        area_sessions.append(sessionid)\n",
    "\n",
    "session = cache.get_session_data(area_sessions[0])\n",
    "units = session.units\n",
    "sampling_rate = 2500 # The sampling rate is very stable across probes\n",
    "\n",
    "# Just CA units\n",
    "chosenUnits = units[units.structure_acronym ==area[0]]\n",
    "probe = chosenUnits.probe_id.value_counts().index[0] # Probe with most units from brain region\n",
    "probeLFP = session.get_lfp(probe)\n",
    "channelInfo = cache.get_channels()\n",
    "channel = channelInfo[(channelInfo.ecephys_probe_id == probe) & (channelInfo.manual_structure_acronym == area[0])].index[0]\n",
    "channelLFP = probeLFP.loc[dict(channel=channel)]\n",
    "LFP = channelLFP\n",
    "#LFP = channelLFP.loc[dict(time=slice(0,2000))]"
   ]
  },
  {
   "cell_type": "markdown",
   "metadata": {},
   "source": [
    "## Plot raw LFP with underlying spectrogram underneath"
   ]
  },
  {
   "cell_type": "code",
   "execution_count": null,
   "metadata": {},
   "outputs": [],
   "source": [
    "fig, ax = plt.subplots(2, 1, figsize=(20,10))\n",
    "ax[0].plot(LFP.values, c='steelblue', alpha=0.8)\n",
    "ax[1].specgram(LFP,\n",
    "             Fs=1 / (LFP.time.values[1] - LFP.time.values[0]),\n",
    "             cmap='Spectral_r', aspect='auto')\n",
    "plt.ylim(0,50)\n",
    "plt.xlabel('Time')\n",
    "plt.ylabel('Frequency')\n",
    "plt.show()"
   ]
  },
  {
   "cell_type": "markdown",
   "metadata": {},
   "source": [
    "## Plot periodogram for the LFP trace"
   ]
  },
  {
   "cell_type": "code",
   "execution_count": null,
   "metadata": {},
   "outputs": [],
   "source": [
    "from scipy import signal\n",
    "t = LFP.time.values\n",
    "v = LFP.values\n",
    "fs = 1/(t[1]-t[0])\n",
    "f, Pxx_den = signal.welch(LFP, fs, nperseg=10**5)\n",
    "plt.figure(figsize=(10,10))\n",
    "plt.semilogy(f, Pxx_den)\n",
    "plt.xlim(0,50)\n",
    "plt.ylim(10**2,10**6)\n",
    "plt.xlabel('frequency [Hz]')\n",
    "plt.ylabel('PSD [V**2/Hz]')\n",
    "plt.show()"
   ]
  },
  {
   "cell_type": "code",
   "execution_count": null,
   "metadata": {},
   "outputs": [],
   "source": []
  }
 ],
 "metadata": {
  "kernelspec": {
   "display_name": "Python 3",
   "language": "python",
   "name": "python3"
  },
  "language_info": {
   "codemirror_mode": {
    "name": "ipython",
    "version": 3
   },
   "file_extension": ".py",
   "mimetype": "text/x-python",
   "name": "python",
   "nbconvert_exporter": "python",
   "pygments_lexer": "ipython3",
   "version": "3.7.3"
  }
 },
 "nbformat": 4,
 "nbformat_minor": 4
}

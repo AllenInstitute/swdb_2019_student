{
 "cells": [
  {
   "cell_type": "code",
   "execution_count": null,
   "metadata": {},
   "outputs": [],
   "source": [
    "import os\n",
    "import math\n",
    "import numpy as np\n",
    "from numpy import genfromtxt\n",
    "import pandas as pd\n",
    "import matplotlib.pyplot as plt\n",
    "import matplotlib.patches as mpatches\n",
    "import matplotlib.gridspec as gridspec\n",
    "import seaborn as sns\n",
    "from scipy import stats\n",
    "from scipy.stats import gaussian_kde\n",
    "from sklearn.decomposition import PCA\n",
    "from mpl_toolkits import mplot3d\n",
    "from numpy import random as rd\n",
    "import time\n",
    "import pylab as pl\n",
    "import holoviews as hv\n",
    "from holoviews import dim, opts\n",
    "hv.notebook_extension('bokeh')\n",
    "from IPython.core.display import display, HTML\n",
    "display(HTML(\"<style>.container { width:90% !important; }</style>\"))\n",
    "from IPython import display"
   ]
  },
  {
   "cell_type": "markdown",
   "metadata": {},
   "source": [
    "## Load units\n",
    "> ### Specify brain region and session number (starting from 0)"
   ]
  },
  {
   "cell_type": "code",
   "execution_count": null,
   "metadata": {},
   "outputs": [],
   "source": [
    "brainRegion = 'VISp'\n",
    "sessions = []\n",
    "for file in os.listdir('./buzsaki_data/'):\n",
    "    if brainRegion in file:\n",
    "        if 'firingrates' in file:\n",
    "            sessions.append(file.split('session_')[1][:9])\n",
    "\n",
    "sesh = 0\n",
    "for file in os.listdir('./buzsaki_data/'):\n",
    "    if brainRegion in file:\n",
    "        if sessions[sesh] in file:\n",
    "            if 'firingrates' in file:\n",
    "                units = pd.read_csv('./buzsaki_data/' + file)\n",
    "                unit_id = units.iloc[:,0]\n",
    "                cell_type = units.iloc[:,1]\n",
    "                firingRates = units.iloc[:,2:].to_numpy()\n",
    "            elif 'runningSpeed' in file:\n",
    "                running = np.genfromtxt('./buzsaki_data/' + file)\n",
    "            elif 'labels' in file:\n",
    "                stimnums = np.genfromtxt('./buzsaki_data/' + file)\n",
    "            elif 'labelNames' in file:\n",
    "                stimnames = np.genfromtxt('./buzsaki_data/' + file, dtype=str)\n",
    "\n",
    "# Chop off beginning and end of session where stimulus presentation, running, and recordings don't line up\n",
    "firstNonNaNindex = np.where(np.isnan(running))[0][-1] + 1\n",
    "if len(stimnums) < len(running):\n",
    "    stimnums = stimnums[firstNonNaNindex:]\n",
    "    stimnames = stimnames[firstNonNaNindex:]\n",
    "    firingRates = firingRates[:,firstNonNaNindex:len(stimnums)+firstNonNaNindex]\n",
    "    running = running[firstNonNaNindex:len(stimnums)+firstNonNaNindex]\n",
    "else:\n",
    "    useToChop = running\n",
    "    firingRates = firingRates[:,firstNonNaNindex:len(useToChop)]\n",
    "    stimnums = stimnums[firstNonNaNindex:len(useToChop)]\n",
    "    stimnames = stimnames[firstNonNaNindex:len(useToChop)]\n",
    "    running = running[firstNonNaNindex:]\n",
    "    \n",
    "# indices = np.arange(0,len(running),20)\n",
    "# firingRates = firingRates[:,indices]\n",
    "# stimnums = stimnums[indices]\n",
    "# stimnames = stimnames[indices]\n",
    "# running = running[indices]"
   ]
  },
  {
   "cell_type": "code",
   "execution_count": null,
   "metadata": {},
   "outputs": [],
   "source": [
    "%matplotlib inline\n",
    "FSUs = np.zeros(firingRates.shape[0])\n",
    "RSUs = np.zeros(firingRates.shape[0])\n",
    "for j in range(firingRates.shape[0]):\n",
    "    if cell_type[j] == 'FSU':\n",
    "        FSUs[j] = 1\n",
    "    else:\n",
    "        RSUs[j] = 1\n",
    "\n",
    "# Plot all currents as heatmap\n",
    "plt.figure(figsize=(25,5))\n",
    "plt.imshow(firingRates, aspect='auto', cmap='viridis')\n",
    "plt.colorbar()\n",
    "plt.show()\n",
    "\n",
    "# Plot individual currents\n",
    "plt.figure(figsize=(20,8))\n",
    "for i in range(5):\n",
    "    plt.plot(firingRates[i,:] + i*firingRates[i,:].max(), linewidth=1)\n",
    "plt.ylabel(\"Current\")\n",
    "plt.xlabel(\"Time\")\n",
    "plt.show()"
   ]
  },
  {
   "cell_type": "markdown",
   "metadata": {},
   "source": [
    "## Calculate covariance matrix and eigenvalues/vectors\n",
    "> ### choose number of dimensions to create projection of"
   ]
  },
  {
   "cell_type": "code",
   "execution_count": null,
   "metadata": {},
   "outputs": [],
   "source": [
    "#rates = firingRates[RSUs.astype(bool),:].T #Transpose firingRates if you would like to collapse across cells\n",
    "rates = firingRates.copy().T\n",
    "rates -= np.mean(rates, axis=0)\n",
    "covMat = (1.0/(rates.shape[0]-1))*(rates.T @ rates) # covariance matrix\n",
    "evalues, evectors = np.linalg.eig(covMat) # eigenvalues and eigenvectors\n",
    "#np.linalg.svd()\n",
    "numProjections = 10 # number of dimensions\n",
    "projections = np.zeros((numProjections,rates.shape[0]))\n",
    "for x in range(numProjections):\n",
    "    projections[x,:] = np.dot(rates, evectors.T[x]) # projections of principal components onto firing rates\n",
    "#%matplotlib inline\n",
    "#plt.figure(figsize=(10,5))\n",
    "#plt.scatter(x=np.arange(len(evalues)), y=evalues, marker='o', s=10)"
   ]
  },
  {
   "cell_type": "code",
   "execution_count": null,
   "metadata": {},
   "outputs": [],
   "source": [
    "%matplotlib inline\n",
    "rates = firingRates.copy().T\n",
    "pca = PCA()\n",
    "pca.fit(rates)\n",
    "numProjections = 10 # number of dimensions\n",
    "projections = np.zeros((numProjections,rates.shape[0]))\n",
    "for x in range(numProjections):\n",
    "    projections[x,:] = np.dot(rates, pca.components_[x])\n",
    "plt.figure(figsize=(20,5))\n",
    "plt.scatter(np.arange(len(pca.explained_variance_ratio_)), pca.explained_variance_ratio_/np.sum(pca.explained_variance_ratio_))\n",
    "plt.show()"
   ]
  },
  {
   "cell_type": "code",
   "execution_count": null,
   "metadata": {},
   "outputs": [],
   "source": [
    "%matplotlib inline\n",
    "numvectors = 2\n",
    "fig = plt.figure(figsize=(20,8))\n",
    "for n in range(numvectors):\n",
    "    plt.plot(pca.components_[n] - n, c='black')\n",
    "    plt.scatter(x = np.arange(len(FSUs)), y = np.zeros((len(FSUs),1))-n, c=FSUs, cmap='coolwarm', alpha=1, s=20)\n",
    "    plt.text(x=0, y=-n+0.25, s='PC ' + str(n+1), fontsize=15, c='black')\n",
    "FSUpatch = mpatches.Patch(color='red',label='Fast Spiking Unit')\n",
    "RSUpatch = mpatches.Patch(color='blue',label='Regular Spiking Unit')\n",
    "plt.legend(handles = [FSUpatch,RSUpatch],loc='center',fontsize=15)\n",
    "plt.title(brainRegion + '_session_' + sessions[sesh] + '_PC1and2_byCellType')\n",
    "plt.show()\n",
    "#fig.savefig('./buzsaki_plots/' + brainRegion + '_session_' + sessions[sesh] + '_PC1and2_byCellType.png')"
   ]
  },
  {
   "cell_type": "code",
   "execution_count": null,
   "metadata": {},
   "outputs": [],
   "source": [
    "plt.figure(figsize=(18,8))\n",
    "numvectors = 2\n",
    "fig = plt.figure(figsize=(20,8))\n",
    "for n in range(numvectors):\n",
    "    plt.plot(pca.components_[n][np.abs(pca.components_[n]).argsort()]-n, c='black')\n",
    "    plt.scatter(x = np.arange(len(FSUs)), y = np.zeros((len(FSUs),1))-n, c=FSUs[np.abs(pca.components_[n]).argsort()], cmap='coolwarm', alpha=1, s=50)\n",
    "    plt.text(x=0, y=-n+0.25, s='PC ' + str(n+1), fontsize=15, c='black')\n",
    "FSUpatch = mpatches.Patch(color='red',label='Fast Spiking Unit')\n",
    "RSUpatch = mpatches.Patch(color='blue',label='Regular Spiking Unit')\n",
    "plt.legend(handles = [FSUpatch,RSUpatch],loc='center',fontsize=15)\n",
    "plt.title(brainRegion + '_session_' + sessions[sesh] + '_PC1and2_byCellType')\n",
    "plt.show()\n",
    "#fig.savefig('./buzsaki_plots/' + brainRegion + '_session_' + sessions[sesh] + '_PC1and2_byCellType_sorted.png')"
   ]
  },
  {
   "cell_type": "markdown",
   "metadata": {},
   "source": [
    "###  Run if PCA is collapsed across cells (so each data point is timepoints)"
   ]
  },
  {
   "cell_type": "code",
   "execution_count": null,
   "metadata": {},
   "outputs": [],
   "source": [
    "display_names = []\n",
    "for left in np.concatenate([[0], np.where(np.diff(stimnums))[0]]):\n",
    "    name = stimnames[left]\n",
    "    if name not in display_names:\n",
    "        display_names.append(name)\n",
    "\n",
    "fig, ax = plt.subplots(figsize=(22,10))\n",
    "# Scatter by stimulus presentations\n",
    "stimScatter = ax.scatter(projections[0,:], projections[1,:], marker='.', c=stimnums, cmap='Dark2', s=80, alpha=0.5)\n",
    "ax.legend(stimScatter.legend_elements()[0], display_names, fontsize=20)\n",
    "\n",
    "# Scatter by running speed\n",
    "runScatter = ax.scatter(projections[0,:], projections[1,:], marker='.', c=running, s=80, alpha=1)\n",
    "fig.colorbar(runScatter)\n",
    "plt.title(brainRegion + ' Session ' + sessions[sesh], fontsize=30)\n",
    "plt.xlabel('First Principle Component', fontsize=20)\n",
    "plt.ylabel('Second Principle Component', fontsize=20)\n",
    "fig.show()\n",
    "fig.savefig('./buzsaki_plots/' + brainRegion + '_session_' + sessions[sesh] + 'PC1and2_projectedthroughtime_byStim_bigLegend.png')"
   ]
  },
  {
   "cell_type": "code",
   "execution_count": null,
   "metadata": {
    "scrolled": false
   },
   "outputs": [],
   "source": [
    "#%matplotlib notebook\n",
    "\n",
    "display_names = []\n",
    "for left in np.concatenate([[0], np.where(np.diff(stimnums))[0]]):\n",
    "    name = stimnames[left]\n",
    "    if name not in display_names:\n",
    "        display_names.append(name)\n",
    "\n",
    "fig = plt.figure(figsize=(22,10))\n",
    "ax = fig.add_subplot(111, projection='3d')\n",
    "# Line through time, and plot start and end timepoints as green and red stars, respectively\n",
    "#ax.plot(projections[0,:], projections[1,:], projections[2,:], c='grey', alpha=0.5, linewidth=1)\n",
    "ax.scatter(projections[0,0], projections[1,0], projections[2,0], marker='*', c='green', s=100) # start timepoint\n",
    "ax.scatter(projections[0,-1], projections[1,-1], projections[2,-1], marker='*', c='red', s=100) # end timepoint\n",
    "\n",
    "# Scatter by stimulus presentations\n",
    "#stimScatter = ax.scatter(projections[0,:], projections[1,:], projections[2,:], '.', c=stimnums, cmap='Dark2', s=10, alpha=0.5)\n",
    "#ax.legend(stimScatter.legend_elements()[0], display_names)\n",
    "\n",
    "# Scatter by running speed\n",
    "runScatter = ax.scatter(projections[0,:], projections[1,:], projections[2,:], '.', c=running, cmap='viridis', s=10, alpha=1)\n",
    "fig.colorbar(runScatter)\n",
    "\n",
    "# Scatter by progression of time\n",
    "#timeScatter = ax.scatter(projections[0,:], projections[1,:], projections[2,:], '.', c=np.arange(len(projections[0,:])), cmap='inferno', s=10, alpha=0.5)\n",
    "#fig.colorbar(timeScatter)\n",
    "\n",
    "ax.set_xlabel('First Principal Component', fontsize=10)\n",
    "ax.set_ylabel('Second Principal Component', fontsize=10)\n",
    "ax.set_zlabel('Third Principal Component', fontsize=10)\n",
    "plt.show()"
   ]
  },
  {
   "cell_type": "markdown",
   "metadata": {},
   "source": [
    "## Runs through time in 3D PC space"
   ]
  },
  {
   "cell_type": "code",
   "execution_count": null,
   "metadata": {},
   "outputs": [],
   "source": [
    "%matplotlib inline\n",
    "# Watch progression of time in 3D PC space (lol)\n",
    "display_names = []\n",
    "for left in np.concatenate([[0], np.where(np.diff(stimnums))[0]]):\n",
    "    name = stimnames[left]\n",
    "    if name not in display_names:\n",
    "        display_names.append(name)\n",
    "\n",
    "throughTime = projections[:,0].reshape((10,1))\n",
    "labelsthroughTime = [stimnums[0].copy()]\n",
    "for i in range(projections.shape[1]-1):\n",
    "    fig = plt.figure(figsize=(22,10))\n",
    "    ax = fig.add_subplot(111, projection='3d')\n",
    "    # Get rid of colored axes planes\n",
    "    # First remove fill\n",
    "#     ax.xaxis.pane.fill = False\n",
    "#     ax.yaxis.pane.fill = False\n",
    "#     ax.zaxis.pane.fill = False\n",
    "\n",
    "#     # Now set color to white (or whatever is \"invisible\")\n",
    "#     ax.xaxis.pane.set_edgecolor('k')\n",
    "#     ax.yaxis.pane.set_edgecolor('k')\n",
    "#     ax.zaxis.pane.set_edgecolor('k')\n",
    "#     # Bonus: To get rid of the grid as well:\n",
    "#     ax.grid(False)\n",
    "\n",
    "    ax.plot(projections[0,:i+1], projections[1,:i+1], projections[2,:i+1], c='grey', alpha=0.4, linewidth=1)\n",
    "    ax.scatter(projections[0,0], projections[1,0], projections[2,0], marker='*', c='green', s=100) # start timepoint\n",
    "    stimScatterthroughTime = ax.scatter(projections[0,:i+1], projections[1,:i+1], projections[2,:i+1], '.', c=stimnums[:i+1], cmap='Dark2',vmax=stimnums.max(), s=30, alpha=0.4)\n",
    "    ax.legend(stimScatter.legend_elements()[0], display_names)\n",
    "    ax.scatter(projections[0,i], projections[1,i], projections[2,i], '.', c='red', s=30)\n",
    "    ax.set_xlabel('First Principal Component', fontsize=10)\n",
    "    ax.set_ylabel('Second Principal Component', fontsize=10)\n",
    "    ax.set_zlabel('Third Principal Component', fontsize=10)\n",
    "    #throughTime = np.hstack((throughTime, projections[:,i+1].reshape((10,1))))\n",
    "    #labelsthroughTime.append(stimnums[i+1])\n",
    "    #if throughTime.shape[1] >= 100:\n",
    "    #    throughTime = throughTime[:,-1].reshape((throughTime.shape[0],1))\n",
    "    #    labelsthroughTime = [stimnums[i+1].copy()]\n",
    "    display.clear_output(wait=True)\n",
    "    display.display(pl.gcf())\n",
    "    time.sleep(0.00001)\n",
    "    plt.close(fig)"
   ]
  },
  {
   "cell_type": "markdown",
   "metadata": {},
   "source": [
    "## Run through time with running speed"
   ]
  },
  {
   "cell_type": "code",
   "execution_count": null,
   "metadata": {
    "scrolled": false
   },
   "outputs": [],
   "source": [
    "%matplotlib inline\n",
    "\n",
    "display_names = []\n",
    "for left in np.concatenate([[0], np.where(np.diff(stimnums))[0]]):\n",
    "    name = stimnames[left]\n",
    "    if name not in display_names:\n",
    "        display_names.append(name)\n",
    "\n",
    "throughTime = projections[:,0].reshape((10,1))\n",
    "labelsthroughTime = [stimnums[0].copy()]\n",
    "for i in range(projections.shape[1]-1):\n",
    "    fig, ax = plt.subplots(nrows=2, ncols = 1, figsize=(22,10))\n",
    "    gs = gridspec.GridSpec(2, 1,height_ratios=[1,1])\n",
    "    ax1 = plt.subplot(gs[0])\n",
    "    ax2 = plt.subplot(gs[1])\n",
    "    ax1 = fig.add_subplot(211, projection='3d')\n",
    "\n",
    "#     ax1.xaxis.pane.fill = False\n",
    "#     ax1.yaxis.pane.fill = False\n",
    "#     ax1.zaxis.pane.fill = False\n",
    "#     ax1.xaxis.pane.set_edgecolor('w')\n",
    "#     ax1.yaxis.pane.set_edgecolor('w')\n",
    "#     ax1.zaxis.pane.set_edgecolor('w')\n",
    "#     ax1.grid(False)\n",
    "#     ax1.set_facecolor('black')\n",
    "#     ax2.set_facecolor('black')\n",
    "    \n",
    "    ax1.plot(projections[0,:i+1], projections[1,:i+1], projections[2,:i+1], c='grey', alpha=0.4, linewidth=1)\n",
    "    ax1.scatter(projections[0,0], projections[1,0], projections[2,0], marker='*', c='green', s=100) # start timepoint\n",
    "    stimScatterthroughTime = ax1.scatter(projections[0,:i+1], projections[1,:i+1], projections[2,:i+1], '.', c=stimnums[:i+1], cmap='tab10', vmax=stimnums.max(), s=30, alpha=0.5)\n",
    "    ax1.legend(stimScatter.legend_elements()[0], display_names)\n",
    "    ax1.scatter(projections[0,i], projections[1,i], projections[2,i], '.', c='red', s=30)\n",
    "    ax1.set_xlabel('First Principal Component', fontsize=10)\n",
    "    ax1.set_ylabel('Second Principal Component', fontsize=10)\n",
    "    ax1.set_zlabel('Third Principal Component', fontsize=10)\n",
    "\n",
    "    ax2.plot(running[:i+1], c='k')\n",
    "    ax2.set_xlim(0,len(running))\n",
    "    ax2.set_ylabel('Running Speed')\n",
    "    #fig.savefig('./buzsaki_video/PCAthroughTime_' + str(i).zfill(3) + '.png', dpi=80)\n",
    "    \n",
    "    display.clear_output(wait=True)\n",
    "    display.display(pl.gcf())\n",
    "    time.sleep(0.000000001)\n",
    "    plt.close(fig)"
   ]
  },
  {
   "cell_type": "markdown",
   "metadata": {},
   "source": [
    "## Correlation between PC1 and Running"
   ]
  },
  {
   "cell_type": "code",
   "execution_count": null,
   "metadata": {},
   "outputs": [],
   "source": [
    "%matplotlib inline\n",
    "x, y = -projections[0,:], running\n",
    "slope, intercept, r_value, p_value, std_err = stats.linregress(x,y)\n",
    "line = slope*x+intercept\n",
    "# Calculate the point density\n",
    "xy = np.vstack([x,y])\n",
    "z = gaussian_kde(xy)(xy)\n",
    "fig, ax = plt.subplots(figsize=(15,10))\n",
    "scat = ax.scatter(x, y, c=z, s=50, edgecolor='', cmap='YlGnBu_r')\n",
    "plt.colorbar(scat)\n",
    "plt.plot(x,y,'o', x, line, markersize=0, c='black', linewidth=3)\n",
    "plt.title(brainRegion + ' Session ' + sessions[sesh] + \" ; r = \" + str(r_value.round(3)), fontsize=20)\n",
    "plt.ylabel('Running', fontsize=20)\n",
    "plt.xlabel('PC1', fontsize=20)\n",
    "plt.show()\n",
    "#fog.savefig('./buzsaki_plots/' + brainRegion + '_session_' + sessions[sesh] + 'PC1vsRunning.png')\n",
    "#sns.regplot(x=-projections[0,:], y=running, marker='.').set_title('r = ' + str(np.corrcoef(-projections[0,:], running)[1,0]), c='white')"
   ]
  },
  {
   "cell_type": "markdown",
   "metadata": {},
   "source": [
    "## Plot histogram of correlations between each cell's firing rate & running speed"
   ]
  },
  {
   "cell_type": "code",
   "execution_count": null,
   "metadata": {},
   "outputs": [],
   "source": [
    "plt.hist(np.linalg.lstsq(rates[:,FSUs.astype(bool)], running.reshape(-1,1))[0],20, alpha=0.3, color='red')\n",
    "plt.hist(np.linalg.lstsq(rates[:,RSUs.astype(bool)], running.reshape(-1,1))[0],20, alpha=0.3, color='blue')\n",
    "plt.show()\n",
    "#print(np.mean(np.linalg.lstsq(rates, running.reshape(-1,1))[0]))"
   ]
  },
  {
   "cell_type": "markdown",
   "metadata": {},
   "source": [
    "###  Run if PCA is collapsed across time (so each data point is cells)"
   ]
  },
  {
   "cell_type": "code",
   "execution_count": null,
   "metadata": {},
   "outputs": [],
   "source": [
    "fig = plt.figure(figsize=(22,10))\n",
    "ax = fig.add_subplot(111, projection='3d')\n",
    "# Scatter colored by cell type\n",
    "ax.scatter(projections[0,:], projections[1,:], projections[2,:], c=FSUs, cmap='BrBG', alpha=0.5, linewidth=1)\n",
    "ax.set_xlabel('First Principal Component', fontsize=10)\n",
    "ax.set_ylabel('Second Principal Component', fontsize=10)\n",
    "ax.set_zlabel('Third Principal Component', fontsize=10)\n",
    "FSU_patch = mpatches.Patch(color='teal', label='FSU')\n",
    "RSU_patch = mpatches.Patch(color='saddlebrown', label='RSU')\n",
    "plt.legend(handles=[FSU_patch, RSU_patch], loc='upper right')\n",
    "plt.show()"
   ]
  },
  {
   "cell_type": "code",
   "execution_count": null,
   "metadata": {},
   "outputs": [],
   "source": []
  }
 ],
 "metadata": {
  "kernelspec": {
   "display_name": "Python 3",
   "language": "python",
   "name": "python3"
  },
  "language_info": {
   "codemirror_mode": {
    "name": "ipython",
    "version": 3
   },
   "file_extension": ".py",
   "mimetype": "text/x-python",
   "name": "python",
   "nbconvert_exporter": "python",
   "pygments_lexer": "ipython3",
   "version": "3.7.3"
  },
  "varInspector": {
   "cols": {
    "lenName": 16,
    "lenType": 16,
    "lenVar": 40
   },
   "kernels_config": {
    "python": {
     "delete_cmd_postfix": "",
     "delete_cmd_prefix": "del ",
     "library": "var_list.py",
     "varRefreshCmd": "print(var_dic_list())"
    },
    "r": {
     "delete_cmd_postfix": ") ",
     "delete_cmd_prefix": "rm(",
     "library": "var_list.r",
     "varRefreshCmd": "cat(var_dic_list()) "
    }
   },
   "types_to_exclude": [
    "module",
    "function",
    "builtin_function_or_method",
    "instance",
    "_Feature"
   ],
   "window_display": false
  }
 },
 "nbformat": 4,
 "nbformat_minor": 4
}

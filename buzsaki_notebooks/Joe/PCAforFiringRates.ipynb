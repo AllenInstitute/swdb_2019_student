{
 "cells": [
  {
   "cell_type": "code",
   "execution_count": null,
   "metadata": {},
   "outputs": [],
   "source": [
    "import os\n",
    "import math\n",
    "import numpy as np\n",
    "from numpy import genfromtxt\n",
    "import pandas as pd\n",
    "import matplotlib.pyplot as plt\n",
    "import matplotlib.patches as mpatches\n",
    "from mpl_toolkits import mplot3d\n",
    "from numpy import random as rd\n",
    "import time\n",
    "import pylab as pl\n",
    "from IPython import display\n",
    "import holoviews as hv\n",
    "from holoviews import dim, opts\n",
    "hv.notebook_extension('bokeh')\n",
    "from IPython.core.display import display, HTML\n",
    "display(HTML(\"<style>.container { width:90% !important; }</style>\"))"
   ]
  },
  {
   "cell_type": "markdown",
   "metadata": {},
   "source": [
    "## Load units"
   ]
  },
  {
   "cell_type": "code",
   "execution_count": null,
   "metadata": {},
   "outputs": [],
   "source": [
    "brainRegion = 'VISp'\n",
    "sessions = []\n",
    "for file in os.listdir('./buzsaki_data/'):\n",
    "    if brainRegion in file:\n",
    "        if 'firingrates' in file:\n",
    "            sessions.append(file.split('session_')[1][:9])\n",
    "\n",
    "sesh = 2\n",
    "for file in os.listdir('./buzsaki_data/'):\n",
    "    if brainRegion in file:\n",
    "        if sessions[sesh] in file:\n",
    "            if 'firingrates' in file:\n",
    "                units = pd.read_csv('./buzsaki_data/' + file)\n",
    "                unit_id = units.iloc[:,0]\n",
    "                cell_type = units.iloc[:,1]\n",
    "                firingRates = units.iloc[:,2:].to_numpy()\n",
    "            elif 'runningSpeed' in file:\n",
    "                running = np.genfromtxt('./buzsaki_data/' + file)\n",
    "            elif 'labels' in file:\n",
    "                stimnums = np.genfromtxt('./buzsaki_data/' + file)\n",
    "            elif 'labelNames' in file:\n",
    "                stimnames = np.genfromtxt('./buzsaki_data/' + file, dtype=str)\n",
    "\n",
    "firstNonNaNindex = np.where(np.isnan(running))[0][-1] + 1\n",
    "firingRates = firingRates[:,firstNonNaNindex:len(running)]\n",
    "stimnums = stimnums[firstNonNaNindex:len(running)]\n",
    "stimnames = stimnames[firstNonNaNindex:len(running)]\n",
    "running = running[firstNonNaNindex:]"
   ]
  },
  {
   "cell_type": "code",
   "execution_count": null,
   "metadata": {},
   "outputs": [],
   "source": [
    "%matplotlib inline\n",
    "FSUs = np.zeros(firingRates.shape[0])\n",
    "RSUs = np.zeros(firingRates.shape[0])\n",
    "for j in range(firingRates.shape[0]):\n",
    "    if cell_type[j] == 'FSU':\n",
    "        FSUs[j] = 1\n",
    "    else:\n",
    "        RSUs[j] = 1\n",
    "\n",
    "# Plot all currents as heatmap\n",
    "plt.figure(figsize=(25,5))\n",
    "plt.imshow(firingRates, aspect='auto', cmap='viridis')\n",
    "plt.colorbar()\n",
    "plt.show()\n",
    "\n",
    "# Plot individual currents\n",
    "plt.figure(figsize=(20,8))\n",
    "for i in range(5):\n",
    "    plt.plot(firingRates[i,:] + i*firingRates.max()/10, linewidth=1)\n",
    "plt.ylabel(\"Current\")\n",
    "plt.xlabel(\"Time\")\n",
    "plt.show()"
   ]
  },
  {
   "cell_type": "markdown",
   "metadata": {},
   "source": [
    "## Calculate covariance matrix and eigenvalues/vectors\n",
    "> ### choose number of dimensions to create projection of"
   ]
  },
  {
   "cell_type": "code",
   "execution_count": null,
   "metadata": {},
   "outputs": [],
   "source": [
    "rates = firingRates.T\n",
    "rates -= np.mean(rates, axis=0)\n",
    "covMat = (1.0/(rates.shape[0]-1))*(rates.T @ rates) # covariance matrix\n",
    "evalues, evectors = np.linalg.eig(covMat) # eigenvalues and eigenvectors\n",
    "numProjections = 10 # number of dimensions\n",
    "projections = np.zeros((numProjections,rates.shape[0]))\n",
    "for x in range(numProjections):\n",
    "    projections[x,:] = np.dot(rates, evectors.T[x]) # projections of principal components onto firing rates\n",
    "#%matplotlib inline\n",
    "#plt.figure(figsize=(10,5))\n",
    "#plt.scatter(x=np.arange(len(evalues)), y=evalues, marker='o', s=10)"
   ]
  },
  {
   "cell_type": "code",
   "execution_count": null,
   "metadata": {},
   "outputs": [],
   "source": [
    "plt.figure(figsize=(20,5))\n",
    "plt.scatter(np.arange(len(evalues)), evalues/np.sum(evalues))\n",
    "plt.show()"
   ]
  },
  {
   "cell_type": "code",
   "execution_count": null,
   "metadata": {},
   "outputs": [],
   "source": [
    "numvectors = 5\n",
    "fig, ax = plt.subplots(nrows=numvectors, ncols=1, figsize=(20,8))\n",
    "for n in range(numvectors):\n",
    "    ax[n].plot(-evectors[:,n])\n",
    "fig.show()"
   ]
  },
  {
   "cell_type": "code",
   "execution_count": null,
   "metadata": {
    "scrolled": false
   },
   "outputs": [],
   "source": [
    "%matplotlib notebook\n",
    "\n",
    "display_names = []\n",
    "for left in np.concatenate([[0], np.where(np.diff(stimnums))[0]]):\n",
    "    name = stimnames[left]\n",
    "    if name not in display_names:\n",
    "        display_names.append(name)\n",
    "\n",
    "fig = plt.figure(figsize=(20,10))\n",
    "ax = fig.add_subplot(111, projection='3d')\n",
    "ax.plot(projections[0,:], projections[1,:], projections[2,:], c='grey', alpha=0.5, linewidth=1)\n",
    "#scatter = ax.scatter(projections[0,:], projections[1,:], projections[2,:], '.', c=stimnums, cmap='Dark2', s=10, alpha=0.5)\n",
    "#ax.legend(scatter.legend_elements()[0], display_names)\n",
    "#ax.scatter(projections[0,:], projections[1,:], projections[2,:], '.', c=running, s=10, alpha=1)\n",
    "ax.scatter(projections[0,0], projections[1,0], projections[2,0], marker='*', c='green', s=100) # start\n",
    "ax.scatter(projections[0,-1], projections[1,-1], projections[2,-1], marker='*', c='red', s=100) # end\n",
    "ax.set_xlabel('First Principal Component', fontsize=10)\n",
    "ax.set_ylabel('Second Principal Component', fontsize=10)\n",
    "ax.set_zlabel('Third Principal Component', fontsize=10)\n",
    "#FSU_patch = mpatches.Patch(color='teal', label='FSU')\n",
    "#RSU_patch = mpatches.Patch(color='saddlebrown', label='RSU')\n",
    "#plt.legend(handles=[FSU_patch, RSU_patch], loc='upper right')\n",
    "plt.show()"
   ]
  },
  {
   "cell_type": "code",
   "execution_count": null,
   "metadata": {},
   "outputs": [],
   "source": []
  }
 ],
 "metadata": {
  "kernelspec": {
   "display_name": "Python 3",
   "language": "python",
   "name": "python3"
  },
  "language_info": {
   "codemirror_mode": {
    "name": "ipython",
    "version": 3
   },
   "file_extension": ".py",
   "mimetype": "text/x-python",
   "name": "python",
   "nbconvert_exporter": "python",
   "pygments_lexer": "ipython3",
   "version": "3.7.3"
  },
  "varInspector": {
   "cols": {
    "lenName": 16,
    "lenType": 16,
    "lenVar": 40
   },
   "kernels_config": {
    "python": {
     "delete_cmd_postfix": "",
     "delete_cmd_prefix": "del ",
     "library": "var_list.py",
     "varRefreshCmd": "print(var_dic_list())"
    },
    "r": {
     "delete_cmd_postfix": ") ",
     "delete_cmd_prefix": "rm(",
     "library": "var_list.r",
     "varRefreshCmd": "cat(var_dic_list()) "
    }
   },
   "types_to_exclude": [
    "module",
    "function",
    "builtin_function_or_method",
    "instance",
    "_Feature"
   ],
   "window_display": false
  }
 },
 "nbformat": 4,
 "nbformat_minor": 4
}

{
 "cells": [
  {
   "cell_type": "markdown",
   "metadata": {},
   "source": [
    "## Load necessary libraries and paths"
   ]
  },
  {
   "cell_type": "code",
   "execution_count": null,
   "metadata": {},
   "outputs": [],
   "source": [
    "import os\n",
    "import sys\n",
    "sys.path.append('../../swdb_2019_tools')\n",
    "import spikeutils\n",
    "import numpy as np\n",
    "import matplotlib.pyplot as plt\n",
    "import pandas as pd\n",
    "from scipy.ndimage.filters import gaussian_filter1d\n",
    "from IPython.core.display import display, HTML\n",
    "display(HTML(\"<style>.container { width:90% !important; }</style>\"))\n",
    "\n",
    "from allensdk.brain_observatory.ecephys.ecephys_project_cache import EcephysProjectCache\n",
    "from allensdk.brain_observatory.ecephys import ecephys_session\n",
    "%matplotlib inline\n",
    "\n",
    "# fix slow autocomplete\n",
    "%config Completer.use_jedi = False\n",
    "\n",
    "import platform\n",
    "platstring = platform.platform()\n",
    "\n",
    "if 'Darwin' in platstring:\n",
    "    # OS X \n",
    "    data_root = \"/Volumes/Brain2019/\"\n",
    "elif 'Windows'  in platstring:\n",
    "    # Windows (replace with the drive letter of USB drive)\n",
    "    data_root = \"E:/\"\n",
    "elif ('amzn1' in platstring):\n",
    "    # then on AWS\n",
    "    data_root = \"/data/\"\n",
    "else:\n",
    "    # then your own linux platform\n",
    "    # EDIT location where you mounted hard drive\n",
    "    data_root = \"/media/$USERNAME/Brain2019/\"\n",
    "\n",
    "manifest_path = os.path.join(data_root,\n",
    "                             \"dynamic-brain-workshop/visual_coding_neuropixels/2019/manifest.json\")\n",
    "cache = EcephysProjectCache.fixed(manifest=manifest_path)\n",
    "sessions = cache.get_sessions()\n",
    "\n",
    "from scipy.interpolate import RegularGridInterpolator"
   ]
  },
  {
   "cell_type": "markdown",
   "metadata": {},
   "source": [
    "## Choose a brain region. This will acquire all sessions with the given brain region\n",
    "> ### Brain Region Acronyms: CA, DG, MB, TH, VISal, VISam, VISl, VISp, VISpm, VISrl, None"
   ]
  },
  {
   "cell_type": "code",
   "execution_count": null,
   "metadata": {},
   "outputs": [],
   "source": [
    "# Choose all the sessions that have the given brain region\n",
    "brainRegion = 'MB'\n",
    "sessionsToUse = sessions[[np.isin(brainRegion, x) for x in sessions.structure_acronyms]]\n",
    "sessionsToUse"
   ]
  },
  {
   "cell_type": "markdown",
   "metadata": {},
   "source": [
    "## Get sample session from above sessions and bin/smooth all cells from specified brain region to see output"
   ]
  },
  {
   "cell_type": "code",
   "execution_count": null,
   "metadata": {},
   "outputs": [],
   "source": [
    "# Get sample session to try binning and smoothing on\n",
    "session = cache.get_session_data(sessionsToUse.index[0])\n",
    "units = session.units\n",
    "regionUnits = units[units.structure_acronym == brainRegion]\n",
    "spike_times = session.spike_times\n",
    "regionSpikes = {unit : spike_times[unit] for unit in regionUnits.index}\n",
    "unitNames = np.asarray([n for n in regionSpikes.keys()])\n",
    "toBin = [sp for sp in regionSpikes.values()]\n",
    "startTime = 0\n",
    "endTime = np.max([np.max(x) for x in spike_times.values()]) # Last spike across all cells in this session\n",
    "binsize = 1000\n",
    "binned = spikeutils.spiketimes_to_2D_rates(toBin, startime=startTime, stoptime=endTime, binsize=binsize)\n",
    "sigma = 1\n",
    "smoothed = np.zeros(binned.shape)\n",
    "for cell in range(binned.shape[0]):\n",
    "    smoothed[cell,:] = gaussian_filter1d(binned[cell,:], sigma=sigma) # Smoothed firing rate signal\n",
    "\n",
    "# Plot before and after smoothing\n",
    "fig, ax = plt.subplots(nrows=2,ncols=1,figsize=(18,10))\n",
    "for i in range(5):\n",
    "    maxVal = np.max([smoothed.max(), binned.max()])\n",
    "    ax[0].plot(binned[i,:] + i*maxVal)\n",
    "    ax[0].set_title('Before Smoothing', fontsize=20)\n",
    "    ax[1].plot(smoothed[i,:] + i*maxVal)\n",
    "    ax[1].set_title('After Smoothing', fontsize=20)"
   ]
  },
  {
   "cell_type": "markdown",
   "metadata": {},
   "source": [
    "## Batch process spike times for all the sessions with the given brain region and create firing rates\n",
    "> ### Specify whether you would like the tracesToSave to be 'binned', 'smoothed', or 'normalized'\n",
    "- #### *binned*: binned based on binsize\n",
    "- #### *smoothed*: binned as above and further smoothed based on sigma\n",
    "- #### *normalized*: binned, smoothed, and then noramlized to maximum of 1"
   ]
  },
  {
   "cell_type": "code",
   "execution_count": null,
   "metadata": {},
   "outputs": [],
   "source": [
    "tracesToSave = 'binned'\n",
    "startTime = 0\n",
    "endTime = np.max([np.max(x) for x in spike_times.values()]) # Last spike of all cells in this session\n",
    "binsize = 1000\n",
    "sigma = 1"
   ]
  },
  {
   "cell_type": "code",
   "execution_count": null,
   "metadata": {},
   "outputs": [],
   "source": [
    "for sesh in sessionsToUse.index:\n",
    "    session = cache.get_session_data(sesh)\n",
    "    units = session.units\n",
    "    regionUnits = units[units.structure_acronym == brainRegion]\n",
    "    spike_times = session.spike_times\n",
    "    spike_times = {unit : spike_times[unit] for unit in regionUnits.index}\n",
    "    unitNames = np.asarray([n for n in spike_times.keys()])\n",
    "    toBin = [sp for sp in spike_times.values()]\n",
    "    \n",
    "    cellType = []\n",
    "    # Create RSU / FSU split\n",
    "    for i in unitNames:\n",
    "        if regionUnits[regionUnits.index.values == i].waveform_duration.values[0] < 0.4:\n",
    "            cellType = np.append(cellType, 'FSU')\n",
    "        else:\n",
    "            cellType = np.append(cellType, 'RSU')\n",
    "    cellTypeDF = pd.DataFrame(data={'CellType': cellType}, index=unitNames.astype(int))\n",
    "    \n",
    "    # Bin spike times to create firing rates\n",
    "    startTime = startTime\n",
    "    endTime = endTime\n",
    "    binsize = binsize\n",
    "    binned = spikeutils.spiketimes_to_2D_rates(toBin, startime=startTime,\n",
    "                                               stoptime=endTime, binsize=binsize)\n",
    "    \n",
    "    # Smooth firing rates\n",
    "    sigma = sigma\n",
    "    smoothed = np.zeros(binned.shape)\n",
    "    for cell in range(binned.shape[0]):\n",
    "        smoothed[cell,:] = gaussian_filter1d(binned[cell,:], sigma=sigma)\n",
    "\n",
    "    # Normalize firing rates to max of 1\n",
    "    normalized = smoothed.copy()\n",
    "    for cell in range(smoothed.shape[0]):\n",
    "        maxVal = np.max(smoothed[cell,:])\n",
    "        if maxVal != 0:\n",
    "            normalized[cell,:] = smoothed[cell,:] / maxVal\n",
    "    # Save\n",
    "    if tracesToSave == 'binned':\n",
    "        unitsToOutput = pd.concat([cellTypeDF, pd.DataFrame(binned, index=unitNames.astype(int))], axis=1)\n",
    "        unitsToOutput.to_csv(('./buzsaki_data/' + brainRegion + '_firingrates' + '_session_' + str(sesh) + \"_binned\" +\n",
    "                      str(startTime) + \"to\" + str(endTime) + \"Secs\" + str(binsize) + \"binsize\" + '.csv'))\n",
    "    elif tracesToSave == 'smoothed':\n",
    "        unitsToOutput = pd.concat([cellTypeDF, pd.DataFrame(smoothed, index=unitNames.astype(int))], axis=1)\n",
    "        unitsToOutput.to_csv(('./buzsaki_data/' + brainRegion + '_firingrates' + '_session_' + str(sesh) + \"_binned\" +\n",
    "                              str(startTime) + \"to\" + str(endTime) + \"Secs\" + str(binsize) + \"binsize\" + '_GaussianSmoothed_sigma' + str(sigma) + '.csv'))\n",
    "    elif tracesToSave == 'normalized':\n",
    "        unitsToOutput = pd.concat([cellTypeDF, pd.DataFrame(normalized, index=unitNames.astype(int))], axis=1)\n",
    "        unitsToOutput.to_csv(('./buzsaki_data/' + brainRegion + '_firingrates' + '_session_' + str(sesh) + \"_binned\" +\n",
    "                              str(startTime) + \"to\" + str(endTime) + \"Secs\" + str(binsize) + \"binsize\" + '_GaussianSmoothed_sigma' + str(sigma) + 'normalized' + '.csv'))\n",
    "    else:\n",
    "        raise Exception('Did not appropriately specify which data to save in tracesToSave. This value should be binned, smoothed, or normalized as a string.')"
   ]
  },
  {
   "cell_type": "markdown",
   "metadata": {},
   "source": [
    "## Batch process stimulus epochs and running times\n",
    "> ### Saves labels (stimulus epochs as ints), labelNames (stimulus epochs as strings), and runningSpeed (vector of floats)"
   ]
  },
  {
   "cell_type": "code",
   "execution_count": null,
   "metadata": {},
   "outputs": [],
   "source": [
    "for sesh in sessionsToUse.index:\n",
    "    session = cache.get_session_data(sesh)\n",
    "    stim_epochs = session.get_stimulus_epochs()\n",
    "    epochlabels, epochuniques = pd.factorize(stim_epochs.stimulus_name)\n",
    "    #assign labels\n",
    "    numlabels = len(np.unique(stim_epochs.stimulus_name))\n",
    "    numepochs = len(stim_epochs.start_time)\n",
    "    labels = np.zeros((int(endTime*1000/binsize)))\n",
    "    for i in range(numepochs):\n",
    "        epochstart = (stim_epochs.start_time[i]*1000)/binsize\n",
    "        epochend = (stim_epochs.stop_time[i]*1000)/binsize\n",
    "        stimname = stim_epochs.stimulus_name[i]\n",
    "        labels[int(epochstart):int(epochend)] = np.where(epochuniques==stimname)[0][0]\n",
    "    epochmapping = {key:value for key, value in zip(np.arange(len(epochuniques)), epochuniques)}\n",
    "    labels = labels.astype(int)\n",
    "    labels_asNames = ['x']\n",
    "    for i in labels:\n",
    "        labels_asNames.append(epochmapping[i])\n",
    "    labels_asNames = labels_asNames[1:]\n",
    "    \n",
    "    running_speed = session.running_speed\n",
    "    runDiffTimes = np.asarray([(e - s)/2 + s for s,e in zip(running_speed.start_time,\n",
    "                                                            running_speed.end_time)])\n",
    "    interpolator = RegularGridInterpolator([runDiffTimes],\n",
    "                                           running_speed.velocity.values)\n",
    "    runTimeSeries = np.append(np.full(int(np.amin(runDiffTimes)), np.nan),\n",
    "                              interpolator(np.arange(np.amin(runDiffTimes),np.amax(runDiffTimes),1)))\n",
    "    description = \"CA_stim_epochs_nums\"\n",
    "    np.savetxt(('./buzsaki_data/' + brainRegion + '_labels' + '_session_' + str(sesh) + \"_binned\" + str(startTime) + \"to\" + str(endTime) + \"Secs\" + str(binsize) + \"binsize\" + '.csv'),\n",
    "               labels, delimiter=',', fmt='%s')\n",
    "    np.savetxt(('./buzsaki_data/' + brainRegion + '_labelNames' + '_session_' + str(sesh) + \"_binned\" + str(startTime) + \"to\" + str(endTime) + \"Secs\" + str(binsize) + \"binsize\" + '.csv'),\n",
    "               labels_asNames, delimiter=',', fmt='%s')\n",
    "    np.savetxt(('./buzsaki_data/' + brainRegion + '_runningSpeed' + '_session_' + str(sesh) + \"_binned\" + str(startTime) + \"to\" + str(endTime) + \"Secs\" + str(binsize) + \"binsize\" + '.csv'),\n",
    "               runTimeSeries, delimiter=',', fmt='%s')"
   ]
  },
  {
   "cell_type": "code",
   "execution_count": null,
   "metadata": {},
   "outputs": [],
   "source": []
  }
 ],
 "metadata": {
  "kernelspec": {
   "display_name": "Python 3",
   "language": "python",
   "name": "python3"
  },
  "language_info": {
   "codemirror_mode": {
    "name": "ipython",
    "version": 3
   },
   "file_extension": ".py",
   "mimetype": "text/x-python",
   "name": "python",
   "nbconvert_exporter": "python",
   "pygments_lexer": "ipython3",
   "version": "3.7.3"
  },
  "varInspector": {
   "cols": {
    "lenName": 16,
    "lenType": 16,
    "lenVar": 40
   },
   "kernels_config": {
    "python": {
     "delete_cmd_postfix": "",
     "delete_cmd_prefix": "del ",
     "library": "var_list.py",
     "varRefreshCmd": "print(var_dic_list())"
    },
    "r": {
     "delete_cmd_postfix": ") ",
     "delete_cmd_prefix": "rm(",
     "library": "var_list.r",
     "varRefreshCmd": "cat(var_dic_list()) "
    }
   },
   "types_to_exclude": [
    "module",
    "function",
    "builtin_function_or_method",
    "instance",
    "_Feature"
   ],
   "window_display": false
  }
 },
 "nbformat": 4,
 "nbformat_minor": 4
}

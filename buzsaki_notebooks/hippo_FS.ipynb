{
 "cells": [
  {
   "cell_type": "code",
   "execution_count": 1,
   "metadata": {},
   "outputs": [],
   "source": [
    "import os\n",
    "import numpy as np\n",
    "import matplotlib.pyplot as plt\n",
    "import pandas as pd\n",
    "\n",
    "from allensdk.brain_observatory.ecephys.ecephys_project_cache import EcephysProjectCache\n",
    "from allensdk.brain_observatory.ecephys import ecephys_session\n",
    "%matplotlib inline\n",
    "\n",
    "# fix slow autocomplete\n",
    "%config Completer.use_jedi = False"
   ]
  },
  {
   "cell_type": "code",
   "execution_count": 2,
   "metadata": {},
   "outputs": [],
   "source": [
    "import platform\n",
    "platstring = platform.platform()\n",
    "\n",
    "if 'Darwin' in platstring:\n",
    "    # OS X \n",
    "    data_root = \"/Volumes/Brain2019/\"\n",
    "elif 'Windows'  in platstring:\n",
    "    # Windows (replace with the drive letter of USB drive)\n",
    "    data_root = \"E:/\"\n",
    "elif ('amzn1' in platstring):\n",
    "    # then on AWS\n",
    "    data_root = \"/data/\"\n",
    "else:\n",
    "    # then your own linux platform\n",
    "    # EDIT location where you mounted hard drive\n",
    "    data_root = \"/media/$USERNAME/Brain2019/\"\n",
    "\n",
    "manifest_path = os.path.join(data_root, \"dynamic-brain-workshop/visual_coding_neuropixels/2019/manifest.json\")"
   ]
  },
  {
   "cell_type": "code",
   "execution_count": 3,
   "metadata": {},
   "outputs": [],
   "source": [
    "cache = EcephysProjectCache.fixed(manifest=manifest_path)\n",
    "sessions = cache.get_sessions()"
   ]
  },
  {
   "cell_type": "code",
   "execution_count": 4,
   "metadata": {},
   "outputs": [],
   "source": [
    "hcareas = ['CA','DG']\n",
    "\n",
    "hc_sessions = []\n",
    "for i in np.arange(len(sessions.structure_acronyms)):\n",
    "    sessionid = sessions.structure_acronyms.index[i]\n",
    "    if any(elem in sessions.structure_acronyms[sessionid] for elem in hcareas):\n",
    "        hc_sessions.append(sessionid)\n",
    "        \n",
    "# for i, sesh in enumerate(hc_sessions):\n",
    "#     print(sessions.structure_acronyms[sesh])"
   ]
  },
  {
   "cell_type": "code",
   "execution_count": 5,
   "metadata": {},
   "outputs": [],
   "source": [
    "# sesh_id = hc_sessions[0]\n",
    "# session = cache.get_session_data(sesh_id)\n",
    "# seshunits = session.units\n",
    "# CA_units = seshunits[seshunits['structure_acronym'] == 'CA']\n",
    "# DG_units = seshunits[seshunits['structure_acronym'] == 'DG']"
   ]
  },
  {
   "cell_type": "code",
   "execution_count": 6,
   "metadata": {},
   "outputs": [],
   "source": [
    "allunits = cache.get_units(hc_sessions)"
   ]
  },
  {
   "cell_type": "code",
   "execution_count": 7,
   "metadata": {},
   "outputs": [],
   "source": [
    "channelinfo = cache.get_channels()"
   ]
  },
  {
   "cell_type": "code",
   "execution_count": 8,
   "metadata": {},
   "outputs": [],
   "source": [
    "ca_channelinfo = channelinfo[channelinfo.manual_structure_acronym == \"CA\"]\n",
    "CA_units = allunits[allunits.peak_channel_id.isin(ca_channelinfo.index)]"
   ]
  },
  {
   "cell_type": "code",
   "execution_count": 9,
   "metadata": {},
   "outputs": [],
   "source": [
    "dg_channelinfo = channelinfo[channelinfo.manual_structure_acronym == \"DG\"]\n",
    "DG_units = allunits[allunits.peak_channel_id.isin(dg_channelinfo.index)]"
   ]
  },
  {
   "cell_type": "code",
   "execution_count": 10,
   "metadata": {},
   "outputs": [],
   "source": [
    "# plt.hist(CA_units.snr, bins=30)\n",
    "# plt.title('SNR')"
   ]
  },
  {
   "cell_type": "code",
   "execution_count": 11,
   "metadata": {},
   "outputs": [],
   "source": [
    "# plt.hist(CA_units.isi_violations, bins=30)\n",
    "# plt.title('ISI violations')"
   ]
  },
  {
   "cell_type": "code",
   "execution_count": 12,
   "metadata": {},
   "outputs": [],
   "source": [
    "good_units_ca = CA_units[(CA_units.snr>1)&(CA_units.isi_violations<0.5)]\n",
    "good_units_dg = DG_units[(DG_units.snr>1)&(DG_units.isi_violations<0.5)]"
   ]
  },
  {
   "cell_type": "code",
   "execution_count": 13,
   "metadata": {},
   "outputs": [
    {
     "data": {
      "text/plain": [
       "(2267, 899)"
      ]
     },
     "execution_count": 13,
     "metadata": {},
     "output_type": "execute_result"
    }
   ],
   "source": [
    "len(good_units_ca), len(good_units_dg)"
   ]
  },
  {
   "cell_type": "code",
   "execution_count": 14,
   "metadata": {},
   "outputs": [
    {
     "data": {
      "text/html": [
       "<div>\n",
       "<style scoped>\n",
       "    .dataframe tbody tr th:only-of-type {\n",
       "        vertical-align: middle;\n",
       "    }\n",
       "\n",
       "    .dataframe tbody tr th {\n",
       "        vertical-align: top;\n",
       "    }\n",
       "\n",
       "    .dataframe thead th {\n",
       "        text-align: right;\n",
       "    }\n",
       "</style>\n",
       "<table border=\"1\" class=\"dataframe\">\n",
       "  <thead>\n",
       "    <tr style=\"text-align: right;\">\n",
       "      <th></th>\n",
       "      <th>local_index_unit</th>\n",
       "      <th>cluster_ids</th>\n",
       "      <th>peak_channel_id</th>\n",
       "      <th>quality</th>\n",
       "      <th>snr</th>\n",
       "      <th>firing_rate</th>\n",
       "      <th>isi_violations</th>\n",
       "      <th>presence_ratio</th>\n",
       "      <th>amplitude_cutoff</th>\n",
       "      <th>isolation_distance</th>\n",
       "      <th>...</th>\n",
       "      <th>total_time_shift</th>\n",
       "      <th>has_lfp_nwb</th>\n",
       "      <th>structure_acronyms</th>\n",
       "      <th>session_type</th>\n",
       "      <th>specimen_id</th>\n",
       "      <th>genotype</th>\n",
       "      <th>gender</th>\n",
       "      <th>age_in_days</th>\n",
       "      <th>project_code</th>\n",
       "      <th>has_nwb</th>\n",
       "    </tr>\n",
       "    <tr>\n",
       "      <th>id</th>\n",
       "      <th></th>\n",
       "      <th></th>\n",
       "      <th></th>\n",
       "      <th></th>\n",
       "      <th></th>\n",
       "      <th></th>\n",
       "      <th></th>\n",
       "      <th></th>\n",
       "      <th></th>\n",
       "      <th></th>\n",
       "      <th></th>\n",
       "      <th></th>\n",
       "      <th></th>\n",
       "      <th></th>\n",
       "      <th></th>\n",
       "      <th></th>\n",
       "      <th></th>\n",
       "      <th></th>\n",
       "      <th></th>\n",
       "      <th></th>\n",
       "      <th></th>\n",
       "    </tr>\n",
       "  </thead>\n",
       "  <tbody>\n",
       "    <tr>\n",
       "      <th>914569746</th>\n",
       "      <td>55</td>\n",
       "      <td>55</td>\n",
       "      <td>849721922</td>\n",
       "      <td>good</td>\n",
       "      <td>2.620253</td>\n",
       "      <td>0.054259</td>\n",
       "      <td>0.000000</td>\n",
       "      <td>0.98</td>\n",
       "      <td>0.000494</td>\n",
       "      <td>159.865368</td>\n",
       "      <td>...</td>\n",
       "      <td>-3.777523</td>\n",
       "      <td>True</td>\n",
       "      <td>['CA', 'TH', 'VISam', None]</td>\n",
       "      <td>brain_observatory_1.1</td>\n",
       "      <td>740268986</td>\n",
       "      <td>wt</td>\n",
       "      <td>M</td>\n",
       "      <td>0.0</td>\n",
       "      <td>NeuropixelVisualCoding</td>\n",
       "      <td>True</td>\n",
       "    </tr>\n",
       "    <tr>\n",
       "      <th>914569748</th>\n",
       "      <td>56</td>\n",
       "      <td>56</td>\n",
       "      <td>849721922</td>\n",
       "      <td>good</td>\n",
       "      <td>3.257596</td>\n",
       "      <td>0.054155</td>\n",
       "      <td>0.000000</td>\n",
       "      <td>0.98</td>\n",
       "      <td>0.062166</td>\n",
       "      <td>184.330716</td>\n",
       "      <td>...</td>\n",
       "      <td>-3.777523</td>\n",
       "      <td>True</td>\n",
       "      <td>['CA', 'TH', 'VISam', None]</td>\n",
       "      <td>brain_observatory_1.1</td>\n",
       "      <td>740268986</td>\n",
       "      <td>wt</td>\n",
       "      <td>M</td>\n",
       "      <td>0.0</td>\n",
       "      <td>NeuropixelVisualCoding</td>\n",
       "      <td>True</td>\n",
       "    </tr>\n",
       "    <tr>\n",
       "      <th>914569770</th>\n",
       "      <td>67</td>\n",
       "      <td>67</td>\n",
       "      <td>849721986</td>\n",
       "      <td>good</td>\n",
       "      <td>1.490218</td>\n",
       "      <td>7.986775</td>\n",
       "      <td>0.071186</td>\n",
       "      <td>0.99</td>\n",
       "      <td>0.093998</td>\n",
       "      <td>53.216820</td>\n",
       "      <td>...</td>\n",
       "      <td>-3.777523</td>\n",
       "      <td>True</td>\n",
       "      <td>['CA', 'TH', 'VISam', None]</td>\n",
       "      <td>brain_observatory_1.1</td>\n",
       "      <td>740268986</td>\n",
       "      <td>wt</td>\n",
       "      <td>M</td>\n",
       "      <td>0.0</td>\n",
       "      <td>NeuropixelVisualCoding</td>\n",
       "      <td>True</td>\n",
       "    </tr>\n",
       "    <tr>\n",
       "      <th>914569786</th>\n",
       "      <td>75</td>\n",
       "      <td>75</td>\n",
       "      <td>849721988</td>\n",
       "      <td>good</td>\n",
       "      <td>2.004680</td>\n",
       "      <td>19.745969</td>\n",
       "      <td>0.045091</td>\n",
       "      <td>0.99</td>\n",
       "      <td>0.010465</td>\n",
       "      <td>61.303457</td>\n",
       "      <td>...</td>\n",
       "      <td>-3.777523</td>\n",
       "      <td>True</td>\n",
       "      <td>['CA', 'TH', 'VISam', None]</td>\n",
       "      <td>brain_observatory_1.1</td>\n",
       "      <td>740268986</td>\n",
       "      <td>wt</td>\n",
       "      <td>M</td>\n",
       "      <td>0.0</td>\n",
       "      <td>NeuropixelVisualCoding</td>\n",
       "      <td>True</td>\n",
       "    </tr>\n",
       "    <tr>\n",
       "      <th>914569824</th>\n",
       "      <td>94</td>\n",
       "      <td>94</td>\n",
       "      <td>849722010</td>\n",
       "      <td>good</td>\n",
       "      <td>2.490790</td>\n",
       "      <td>5.228805</td>\n",
       "      <td>0.153310</td>\n",
       "      <td>0.99</td>\n",
       "      <td>0.065138</td>\n",
       "      <td>37.921554</td>\n",
       "      <td>...</td>\n",
       "      <td>-3.777523</td>\n",
       "      <td>True</td>\n",
       "      <td>['CA', 'TH', 'VISam', None]</td>\n",
       "      <td>brain_observatory_1.1</td>\n",
       "      <td>740268986</td>\n",
       "      <td>wt</td>\n",
       "      <td>M</td>\n",
       "      <td>0.0</td>\n",
       "      <td>NeuropixelVisualCoding</td>\n",
       "      <td>True</td>\n",
       "    </tr>\n",
       "  </tbody>\n",
       "</table>\n",
       "<p>5 rows × 47 columns</p>\n",
       "</div>"
      ],
      "text/plain": [
       "           local_index_unit  cluster_ids  peak_channel_id quality       snr  \\\n",
       "id                                                                            \n",
       "914569746                55           55        849721922    good  2.620253   \n",
       "914569748                56           56        849721922    good  3.257596   \n",
       "914569770                67           67        849721986    good  1.490218   \n",
       "914569786                75           75        849721988    good  2.004680   \n",
       "914569824                94           94        849722010    good  2.490790   \n",
       "\n",
       "           firing_rate  isi_violations  presence_ratio  amplitude_cutoff  \\\n",
       "id                                                                         \n",
       "914569746     0.054259        0.000000            0.98          0.000494   \n",
       "914569748     0.054155        0.000000            0.98          0.062166   \n",
       "914569770     7.986775        0.071186            0.99          0.093998   \n",
       "914569786    19.745969        0.045091            0.99          0.010465   \n",
       "914569824     5.228805        0.153310            0.99          0.065138   \n",
       "\n",
       "           isolation_distance  ...  total_time_shift  has_lfp_nwb  \\\n",
       "id                             ...                                  \n",
       "914569746          159.865368  ...         -3.777523         True   \n",
       "914569748          184.330716  ...         -3.777523         True   \n",
       "914569770           53.216820  ...         -3.777523         True   \n",
       "914569786           61.303457  ...         -3.777523         True   \n",
       "914569824           37.921554  ...         -3.777523         True   \n",
       "\n",
       "                    structure_acronyms           session_type  specimen_id  \\\n",
       "id                                                                           \n",
       "914569746  ['CA', 'TH', 'VISam', None]  brain_observatory_1.1    740268986   \n",
       "914569748  ['CA', 'TH', 'VISam', None]  brain_observatory_1.1    740268986   \n",
       "914569770  ['CA', 'TH', 'VISam', None]  brain_observatory_1.1    740268986   \n",
       "914569786  ['CA', 'TH', 'VISam', None]  brain_observatory_1.1    740268986   \n",
       "914569824  ['CA', 'TH', 'VISam', None]  brain_observatory_1.1    740268986   \n",
       "\n",
       "           genotype  gender age_in_days            project_code  has_nwb  \n",
       "id                                                                        \n",
       "914569746        wt       M         0.0  NeuropixelVisualCoding     True  \n",
       "914569748        wt       M         0.0  NeuropixelVisualCoding     True  \n",
       "914569770        wt       M         0.0  NeuropixelVisualCoding     True  \n",
       "914569786        wt       M         0.0  NeuropixelVisualCoding     True  \n",
       "914569824        wt       M         0.0  NeuropixelVisualCoding     True  \n",
       "\n",
       "[5 rows x 47 columns]"
      ]
     },
     "execution_count": 14,
     "metadata": {},
     "output_type": "execute_result"
    }
   ],
   "source": [
    "#combine all these unit ID's into array or something iterable\n",
    "#for each unit, pull it's spike duration (less than say 0.3 ms should classify FS or RSU)\n",
    "\n",
    "good_units_ca.head()"
   ]
  },
  {
   "cell_type": "code",
   "execution_count": 15,
   "metadata": {},
   "outputs": [
    {
     "data": {
      "text/plain": [
       "Index(['local_index_unit', 'cluster_ids', 'peak_channel_id', 'quality', 'snr',\n",
       "       'firing_rate', 'isi_violations', 'presence_ratio', 'amplitude_cutoff',\n",
       "       'isolation_distance', 'l_ratio', 'd_prime', 'nn_hit_rate',\n",
       "       'nn_miss_rate', 'silhouette_score', 'max_drift', 'cumulative_drift',\n",
       "       'epoch_name_quality_metrics', 'epoch_name_waveform_metrics', 'duration',\n",
       "       'halfwidth', 'PT_ratio', 'repolarization_slope', 'recovery_slope',\n",
       "       'amplitude', 'spread', 'velocity_above', 'velocity_below',\n",
       "       'ecephys_probe_id', 'local_index_channel', 'probe_vertical_position',\n",
       "       'probe_horizontal_position', 'manual_structure_id',\n",
       "       'manual_structure_acronym', 'ecephys_session_id',\n",
       "       'global_probe_sampling_rate', 'global_probe_lfp_sampling_rate',\n",
       "       'total_time_shift', 'has_lfp_nwb', 'structure_acronyms', 'session_type',\n",
       "       'specimen_id', 'genotype', 'gender', 'age_in_days', 'project_code',\n",
       "       'has_nwb'],\n",
       "      dtype='object')"
      ]
     },
     "execution_count": 15,
     "metadata": {},
     "output_type": "execute_result"
    }
   ],
   "source": [
    "good_units_ca.columns"
   ]
  },
  {
   "cell_type": "code",
   "execution_count": 27,
   "metadata": {},
   "outputs": [],
   "source": [
    "fs_ca = good_units_ca[good_units_ca.duration<0.4]\n",
    "rsu_ca = good_units_ca[good_units_ca.duration>0.4]"
   ]
  },
  {
   "cell_type": "code",
   "execution_count": 34,
   "metadata": {},
   "outputs": [
    {
     "data": {
      "text/plain": [
       "Text(0.5, 1.0, 'CA')"
      ]
     },
     "execution_count": 34,
     "metadata": {},
     "output_type": "execute_result"
    },
    {
     "data": {
      "image/png": "[encoded data removed]",
      "text/plain": [
       "<Figure size 432x288 with 1 Axes>"
      ]
     },
     "metadata": {},
     "output_type": "display_data"
    }
   ],
   "source": [
    "plt.hist(good_units_ca.duration,bins=60)\n",
    "plt.xlim(0,2)\n",
    "plt.xlabel('Waveform Duration (s)')\n",
    "plt.ylabel('Number of units')\n",
    "plt.title('CA')"
   ]
  },
  {
   "cell_type": "code",
   "execution_count": 35,
   "metadata": {},
   "outputs": [
    {
     "data": {
      "text/plain": [
       "Text(0.5, 1.0, 'DG')"
      ]
     },
     "execution_count": 35,
     "metadata": {},
     "output_type": "execute_result"
    },
    {
     "data": {
      "image/png": "[encoded data removed]",
      "text/plain": [
       "<Figure size 432x288 with 1 Axes>"
      ]
     },
     "metadata": {},
     "output_type": "display_data"
    }
   ],
   "source": [
    "plt.hist(good_units_dg.duration,bins=60)\n",
    "plt.xlim(0,2)\n",
    "plt.xlabel('Waveform Duration (s)')\n",
    "plt.ylabel('Number of units')\n",
    "plt.title('DG')"
   ]
  },
  {
   "cell_type": "code",
   "execution_count": 32,
   "metadata": {},
   "outputs": [
    {
     "name": "stderr",
     "output_type": "stream",
     "text": [
      "/home/ec2-user/anaconda3/envs/python3/lib/python3.6/site-packages/numpy/lib/histograms.py:829: RuntimeWarning: invalid value encountered in greater_equal\n",
      "  keep = (tmp_a >= first_edge)\n",
      "/home/ec2-user/anaconda3/envs/python3/lib/python3.6/site-packages/numpy/lib/histograms.py:830: RuntimeWarning: invalid value encountered in less_equal\n",
      "  keep &= (tmp_a <= last_edge)\n"
     ]
    },
    {
     "data": {
      "text/plain": [
       "Text(0.5, 1.0, 'Recovery slope')"
      ]
     },
     "execution_count": 32,
     "metadata": {},
     "output_type": "execute_result"
    },
    {
     "data": {
      "image/png": "[encoded data removed]",
      "text/plain": [
       "<Figure size 432x288 with 1 Axes>"
      ]
     },
     "metadata": {},
     "output_type": "display_data"
    }
   ],
   "source": [
    "plt.hist(good_units_ca.recovery_slope,bins=60)\n",
    "plt.xlim(-1,0)\n",
    "plt.xlabel('Recovery slope (s)')\n",
    "plt.ylabel('Number of units')\n",
    "plt.title('DG')"
   ]
  },
  {
   "cell_type": "code",
   "execution_count": 36,
   "metadata": {},
   "outputs": [
    {
     "name": "stderr",
     "output_type": "stream",
     "text": [
      "/home/ec2-user/anaconda3/envs/python3/lib/python3.6/site-packages/numpy/lib/histograms.py:829: RuntimeWarning: invalid value encountered in greater_equal\n",
      "  keep = (tmp_a >= first_edge)\n",
      "/home/ec2-user/anaconda3/envs/python3/lib/python3.6/site-packages/numpy/lib/histograms.py:830: RuntimeWarning: invalid value encountered in less_equal\n",
      "  keep &= (tmp_a <= last_edge)\n"
     ]
    },
    {
     "data": {
      "text/plain": [
       "Text(0.5, 1.0, 'Recovery slope')"
      ]
     },
     "execution_count": 36,
     "metadata": {},
     "output_type": "execute_result"
    },
    {
     "data": {
      "image/png": "[encoded data removed]",
      "text/plain": [
       "<Figure size 432x288 with 1 Axes>"
      ]
     },
     "metadata": {},
     "output_type": "display_data"
    }
   ],
   "source": [
    "plt.hist(good_units_dg.recovery_slope,bins=60)\n",
    "plt.xlim(-1,0)\n",
    "plt.title('Recovery slope')\n"
   ]
  },
  {
   "cell_type": "code",
   "execution_count": 24,
   "metadata": {},
   "outputs": [
    {
     "name": "stderr",
     "output_type": "stream",
     "text": [
      "/home/ec2-user/anaconda3/envs/python3/lib/python3.6/site-packages/numpy/lib/histograms.py:829: RuntimeWarning: invalid value encountered in greater_equal\n",
      "  keep = (tmp_a >= first_edge)\n",
      "/home/ec2-user/anaconda3/envs/python3/lib/python3.6/site-packages/numpy/lib/histograms.py:830: RuntimeWarning: invalid value encountered in less_equal\n",
      "  keep &= (tmp_a <= last_edge)\n"
     ]
    },
    {
     "data": {
      "text/plain": [
       "Text(0.5, 1.0, 'Waveform_halfwidth')"
      ]
     },
     "execution_count": 24,
     "metadata": {},
     "output_type": "execute_result"
    },
    {
     "data": {
      "image/png": "[encoded data removed]",
      "text/plain": [
       "<Figure size 432x288 with 1 Axes>"
      ]
     },
     "metadata": {},
     "output_type": "display_data"
    }
   ],
   "source": [
    "plt.hist(good_units_ca.halfwidth,bins=60)\n",
    "plt.title('Waveform_halfwidth')"
   ]
  },
  {
   "cell_type": "markdown",
   "metadata": {},
   "source": [
    "<b>Waveform duration across dentage gyrus channels</b>"
   ]
  },
  {
   "cell_type": "code",
   "execution_count": 47,
   "metadata": {},
   "outputs": [
    {
     "data": {
      "text/plain": [
       "[<matplotlib.lines.Line2D at 0x7f67e20b36a0>]"
      ]
     },
     "execution_count": 47,
     "metadata": {},
     "output_type": "execute_result"
    },
    {
     "data": {
      "image/png": "[encoded data removed]",
      "text/plain": [
       "<Figure size 432x288 with 1 Axes>"
      ]
     },
     "metadata": {},
     "output_type": "display_data"
    }
   ],
   "source": [
    "#this is probably the wrong way to do this...skip this cell\n",
    "\n",
    "# plt.plot(np.arange(len(good_units_dg)),good_units_dg.sort_values('probe_vertical_position')['duration'])"
   ]
  },
  {
   "cell_type": "code",
   "execution_count": 60,
   "metadata": {},
   "outputs": [],
   "source": [
    "probes = good_units_dg.ecephys_probe_id.unique()"
   ]
  },
  {
   "cell_type": "code",
   "execution_count": 62,
   "metadata": {},
   "outputs": [
    {
     "name": "stdout",
     "output_type": "stream",
     "text": [
      "769322789 3\n",
      "769322793 1\n",
      "769322797 21\n",
      "810753195 5\n",
      "810753197 21\n",
      "810753199 24\n",
      "810753203 22\n",
      "792676156 36\n",
      "792676158 1\n",
      "792676160 25\n",
      "792676162 44\n",
      "768909182 5\n",
      "768909184 3\n",
      "768909186 11\n",
      "760642621 2\n",
      "760642624 5\n",
      "760642628 9\n",
      "760642631 5\n",
      "760642634 3\n",
      "760642637 15\n",
      "757968489 4\n",
      "757968491 3\n",
      "757968493 11\n",
      "757968495 9\n",
      "757968497 10\n",
      "757968499 12\n",
      "770930073 4\n",
      "770930077 35\n",
      "757988389 2\n",
      "757988391 5\n",
      "757988395 13\n",
      "757988398 17\n",
      "757904508 3\n",
      "757904513 2\n",
      "757904516 1\n",
      "757904520 8\n",
      "757904522 8\n",
      "760640083 8\n",
      "760640087 2\n",
      "760640094 31\n",
      "760640097 9\n",
      "760640104 10\n",
      "760640033 8\n",
      "760640037 6\n",
      "760640039 5\n",
      "760640043 13\n",
      "760640049 9\n",
      "760647905 5\n",
      "760647907 7\n",
      "760647909 36\n",
      "760647911 9\n",
      "760647913 5\n",
      "760647915 13\n",
      "768908579 8\n",
      "768908582 5\n",
      "768908585 26\n",
      "768908589 10\n",
      "768908591 7\n",
      "769322824 1\n",
      "769322827 7\n",
      "769322829 10\n",
      "769322831 36\n",
      "769322833 4\n",
      "768908148 1\n",
      "768908152 21\n",
      "768908157 7\n",
      "768908160 14\n",
      "757984813 4\n",
      "757984818 5\n",
      "757984820 8\n",
      "757984822 24\n",
      "757984826 5\n",
      "757984830 9\n",
      "769322747 6\n",
      "769322749 12\n",
      "769322751 25\n",
      "769322753 9\n",
      "769322755 10\n",
      "769322802 6\n",
      "769322804 5\n",
      "769322808 9\n",
      "769322810 9\n",
      "769322812 12\n"
     ]
    }
   ],
   "source": [
    "for i,probe in enumerate(probes):\n",
    "    dg_units_on_probe = len(good_units_dg[good_units_dg.ecephys_probe_id==probe])\n",
    "    print(probe, dg_units_on_probe)"
   ]
  },
  {
   "cell_type": "code",
   "execution_count": 83,
   "metadata": {},
   "outputs": [],
   "source": [
    "# dg_units_oneprobe = good_units_dg[good_units_dg.ecephys_probe_id==768908152] #for single probe analysis\n",
    "dg_units_oneprobe = good_units_dg #for all probes analysis"
   ]
  },
  {
   "cell_type": "code",
   "execution_count": 84,
   "metadata": {},
   "outputs": [],
   "source": [
    "dg_probe_vertsorted = dg_units_oneprobe.sort_values('probe_vertical_position')"
   ]
  },
  {
   "cell_type": "code",
   "execution_count": 90,
   "metadata": {
    "scrolled": true
   },
   "outputs": [
    {
     "data": {
      "text/plain": [
       "Text(0.5, 1.0, 'Waveform Duration across Dentate Gyrus')"
      ]
     },
     "execution_count": 90,
     "metadata": {},
     "output_type": "execute_result"
    },
    {
     "data": {
      "image/png": "[encoded data removed]",
      "text/plain": [
       "<Figure size 432x288 with 1 Axes>"
      ]
     },
     "metadata": {},
     "output_type": "display_data"
    }
   ],
   "source": [
    "plt.plot(np.asarray(dg_probe_vertsorted.probe_vertical_position),dg_probe_vertsorted.duration)\n",
    "plt.xlabel('Probe Vertical Position (um)')\n",
    "plt.ylabel('Waveform Duration (s)')\n",
    "plt.title('Waveform Duration across Dentate Gyrus')"
   ]
  },
  {
   "cell_type": "code",
   "execution_count": null,
   "metadata": {},
   "outputs": [],
   "source": []
  }
 ],
 "metadata": {
  "kernelspec": {
   "display_name": "conda_python3",
   "language": "python",
   "name": "conda_python3"
  },
  "language_info": {
   "codemirror_mode": {
    "name": "ipython",
    "version": 3
   },
   "file_extension": ".py",
   "mimetype": "text/x-python",
   "name": "python",
   "nbconvert_exporter": "python",
   "pygments_lexer": "ipython3",
   "version": "3.6.5"
  }
 },
 "nbformat": 4,
 "nbformat_minor": 2
}

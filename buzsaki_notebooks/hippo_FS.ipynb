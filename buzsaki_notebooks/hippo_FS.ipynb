{
 "cells": [
  {
   "cell_type": "code",
   "execution_count": 4,
   "metadata": {},
   "outputs": [],
   "source": [
    "import os\n",
    "import numpy as np\n",
    "import matplotlib.pyplot as plt\n",
    "import pandas as pd\n",
    "\n",
    "from allensdk.brain_observatory.ecephys.ecephys_project_cache import EcephysProjectCache\n",
    "from allensdk.brain_observatory.ecephys import ecephys_session\n",
    "%matplotlib inline\n",
    "\n",
    "# fix slow autocomplete\n",
    "%config Completer.use_jedi = False"
   ]
  },
  {
   "cell_type": "code",
   "execution_count": 5,
   "metadata": {},
   "outputs": [],
   "source": [
    "import platform\n",
    "platstring = platform.platform()\n",
    "\n",
    "if 'Darwin' in platstring:\n",
    "    # OS X \n",
    "    data_root = \"/Volumes/Brain2019/\"\n",
    "elif 'Windows'  in platstring:\n",
    "    # Windows (replace with the drive letter of USB drive)\n",
    "    data_root = \"E:/\"\n",
    "elif ('amzn1' in platstring):\n",
    "    # then on AWS\n",
    "    data_root = \"/data/\"\n",
    "else:\n",
    "    # then your own linux platform\n",
    "    # EDIT location where you mounted hard drive\n",
    "    data_root = \"/media/$USERNAME/Brain2019/\"\n",
    "\n",
    "manifest_path = os.path.join(data_root, \"dynamic-brain-workshop/visual_coding_neuropixels/2019/manifest.json\")"
   ]
  },
  {
   "cell_type": "code",
   "execution_count": 6,
   "metadata": {},
   "outputs": [],
   "source": [
    "cache = EcephysProjectCache.fixed(manifest=manifest_path)\n",
    "sessions = cache.get_sessions()"
   ]
  },
  {
   "cell_type": "code",
   "execution_count": 7,
   "metadata": {},
   "outputs": [],
   "source": [
    "hcareas = ['CA','DG']\n",
    "\n",
    "hc_sessions = []\n",
    "for i in np.arange(len(sessions.structure_acronyms)):\n",
    "    sessionid = sessions.structure_acronyms.index[i]\n",
    "    if any(elem in sessions.structure_acronyms[sessionid] for elem in hcareas):\n",
    "        hc_sessions.append(sessionid)\n",
    "        \n",
    "# for i, sesh in enumerate(hc_sessions):\n",
    "#     print(sessions.structure_acronyms[sesh])"
   ]
  },
  {
   "cell_type": "code",
   "execution_count": 111,
   "metadata": {},
   "outputs": [],
   "source": [
    "sesh_id = hc_sessions[0]\n",
    "session = cache.get_session_data(sesh_id)\n",
    "seshunits = session.units\n",
    "CA_units = seshunits[seshunits['structure_acronym'] == 'CA']\n",
    "DG_units = seshunits[seshunits['structure_acronym'] == 'DG']"
   ]
  },
  {
   "cell_type": "code",
   "execution_count": 112,
   "metadata": {},
   "outputs": [],
   "source": [
    "# plt.hist(CA_units.snr, bins=30)\n",
    "# plt.title('SNR')"
   ]
  },
  {
   "cell_type": "code",
   "execution_count": 113,
   "metadata": {},
   "outputs": [],
   "source": [
    "# plt.hist(CA_units.isi_violations, bins=30)\n",
    "# plt.title('ISI violations')"
   ]
  },
  {
   "cell_type": "code",
   "execution_count": 114,
   "metadata": {},
   "outputs": [],
   "source": [
    "good_units_ca = CA_units[(CA_units.snr>1)&(CA_units.isi_violations<0.5)]\n",
    "good_units_dg = DG_units[(DG_units.snr>1)&(DG_units.isi_violations<0.5)]"
   ]
  },
  {
   "cell_type": "code",
   "execution_count": 115,
   "metadata": {},
   "outputs": [
    {
     "data": {
      "text/plain": [
       "(105, 37)"
      ]
     },
     "execution_count": 115,
     "metadata": {},
     "output_type": "execute_result"
    }
   ],
   "source": [
    "len(good_units_ca), len(good_units_dg)"
   ]
  },
  {
   "cell_type": "code",
   "execution_count": 116,
   "metadata": {},
   "outputs": [
    {
     "data": {
      "text/html": [
       "<div>\n",
       "<style scoped>\n",
       "    .dataframe tbody tr th:only-of-type {\n",
       "        vertical-align: middle;\n",
       "    }\n",
       "\n",
       "    .dataframe tbody tr th {\n",
       "        vertical-align: top;\n",
       "    }\n",
       "\n",
       "    .dataframe thead th {\n",
       "        text-align: right;\n",
       "    }\n",
       "</style>\n",
       "<table border=\"1\" class=\"dataframe\">\n",
       "  <thead>\n",
       "    <tr style=\"text-align: right;\">\n",
       "      <th></th>\n",
       "      <th>PT_ratio</th>\n",
       "      <th>amplitude</th>\n",
       "      <th>amplitude_cutoff</th>\n",
       "      <th>cluster_id</th>\n",
       "      <th>cumulative_drift</th>\n",
       "      <th>d_prime</th>\n",
       "      <th>firing_rate</th>\n",
       "      <th>isi_violations</th>\n",
       "      <th>isolation_distance</th>\n",
       "      <th>l_ratio</th>\n",
       "      <th>...</th>\n",
       "      <th>channel_local_index</th>\n",
       "      <th>structure_acronym</th>\n",
       "      <th>structure_id</th>\n",
       "      <th>probe_horizontal_position</th>\n",
       "      <th>probe_id</th>\n",
       "      <th>probe_vertical_position</th>\n",
       "      <th>probe_description</th>\n",
       "      <th>location</th>\n",
       "      <th>sampling_rate</th>\n",
       "      <th>lfp_sampling_rate</th>\n",
       "    </tr>\n",
       "    <tr>\n",
       "      <th>unit_id</th>\n",
       "      <th></th>\n",
       "      <th></th>\n",
       "      <th></th>\n",
       "      <th></th>\n",
       "      <th></th>\n",
       "      <th></th>\n",
       "      <th></th>\n",
       "      <th></th>\n",
       "      <th></th>\n",
       "      <th></th>\n",
       "      <th></th>\n",
       "      <th></th>\n",
       "      <th></th>\n",
       "      <th></th>\n",
       "      <th></th>\n",
       "      <th></th>\n",
       "      <th></th>\n",
       "      <th></th>\n",
       "      <th></th>\n",
       "      <th></th>\n",
       "      <th></th>\n",
       "    </tr>\n",
       "  </thead>\n",
       "  <tbody>\n",
       "    <tr>\n",
       "      <th>914613460</th>\n",
       "      <td>0.829699</td>\n",
       "      <td>68.628105</td>\n",
       "      <td>0.020674</td>\n",
       "      <td>49</td>\n",
       "      <td>359.50</td>\n",
       "      <td>NaN</td>\n",
       "      <td>2.454910</td>\n",
       "      <td>0.026815</td>\n",
       "      <td>NaN</td>\n",
       "      <td>NaN</td>\n",
       "      <td>...</td>\n",
       "      <td>153</td>\n",
       "      <td>CA</td>\n",
       "      <td>375.0</td>\n",
       "      <td>11</td>\n",
       "      <td>757988387</td>\n",
       "      <td>1540</td>\n",
       "      <td>probeA</td>\n",
       "      <td></td>\n",
       "      <td>29999.970319</td>\n",
       "      <td>2499.997527</td>\n",
       "    </tr>\n",
       "    <tr>\n",
       "      <th>914613476</th>\n",
       "      <td>0.335210</td>\n",
       "      <td>74.724000</td>\n",
       "      <td>0.015504</td>\n",
       "      <td>57</td>\n",
       "      <td>269.61</td>\n",
       "      <td>4.358002</td>\n",
       "      <td>4.017321</td>\n",
       "      <td>0.155206</td>\n",
       "      <td>72.934576</td>\n",
       "      <td>0.008623</td>\n",
       "      <td>...</td>\n",
       "      <td>165</td>\n",
       "      <td>CA</td>\n",
       "      <td>375.0</td>\n",
       "      <td>11</td>\n",
       "      <td>757988387</td>\n",
       "      <td>1660</td>\n",
       "      <td>probeA</td>\n",
       "      <td></td>\n",
       "      <td>29999.970319</td>\n",
       "      <td>2499.997527</td>\n",
       "    </tr>\n",
       "    <tr>\n",
       "      <th>914613484</th>\n",
       "      <td>0.208296</td>\n",
       "      <td>83.203575</td>\n",
       "      <td>0.036066</td>\n",
       "      <td>62</td>\n",
       "      <td>156.87</td>\n",
       "      <td>2.685516</td>\n",
       "      <td>3.639626</td>\n",
       "      <td>0.426978</td>\n",
       "      <td>56.535303</td>\n",
       "      <td>0.019735</td>\n",
       "      <td>...</td>\n",
       "      <td>169</td>\n",
       "      <td>CA</td>\n",
       "      <td>375.0</td>\n",
       "      <td>11</td>\n",
       "      <td>757988387</td>\n",
       "      <td>1700</td>\n",
       "      <td>probeA</td>\n",
       "      <td></td>\n",
       "      <td>29999.970319</td>\n",
       "      <td>2499.997527</td>\n",
       "    </tr>\n",
       "    <tr>\n",
       "      <th>914613486</th>\n",
       "      <td>0.189727</td>\n",
       "      <td>74.821890</td>\n",
       "      <td>0.005132</td>\n",
       "      <td>63</td>\n",
       "      <td>258.82</td>\n",
       "      <td>3.201774</td>\n",
       "      <td>2.995583</td>\n",
       "      <td>0.166583</td>\n",
       "      <td>55.240518</td>\n",
       "      <td>0.007849</td>\n",
       "      <td>...</td>\n",
       "      <td>169</td>\n",
       "      <td>CA</td>\n",
       "      <td>375.0</td>\n",
       "      <td>11</td>\n",
       "      <td>757988387</td>\n",
       "      <td>1700</td>\n",
       "      <td>probeA</td>\n",
       "      <td></td>\n",
       "      <td>29999.970319</td>\n",
       "      <td>2499.997527</td>\n",
       "    </tr>\n",
       "    <tr>\n",
       "      <th>914613706</th>\n",
       "      <td>0.327822</td>\n",
       "      <td>182.028015</td>\n",
       "      <td>0.000313</td>\n",
       "      <td>173</td>\n",
       "      <td>94.44</td>\n",
       "      <td>6.127621</td>\n",
       "      <td>1.122522</td>\n",
       "      <td>0.160314</td>\n",
       "      <td>55.294272</td>\n",
       "      <td>0.002212</td>\n",
       "      <td>...</td>\n",
       "      <td>173</td>\n",
       "      <td>CA</td>\n",
       "      <td>375.0</td>\n",
       "      <td>11</td>\n",
       "      <td>757988387</td>\n",
       "      <td>1740</td>\n",
       "      <td>probeA</td>\n",
       "      <td></td>\n",
       "      <td>29999.970319</td>\n",
       "      <td>2499.997527</td>\n",
       "    </tr>\n",
       "  </tbody>\n",
       "</table>\n",
       "<p>5 rows × 35 columns</p>\n",
       "</div>"
      ],
      "text/plain": [
       "           PT_ratio   amplitude  amplitude_cutoff  cluster_id  \\\n",
       "unit_id                                                         \n",
       "914613460  0.829699   68.628105          0.020674          49   \n",
       "914613476  0.335210   74.724000          0.015504          57   \n",
       "914613484  0.208296   83.203575          0.036066          62   \n",
       "914613486  0.189727   74.821890          0.005132          63   \n",
       "914613706  0.327822  182.028015          0.000313         173   \n",
       "\n",
       "           cumulative_drift   d_prime  firing_rate  isi_violations  \\\n",
       "unit_id                                                              \n",
       "914613460            359.50       NaN     2.454910        0.026815   \n",
       "914613476            269.61  4.358002     4.017321        0.155206   \n",
       "914613484            156.87  2.685516     3.639626        0.426978   \n",
       "914613486            258.82  3.201774     2.995583        0.166583   \n",
       "914613706             94.44  6.127621     1.122522        0.160314   \n",
       "\n",
       "           isolation_distance   l_ratio  ...  channel_local_index  \\\n",
       "unit_id                                  ...                        \n",
       "914613460                 NaN       NaN  ...                  153   \n",
       "914613476           72.934576  0.008623  ...                  165   \n",
       "914613484           56.535303  0.019735  ...                  169   \n",
       "914613486           55.240518  0.007849  ...                  169   \n",
       "914613706           55.294272  0.002212  ...                  173   \n",
       "\n",
       "           structure_acronym  structure_id  probe_horizontal_position  \\\n",
       "unit_id                                                                 \n",
       "914613460                 CA         375.0                         11   \n",
       "914613476                 CA         375.0                         11   \n",
       "914613484                 CA         375.0                         11   \n",
       "914613486                 CA         375.0                         11   \n",
       "914613706                 CA         375.0                         11   \n",
       "\n",
       "            probe_id  probe_vertical_position  probe_description  location  \\\n",
       "unit_id                                                                      \n",
       "914613460  757988387                     1540             probeA             \n",
       "914613476  757988387                     1660             probeA             \n",
       "914613484  757988387                     1700             probeA             \n",
       "914613486  757988387                     1700             probeA             \n",
       "914613706  757988387                     1740             probeA             \n",
       "\n",
       "           sampling_rate  lfp_sampling_rate  \n",
       "unit_id                                      \n",
       "914613460   29999.970319        2499.997527  \n",
       "914613476   29999.970319        2499.997527  \n",
       "914613484   29999.970319        2499.997527  \n",
       "914613486   29999.970319        2499.997527  \n",
       "914613706   29999.970319        2499.997527  \n",
       "\n",
       "[5 rows x 35 columns]"
      ]
     },
     "execution_count": 116,
     "metadata": {},
     "output_type": "execute_result"
    }
   ],
   "source": [
    "#combine all these unit ID's into array or something iterable\n",
    "#for each unit, pull it's spike duration (less than say 0.3 ms should classify FS or RSU)\n",
    "\n",
    "good_units_ca.head()"
   ]
  },
  {
   "cell_type": "code",
   "execution_count": 117,
   "metadata": {},
   "outputs": [
    {
     "data": {
      "text/plain": [
       "Index(['PT_ratio', 'amplitude', 'amplitude_cutoff', 'cluster_id',\n",
       "       'cumulative_drift', 'd_prime', 'firing_rate', 'isi_violations',\n",
       "       'isolation_distance', 'l_ratio', 'local_index_unit', 'max_drift',\n",
       "       'nn_hit_rate', 'nn_miss_rate', 'peak_channel_id', 'presence_ratio',\n",
       "       'recovery_slope', 'repolarization_slope', 'silhouette_score', 'snr',\n",
       "       'spread', 'velocity_above', 'velocity_below', 'waveform_duration',\n",
       "       'waveform_halfwidth', 'channel_local_index', 'structure_acronym',\n",
       "       'structure_id', 'probe_horizontal_position', 'probe_id',\n",
       "       'probe_vertical_position', 'probe_description', 'location',\n",
       "       'sampling_rate', 'lfp_sampling_rate'],\n",
       "      dtype='object')"
      ]
     },
     "execution_count": 117,
     "metadata": {},
     "output_type": "execute_result"
    }
   ],
   "source": [
    "good_units_ca.columns"
   ]
  },
  {
   "cell_type": "code",
   "execution_count": 118,
   "metadata": {},
   "outputs": [
    {
     "data": {
      "text/plain": [
       "Text(0.5, 1.0, 'Waveform Duration')"
      ]
     },
     "execution_count": 118,
     "metadata": {},
     "output_type": "execute_result"
    },
    {
     "data": {
      "image/png": "[encoded data removed]",
      "text/plain": [
       "<Figure size 432x288 with 1 Axes>"
      ]
     },
     "metadata": {},
     "output_type": "display_data"
    }
   ],
   "source": [
    "plt.hist(good_units_ca.waveform_duration,bins=30)\n",
    "plt.title('Waveform Duration')"
   ]
  },
  {
   "cell_type": "code",
   "execution_count": 119,
   "metadata": {},
   "outputs": [
    {
     "name": "stderr",
     "output_type": "stream",
     "text": [
      "/home/ec2-user/anaconda3/envs/python3/lib/python3.6/site-packages/numpy/lib/histograms.py:829: RuntimeWarning: invalid value encountered in greater_equal\n",
      "  keep = (tmp_a >= first_edge)\n",
      "/home/ec2-user/anaconda3/envs/python3/lib/python3.6/site-packages/numpy/lib/histograms.py:830: RuntimeWarning: invalid value encountered in less_equal\n",
      "  keep &= (tmp_a <= last_edge)\n"
     ]
    },
    {
     "data": {
      "text/plain": [
       "Text(0.5, 1.0, 'Recovery slope')"
      ]
     },
     "execution_count": 119,
     "metadata": {},
     "output_type": "execute_result"
    },
    {
     "data": {
      "image/png": "[encoded data removed]",
      "text/plain": [
       "<Figure size 432x288 with 1 Axes>"
      ]
     },
     "metadata": {},
     "output_type": "display_data"
    }
   ],
   "source": [
    "plt.hist(good_units_ca.recovery_slope,bins=30)\n",
    "plt.title('Recovery slope')"
   ]
  },
  {
   "cell_type": "code",
   "execution_count": 120,
   "metadata": {},
   "outputs": [
    {
     "name": "stderr",
     "output_type": "stream",
     "text": [
      "/home/ec2-user/anaconda3/envs/python3/lib/python3.6/site-packages/numpy/lib/histograms.py:829: RuntimeWarning: invalid value encountered in greater_equal\n",
      "  keep = (tmp_a >= first_edge)\n",
      "/home/ec2-user/anaconda3/envs/python3/lib/python3.6/site-packages/numpy/lib/histograms.py:830: RuntimeWarning: invalid value encountered in less_equal\n",
      "  keep &= (tmp_a <= last_edge)\n"
     ]
    },
    {
     "data": {
      "text/plain": [
       "Text(0.5, 1.0, 'Waveform_halfwidth')"
      ]
     },
     "execution_count": 120,
     "metadata": {},
     "output_type": "execute_result"
    },
    {
     "data": {
      "image/png": "[encoded data removed]",
      "text/plain": [
       "<Figure size 432x288 with 1 Axes>"
      ]
     },
     "metadata": {},
     "output_type": "display_data"
    }
   ],
   "source": [
    "plt.hist(good_units_ca.waveform_halfwidth,bins=30)\n",
    "plt.title('Waveform_halfwidth')"
   ]
  },
  {
   "cell_type": "code",
   "execution_count": null,
   "metadata": {},
   "outputs": [],
   "source": []
  }
 ],
 "metadata": {
  "kernelspec": {
   "display_name": "conda_python3",
   "language": "python",
   "name": "conda_python3"
  },
  "language_info": {
   "codemirror_mode": {
    "name": "ipython",
    "version": 3
   },
   "file_extension": ".py",
   "mimetype": "text/x-python",
   "name": "python",
   "nbconvert_exporter": "python",
   "pygments_lexer": "ipython3",
   "version": "3.6.5"
  }
 },
 "nbformat": 4,
 "nbformat_minor": 2
}

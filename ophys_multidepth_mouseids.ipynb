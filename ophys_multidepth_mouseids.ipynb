{
 "cells": [
  {
   "cell_type": "code",
   "execution_count": null,
   "metadata": {},
   "outputs": [],
   "source": [
    "import pandas as pd\n",
    "\n",
    "def multidepth_mouseids(visual_area, cre_line):\n",
    "    \"\"\"Return ophys mouseID of specific cre line from specific visual area with maximum sampled depths\n",
    "    \n",
    "    Parameters\n",
    "    =========\n",
    "    visual_area: str\n",
    "        One of the sampled ophys visual areas (e.g. 'VisP')\n",
    "    cre_line: str\n",
    "        Desired genotype of mouse population (e.g. \"Slc17a7-IRES2-Cre\")\n",
    "        \n",
    "    Returns\n",
    "    =======\n",
    "    max_depths_ids: list\n",
    "        list of string ids of mice with maximum imaging depths (2)\n",
    "    \"\"\"\n",
    "\n",
    "    from allensdk.core.brain_observatory_cache import BrainObservatoryCache\n",
    "    drive_path = '/data/allen-brain-observatory/visual-coding-2p'\n",
    "    manifest_file = os.path.join(drive_path, 'manifest.json')\n",
    "    boc = BrainObservatoryCache(manifest_file = manifest_file)\n",
    "    exps = boc.get_experiment_containers(targeted_structures=[visual_area], cre_lines=[cre_line])\n",
    "    exp_df = pd.DataFrame(exps)\n",
    "    max_depths_ids = []\n",
    "    for mouse in exp_df.donor_name.unique():\n",
    "        mini_df = exp_df[exp_df.donor_name == mouse]\n",
    "        depths = mini_df.imaging_depth.unique()\n",
    "        if len(depths) == 2:\n",
    "            max_depths_count = len(depths)\n",
    "            max_depths_ids.append(mouse)\n",
    "\n",
    "    return max_depths_ids"
   ]
  }
 ],
 "metadata": {
  "kernelspec": {
   "display_name": "conda_python3",
   "language": "python",
   "name": "conda_python3"
  },
  "language_info": {
   "codemirror_mode": {
    "name": "ipython",
    "version": 3
   },
   "file_extension": ".py",
   "mimetype": "text/x-python",
   "name": "python",
   "nbconvert_exporter": "python",
   "pygments_lexer": "ipython3",
   "version": "3.6.5"
  }
 },
 "nbformat": 4,
 "nbformat_minor": 2
}

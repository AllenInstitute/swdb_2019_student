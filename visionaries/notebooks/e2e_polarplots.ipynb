{
 "cells": [
  {
   "cell_type": "markdown",
   "metadata": {},
   "source": [
    "# Polar plot for one cell, one experiment"
   ]
  },
  {
   "cell_type": "markdown",
   "metadata": {},
   "source": [
    "## Pick experiment and cell"
   ]
  },
  {
   "cell_type": "code",
   "execution_count": 2,
   "metadata": {},
   "outputs": [],
   "source": [
    "drive_path = '/media/stephen/Brain20191/allen-brain-observatory/visual-coding-2p/'"
   ]
  },
  {
   "cell_type": "code",
   "execution_count": 4,
   "metadata": {},
   "outputs": [],
   "source": [
    "import os\n",
    "import pandas as pd\n",
    "from allensdk.core.brain_observatory_cache import BrainObservatoryCache\n",
    "import allensdk.brain_observatory.stimulus_info as stim_info\n",
    "from utils.data_wrappers import *\n",
    "manifest_file = os.path.join(drive_path,'manifest.json')\n",
    "boc = BrainObservatoryCache(manifest_file=manifest_file)"
   ]
  },
  {
   "cell_type": "code",
   "execution_count": 19,
   "metadata": {},
   "outputs": [
    {
     "data": {
      "text/plain": [
       "{'id': 502793808,\n",
       " 'imaging_depth': 175,\n",
       " 'targeted_structure': 'VISl',\n",
       " 'cre_line': 'Cux2-CreERT2',\n",
       " 'reporter_line': 'Ai93(TITL-GCaMP6f)',\n",
       " 'acquisition_age_days': 117,\n",
       " 'experiment_container_id': 511510640,\n",
       " 'session_type': 'three_session_A',\n",
       " 'donor_name': '222426',\n",
       " 'specimen_name': 'Cux2-CreERT2;Camk2a-tTA;Ai93-222426',\n",
       " 'fail_eye_tracking': True}"
      ]
     },
     "execution_count": 19,
     "metadata": {},
     "output_type": "execute_result"
    }
   ],
   "source": [
    "exp = boc.get_ophys_experiments(stimuli=[stim_info.DRIFTING_GRATINGS],\n",
    "        targeted_structures = ['VISl'],\n",
    "        imaging_depths = [175],\n",
    "        cre_lines = ['Cux2-CreERT2'])[0]\n",
    "exp_id = 502793808\n",
    "exp_container_id = 511510640\n",
    "exp"
   ]
  },
  {
   "cell_type": "code",
   "execution_count": 33,
   "metadata": {},
   "outputs": [],
   "source": [
    "cells = boc.get_cell_specimens()\n",
    "cells = pd.DataFrame.from_records(cells)\n",
    "cell_specimen_id = 517416426"
   ]
  },
  {
   "cell_type": "code",
   "execution_count": 37,
   "metadata": {},
   "outputs": [
    {
     "data": {
      "text/html": [
       "<div>\n",
       "<style scoped>\n",
       "    .dataframe tbody tr th:only-of-type {\n",
       "        vertical-align: middle;\n",
       "    }\n",
       "\n",
       "    .dataframe tbody tr th {\n",
       "        vertical-align: top;\n",
       "    }\n",
       "\n",
       "    .dataframe thead th {\n",
       "        text-align: right;\n",
       "    }\n",
       "</style>\n",
       "<table border=\"1\" class=\"dataframe\">\n",
       "  <thead>\n",
       "    <tr style=\"text-align: right;\">\n",
       "      <th></th>\n",
       "      <th>all_stim</th>\n",
       "      <th>area</th>\n",
       "      <th>cell_specimen_id</th>\n",
       "      <th>donor_full_genotype</th>\n",
       "      <th>dsi_dg</th>\n",
       "      <th>experiment_container_id</th>\n",
       "      <th>failed_experiment_container</th>\n",
       "      <th>g_dsi_dg</th>\n",
       "      <th>g_osi_dg</th>\n",
       "      <th>g_osi_sg</th>\n",
       "      <th>...</th>\n",
       "      <th>specimen_id</th>\n",
       "      <th>tfdi_dg</th>\n",
       "      <th>time_to_peak_ns</th>\n",
       "      <th>time_to_peak_sg</th>\n",
       "      <th>tld1_id</th>\n",
       "      <th>tld1_name</th>\n",
       "      <th>tld2_id</th>\n",
       "      <th>tld2_name</th>\n",
       "      <th>tlr1_id</th>\n",
       "      <th>tlr1_name</th>\n",
       "    </tr>\n",
       "  </thead>\n",
       "  <tbody>\n",
       "    <tr>\n",
       "      <th>1183</th>\n",
       "      <td>False</td>\n",
       "      <td>VISl</td>\n",
       "      <td>517416426</td>\n",
       "      <td>Cux2-CreERT2/wt;Camk2a-tTA/wt;Ai93(TITL-GCaMP6...</td>\n",
       "      <td>0.880052</td>\n",
       "      <td>511510640</td>\n",
       "      <td>False</td>\n",
       "      <td>0.54074</td>\n",
       "      <td>0.551907</td>\n",
       "      <td>NaN</td>\n",
       "      <td>...</td>\n",
       "      <td>495727015</td>\n",
       "      <td>0.37459</td>\n",
       "      <td>NaN</td>\n",
       "      <td>NaN</td>\n",
       "      <td>177839004</td>\n",
       "      <td>Cux2-CreERT2</td>\n",
       "      <td>177837320.0</td>\n",
       "      <td>Camk2a-tTA</td>\n",
       "      <td>265943423</td>\n",
       "      <td>Ai93(TITL-GCaMP6f)</td>\n",
       "    </tr>\n",
       "  </tbody>\n",
       "</table>\n",
       "<p>1 rows × 60 columns</p>\n",
       "</div>"
      ],
      "text/plain": [
       "      all_stim  area  cell_specimen_id  \\\n",
       "1183     False  VISl         517416426   \n",
       "\n",
       "                                    donor_full_genotype    dsi_dg  \\\n",
       "1183  Cux2-CreERT2/wt;Camk2a-tTA/wt;Ai93(TITL-GCaMP6...  0.880052   \n",
       "\n",
       "      experiment_container_id  failed_experiment_container  g_dsi_dg  \\\n",
       "1183                511510640                        False   0.54074   \n",
       "\n",
       "      g_osi_dg  g_osi_sg  ...  specimen_id  tfdi_dg  time_to_peak_ns  \\\n",
       "1183  0.551907       NaN  ...    495727015  0.37459              NaN   \n",
       "\n",
       "      time_to_peak_sg    tld1_id     tld1_name      tld2_id   tld2_name  \\\n",
       "1183              NaN  177839004  Cux2-CreERT2  177837320.0  Camk2a-tTA   \n",
       "\n",
       "        tlr1_id           tlr1_name  \n",
       "1183  265943423  Ai93(TITL-GCaMP6f)  \n",
       "\n",
       "[1 rows x 60 columns]"
      ]
     },
     "execution_count": 37,
     "metadata": {},
     "output_type": "execute_result"
    }
   ],
   "source": [
    "cells[cells['cell_specimen_id'] == cell_specimen_id]"
   ]
  },
  {
   "cell_type": "code",
   "execution_count": 38,
   "metadata": {},
   "outputs": [
    {
     "data": {
      "text/html": [
       "<div>\n",
       "<style scoped>\n",
       "    .dataframe tbody tr th:only-of-type {\n",
       "        vertical-align: middle;\n",
       "    }\n",
       "\n",
       "    .dataframe tbody tr th {\n",
       "        vertical-align: top;\n",
       "    }\n",
       "\n",
       "    .dataframe thead th {\n",
       "        text-align: right;\n",
       "    }\n",
       "</style>\n",
       "<table border=\"1\" class=\"dataframe\">\n",
       "  <thead>\n",
       "    <tr style=\"text-align: right;\">\n",
       "      <th></th>\n",
       "      <th>cell_specimen_id</th>\n",
       "      <th>responsive</th>\n",
       "    </tr>\n",
       "  </thead>\n",
       "  <tbody>\n",
       "    <tr>\n",
       "      <th>6420</th>\n",
       "      <td>517416426</td>\n",
       "      <td>True</td>\n",
       "    </tr>\n",
       "  </tbody>\n",
       "</table>\n",
       "</div>"
      ],
      "text/plain": [
       "      cell_specimen_id  responsive\n",
       "6420         517416426        True"
      ]
     },
     "execution_count": 38,
     "metadata": {},
     "output_type": "execute_result"
    }
   ],
   "source": [
    "from utils.data_wrappers import *\n",
    "dg_response_filter = get_dg_response_filter_from_saskia()\n",
    "dg_response_filter[dg_response_filter['cell_specimen_id'] == cell_specimen_id]"
   ]
  },
  {
   "cell_type": "markdown",
   "metadata": {},
   "source": [
    "Hooray! We found cell **517416426** in experiment container **511510640**, where the experiment is **[dg, VISl, 175, Cux2-CreERT2]**, and the cell is **responsive**"
   ]
  },
  {
   "cell_type": "markdown",
   "metadata": {},
   "source": [
    "## Polar plot"
   ]
  },
  {
   "cell_type": "code",
   "execution_count": 41,
   "metadata": {},
   "outputs": [
    {
     "data": {
      "image/png": "[encoded data removed]",
      "text/plain": [
       "<Figure size 432x288 with 1 Axes>"
      ]
     },
     "metadata": {
      "needs_background": "light"
     },
     "output_type": "display_data"
    }
   ],
   "source": [
    "from utils.polarplot import *\n",
    "from utils.polardata import *\n",
    " \n",
    "polardata = get_mock_polardata(exp_id, cell_specimen_id)\n",
    "theta, r = zip(*polardata)\n",
    "fig, axes = plt.subplots(nrows=1, ncols=1, subplot_kw=dict(polar=True))\n",
    "polar_plot(axes, theta, r, color='black', linewidth=4)"
   ]
  },
  {
   "cell_type": "markdown",
   "metadata": {},
   "source": [
    "# Polar plot for all cells in one experiment"
   ]
  },
  {
   "cell_type": "code",
   "execution_count": null,
   "metadata": {},
   "outputs": [],
   "source": [
    "exp_id = 502793808\n",
    "exp_container_id = 511510640\n",
    "# Get all responsive cells in one experiment"
   ]
  }
 ],
 "metadata": {
  "kernelspec": {
   "display_name": "Python 3",
   "language": "python",
   "name": "python3"
  },
  "language_info": {
   "codemirror_mode": {
    "name": "ipython",
    "version": 3
   },
   "file_extension": ".py",
   "mimetype": "text/x-python",
   "name": "python",
   "nbconvert_exporter": "python",
   "pygments_lexer": "ipython3",
   "version": "3.7.3"
  }
 },
 "nbformat": 4,
 "nbformat_minor": 2
}

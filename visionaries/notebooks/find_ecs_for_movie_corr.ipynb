{
 "cells": [
  {
   "cell_type": "code",
   "execution_count": 1,
   "metadata": {},
   "outputs": [],
   "source": [
    "drive_path = '/media/stephen/Brain20191/allen-brain-observatory/visual-coding-2p/'\n",
    "import os\n",
    "import pandas as pd\n",
    "from allensdk.core.brain_observatory_cache import BrainObservatoryCache\n",
    "import allensdk.brain_observatory.stimulus_info as stim_info\n",
    "from utils.data_wrappers import *\n",
    "manifest_file = os.path.join(drive_path,'manifest.json')\n",
    "boc = BrainObservatoryCache(manifest_file=manifest_file)\n"
   ]
  },
  {
   "cell_type": "code",
   "execution_count": 41,
   "metadata": {},
   "outputs": [],
   "source": [
    "exps = boc.get_ophys_experiments(stimuli=[stim_info.NATURAL_MOVIE_ONE])\n",
    "exps_df = pd.DataFrame.from_dict(exps)"
   ]
  },
  {
   "cell_type": "code",
   "execution_count": 48,
   "metadata": {},
   "outputs": [
    {
     "data": {
      "text/plain": [
       "[(701412138, 704298735),\n",
       " (511507650, 501794235),\n",
       " (511509529, 500964514),\n",
       " (511510718, 510174759),\n",
       " (511510855, 509644421),\n",
       " (511510718, 510514474),\n",
       " (511510736, 501704220),\n",
       " (511510670, 502205092),\n",
       " (511510650, 501886692),\n",
       " (511510670, 504642019),\n",
       " (511510736, 501559087),\n",
       " (511509529, 501271265),\n",
       " (511507650, 500855614),\n",
       " (511510650, 501836392),\n",
       " (511510855, 510517131),\n",
       " (511510736, 501474098),\n",
       " (511510855, 510705057),\n",
       " (511510718, 510345479),\n",
       " (701412138, 705412356),\n",
       " (511507650, 502115959),\n",
       " (701412138, 704826374),\n",
       " (511510650, 501717543),\n",
       " (511509529, 501337989),\n",
       " (511510670, 502368172)]"
      ]
     },
     "execution_count": 48,
     "metadata": {},
     "output_type": "execute_result"
    }
   ],
   "source": [
    "def get_all_ecids(exps_df, targeted_structure, depth, cre_line):\n",
    "    filtered_exps = exps_df[\n",
    "        (exps_df.targeted_structure == targeted_structure) &\n",
    "        (exps_df.imaging_depth == depth) &\n",
    "        (exps_df.cre_line == cre_line)]\n",
    "    ecid_pairs = []\n",
    "    for index, exp in filtered_exps.iterrows():\n",
    "        ecid_pairs.append((exp['experiment_container_id'], exp['id']))\n",
    "    return ecid_pairs\n",
    "get_all_ecids(exps_df, 'VISp', 175, 'Cux2-CreERT2')"
   ]
  },
  {
   "cell_type": "code",
   "execution_count": 10,
   "metadata": {},
   "outputs": [
    {
     "data": {
      "text/plain": [
       "[{'id': 704298735,\n",
       "  'imaging_depth': 175,\n",
       "  'targeted_structure': 'VISp',\n",
       "  'cre_line': 'Cux2-CreERT2',\n",
       "  'reporter_line': 'Ai93(TITL-GCaMP6f)',\n",
       "  'acquisition_age_days': 111,\n",
       "  'experiment_container_id': 701412138,\n",
       "  'session_type': 'three_session_A',\n",
       "  'donor_name': '382421',\n",
       "  'specimen_name': 'Cux2-CreERT2;Camk2a-tTA;Ai93-382421',\n",
       "  'fail_eye_tracking': True},\n",
       " {'id': 705412356,\n",
       "  'imaging_depth': 175,\n",
       "  'targeted_structure': 'VISp',\n",
       "  'cre_line': 'Cux2-CreERT2',\n",
       "  'reporter_line': 'Ai93(TITL-GCaMP6f)',\n",
       "  'acquisition_age_days': 115,\n",
       "  'experiment_container_id': 701412138,\n",
       "  'session_type': 'three_session_C2',\n",
       "  'donor_name': '382421',\n",
       "  'specimen_name': 'Cux2-CreERT2;Camk2a-tTA;Ai93-382421',\n",
       "  'fail_eye_tracking': True},\n",
       " {'id': 704826374,\n",
       "  'imaging_depth': 175,\n",
       "  'targeted_structure': 'VISp',\n",
       "  'cre_line': 'Cux2-CreERT2',\n",
       "  'reporter_line': 'Ai93(TITL-GCaMP6f)',\n",
       "  'acquisition_age_days': 112,\n",
       "  'experiment_container_id': 701412138,\n",
       "  'session_type': 'three_session_B',\n",
       "  'donor_name': '382421',\n",
       "  'specimen_name': 'Cux2-CreERT2;Camk2a-tTA;Ai93-382421',\n",
       "  'fail_eye_tracking': True}]"
      ]
     },
     "execution_count": 10,
     "metadata": {},
     "output_type": "execute_result"
    }
   ],
   "source": []
  },
  {
   "cell_type": "code",
   "execution_count": null,
   "metadata": {},
   "outputs": [],
   "source": []
  }
 ],
 "metadata": {
  "kernelspec": {
   "display_name": "Python 3",
   "language": "python",
   "name": "python3"
  },
  "language_info": {
   "codemirror_mode": {
    "name": "ipython",
    "version": 3
   },
   "file_extension": ".py",
   "mimetype": "text/x-python",
   "name": "python",
   "nbconvert_exporter": "python",
   "pygments_lexer": "ipython3",
   "version": "3.7.3"
  }
 },
 "nbformat": 4,
 "nbformat_minor": 2
}

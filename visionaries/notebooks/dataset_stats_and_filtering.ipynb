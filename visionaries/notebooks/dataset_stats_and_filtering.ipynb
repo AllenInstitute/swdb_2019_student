{
 "cells": [
  {
   "cell_type": "markdown",
   "metadata": {},
   "source": [
    "Set your drive path here"
   ]
  },
  {
   "cell_type": "code",
   "execution_count": 8,
   "metadata": {},
   "outputs": [],
   "source": [
    "drive_path = '/media/stephen/Brain20191/allen-brain-observatory/visual-coding-2p/'"
   ]
  },
  {
   "cell_type": "code",
   "execution_count": 9,
   "metadata": {},
   "outputs": [],
   "source": [
    "import os\n",
    "import pandas as pd\n",
    "from allensdk.core.brain_observatory_cache import BrainObservatoryCache\n",
    "import allensdk.brain_observatory.stimulus_info as stim_info\n",
    "from utils.data_wrappers import *\n",
    "manifest_file = os.path.join(drive_path,'manifest.json')\n",
    "boc = BrainObservatoryCache(manifest_file=manifest_file)\n"
   ]
  },
  {
   "cell_type": "markdown",
   "metadata": {},
   "source": [
    "Print the various values for brain area, layer, celltype"
   ]
  },
  {
   "cell_type": "code",
   "execution_count": 3,
   "metadata": {},
   "outputs": [
    {
     "data": {
      "text/plain": [
       "['VISal', 'VISam', 'VISl', 'VISp', 'VISpm', 'VISrl']"
      ]
     },
     "execution_count": 3,
     "metadata": {},
     "output_type": "execute_result"
    }
   ],
   "source": [
    "brain_areas = boc.get_all_targeted_structures()\n",
    "brain_areas"
   ]
  },
  {
   "cell_type": "code",
   "execution_count": 4,
   "metadata": {},
   "outputs": [
    {
     "data": {
      "text/plain": [
       "[175,\n",
       " 185,\n",
       " 195,\n",
       " 200,\n",
       " 205,\n",
       " 225,\n",
       " 250,\n",
       " 265,\n",
       " 275,\n",
       " 276,\n",
       " 285,\n",
       " 300,\n",
       " 320,\n",
       " 325,\n",
       " 335,\n",
       " 350,\n",
       " 365,\n",
       " 375,\n",
       " 390,\n",
       " 400,\n",
       " 550,\n",
       " 570,\n",
       " 625]"
      ]
     },
     "execution_count": 4,
     "metadata": {},
     "output_type": "execute_result"
    }
   ],
   "source": [
    "depths = boc.get_all_imaging_depths()\n",
    "depths"
   ]
  },
  {
   "cell_type": "code",
   "execution_count": 5,
   "metadata": {},
   "outputs": [
    {
     "data": {
      "text/plain": [
       "['Cux2-CreERT2',\n",
       " 'Emx1-IRES-Cre',\n",
       " 'Fezf2-CreER',\n",
       " 'Nr5a1-Cre',\n",
       " 'Ntsr1-Cre_GN220',\n",
       " 'Pvalb-IRES-Cre',\n",
       " 'Rbp4-Cre_KL100',\n",
       " 'Rorb-IRES2-Cre',\n",
       " 'Scnn1a-Tg3-Cre',\n",
       " 'Slc17a7-IRES2-Cre',\n",
       " 'Sst-IRES-Cre',\n",
       " 'Tlx3-Cre_PL56',\n",
       " 'Vip-IRES-Cre']"
      ]
     },
     "execution_count": 5,
     "metadata": {},
     "output_type": "execute_result"
    }
   ],
   "source": [
    "cell_types = boc.get_all_cre_lines()\n",
    "cell_types"
   ]
  },
  {
   "cell_type": "markdown",
   "metadata": {},
   "source": [
    "Experiment counts by brain area, layer, cell type"
   ]
  },
  {
   "cell_type": "code",
   "execution_count": 6,
   "metadata": {},
   "outputs": [
    {
     "data": {
      "text/plain": [
       "targeted_structure  imaging_depth  cre_line         \n",
       "VISal               175            Cux2-CreERT2         6\n",
       "                                   Emx1-IRES-Cre        2\n",
       "                                   Slc17a7-IRES2-Cre    1\n",
       "                    265            Emx1-IRES-Cre        1\n",
       "                    275            Cux2-CreERT2         6\n",
       "                                   Emx1-IRES-Cre        1\n",
       "                                   Rorb-IRES2-Cre       6\n",
       "                                   Slc17a7-IRES2-Cre    1\n",
       "                                   Sst-IRES-Cre         1\n",
       "                    276            Cux2-CreERT2         1\n",
       "                    300            Nr5a1-Cre            1\n",
       "                    350            Nr5a1-Cre            5\n",
       "                    365            Emx1-IRES-Cre        1\n",
       "                    375            Emx1-IRES-Cre        2\n",
       "                                   Rbp4-Cre_KL100       6\n",
       "VISam               175            Cux2-CreERT2         5\n",
       "                                   Emx1-IRES-Cre        1\n",
       "                                   Slc17a7-IRES2-Cre    2\n",
       "                    275            Cux2-CreERT2         6\n",
       "                                   Emx1-IRES-Cre        1\n",
       "                                   Rorb-IRES2-Cre       8\n",
       "                    320            Nr5a1-Cre            1\n",
       "                    325            Nr5a1-Cre            1\n",
       "                    350            Nr5a1-Cre            4\n",
       "                    375            Emx1-IRES-Cre        1\n",
       "                                   Rbp4-Cre_KL100       8\n",
       "VISl                175            Cux2-CreERT2         6\n",
       "                                   Emx1-IRES-Cre        5\n",
       "                                   Slc17a7-IRES2-Cre    6\n",
       "                                   Vip-IRES-Cre         8\n",
       "                                                       ..\n",
       "VISpm               275            Rorb-IRES2-Cre       7\n",
       "                                   Slc17a7-IRES2-Cre    4\n",
       "                                   Sst-IRES-Cre         6\n",
       "                                   Vip-IRES-Cre         9\n",
       "                    300            Nr5a1-Cre            1\n",
       "                                   Sst-IRES-Cre         1\n",
       "                    325            Nr5a1-Cre            1\n",
       "                                   Sst-IRES-Cre         1\n",
       "                    335            Nr5a1-Cre            1\n",
       "                    350            Nr5a1-Cre            4\n",
       "                                   Sst-IRES-Cre         1\n",
       "                    375            Emx1-IRES-Cre        1\n",
       "                                   Rbp4-Cre_KL100       6\n",
       "                                   Slc17a7-IRES2-Cre    6\n",
       "                                   Sst-IRES-Cre         5\n",
       "                    550            Ntsr1-Cre_GN220      3\n",
       "                    570            Ntsr1-Cre_GN220      1\n",
       "                    625            Ntsr1-Cre_GN220      1\n",
       "VISrl               175            Cux2-CreERT2         6\n",
       "                                   Emx1-IRES-Cre        4\n",
       "                                   Slc17a7-IRES2-Cre    1\n",
       "                    275            Cux2-CreERT2         6\n",
       "                                   Emx1-IRES-Cre        4\n",
       "                                   Rorb-IRES2-Cre       5\n",
       "                                   Sst-IRES-Cre         1\n",
       "                    350            Nr5a1-Cre            6\n",
       "                    375            Emx1-IRES-Cre        1\n",
       "                                   Rbp4-Cre_KL100       4\n",
       "                                   Slc17a7-IRES2-Cre    1\n",
       "                                   Sst-IRES-Cre         1\n",
       "Name: id, Length: 121, dtype: int64"
      ]
     },
     "execution_count": 6,
     "metadata": {},
     "output_type": "execute_result"
    }
   ],
   "source": [
    "exps = boc.get_ophys_experiments(stimuli=[stim_info.DRIFTING_GRATINGS])\n",
    "exps_df = pd.DataFrame.from_dict(exps)\n",
    "exps_df.groupby(['targeted_structure', 'imaging_depth', 'cre_line'])['id'].count()"
   ]
  },
  {
   "cell_type": "markdown",
   "metadata": {},
   "source": [
    "Get cells given brain area, depth, cell type"
   ]
  },
  {
   "cell_type": "code",
   "execution_count": 7,
   "metadata": {},
   "outputs": [],
   "source": [
    "\"\"\"\n",
    "Get cells that match the given selectors.\n",
    "\"\"\"\n",
    "def get_cells(brain_area, depth, cell_type):\n",
    "    cells = boc.get_cell_specimens()\n",
    "    cells = pd.DataFrame.from_records(cells)\n",
    "\n",
    "    exps = boc.get_ophys_experiments(stimuli=[stim_info.DRIFTING_GRATINGS],\n",
    "        targeted_structures = [brain_area],\n",
    "        imaging_depths = [depth],\n",
    "        cre_lines = [cell_type])\n",
    "    # Can't find [targeted_structure, cre_line] in cell table, so have to combine w/ exps.\n",
    "    exps_df = pd.DataFrame.from_dict(exps)\n",
    "    if len(exps_df)== 0:\n",
    "        return []\n",
    "    is_in_relevant_container_mask = False * len(cells)\n",
    "    for relevant_container_id in (exps_df.experiment_container_id.values):\n",
    "        is_in_relevant_container_mask |= (cells.experiment_container_id == relevant_container_id)\n",
    "    return cells[is_in_relevant_container_mask]\n",
    "#cells_df = get_cells('VISl', 175, 'Ai148(TIT2L-GC6f-ICL-tTA2)')\n",
    "#cells_df\n"
   ]
  },
  {
   "cell_type": "markdown",
   "metadata": {},
   "source": [
    "Get cell counts per brain area, depth, cell type"
   ]
  },
  {
   "cell_type": "code",
   "execution_count": 8,
   "metadata": {},
   "outputs": [
    {
     "name": "stdout",
     "output_type": "stream",
     "text": [
      "VISal 175 Cux2-CreERT2 1226\n",
      "VISal 175 Emx1-IRES-Cre 512\n",
      "VISal 175 Slc17a7-IRES2-Cre 64\n",
      "VISal 265 Emx1-IRES-Cre 346\n",
      "VISal 275 Cux2-CreERT2 1665\n",
      "VISal 275 Emx1-IRES-Cre 492\n",
      "VISal 275 Rorb-IRES2-Cre 1242\n",
      "VISal 275 Slc17a7-IRES2-Cre 310\n",
      "VISal 275 Sst-IRES-Cre 24\n",
      "VISal 276 Cux2-CreERT2 212\n",
      "VISal 300 Nr5a1-Cre 78\n",
      "VISal 350 Nr5a1-Cre 142\n",
      "VISal 365 Emx1-IRES-Cre 162\n",
      "VISal 375 Emx1-IRES-Cre 275\n",
      "VISal 375 Rbp4-Cre_KL100 441\n",
      "VISam 175 Cux2-CreERT2 619\n",
      "VISam 175 Emx1-IRES-Cre 167\n",
      "VISam 175 Slc17a7-IRES2-Cre 235\n",
      "VISam 275 Cux2-CreERT2 997\n",
      "VISam 275 Emx1-IRES-Cre 195\n",
      "VISam 275 Rorb-IRES2-Cre 735\n",
      "VISam 320 Nr5a1-Cre 5\n",
      "VISam 325 Nr5a1-Cre 75\n",
      "VISam 350 Nr5a1-Cre 91\n",
      "VISam 375 Emx1-IRES-Cre 95\n",
      "VISam 375 Rbp4-Cre_KL100 355\n",
      "VISl 175 Cux2-CreERT2 1208\n",
      "VISl 175 Emx1-IRES-Cre 1122\n",
      "VISl 175 Slc17a7-IRES2-Cre 1115\n",
      "VISl 175 Vip-IRES-Cre 161\n",
      "VISl 250 Sst-IRES-Cre 56\n",
      "VISl 250 Vip-IRES-Cre 27\n",
      "VISl 275 Cux2-CreERT2 1584\n",
      "VISl 275 Emx1-IRES-Cre 976\n",
      "VISl 275 Pvalb-IRES-Cre 139\n",
      "VISl 275 Rorb-IRES2-Cre 1191\n",
      "VISl 275 Slc17a7-IRES2-Cre 1645\n",
      "VISl 275 Sst-IRES-Cre 108\n",
      "VISl 275 Vip-IRES-Cre 127\n",
      "VISl 325 Nr5a1-Cre 33\n",
      "VISl 350 Nr5a1-Cre 388\n",
      "VISl 375 Fezf2-CreER 805\n",
      "VISl 375 Rbp4-Cre_KL100 485\n",
      "VISl 375 Slc17a7-IRES2-Cre 470\n",
      "VISl 375 Sst-IRES-Cre 137\n",
      "VISl 375 Tlx3-Cre_PL56 946\n",
      "VISl 400 Fezf2-CreER 176\n",
      "VISl 550 Ntsr1-Cre_GN220 502\n",
      "VISl 570 Ntsr1-Cre_GN220 35\n",
      "VISl 625 Ntsr1-Cre_GN220 182\n",
      "VISp 175 Cux2-CreERT2 2419\n",
      "VISp 175 Emx1-IRES-Cre 931\n",
      "VISp 175 Pvalb-IRES-Cre 52\n",
      "VISp 175 Slc17a7-IRES2-Cre 1837\n",
      "VISp 175 Vip-IRES-Cre 157\n",
      "VISp 185 Pvalb-IRES-Cre 14\n",
      "VISp 195 Pvalb-IRES-Cre 13\n",
      "VISp 200 Pvalb-IRES-Cre 11\n",
      "VISp 205 Slc17a7-IRES2-Cre 1015\n",
      "VISp 225 Pvalb-IRES-Cre 28\n",
      "VISp 265 Sst-IRES-Cre 27\n",
      "VISp 275 Cux2-CreERT2 2662\n",
      "VISp 275 Emx1-IRES-Cre 1043\n",
      "VISp 275 Pvalb-IRES-Cre 155\n",
      "VISp 275 Rorb-IRES2-Cre 2218\n",
      "VISp 275 Scnn1a-Tg3-Cre 269\n",
      "VISp 275 Slc17a7-IRES2-Cre 2122\n",
      "VISp 275 Sst-IRES-Cre 113\n",
      "VISp 275 Vip-IRES-Cre 195\n",
      "VISp 285 Sst-IRES-Cre 19\n",
      "VISp 335 Nr5a1-Cre 106\n",
      "VISp 335 Scnn1a-Tg3-Cre 123\n",
      "VISp 350 Nr5a1-Cre 472\n",
      "VISp 350 Scnn1a-Tg3-Cre 1481\n",
      "VISp 350 Sst-IRES-Cre 29\n",
      "VISp 375 Emx1-IRES-Cre 1099\n",
      "VISp 375 Fezf2-CreER 96\n",
      "VISp 375 Pvalb-IRES-Cre 49\n",
      "VISp 375 Rbp4-Cre_KL100 458\n",
      "VISp 375 Slc17a7-IRES2-Cre 1285\n",
      "VISp 375 Sst-IRES-Cre 78\n",
      "VISp 375 Tlx3-Cre_PL56 1181\n",
      "VISp 390 Fezf2-CreER 109\n",
      "VISp 400 Fezf2-CreER 202\n",
      "VISp 550 Ntsr1-Cre_GN220 573\n",
      "VISpm 175 Cux2-CreERT2 1433\n",
      "VISpm 175 Emx1-IRES-Cre 422\n",
      "VISpm 175 Slc17a7-IRES2-Cre 581\n",
      "VISpm 175 Vip-IRES-Cre 182\n",
      "VISpm 275 Cux2-CreERT2 928\n",
      "VISpm 275 Emx1-IRES-Cre 308\n",
      "VISpm 275 Rorb-IRES2-Cre 764\n",
      "VISpm 275 Slc17a7-IRES2-Cre 551\n",
      "VISpm 275 Sst-IRES-Cre 113\n",
      "VISpm 275 Vip-IRES-Cre 205\n",
      "VISpm 300 Nr5a1-Cre 23\n",
      "VISpm 300 Sst-IRES-Cre 19\n",
      "VISpm 325 Nr5a1-Cre 49\n",
      "VISpm 325 Sst-IRES-Cre 27\n",
      "VISpm 335 Nr5a1-Cre 65\n",
      "VISpm 350 Nr5a1-Cre 194\n",
      "VISpm 350 Sst-IRES-Cre 6\n",
      "VISpm 375 Emx1-IRES-Cre 105\n",
      "VISpm 375 Rbp4-Cre_KL100 509\n",
      "VISpm 375 Slc17a7-IRES2-Cre 838\n",
      "VISpm 375 Sst-IRES-Cre 82\n",
      "VISpm 550 Ntsr1-Cre_GN220 330\n",
      "VISpm 570 Ntsr1-Cre_GN220 103\n",
      "VISpm 625 Ntsr1-Cre_GN220 148\n",
      "VISrl 175 Cux2-CreERT2 677\n",
      "VISrl 175 Emx1-IRES-Cre 1080\n",
      "VISrl 175 Slc17a7-IRES2-Cre 65\n",
      "VISrl 275 Cux2-CreERT2 1152\n",
      "VISrl 275 Emx1-IRES-Cre 1516\n",
      "VISrl 275 Rorb-IRES2-Cre 1464\n",
      "VISrl 275 Sst-IRES-Cre 37\n",
      "VISrl 350 Nr5a1-Cre 1658\n",
      "VISrl 375 Emx1-IRES-Cre 415\n",
      "VISrl 375 Rbp4-Cre_KL100 102\n",
      "VISrl 375 Slc17a7-IRES2-Cre 72\n",
      "VISrl 375 Sst-IRES-Cre 9\n"
     ]
    }
   ],
   "source": [
    "exps = boc.get_ophys_experiments(stimuli=[stim_info.DRIFTING_GRATINGS])\n",
    "exps_df = pd.DataFrame.from_dict(exps)\n",
    "for brain_area in brain_areas:\n",
    "    for depth in depths:\n",
    "        for cell_type in boc.get_all_cre_lines():\n",
    "            if len(exps_df[\n",
    "                (exps_df['targeted_structure'] == brain_area) &\n",
    "                (exps_df['imaging_depth'] == depth) &\n",
    "                (exps_df['cre_line'] == cell_type)\n",
    "                ]) == 0:\n",
    "                continue\n",
    "            cell_count = len(get_cells(brain_area, depth, cell_type))\n",
    "            if cell_count == 0:\n",
    "                continue\n",
    "            print (brain_area, depth, cell_type, cell_count)"
   ]
  },
  {
   "cell_type": "markdown",
   "metadata": {},
   "source": [
    "Load filters"
   ]
  },
  {
   "cell_type": "code",
   "execution_count": 11,
   "metadata": {},
   "outputs": [
    {
     "ename": "NameError",
     "evalue": "name 'get_dg_response_filter_from_saskia' is not defined",
     "output_type": "error",
     "traceback": [
      "\u001b[0;31m---------------------------------------------------------------------------\u001b[0m",
      "\u001b[0;31mNameError\u001b[0m                                 Traceback (most recent call last)",
      "\u001b[0;32m<ipython-input-11-679a2840bad4>\u001b[0m in \u001b[0;36m<module>\u001b[0;34m\u001b[0m\n\u001b[0;32m----> 1\u001b[0;31m \u001b[0mdg_response_filter\u001b[0m \u001b[0;34m=\u001b[0m \u001b[0mget_dg_response_filter_from_saskia\u001b[0m\u001b[0;34m(\u001b[0m\u001b[0;34m)\u001b[0m\u001b[0;34m\u001b[0m\u001b[0;34m\u001b[0m\u001b[0m\n\u001b[0m\u001b[1;32m      2\u001b[0m \u001b[0mdg_response_filter\u001b[0m\u001b[0;34m\u001b[0m\u001b[0;34m\u001b[0m\u001b[0m\n",
      "\u001b[0;31mNameError\u001b[0m: name 'get_dg_response_filter_from_saskia' is not defined"
     ]
    }
   ],
   "source": [
    "dg_response_filter = get_dg_response_filter_from_saskia()\n",
    "dg_response_filter"
   ]
  },
  {
   "cell_type": "markdown",
   "metadata": {},
   "source": [
    "Show cell counts before and after filtering.\n",
    "See https://pastebin.com/NGzvE0Ky for result"
   ]
  },
  {
   "cell_type": "raw",
   "metadata": {},
   "source": [
    "exps = boc.get_ophys_experiments(stimuli=[stim_info.DRIFTING_GRATINGS])\n",
    "exps_df = pd.DataFrame.from_dict(exps)\n",
    "for brain_area in brain_areas:\n",
    "    for depth in depths:\n",
    "        for cell_type in boc.get_all_cre_lines():\n",
    "            if len(exps_df[\n",
    "                (exps_df['targeted_structure'] == brain_area) &\n",
    "                (exps_df['imaging_depth'] == depth) &\n",
    "                (exps_df['cre_line'] == cell_type)\n",
    "                ]) == 0:\n",
    "                continue\n",
    "            \n",
    "            cells = get_cells(brain_area, depth, cell_type)\n",
    "            \n",
    "            if len(cells) == 0:\n",
    "                continue\n",
    "            cell_count_before_responsive_filter = len(cells)\n",
    "            # Join w/ responsive filter\n",
    "            cells = cells.merge(\n",
    "                right=dg_response_filter,\n",
    "                on = 'cell_specimen_id',\n",
    "                how ='left')\n",
    "            # The response column has some NaN values, replace them w/ False.\n",
    "            cells['responsive'].fillna(False, inplace=True)\n",
    "            cell_count_after_responsive_filter = len(cells[cells['responsive']])\n",
    "            print (brain_area,\n",
    "                   depth,\n",
    "                   cell_type,\n",
    "                   cell_count_before_responsive_filter,\n",
    "                   cell_count_after_responsive_filter )"
   ]
  }
 ],
 "metadata": {
  "kernelspec": {
   "display_name": "Python 3",
   "language": "python",
   "name": "python3"
  },
  "language_info": {
   "codemirror_mode": {
    "name": "ipython",
    "version": 3
   },
   "file_extension": ".py",
   "mimetype": "text/x-python",
   "name": "python",
   "nbconvert_exporter": "python",
   "pygments_lexer": "ipython3",
   "version": "3.7.3"
  }
 },
 "nbformat": 4,
 "nbformat_minor": 2
}

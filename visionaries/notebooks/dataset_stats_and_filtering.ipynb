{
 "cells": [
  {
   "cell_type": "markdown",
   "metadata": {},
   "source": [
    "Set your drive path here"
   ]
  },
  {
   "cell_type": "code",
   "execution_count": 1,
   "metadata": {},
   "outputs": [],
   "source": [
    "drive_path = '/media/stephen/Brain20191/allen-brain-observatory/visual-coding-2p/'"
   ]
  },
  {
   "cell_type": "code",
   "execution_count": 2,
   "metadata": {},
   "outputs": [],
   "source": [
    "import os\n",
    "import pandas as pd\n",
    "from allensdk.core.brain_observatory_cache import BrainObservatoryCache\n",
    "import allensdk.brain_observatory.stimulus_info as stim_info\n",
    "from utils.data_wrappers import *\n",
    "manifest_file = os.path.join(drive_path,'manifest.json')\n",
    "boc = BrainObservatoryCache(manifest_file=manifest_file)\n"
   ]
  },
  {
   "cell_type": "markdown",
   "metadata": {},
   "source": [
    "Print the various values for brain area, layer, celltype"
   ]
  },
  {
   "cell_type": "code",
   "execution_count": 3,
   "metadata": {},
   "outputs": [
    {
     "data": {
      "text/plain": [
       "['VISal', 'VISam', 'VISl', 'VISp', 'VISpm', 'VISrl']"
      ]
     },
     "execution_count": 3,
     "metadata": {},
     "output_type": "execute_result"
    }
   ],
   "source": [
    "brain_areas = boc.get_all_targeted_structures()\n",
    "brain_areas"
   ]
  },
  {
   "cell_type": "code",
   "execution_count": 4,
   "metadata": {},
   "outputs": [
    {
     "data": {
      "text/plain": [
       "[175,\n",
       " 185,\n",
       " 195,\n",
       " 200,\n",
       " 205,\n",
       " 225,\n",
       " 250,\n",
       " 265,\n",
       " 275,\n",
       " 276,\n",
       " 285,\n",
       " 300,\n",
       " 320,\n",
       " 325,\n",
       " 335,\n",
       " 350,\n",
       " 365,\n",
       " 375,\n",
       " 390,\n",
       " 400,\n",
       " 550,\n",
       " 570,\n",
       " 625]"
      ]
     },
     "execution_count": 4,
     "metadata": {},
     "output_type": "execute_result"
    }
   ],
   "source": [
    "depths = boc.get_all_imaging_depths()\n",
    "depths"
   ]
  },
  {
   "cell_type": "code",
   "execution_count": 5,
   "metadata": {},
   "outputs": [
    {
     "data": {
      "text/plain": [
       "['Cux2-CreERT2',\n",
       " 'Emx1-IRES-Cre',\n",
       " 'Fezf2-CreER',\n",
       " 'Nr5a1-Cre',\n",
       " 'Ntsr1-Cre_GN220',\n",
       " 'Pvalb-IRES-Cre',\n",
       " 'Rbp4-Cre_KL100',\n",
       " 'Rorb-IRES2-Cre',\n",
       " 'Scnn1a-Tg3-Cre',\n",
       " 'Slc17a7-IRES2-Cre',\n",
       " 'Sst-IRES-Cre',\n",
       " 'Tlx3-Cre_PL56',\n",
       " 'Vip-IRES-Cre']"
      ]
     },
     "execution_count": 5,
     "metadata": {},
     "output_type": "execute_result"
    }
   ],
   "source": [
    "cell_types = boc.get_all_cre_lines()\n",
    "cell_types"
   ]
  },
  {
   "cell_type": "code",
   "execution_count": 6,
   "metadata": {},
   "outputs": [
    {
     "data": {
      "text/plain": [
       "['drifting_gratings',\n",
       " 'locally_sparse_noise',\n",
       " 'locally_sparse_noise_4deg',\n",
       " 'locally_sparse_noise_8deg',\n",
       " 'natural_movie_one',\n",
       " 'natural_movie_three',\n",
       " 'natural_movie_two',\n",
       " 'natural_scenes',\n",
       " 'spontaneous',\n",
       " 'static_gratings']"
      ]
     },
     "execution_count": 6,
     "metadata": {},
     "output_type": "execute_result"
    }
   ],
   "source": [
    "boc.get_all_stimuli()\n",
    "# TF: 1,2,4,8,15"
   ]
  },
  {
   "cell_type": "markdown",
   "metadata": {},
   "source": [
    "Experiment counts by brain area, layer, cell type"
   ]
  },
  {
   "cell_type": "code",
   "execution_count": 7,
   "metadata": {},
   "outputs": [
    {
     "data": {
      "text/plain": [
       "targeted_structure  imaging_depth  cre_line         \n",
       "VISal               175            Cux2-CreERT2         6\n",
       "                                   Emx1-IRES-Cre        2\n",
       "                                   Slc17a7-IRES2-Cre    1\n",
       "                    265            Emx1-IRES-Cre        1\n",
       "                    275            Cux2-CreERT2         6\n",
       "                                   Emx1-IRES-Cre        1\n",
       "                                   Rorb-IRES2-Cre       6\n",
       "                                   Slc17a7-IRES2-Cre    1\n",
       "                                   Sst-IRES-Cre         1\n",
       "                    276            Cux2-CreERT2         1\n",
       "                    300            Nr5a1-Cre            1\n",
       "                    350            Nr5a1-Cre            5\n",
       "                    365            Emx1-IRES-Cre        1\n",
       "                    375            Emx1-IRES-Cre        2\n",
       "                                   Rbp4-Cre_KL100       6\n",
       "VISam               175            Cux2-CreERT2         5\n",
       "                                   Emx1-IRES-Cre        1\n",
       "                                   Slc17a7-IRES2-Cre    2\n",
       "                    275            Cux2-CreERT2         6\n",
       "                                   Emx1-IRES-Cre        1\n",
       "                                   Rorb-IRES2-Cre       8\n",
       "                    320            Nr5a1-Cre            1\n",
       "                    325            Nr5a1-Cre            1\n",
       "                    350            Nr5a1-Cre            4\n",
       "                    375            Emx1-IRES-Cre        1\n",
       "                                   Rbp4-Cre_KL100       8\n",
       "VISl                175            Cux2-CreERT2         6\n",
       "                                   Emx1-IRES-Cre        5\n",
       "                                   Slc17a7-IRES2-Cre    6\n",
       "                                   Vip-IRES-Cre         8\n",
       "                                                       ..\n",
       "VISpm               275            Rorb-IRES2-Cre       7\n",
       "                                   Slc17a7-IRES2-Cre    4\n",
       "                                   Sst-IRES-Cre         6\n",
       "                                   Vip-IRES-Cre         9\n",
       "                    300            Nr5a1-Cre            1\n",
       "                                   Sst-IRES-Cre         1\n",
       "                    325            Nr5a1-Cre            1\n",
       "                                   Sst-IRES-Cre         1\n",
       "                    335            Nr5a1-Cre            1\n",
       "                    350            Nr5a1-Cre            4\n",
       "                                   Sst-IRES-Cre         1\n",
       "                    375            Emx1-IRES-Cre        1\n",
       "                                   Rbp4-Cre_KL100       6\n",
       "                                   Slc17a7-IRES2-Cre    6\n",
       "                                   Sst-IRES-Cre         5\n",
       "                    550            Ntsr1-Cre_GN220      3\n",
       "                    570            Ntsr1-Cre_GN220      1\n",
       "                    625            Ntsr1-Cre_GN220      1\n",
       "VISrl               175            Cux2-CreERT2         6\n",
       "                                   Emx1-IRES-Cre        4\n",
       "                                   Slc17a7-IRES2-Cre    1\n",
       "                    275            Cux2-CreERT2         6\n",
       "                                   Emx1-IRES-Cre        4\n",
       "                                   Rorb-IRES2-Cre       5\n",
       "                                   Sst-IRES-Cre         1\n",
       "                    350            Nr5a1-Cre            6\n",
       "                    375            Emx1-IRES-Cre        1\n",
       "                                   Rbp4-Cre_KL100       4\n",
       "                                   Slc17a7-IRES2-Cre    1\n",
       "                                   Sst-IRES-Cre         1\n",
       "Name: id, Length: 121, dtype: int64"
      ]
     },
     "execution_count": 7,
     "metadata": {},
     "output_type": "execute_result"
    }
   ],
   "source": [
    "exps = boc.get_ophys_experiments(stimuli=[stim_info.DRIFTING_GRATINGS])\n",
    "exps_df = pd.DataFrame.from_dict(exps)\n",
    "exps_df.groupby(['targeted_structure', 'imaging_depth', 'cre_line'])['id'].count()"
   ]
  },
  {
   "cell_type": "markdown",
   "metadata": {},
   "source": [
    "Show cell counts before and after filtering.\n",
    "See https://pastebin.com/NGzvE0Ky for result"
   ]
  },
  {
   "cell_type": "code",
   "execution_count": 8,
   "metadata": {},
   "outputs": [
    {
     "name": "stdout",
     "output_type": "stream",
     "text": [
      "VISal 175 Cux2-CreERT2 1226 371\n",
      "VISal 175 Emx1-IRES-Cre 512 180\n",
      "VISal 175 Slc17a7-IRES2-Cre 64 19\n",
      "VISal 265 Emx1-IRES-Cre 346 162\n",
      "VISal 275 Cux2-CreERT2 1665 727\n",
      "VISal 275 Emx1-IRES-Cre 492 251\n",
      "VISal 275 Rorb-IRES2-Cre 1242 389\n",
      "VISal 275 Slc17a7-IRES2-Cre 310 104\n",
      "VISal 275 Sst-IRES-Cre 24 21\n",
      "VISal 276 Cux2-CreERT2 212 88\n",
      "VISal 300 Nr5a1-Cre 78 24\n",
      "VISal 350 Nr5a1-Cre 142 49\n",
      "VISal 365 Emx1-IRES-Cre 162 69\n",
      "VISal 375 Emx1-IRES-Cre 275 118\n",
      "VISal 375 Rbp4-Cre_KL100 441 155\n",
      "VISam 175 Cux2-CreERT2 619 155\n",
      "VISam 175 Emx1-IRES-Cre 167 49\n",
      "VISam 175 Slc17a7-IRES2-Cre 235 51\n",
      "VISam 275 Cux2-CreERT2 997 339\n",
      "VISam 275 Emx1-IRES-Cre 195 22\n",
      "VISam 275 Rorb-IRES2-Cre 735 252\n",
      "VISam 320 Nr5a1-Cre 5 2\n",
      "VISam 325 Nr5a1-Cre 75 24\n",
      "VISam 350 Nr5a1-Cre 91 13\n",
      "VISam 375 Emx1-IRES-Cre 95 30\n",
      "VISam 375 Rbp4-Cre_KL100 355 136\n",
      "VISl 175 Cux2-CreERT2 1208 399\n",
      "VISl 175 Emx1-IRES-Cre 1122 453\n",
      "VISl 175 Slc17a7-IRES2-Cre 1115 342\n",
      "VISl 175 Vip-IRES-Cre 161 13\n",
      "VISl 250 Sst-IRES-Cre 56 40\n",
      "VISl 250 Vip-IRES-Cre 27 0\n",
      "VISl 275 Cux2-CreERT2 1584 576\n",
      "VISl 275 Emx1-IRES-Cre 976 359\n",
      "VISl 275 Pvalb-IRES-Cre 139 0\n",
      "VISl 275 Rorb-IRES2-Cre 1191 391\n",
      "VISl 275 Slc17a7-IRES2-Cre 1645 687\n",
      "VISl 275 Sst-IRES-Cre 108 74\n",
      "VISl 275 Vip-IRES-Cre 127 26\n",
      "VISl 325 Nr5a1-Cre 33 5\n",
      "VISl 350 Nr5a1-Cre 388 62\n",
      "VISl 375 Fezf2-CreER 805 321\n",
      "VISl 375 Rbp4-Cre_KL100 485 199\n",
      "VISl 375 Slc17a7-IRES2-Cre 470 231\n",
      "VISl 375 Sst-IRES-Cre 137 56\n",
      "VISl 375 Tlx3-Cre_PL56 946 406\n",
      "VISl 400 Fezf2-CreER 176 85\n",
      "VISl 550 Ntsr1-Cre_GN220 502 152\n",
      "VISl 570 Ntsr1-Cre_GN220 35 2\n",
      "VISl 625 Ntsr1-Cre_GN220 182 75\n",
      "VISp 175 Cux2-CreERT2 2419 732\n",
      "VISp 175 Emx1-IRES-Cre 931 341\n",
      "VISp 175 Pvalb-IRES-Cre 52 0\n",
      "VISp 175 Slc17a7-IRES2-Cre 1837 539\n",
      "VISp 175 Vip-IRES-Cre 157 5\n",
      "VISp 185 Pvalb-IRES-Cre 14 0\n",
      "VISp 195 Pvalb-IRES-Cre 13 0\n",
      "VISp 200 Pvalb-IRES-Cre 11 0\n",
      "VISp 205 Slc17a7-IRES2-Cre 1015 0\n",
      "VISp 225 Pvalb-IRES-Cre 28 0\n",
      "VISp 265 Sst-IRES-Cre 27 7\n",
      "VISp 275 Cux2-CreERT2 2662 1181\n",
      "VISp 275 Emx1-IRES-Cre 1043 509\n",
      "VISp 275 Pvalb-IRES-Cre 155 0\n",
      "VISp 275 Rorb-IRES2-Cre 2218 1013\n",
      "VISp 275 Scnn1a-Tg3-Cre 269 110\n",
      "VISp 275 Slc17a7-IRES2-Cre 2122 993\n",
      "VISp 275 Sst-IRES-Cre 113 74\n",
      "VISp 275 Vip-IRES-Cre 195 12\n",
      "VISp 285 Sst-IRES-Cre 19 13\n",
      "VISp 335 Nr5a1-Cre 106 24\n",
      "VISp 335 Scnn1a-Tg3-Cre 123 17\n",
      "VISp 350 Nr5a1-Cre 472 122\n",
      "VISp 350 Scnn1a-Tg3-Cre 1481 390\n",
      "VISp 350 Sst-IRES-Cre 29 21\n",
      "VISp 375 Emx1-IRES-Cre 1099 414\n",
      "VISp 375 Fezf2-CreER 96 43\n",
      "VISp 375 Pvalb-IRES-Cre 49 0\n",
      "VISp 375 Rbp4-Cre_KL100 458 210\n",
      "VISp 375 Slc17a7-IRES2-Cre 1285 586\n",
      "VISp 375 Sst-IRES-Cre 78 52\n",
      "VISp 375 Tlx3-Cre_PL56 1181 401\n",
      "VISp 390 Fezf2-CreER 109 57\n",
      "VISp 400 Fezf2-CreER 202 111\n",
      "VISp 550 Ntsr1-Cre_GN220 573 242\n",
      "VISpm 175 Cux2-CreERT2 1433 404\n",
      "VISpm 175 Emx1-IRES-Cre 422 104\n",
      "VISpm 175 Slc17a7-IRES2-Cre 581 155\n",
      "VISpm 175 Vip-IRES-Cre 182 48\n",
      "VISpm 275 Cux2-CreERT2 928 258\n",
      "VISpm 275 Emx1-IRES-Cre 308 62\n",
      "VISpm 275 Rorb-IRES2-Cre 764 255\n",
      "VISpm 275 Slc17a7-IRES2-Cre 551 156\n",
      "VISpm 275 Sst-IRES-Cre 113 58\n",
      "VISpm 275 Vip-IRES-Cre 205 62\n",
      "VISpm 300 Nr5a1-Cre 23 2\n",
      "VISpm 300 Sst-IRES-Cre 19 9\n",
      "VISpm 325 Nr5a1-Cre 49 13\n",
      "VISpm 325 Sst-IRES-Cre 27 19\n",
      "VISpm 335 Nr5a1-Cre 65 7\n",
      "VISpm 350 Nr5a1-Cre 194 43\n",
      "VISpm 350 Sst-IRES-Cre 6 4\n",
      "VISpm 375 Emx1-IRES-Cre 105 53\n",
      "VISpm 375 Rbp4-Cre_KL100 509 198\n",
      "VISpm 375 Slc17a7-IRES2-Cre 838 299\n",
      "VISpm 375 Sst-IRES-Cre 82 30\n",
      "VISpm 550 Ntsr1-Cre_GN220 330 116\n",
      "VISpm 570 Ntsr1-Cre_GN220 103 19\n",
      "VISpm 625 Ntsr1-Cre_GN220 148 52\n",
      "VISrl 175 Cux2-CreERT2 677 107\n",
      "VISrl 175 Emx1-IRES-Cre 1080 100\n",
      "VISrl 175 Slc17a7-IRES2-Cre 65 17\n",
      "VISrl 275 Cux2-CreERT2 1152 194\n",
      "VISrl 275 Emx1-IRES-Cre 1516 209\n",
      "VISrl 275 Rorb-IRES2-Cre 1464 188\n",
      "VISrl 275 Sst-IRES-Cre 37 15\n",
      "VISrl 350 Nr5a1-Cre 1658 249\n",
      "VISrl 375 Emx1-IRES-Cre 415 22\n",
      "VISrl 375 Rbp4-Cre_KL100 102 22\n",
      "VISrl 375 Slc17a7-IRES2-Cre 72 21\n",
      "VISrl 375 Sst-IRES-Cre 9 3\n"
     ]
    }
   ],
   "source": [
    "exps = boc.get_ophys_experiments(stimuli=[stim_info.DRIFTING_GRATINGS])\n",
    "exps = pd.DataFrame.from_dict(exps)\n",
    "cells = boc.get_cell_specimens()\n",
    "cells = pd.DataFrame.from_records(cells)\n",
    "dg_response_filter = get_dg_response_filter_from_saskia()\n",
    "\n",
    "for brain_area in brain_areas:\n",
    "    for depth in depths:\n",
    "        for cell_type in boc.get_all_cre_lines():\n",
    "            if len(exps[\n",
    "                (exps['targeted_structure'] == brain_area) &\n",
    "                (exps['imaging_depth'] == depth) &\n",
    "                (exps['cre_line'] == cell_type)\n",
    "                ]) == 0:\n",
    "                continue\n",
    "            \n",
    "            in_category_cells = get_cells(boc, cells, brain_area, depth, cell_type)\n",
    "            \n",
    "            if len(in_category_cells) == 0:\n",
    "                continue\n",
    "            cell_count_before_responsive_filter = len(in_category_cells)\n",
    "            responsive_cells = get_filtered_cells(in_category_cells, dg_response_filter)\n",
    "            cell_count_after_responsive_filter = len(responsive_cells)\n",
    "            print (brain_area,\n",
    "                   depth,\n",
    "                   cell_type,\n",
    "                   cell_count_before_responsive_filter,\n",
    "                   cell_count_after_responsive_filter )"
   ]
  }
 ],
 "metadata": {
  "kernelspec": {
   "display_name": "Python 3",
   "language": "python",
   "name": "python3"
  },
  "language_info": {
   "codemirror_mode": {
    "name": "ipython",
    "version": 3
   },
   "file_extension": ".py",
   "mimetype": "text/x-python",
   "name": "python",
   "nbconvert_exporter": "python",
   "pygments_lexer": "ipython3",
   "version": "3.7.3"
  }
 },
 "nbformat": 4,
 "nbformat_minor": 2
}

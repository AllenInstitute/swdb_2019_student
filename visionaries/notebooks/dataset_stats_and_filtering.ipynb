{
 "cells": [
  {
   "cell_type": "markdown",
   "metadata": {},
   "source": [
    "Set your drive path here"
   ]
  },
  {
   "cell_type": "code",
   "execution_count": 1,
   "metadata": {},
   "outputs": [],
   "source": [
    "drive_path = '/media/stephen/Brain20191/allen-brain-observatory/visual-coding-2p/'"
   ]
  },
  {
   "cell_type": "code",
   "execution_count": 2,
   "metadata": {},
   "outputs": [],
   "source": [
    "import os\n",
    "import pandas as pd\n",
    "from allensdk.core.brain_observatory_cache import BrainObservatoryCache\n",
    "import allensdk.brain_observatory.stimulus_info as stim_info\n",
    "from utils.data_wrappers import *\n",
    "manifest_file = os.path.join(drive_path,'manifest.json')\n",
    "boc = BrainObservatoryCache(manifest_file=manifest_file)\n"
   ]
  },
  {
   "cell_type": "markdown",
   "metadata": {},
   "source": [
    "Print the various values for brain area, layer, celltype"
   ]
  },
  {
   "cell_type": "code",
   "execution_count": 3,
   "metadata": {},
   "outputs": [
    {
     "data": {
      "text/plain": [
       "['VISal', 'VISam', 'VISl', 'VISp', 'VISpm', 'VISrl']"
      ]
     },
     "execution_count": 3,
     "metadata": {},
     "output_type": "execute_result"
    }
   ],
   "source": [
    "brain_areas = boc.get_all_targeted_structures()\n",
    "brain_areas"
   ]
  },
  {
   "cell_type": "code",
   "execution_count": 4,
   "metadata": {},
   "outputs": [
    {
     "data": {
      "text/plain": [
       "[175,\n",
       " 185,\n",
       " 195,\n",
       " 200,\n",
       " 205,\n",
       " 225,\n",
       " 250,\n",
       " 265,\n",
       " 275,\n",
       " 276,\n",
       " 285,\n",
       " 300,\n",
       " 320,\n",
       " 325,\n",
       " 335,\n",
       " 350,\n",
       " 365,\n",
       " 375,\n",
       " 390,\n",
       " 400,\n",
       " 550,\n",
       " 570,\n",
       " 625]"
      ]
     },
     "execution_count": 4,
     "metadata": {},
     "output_type": "execute_result"
    }
   ],
   "source": [
    "depths = boc.get_all_imaging_depths()\n",
    "depths"
   ]
  },
  {
   "cell_type": "code",
   "execution_count": 5,
   "metadata": {},
   "outputs": [
    {
     "data": {
      "text/plain": [
       "['Cux2-CreERT2',\n",
       " 'Emx1-IRES-Cre',\n",
       " 'Fezf2-CreER',\n",
       " 'Nr5a1-Cre',\n",
       " 'Ntsr1-Cre_GN220',\n",
       " 'Pvalb-IRES-Cre',\n",
       " 'Rbp4-Cre_KL100',\n",
       " 'Rorb-IRES2-Cre',\n",
       " 'Scnn1a-Tg3-Cre',\n",
       " 'Slc17a7-IRES2-Cre',\n",
       " 'Sst-IRES-Cre',\n",
       " 'Tlx3-Cre_PL56',\n",
       " 'Vip-IRES-Cre']"
      ]
     },
     "execution_count": 5,
     "metadata": {},
     "output_type": "execute_result"
    }
   ],
   "source": [
    "cell_types = boc.get_all_cre_lines()\n",
    "cell_types"
   ]
  },
  {
   "cell_type": "markdown",
   "metadata": {},
   "source": [
    "Experiment counts by brain area, layer, cell type"
   ]
  },
  {
   "cell_type": "code",
   "execution_count": 6,
   "metadata": {},
   "outputs": [
    {
     "data": {
      "text/plain": [
       "targeted_structure  imaging_depth  cre_line         \n",
       "VISal               175            Cux2-CreERT2         6\n",
       "                                   Emx1-IRES-Cre        2\n",
       "                                   Slc17a7-IRES2-Cre    1\n",
       "                    265            Emx1-IRES-Cre        1\n",
       "                    275            Cux2-CreERT2         6\n",
       "                                   Emx1-IRES-Cre        1\n",
       "                                   Rorb-IRES2-Cre       6\n",
       "                                   Slc17a7-IRES2-Cre    1\n",
       "                                   Sst-IRES-Cre         1\n",
       "                    276            Cux2-CreERT2         1\n",
       "                    300            Nr5a1-Cre            1\n",
       "                    350            Nr5a1-Cre            5\n",
       "                    365            Emx1-IRES-Cre        1\n",
       "                    375            Emx1-IRES-Cre        2\n",
       "                                   Rbp4-Cre_KL100       6\n",
       "VISam               175            Cux2-CreERT2         5\n",
       "                                   Emx1-IRES-Cre        1\n",
       "                                   Slc17a7-IRES2-Cre    2\n",
       "                    275            Cux2-CreERT2         6\n",
       "                                   Emx1-IRES-Cre        1\n",
       "                                   Rorb-IRES2-Cre       8\n",
       "                    320            Nr5a1-Cre            1\n",
       "                    325            Nr5a1-Cre            1\n",
       "                    350            Nr5a1-Cre            4\n",
       "                    375            Emx1-IRES-Cre        1\n",
       "                                   Rbp4-Cre_KL100       8\n",
       "VISl                175            Cux2-CreERT2         6\n",
       "                                   Emx1-IRES-Cre        5\n",
       "                                   Slc17a7-IRES2-Cre    6\n",
       "                                   Vip-IRES-Cre         8\n",
       "                                                       ..\n",
       "VISpm               275            Rorb-IRES2-Cre       7\n",
       "                                   Slc17a7-IRES2-Cre    4\n",
       "                                   Sst-IRES-Cre         6\n",
       "                                   Vip-IRES-Cre         9\n",
       "                    300            Nr5a1-Cre            1\n",
       "                                   Sst-IRES-Cre         1\n",
       "                    325            Nr5a1-Cre            1\n",
       "                                   Sst-IRES-Cre         1\n",
       "                    335            Nr5a1-Cre            1\n",
       "                    350            Nr5a1-Cre            4\n",
       "                                   Sst-IRES-Cre         1\n",
       "                    375            Emx1-IRES-Cre        1\n",
       "                                   Rbp4-Cre_KL100       6\n",
       "                                   Slc17a7-IRES2-Cre    6\n",
       "                                   Sst-IRES-Cre         5\n",
       "                    550            Ntsr1-Cre_GN220      3\n",
       "                    570            Ntsr1-Cre_GN220      1\n",
       "                    625            Ntsr1-Cre_GN220      1\n",
       "VISrl               175            Cux2-CreERT2         6\n",
       "                                   Emx1-IRES-Cre        4\n",
       "                                   Slc17a7-IRES2-Cre    1\n",
       "                    275            Cux2-CreERT2         6\n",
       "                                   Emx1-IRES-Cre        4\n",
       "                                   Rorb-IRES2-Cre       5\n",
       "                                   Sst-IRES-Cre         1\n",
       "                    350            Nr5a1-Cre            6\n",
       "                    375            Emx1-IRES-Cre        1\n",
       "                                   Rbp4-Cre_KL100       4\n",
       "                                   Slc17a7-IRES2-Cre    1\n",
       "                                   Sst-IRES-Cre         1\n",
       "Name: id, Length: 121, dtype: int64"
      ]
     },
     "execution_count": 6,
     "metadata": {},
     "output_type": "execute_result"
    }
   ],
   "source": [
    "exps = boc.get_ophys_experiments(stimuli=[stim_info.DRIFTING_GRATINGS])\n",
    "exps_df = pd.DataFrame.from_dict(exps)\n",
    "exps_df.groupby(['targeted_structure', 'imaging_depth', 'cre_line'])['id'].count()"
   ]
  },
  {
   "cell_type": "markdown",
   "metadata": {},
   "source": [
    "Show cell counts before and after filtering.\n",
    "See https://pastebin.com/NGzvE0Ky for result"
   ]
  },
  {
   "cell_type": "code",
   "execution_count": null,
   "metadata": {},
   "outputs": [],
   "source": [
    "exps = boc.get_ophys_experiments(stimuli=[stim_info.DRIFTING_GRATINGS])\n",
    "exps = pd.DataFrame.from_dict(exps)\n",
    "cells = boc.get_cell_specimens()\n",
    "cells = pd.DataFrame.from_records(cells)\n",
    "dg_response_filter = get_dg_response_filter_from_saskia()\n",
    "\n",
    "for brain_area in brain_areas:\n",
    "    for depth in depths:\n",
    "        for cell_type in boc.get_all_cre_lines():\n",
    "            if len(exps[\n",
    "                (exps['targeted_structure'] == brain_area) &\n",
    "                (exps['imaging_depth'] == depth) &\n",
    "                (exps['cre_line'] == cell_type)\n",
    "                ]) == 0:\n",
    "                continue\n",
    "            \n",
    "            in_category_cells = get_cells(boc, cells, brain_area, depth, cell_type)\n",
    "            \n",
    "            if len(in_category_cells) == 0:\n",
    "                continue\n",
    "            cell_count_before_responsive_filter = len(in_category_cells)\n",
    "            responsive_cells = get_filtered_cells(in_category_cells, dg_response_filter)\n",
    "            cell_count_after_responsive_filter = len(responsive_cells)\n",
    "            print (brain_area,\n",
    "                   depth,\n",
    "                   cell_type,\n",
    "                   cell_count_before_responsive_filter,\n",
    "                   cell_count_after_responsive_filter )"
   ]
  }
 ],
 "metadata": {
  "kernelspec": {
   "display_name": "Python 3",
   "language": "python",
   "name": "python3"
  },
  "language_info": {
   "codemirror_mode": {
    "name": "ipython",
    "version": 3
   },
   "file_extension": ".py",
   "mimetype": "text/x-python",
   "name": "python",
   "nbconvert_exporter": "python",
   "pygments_lexer": "ipython3",
   "version": "3.7.3"
  }
 },
 "nbformat": 4,
 "nbformat_minor": 2
}

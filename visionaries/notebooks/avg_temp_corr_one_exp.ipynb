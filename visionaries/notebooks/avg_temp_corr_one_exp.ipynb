{
 "cells": [
  {
   "cell_type": "markdown",
   "metadata": {},
   "source": [
    "Get the average temporal correlation values of all the spontaneous activities in one exp for 2 cells"
   ]
  },
  {
   "cell_type": "code",
   "execution_count": 64,
   "metadata": {},
   "outputs": [],
   "source": [
    "# ec_id = 511510650\n",
    "eid = 501836392 #501886692 three_session_B 501836392 three_session_A 501717543 three_session_C\n",
    "c1 = 517419703 \n",
    "c2 = 517419533 "
   ]
  },
  {
   "cell_type": "markdown",
   "metadata": {},
   "source": [
    "Get exps for these cells"
   ]
  },
  {
   "cell_type": "code",
   "execution_count": 55,
   "metadata": {},
   "outputs": [],
   "source": [
    "# List of stimulus info = https://github.com/AllenInstitute/AllenSDK/blob/63f7bb8a826a05cab49723904aa8b89c1e08687d/allensdk/brain_observatory/stimulus_info.py\n",
    "cell_exps = boc.get_ophys_experiments(cell_specimen_ids=[c1],\n",
    "                                     stimuli=[stim_info.SPONTANEOUS_ACTIVITY])\n",
    "                                     #experiment_container_ids=[511510650])\n",
    "#cell_exps"
   ]
  },
  {
   "cell_type": "code",
   "execution_count": 65,
   "metadata": {},
   "outputs": [],
   "source": [
    "import os\n",
    "drive_path = '/media/stephen/Brain20191/allen-brain-observatory/visual-coding-2p/'\n",
    "if not os.path.isdir(drive_path):\n",
    "    drive_path = '/media/alihamodi/Brain2019/allen-brain-observatory/visual-coding-2p/'\n",
    "    \n",
    "import warnings;\n",
    "warnings.simplefilter('ignore');\n",
    "import os\n",
    "import pandas as pd\n",
    "from allensdk.core.brain_observatory_cache import BrainObservatoryCache\n",
    "import allensdk.brain_observatory.stimulus_info as stim_info\n",
    "from utils.data_wrappers import *\n",
    "from utils.polardata import *\n",
    "from utils.polarplot import *\n",
    "manifest_file = os.path.join(drive_path,'manifest.json')\n",
    "boc = BrainObservatoryCache(manifest_file=manifest_file)"
   ]
  },
  {
   "cell_type": "code",
   "execution_count": 70,
   "metadata": {},
   "outputs": [
    {
     "data": {
      "text/plain": [
       "-0.0019509815338686607"
      ]
     },
     "execution_count": 70,
     "metadata": {},
     "output_type": "execute_result"
    }
   ],
   "source": [
    "from scipy.stats import pearsonr\n",
    "\n",
    "def avg_temp_corr_one_exp(boc, eid, c1, c2):\n",
    "    \"\"\"For one experiment, get the spontaneous presentations, for each one get temporal correlation of\n",
    "    the two cells, then average all these temporal correlations.\n",
    "    I checked that sesh A and B just have 1 spontaenous preso, session C have 2.\n",
    "    So, only the big grey chunks are counted. The small ones aren't.\n",
    "    \"\"\"\n",
    "    data_set = boc.get_ophys_experiment_data(eid)\n",
    "\n",
    "    try: \n",
    "        cidxs = data_set.get_cell_specimen_indices([c1, c2])\n",
    "    except Exception as inst:\n",
    "        return None\n",
    "\n",
    "    events = boc.get_ophys_experiment_events(ophys_experiment_id=eid)\n",
    "    cidx1 = cidxs[0]\n",
    "    cidx2 = cidxs[1]\n",
    "    events1 = events[cidx1,:]\n",
    "    events2 = events[cidx2,:]\n",
    "\n",
    "    stim_table = data_set.get_stimulus_table('spontaneous') \n",
    "\n",
    "    # Each item is a temporal correlation of a single spontaneous presentation\n",
    "    temp_corr_lists = []\n",
    "    for i in range(len(stim_table)):\n",
    "        start = stim_table.start[i]\n",
    "        end = stim_table.end[i]\n",
    "        ts1 = events1[start:end]\n",
    "        ts2 = events2[start:end]\n",
    "        temp_corr, p_value = pearsonr(ts1, ts2)\n",
    "        temp_corr_lists.append(temp_corr)\n",
    "    if len(temp_corr_lists) == 0:\n",
    "        return None\n",
    "    return np.mean(temp_corr_lists)\n",
    "\n",
    "avg_temp_corr_one_exp(boc, eid, c1, c2)"
   ]
  },
  {
   "cell_type": "code",
   "execution_count": null,
   "metadata": {},
   "outputs": [],
   "source": []
  }
 ],
 "metadata": {
  "kernelspec": {
   "display_name": "Python 3",
   "language": "python",
   "name": "python3"
  },
  "language_info": {
   "codemirror_mode": {
    "name": "ipython",
    "version": 3
   },
   "file_extension": ".py",
   "mimetype": "text/x-python",
   "name": "python",
   "nbconvert_exporter": "python",
   "pygments_lexer": "ipython3",
   "version": "3.7.3"
  }
 },
 "nbformat": 4,
 "nbformat_minor": 2
}

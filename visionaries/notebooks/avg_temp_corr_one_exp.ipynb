{
 "cells": [
  {
   "cell_type": "markdown",
   "metadata": {},
   "source": [
    "Get the average temporal correlation values of all the spontaneous activities in one exp for 2 cells"
   ]
  },
  {
   "cell_type": "code",
   "execution_count": 5,
   "metadata": {},
   "outputs": [],
   "source": [
    "# ec_id = 511510650\n",
    "eid = 501836392 #501886692 three_session_B 501836392 three_session_A 501717543 three_session_C\n",
    "c1 = 517419703 \n",
    "c2 = 517419533 "
   ]
  },
  {
   "cell_type": "code",
   "execution_count": 6,
   "metadata": {},
   "outputs": [],
   "source": [
    "import os\n",
    "drive_path = '/media/stephen/Brain20191/allen-brain-observatory/visual-coding-2p/'\n",
    "if not os.path.isdir(drive_path):\n",
    "    drive_path = '/media/alihamodi/Brain2019/allen-brain-observatory/visual-coding-2p/'\n",
    "    \n",
    "import warnings;\n",
    "warnings.simplefilter('ignore');\n",
    "import os\n",
    "import pandas as pd\n",
    "from allensdk.core.brain_observatory_cache import BrainObservatoryCache\n",
    "import allensdk.brain_observatory.stimulus_info as stim_info\n",
    "from utils.data_wrappers import *\n",
    "from utils.polardata import *\n",
    "from utils.polarplot import *\n",
    "manifest_file = os.path.join(drive_path,'manifest.json')\n",
    "boc = BrainObservatoryCache(manifest_file=manifest_file)"
   ]
  },
  {
   "cell_type": "code",
   "execution_count": 7,
   "metadata": {},
   "outputs": [
    {
     "data": {
      "text/plain": [
       "-0.0019509815338686607"
      ]
     },
     "execution_count": 7,
     "metadata": {},
     "output_type": "execute_result"
    }
   ],
   "source": [
    "from utils.data_wrappers import *\n",
    "avg_temp_corr_one_exp(boc, eid, c1, c2)"
   ]
  },
  {
   "cell_type": "code",
   "execution_count": null,
   "metadata": {},
   "outputs": [],
   "source": []
  }
 ],
 "metadata": {
  "kernelspec": {
   "display_name": "Python 3",
   "language": "python",
   "name": "python3"
  },
  "language_info": {
   "codemirror_mode": {
    "name": "ipython",
    "version": 3
   },
   "file_extension": ".py",
   "mimetype": "text/x-python",
   "name": "python",
   "nbconvert_exporter": "python",
   "pygments_lexer": "ipython3",
   "version": "3.7.3"
  }
 },
 "nbformat": 4,
 "nbformat_minor": 2
}

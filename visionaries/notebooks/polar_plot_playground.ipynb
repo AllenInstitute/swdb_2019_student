{
 "cells": [
  {
   "cell_type": "markdown",
   "metadata": {},
   "source": [
    "This section is just a playground for me to play with 1 polar plot."
   ]
  },
  {
   "cell_type": "code",
   "execution_count": 2,
   "metadata": {},
   "outputs": [],
   "source": [
    "from utils.polarplot_util import *\n",
    "\n",
    "theta = np.radians([0,90, 180, 270, 0])\n",
    "r = [1.0,0.3, 0.5, 1.0, 1.0]\n",
    "\n",
    "theta2 = np.radians([0,90, 180, 270, 0])\n",
    "r2 = [0.5,0.5, 0.3, 0.5, 0.5]\n",
    "\n",
    "fig, axes = plt.subplots(nrows=1, ncols=1, subplot_kw=dict(polar=True))\n",
    "\n",
    "# Because default is 0 pointing to east, we want 0 at north.\n",
    "axes.set_theta_zero_location('N')\n",
    "# Default is ccw, we want cw\n",
    "axes.set_theta_direction(-1)\n",
    "\n",
    "# How often to show the 0 ... 1.0 gradation in r values.\n",
    "axes.set_yticks([])\n",
    "axes.set_xticks(np.radians([0,45,90,135,180,225,270,315]))\n",
    "# If you want to turn on / off the gray scaling circles and r grids\n",
    "axes.grid(False)\n",
    "\n",
    "p = axes.plot(theta, r, color='black', ls='-', linewidth=3)\n",
    "p2 = axes.plot(theta2, r2, color='gray', ls='-', linewidth=2)\n",
    "#p[0].MarkerSize = 10\n",
    "# So enclosed region is grey instead of blank / white.\n",
    "#ax.fill(theta,r,'0.75')"
   ]
  },
  {
   "cell_type": "markdown",
   "metadata": {},
   "source": [
    "This section is a working polar plot function, but just 1 polar data"
   ]
  },
  {
   "cell_type": "code",
   "execution_count": null,
   "metadata": {},
   "outputs": [],
   "source": [
    "import matplotlib.pyplot as plt\n",
    "import numpy as np \n",
    "\n",
    "# Inputs\n",
    "theta = np.radians([0,90, 180, 270])\n",
    "r = [1.0,0.3, 0.5, 1.0]\n",
    "\n",
    "theta2 = np.radians([0,90, 180, 270])\n",
    "r2 = [0.5,0.5, 0.3, 0.5]\n",
    "\n",
    "theta3 = np.radians([0,90, 180, 270])\n",
    "r3 = [0.4,0.4, 0.4, 0.4]\n",
    "    \n",
    "fig, axes = plt.subplots(nrows=1, ncols=1, subplot_kw=dict(polar=True))\n",
    "polar_plot(axes, theta2, r2, color='grey', linewidth=2)\n",
    "polar_plot(axes, theta3, r3, color='grey', linewidth=2)\n",
    "polar_plot(axes, theta, r, color='black', linewidth=4)\n",
    "\n",
    "fig, axes = plt.subplots(nrows=1, ncols=1, subplot_kw=dict(polar=True))\n",
    "polar_plot(axes, theta, r, color='black', linewidth=4)\n",
    "fig, axes = plt.subplots(nrows=1, ncols=1, subplot_kw=dict(polar=True))\n",
    "polar_plot(axes, theta2, r2, color='grey', linewidth=2)"
   ]
  },
  {
   "cell_type": "markdown",
   "metadata": {},
   "source": [
    "We now make a function that make multiple polar plots in the same subplot"
   ]
  },
  {
   "cell_type": "code",
   "execution_count": null,
   "metadata": {},
   "outputs": [],
   "source": [
    "fig, axes = plt.subplots(nrows=1, ncols=1, subplot_kw=dict(polar=True))\n",
    "polar_plot_population(axes, theta, r, [theta2, theta3], [r2, r3])"
   ]
  },
  {
   "cell_type": "markdown",
   "metadata": {},
   "source": [
    "Brain area chart"
   ]
  },
  {
   "cell_type": "code",
   "execution_count": null,
   "metadata": {},
   "outputs": [],
   "source": [
    "def plot_brain_area_chart(brain_area, layers, celltypes, polar_data):\n",
    "    \"\"\"\n",
    "    - brain_area (string): e.g. 'V1'\n",
    "    - layers (string[]): Order of layers, where each row = 1 layer. E.g. 'L2/3'\n",
    "    - celltypes {string[]}: Order of columns, where each column = 1 celltype. E.g. 'SST'\n",
    "    - polar_data ({(layer, celltype) -> (angle in degree, intensity)[]}}:\n",
    "        E.g. {('L1', 'SST') -> [(90, 1.0), (270, 0.5)]}\n",
    "    \"\"\"\n",
    "    fig, axes = plt.subplots(nrows=len(layers), ncols=len(celltypes), figsize=(5,5), subplot_kw=dict(polar=True))\n",
    "    fig.suptitle(brain_area, fontsize=32, y = 1.1)\n",
    "    \n",
    "    for ax, celltype in zip(axes[0], celltypes):\n",
    "        ax.set_title(celltype, fontsize=16, y = 1.3)\n",
    "\n",
    "    for ax, layer in zip(axes[:,0], layers):\n",
    "        ax.set_ylabel(layer, rotation=0, fontsize=16, labelpad = 50)\n",
    "    \n",
    "    for ax in axes.flatten():\n",
    "        ax.axis('off')\n",
    "    \n",
    "    for (layer, celltype) in polar_data:\n",
    "        # Get the axis given layer and celltype, then plot\n",
    "        layer_id = layers.index(layer)\n",
    "        celltype_id = celltypes.index(celltype)\n",
    "        theta, r = zip(*polar_data[(layer, celltype)]) \n",
    "        theta = np.radians(theta)\n",
    "        ax = axes[layer_id, celltype_id]\n",
    "        ax.axis('on')\n",
    "        polar_plot(ax, theta, r)\n",
    "        \n",
    "    fig.tight_layout()\n",
    "\n",
    "mock_polar_data = [\n",
    "    (0, 1.0),\n",
    "    (90,0.3),\n",
    "    (180,0.5),\n",
    "    (270,1.0)\n",
    "]\n",
    "    \n",
    "mock_data = {\n",
    "    ('L2/3', 'E'): mock_polar_data,\n",
    "    ('L2/3', 'SST'): mock_polar_data,\n",
    "    ('L2/3', 'VIP'): mock_polar_data,\n",
    "    ('L2/3', 'PV'): mock_polar_data,\n",
    "    ('L4', 'E'): mock_polar_data,\n",
    "    ('L4', 'PV'): mock_polar_data,\n",
    "    ('L5', 'E'): mock_polar_data,\n",
    "    ('L6', 'E'): mock_polar_data,\n",
    "}\n",
    "\n",
    "plot_brain_area_chart(\n",
    "    brain_area = 'V1',\n",
    "    layers = ['L2/3', 'L4', 'L5', 'L6'],\n",
    "    celltypes = ['E', 'SST', 'VIP', 'PV'],\n",
    "    polar_data = mock_data\n",
    ")\n",
    "\n",
    "plot_brain_area_chart(\n",
    "    brain_area = 'LM',\n",
    "    layers = ['L2/3', 'L4', 'L5', 'L6'],\n",
    "    celltypes = ['E', 'SST', 'VIP', 'PV'],\n",
    "    polar_data = mock_data\n",
    ")\n",
    "    "
   ]
  },
  {
   "cell_type": "markdown",
   "metadata": {},
   "source": [
    "Filtered dataframe rows to polar_data"
   ]
  },
  {
   "cell_type": "code",
   "execution_count": null,
   "metadata": {},
   "outputs": [],
   "source": [
    "import pandas as pd\n",
    "def cell_df_to_median_polar(cell_df):\n",
    "    \"\"\"\n",
    "    Input:\n",
    "    - cell_df (DataFrame) - each row is one cell. columns = [angle, magnitude].\n",
    "    TODO(sjoe): Pick the right df column names, and update angle and magnitude\n",
    "    Output:\n",
    "    - list<(angle in degree, median intensity for this angle)>\n",
    "    \"\"\"\n",
    "    grouped_df = cell_df.groupby('angle').median()\n",
    "    result = []\n",
    "    for index, row in grouped_df.iterrows():\n",
    "        result.append((index, row['magnitude']))\n",
    "    return result\n",
    "cell_dict = [\n",
    "    {'angle': 180, 'magnitude': 0.0},\n",
    "    {'angle': 180, 'magnitude': 1.0},\n",
    "    {'angle': 180, 'magnitude': 0.5},\n",
    "    {'angle': 90, 'magnitude': 1.0},\n",
    "    {'angle': 90, 'magnitude': 0.0},\n",
    "    {'angle': 90, 'magnitude': 3.0},\n",
    "    {'angle': 90, 'magnitude': 5.0},\n",
    "    {'angle': 270, 'magnitude': 1.0}\n",
    "]\n",
    "\n",
    "df = pd.DataFrame(cell_dict)\n",
    "cell_df_to_median_polar(df)"
   ]
  },
  {
   "cell_type": "code",
   "execution_count": null,
   "metadata": {},
   "outputs": [],
   "source": []
  }
 ],
 "metadata": {
  "kernelspec": {
   "display_name": "Python 3",
   "language": "python",
   "name": "python3"
  },
  "language_info": {
   "codemirror_mode": {
    "name": "ipython",
    "version": 3
   },
   "file_extension": ".py",
   "mimetype": "text/x-python",
   "name": "python",
   "nbconvert_exporter": "python",
   "pygments_lexer": "ipython3",
   "version": "3.7.3"
  }
 },
 "nbformat": 4,
 "nbformat_minor": 2
}

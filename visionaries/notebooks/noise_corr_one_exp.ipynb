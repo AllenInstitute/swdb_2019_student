{
 "cells": [
  {
   "cell_type": "code",
   "execution_count": 13,
   "metadata": {},
   "outputs": [],
   "source": [
    "import math\n",
    "# ec_id = 511510650\n",
    "eid = 501836392 #501886692 three_session_B 501836392 three_session_A 501717543 three_session_C\n",
    "c1 = 517419703 \n",
    "c2 = 517419533 \n",
    "use_events = True"
   ]
  },
  {
   "cell_type": "code",
   "execution_count": 14,
   "metadata": {},
   "outputs": [],
   "source": [
    "import os\n",
    "drive_path = '/media/stephen/Brain20191/allen-brain-observatory/visual-coding-2p/'\n",
    "if not os.path.isdir(drive_path):\n",
    "    drive_path = '/media/alihamodi/Brain2019/allen-brain-observatory/visual-coding-2p/'\n",
    "    \n",
    "import warnings;\n",
    "warnings.simplefilter('ignore');\n",
    "import os\n",
    "import pandas as pd\n",
    "from allensdk.core.brain_observatory_cache import BrainObservatoryCache\n",
    "import allensdk.brain_observatory.stimulus_info as stim_info\n",
    "from utils.data_wrappers import *\n",
    "from utils.polardata import *\n",
    "from utils.polarplot import *\n",
    "manifest_file = os.path.join(drive_path,'manifest.json')\n",
    "boc = BrainObservatoryCache(manifest_file=manifest_file)"
   ]
  },
  {
   "cell_type": "code",
   "execution_count": 15,
   "metadata": {},
   "outputs": [
    {
     "name": "stdout",
     "output_type": "stream",
     "text": [
      "[0.0001603135947213615, 0.00013505601776856786, 6.163491096731715e-05, 6.579635567553524e-05, 0.0003792031192549915, 0.0001463015617968356, 5.202832565913244e-05, 0.0002693655542786989, 0.0, 0.00012311738651705486] [0.000684910201388231, 0.0004941963345247459, 0.002225980057041331, 0.0013739206231091782, 0.0009550773157904573, 0.0011127031385570131, 9.169894116931984e-05, 0.0010059844543862243, 0.00043158589932003474, 0.0005727159410732]\n"
     ]
    },
    {
     "data": {
      "text/plain": [
       "0.04776686696429075"
      ]
     },
     "execution_count": 15,
     "metadata": {},
     "output_type": "execute_result"
    }
   ],
   "source": [
    "\n",
    "\"\"\"For one experiment, get the movie presentations, for each one get temporal correlation of\n",
    "the two cells, then average all these temporal correlations.\n",
    "Note about spontaneous:\n",
    "I checked that sesh A and B just have 1 spontaenous preso, session C have 2.\n",
    "So, only the big grey chunks are counted. The small ones aren't.\n",
    "Note about movies:\n",
    "Each row in stim table for the movie is a frame of a particular trial\n",
    "Trial number = repeat. \n",
    "I'm just using natural movie 1 because it exists in all experiments.\n",
    "See http://alleninstitute.github.io/AllenSDK/_static/container_session_layout.png\n",
    "\"\"\"\n",
    "data_set = boc.get_ophys_experiment_data(eid)\n",
    "\n",
    "try: \n",
    "    cidxs = data_set.get_cell_specimen_indices([c1, c2])\n",
    "except Exception as inst:\n",
    "    print(inst)\n",
    "\n",
    "if use_events:\n",
    "  events = boc.get_ophys_experiment_events(ophys_experiment_id=eid)\n",
    "  cidx1 = cidxs[0]\n",
    "  cidx2 = cidxs[1]\n",
    "  events1 = events[cidx1,:]\n",
    "  events2 = events[cidx2,:]\n",
    "else: \n",
    "  timestamps, dff = data_set.get_dff_traces(cell_specimen_ids=[c1])\n",
    "  events1 = dff[0,:]\n",
    "  timestamps, dff = data_set.get_dff_traces(cell_specimen_ids=[c2])\n",
    "  events2 = dff[0,:]\n",
    "\"\"\"\n",
    "'natural_movie_one',\n",
    "'natural_movie_three',\n",
    "'natural_movie_two',\n",
    "'spontaneous'\n",
    "\"\"\"\n",
    "stim_table = data_set.get_stimulus_table('natural_movie_one') \n",
    "c1_trial_results = []\n",
    "c2_trial_results = []\n",
    "for trial_i in range(stim_table.repeat.max() + 1):\n",
    "    start = stim_table[stim_table.repeat==trial_i].start.min()\n",
    "    end = stim_table[stim_table.repeat==trial_i].start.max()\n",
    "    c1_trial_result = events1[start:end].mean()\n",
    "    c2_trial_result = events2[start:end].mean()\n",
    "    c1_trial_results.append(c1_trial_result)\n",
    "    c2_trial_results.append(c2_trial_result)\n",
    "print(c1_trial_results, c2_trial_results)\n",
    "corr, p_value = pearsonr(c1_trial_results, c2_trial_results)\n",
    "corr"
   ]
  },
  {
   "cell_type": "code",
   "execution_count": null,
   "metadata": {},
   "outputs": [],
   "source": []
  }
 ],
 "metadata": {
  "kernelspec": {
   "display_name": "Python 3",
   "language": "python",
   "name": "python3"
  },
  "language_info": {
   "codemirror_mode": {
    "name": "ipython",
    "version": 3
   },
   "file_extension": ".py",
   "mimetype": "text/x-python",
   "name": "python",
   "nbconvert_exporter": "python",
   "pygments_lexer": "ipython3",
   "version": "3.7.3"
  }
 },
 "nbformat": 4,
 "nbformat_minor": 2
}

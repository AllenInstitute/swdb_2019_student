{
 "cells": [
  {
   "cell_type": "code",
   "execution_count": 1,
   "metadata": {},
   "outputs": [],
   "source": [
    "dsi_dg_threshold = 0.5\n",
    "ecid = 511510650\n",
    "eid = 501836392"
   ]
  },
  {
   "cell_type": "code",
   "execution_count": 2,
   "metadata": {},
   "outputs": [],
   "source": [
    "import os\n",
    "drive_path = '/media/stephen/Brain20191/allen-brain-observatory/visual-coding-2p/'\n",
    "if not os.path.isdir(drive_path):\n",
    "    drive_path = '/media/alihamodi/Brain2019/allen-brain-observatory/visual-coding-2p/'\n",
    "\n",
    "import warnings; warnings.simplefilter('ignore');\n",
    "from utils.polarplot import *\n",
    "from utils.polardata import *\n",
    "from utils.data_wrappers import *\n",
    "import os\n",
    "import pandas as pd\n",
    "from allensdk.core.brain_observatory_cache import BrainObservatoryCache\n",
    "import allensdk.brain_observatory.stimulus_info as stim_info\n",
    "from utils.data_wrappers import *\n",
    "manifest_file = os.path.join(drive_path,'manifest.json')\n",
    "boc = BrainObservatoryCache(manifest_file=manifest_file)\n",
    "\n",
    "import warnings;\n",
    "warnings.simplefilter('ignore');\n",
    "cells = boc.get_cell_specimens()\n",
    "cells = pd.DataFrame.from_records(cells)\n",
    "    \n",
    "# Outputs = [cell_specimen_id, experiment_container_id, pref_dir]\n"
   ]
  },
  {
   "cell_type": "code",
   "execution_count": 3,
   "metadata": {},
   "outputs": [
    {
     "name": "stdout",
     "output_type": "stream",
     "text": [
      "d1 0.0 d2 0.0 avg_corr 0.026680707715330453 num_pairs 30 num_group1 6 num_group2 6\n",
      "d1 0.0 d2 45.0 avg_corr 0.038122853799042636 num_pairs 36 num_group1 6 num_group2 6\n",
      "d1 0.0 d2 90.0 avg_corr 0.017806665284088124 num_pairs 18 num_group1 6 num_group2 3\n",
      "d1 0.0 d2 135.0 avg_corr 0.00196006025187819 num_pairs 6 num_group1 6 num_group2 1\n",
      "d1 0.0 d2 180.0 avg_corr 0.042459396990778574 num_pairs 12 num_group1 6 num_group2 2\n",
      "d1 0.0 d2 225.0 avg_corr 0.031472352829369915 num_pairs 54 num_group1 6 num_group2 9\n",
      "d1 0.0 d2 270.0 avg_corr 0.0309747803863952 num_pairs 24 num_group1 6 num_group2 4\n",
      "d1 0.0 d2 315.0 avg_corr 0.020587322786973703 num_pairs 36 num_group1 6 num_group2 6\n",
      "d1 45.0 d2 0.0 avg_corr 0.038122853799042636 num_pairs 36 num_group1 6 num_group2 6\n",
      "d1 45.0 d2 45.0 avg_corr 0.028372270587834744 num_pairs 30 num_group1 6 num_group2 6\n",
      "d1 45.0 d2 90.0 avg_corr 0.025991562605636138 num_pairs 18 num_group1 6 num_group2 3\n",
      "d1 45.0 d2 135.0 avg_corr 0.0020829431004818254 num_pairs 6 num_group1 6 num_group2 1\n",
      "d1 45.0 d2 180.0 avg_corr 0.04469031798071387 num_pairs 12 num_group1 6 num_group2 2\n",
      "d1 45.0 d2 225.0 avg_corr 0.02724839332961029 num_pairs 54 num_group1 6 num_group2 9\n",
      "d1 45.0 d2 270.0 avg_corr 0.031775866094806 num_pairs 24 num_group1 6 num_group2 4\n",
      "d1 45.0 d2 315.0 avg_corr 0.023550088430651855 num_pairs 36 num_group1 6 num_group2 6\n",
      "d1 90.0 d2 0.0 avg_corr 0.017806665284088124 num_pairs 18 num_group1 3 num_group2 6\n",
      "d1 90.0 d2 45.0 avg_corr 0.025991562605636134 num_pairs 18 num_group1 3 num_group2 6\n",
      "d1 90.0 d2 90.0 avg_corr 0.02065599114802036 num_pairs 6 num_group1 3 num_group2 3\n",
      "d1 90.0 d2 135.0 avg_corr 0.007958519965746457 num_pairs 3 num_group1 3 num_group2 1\n",
      "d1 90.0 d2 180.0 avg_corr 0.03680295032537888 num_pairs 6 num_group1 3 num_group2 2\n",
      "d1 90.0 d2 225.0 avg_corr 0.02464248714089414 num_pairs 27 num_group1 3 num_group2 9\n",
      "d1 90.0 d2 270.0 avg_corr 0.025497502456829742 num_pairs 12 num_group1 3 num_group2 4\n",
      "d1 90.0 d2 315.0 avg_corr 0.012850948757959314 num_pairs 18 num_group1 3 num_group2 6\n",
      "d1 135.0 d2 0.0 avg_corr 0.00196006025187819 num_pairs 6 num_group1 1 num_group2 6\n",
      "d1 135.0 d2 45.0 avg_corr 0.0020829431004818254 num_pairs 6 num_group1 1 num_group2 6\n",
      "d1 135.0 d2 90.0 avg_corr 0.007958519965746457 num_pairs 3 num_group1 1 num_group2 3\n"
     ]
    },
    {
     "ename": "KeyboardInterrupt",
     "evalue": "",
     "output_type": "error",
     "traceback": [
      "\u001b[0;31m---------------------------------------------------------------------------\u001b[0m",
      "\u001b[0;31mKeyboardInterrupt\u001b[0m                         Traceback (most recent call last)",
      "\u001b[0;32m<ipython-input-3-6b8818c41fee>\u001b[0m in \u001b[0;36m<module>\u001b[0;34m\u001b[0m\n\u001b[1;32m      8\u001b[0m             \u001b[0mboc\u001b[0m\u001b[0;34m,\u001b[0m \u001b[0mecid\u001b[0m\u001b[0;34m,\u001b[0m \u001b[0meid\u001b[0m\u001b[0;34m,\u001b[0m \u001b[0md1\u001b[0m\u001b[0;34m,\u001b[0m \u001b[0md2\u001b[0m\u001b[0;34m,\u001b[0m \u001b[0mfiltered_cells\u001b[0m\u001b[0;34m,\u001b[0m\u001b[0;34m\u001b[0m\u001b[0;34m\u001b[0m\u001b[0m\n\u001b[1;32m      9\u001b[0m             \u001b[0;31m# use_events\u001b[0m\u001b[0;34m\u001b[0m\u001b[0;34m\u001b[0m\u001b[0;34m\u001b[0m\u001b[0m\n\u001b[0;32m---> 10\u001b[0;31m             False)\n\u001b[0m\u001b[1;32m     11\u001b[0m         \u001b[0;32mif\u001b[0m \u001b[0mavg_corr\u001b[0m \u001b[0;32mis\u001b[0m \u001b[0;32mNone\u001b[0m\u001b[0;34m:\u001b[0m\u001b[0;34m\u001b[0m\u001b[0;34m\u001b[0m\u001b[0m\n\u001b[1;32m     12\u001b[0m             \u001b[0;32mcontinue\u001b[0m\u001b[0;34m\u001b[0m\u001b[0;34m\u001b[0m\u001b[0m\n",
      "\u001b[0;32m~/Documents/dynbrain/swdb_2019_student/visionaries/notebooks/utils/data_wrappers.py\u001b[0m in \u001b[0;36mpairwise_dir_avg_temp_corr_one_exp\u001b[0;34m(boc, ecid, eid, d1, d2, c_df, use_events)\u001b[0m\n\u001b[1;32m    165\u001b[0m           \u001b[0;32mif\u001b[0m \u001b[0mc1\u001b[0m \u001b[0;34m==\u001b[0m \u001b[0mc2\u001b[0m\u001b[0;34m:\u001b[0m\u001b[0;34m\u001b[0m\u001b[0;34m\u001b[0m\u001b[0m\n\u001b[1;32m    166\u001b[0m               \u001b[0;32mcontinue\u001b[0m\u001b[0;34m\u001b[0m\u001b[0;34m\u001b[0m\u001b[0m\n\u001b[0;32m--> 167\u001b[0;31m           \u001b[0mpair_corr\u001b[0m \u001b[0;34m=\u001b[0m \u001b[0mavg_temp_corr_one_exp\u001b[0m\u001b[0;34m(\u001b[0m\u001b[0mboc\u001b[0m\u001b[0;34m,\u001b[0m \u001b[0meid\u001b[0m\u001b[0;34m,\u001b[0m \u001b[0mc1\u001b[0m\u001b[0;34m,\u001b[0m \u001b[0mc2\u001b[0m\u001b[0;34m,\u001b[0m \u001b[0muse_events\u001b[0m\u001b[0;34m)\u001b[0m\u001b[0;34m\u001b[0m\u001b[0;34m\u001b[0m\u001b[0m\n\u001b[0m\u001b[1;32m    168\u001b[0m           \u001b[0;32mif\u001b[0m \u001b[0mpair_corr\u001b[0m \u001b[0;32mis\u001b[0m \u001b[0;32mNone\u001b[0m\u001b[0;34m:\u001b[0m\u001b[0;34m\u001b[0m\u001b[0;34m\u001b[0m\u001b[0m\n\u001b[1;32m    169\u001b[0m               \u001b[0;32mcontinue\u001b[0m\u001b[0;34m\u001b[0m\u001b[0;34m\u001b[0m\u001b[0m\n",
      "\u001b[0;32m~/Documents/dynbrain/swdb_2019_student/visionaries/notebooks/utils/data_wrappers.py\u001b[0m in \u001b[0;36mavg_temp_corr_one_exp\u001b[0;34m(boc, eid, c1, c2, use_events)\u001b[0m\n\u001b[1;32m    132\u001b[0m       \u001b[0mtimestamps\u001b[0m\u001b[0;34m,\u001b[0m \u001b[0mdff\u001b[0m \u001b[0;34m=\u001b[0m \u001b[0mdata_set\u001b[0m\u001b[0;34m.\u001b[0m\u001b[0mget_dff_traces\u001b[0m\u001b[0;34m(\u001b[0m\u001b[0mcell_specimen_ids\u001b[0m\u001b[0;34m=\u001b[0m\u001b[0;34m[\u001b[0m\u001b[0mc1\u001b[0m\u001b[0;34m]\u001b[0m\u001b[0;34m)\u001b[0m\u001b[0;34m\u001b[0m\u001b[0;34m\u001b[0m\u001b[0m\n\u001b[1;32m    133\u001b[0m       \u001b[0mevents1\u001b[0m \u001b[0;34m=\u001b[0m \u001b[0mdff\u001b[0m\u001b[0;34m[\u001b[0m\u001b[0;36m0\u001b[0m\u001b[0;34m,\u001b[0m\u001b[0;34m:\u001b[0m\u001b[0;34m]\u001b[0m\u001b[0;34m\u001b[0m\u001b[0;34m\u001b[0m\u001b[0m\n\u001b[0;32m--> 134\u001b[0;31m       \u001b[0mtimestamps\u001b[0m\u001b[0;34m,\u001b[0m \u001b[0mdff\u001b[0m \u001b[0;34m=\u001b[0m \u001b[0mdata_set\u001b[0m\u001b[0;34m.\u001b[0m\u001b[0mget_dff_traces\u001b[0m\u001b[0;34m(\u001b[0m\u001b[0mcell_specimen_ids\u001b[0m\u001b[0;34m=\u001b[0m\u001b[0;34m[\u001b[0m\u001b[0mc2\u001b[0m\u001b[0;34m]\u001b[0m\u001b[0;34m)\u001b[0m\u001b[0;34m\u001b[0m\u001b[0;34m\u001b[0m\u001b[0m\n\u001b[0m\u001b[1;32m    135\u001b[0m       \u001b[0mevents2\u001b[0m \u001b[0;34m=\u001b[0m \u001b[0mdff\u001b[0m\u001b[0;34m[\u001b[0m\u001b[0;36m0\u001b[0m\u001b[0;34m,\u001b[0m\u001b[0;34m:\u001b[0m\u001b[0;34m]\u001b[0m\u001b[0;34m\u001b[0m\u001b[0;34m\u001b[0m\u001b[0m\n\u001b[1;32m    136\u001b[0m     \u001b[0mstim_table\u001b[0m \u001b[0;34m=\u001b[0m \u001b[0mdata_set\u001b[0m\u001b[0;34m.\u001b[0m\u001b[0mget_stimulus_table\u001b[0m\u001b[0;34m(\u001b[0m\u001b[0;34m'spontaneous'\u001b[0m\u001b[0;34m)\u001b[0m\u001b[0;34m\u001b[0m\u001b[0;34m\u001b[0m\u001b[0m\n",
      "\u001b[0;32m~/anaconda3/lib/python3.7/site-packages/allensdk/core/brain_observatory_nwb_data_set.py\u001b[0m in \u001b[0;36mget_dff_traces\u001b[0;34m(self, cell_specimen_ids)\u001b[0m\n\u001b[1;32m    449\u001b[0m             \u001b[0;32melse\u001b[0m\u001b[0;34m:\u001b[0m\u001b[0;34m\u001b[0m\u001b[0;34m\u001b[0m\u001b[0m\n\u001b[1;32m    450\u001b[0m                 \u001b[0minds\u001b[0m \u001b[0;34m=\u001b[0m \u001b[0mself\u001b[0m\u001b[0;34m.\u001b[0m\u001b[0mget_cell_specimen_indices\u001b[0m\u001b[0;34m(\u001b[0m\u001b[0mcell_specimen_ids\u001b[0m\u001b[0;34m)\u001b[0m\u001b[0;34m\u001b[0m\u001b[0;34m\u001b[0m\u001b[0m\n\u001b[0;32m--> 451\u001b[0;31m                 \u001b[0mcell_traces\u001b[0m \u001b[0;34m=\u001b[0m \u001b[0mdff_ds\u001b[0m\u001b[0;34m[\u001b[0m\u001b[0;34m'data'\u001b[0m\u001b[0;34m]\u001b[0m\u001b[0;34m[\u001b[0m\u001b[0minds\u001b[0m\u001b[0;34m,\u001b[0m \u001b[0;34m:\u001b[0m\u001b[0;34m]\u001b[0m\u001b[0;34m\u001b[0m\u001b[0;34m\u001b[0m\u001b[0m\n\u001b[0m\u001b[1;32m    452\u001b[0m \u001b[0;34m\u001b[0m\u001b[0m\n\u001b[1;32m    453\u001b[0m         \u001b[0;32mreturn\u001b[0m \u001b[0mtimestamps\u001b[0m\u001b[0;34m,\u001b[0m \u001b[0mcell_traces\u001b[0m\u001b[0;34m\u001b[0m\u001b[0;34m\u001b[0m\u001b[0m\n",
      "\u001b[0;32mh5py/_objects.pyx\u001b[0m in \u001b[0;36mh5py._objects.with_phil.wrapper\u001b[0;34m()\u001b[0m\n",
      "\u001b[0;32mh5py/_objects.pyx\u001b[0m in \u001b[0;36mh5py._objects.with_phil.wrapper\u001b[0;34m()\u001b[0m\n",
      "\u001b[0;32m~/anaconda3/lib/python3.7/site-packages/h5py/_hl/dataset.py\u001b[0m in \u001b[0;36m__getitem__\u001b[0;34m(self, args)\u001b[0m\n\u001b[1;32m    571\u001b[0m         \u001b[0mmspace\u001b[0m \u001b[0;34m=\u001b[0m \u001b[0mh5s\u001b[0m\u001b[0;34m.\u001b[0m\u001b[0mcreate_simple\u001b[0m\u001b[0;34m(\u001b[0m\u001b[0mmshape\u001b[0m\u001b[0;34m)\u001b[0m\u001b[0;34m\u001b[0m\u001b[0;34m\u001b[0m\u001b[0m\n\u001b[1;32m    572\u001b[0m         \u001b[0mfspace\u001b[0m \u001b[0;34m=\u001b[0m \u001b[0mselection\u001b[0m\u001b[0;34m.\u001b[0m\u001b[0mid\u001b[0m\u001b[0;34m\u001b[0m\u001b[0;34m\u001b[0m\u001b[0m\n\u001b[0;32m--> 573\u001b[0;31m         \u001b[0mself\u001b[0m\u001b[0;34m.\u001b[0m\u001b[0mid\u001b[0m\u001b[0;34m.\u001b[0m\u001b[0mread\u001b[0m\u001b[0;34m(\u001b[0m\u001b[0mmspace\u001b[0m\u001b[0;34m,\u001b[0m \u001b[0mfspace\u001b[0m\u001b[0;34m,\u001b[0m \u001b[0marr\u001b[0m\u001b[0;34m,\u001b[0m \u001b[0mmtype\u001b[0m\u001b[0;34m,\u001b[0m \u001b[0mdxpl\u001b[0m\u001b[0;34m=\u001b[0m\u001b[0mself\u001b[0m\u001b[0;34m.\u001b[0m\u001b[0m_dxpl\u001b[0m\u001b[0;34m)\u001b[0m\u001b[0;34m\u001b[0m\u001b[0;34m\u001b[0m\u001b[0m\n\u001b[0m\u001b[1;32m    574\u001b[0m \u001b[0;34m\u001b[0m\u001b[0m\n\u001b[1;32m    575\u001b[0m         \u001b[0;31m# Patch up the output for NumPy\u001b[0m\u001b[0;34m\u001b[0m\u001b[0;34m\u001b[0m\u001b[0;34m\u001b[0m\u001b[0m\n",
      "\u001b[0;31mKeyboardInterrupt\u001b[0m: "
     ]
    }
   ],
   "source": [
    "dg_response_filter = get_dg_response_filter_from_saskia()\n",
    "filtered_cells = get_filtered_cells(cells, dg_response_filter)\n",
    "filtered_cells = filtered_cells[filtered_cells.dsi_dg > dsi_dg_threshold]\n",
    "dirs = [0.0, 45.0, 90.0, 135.0, 180.0, 225.0, 270.0, 315.0]\n",
    "for d1 in dirs:\n",
    "    for d2 in dirs:\n",
    "        avg_corr, num_pairs, num_group1, num_group2 = pairwise_dir_avg_temp_corr_one_exp(\n",
    "            boc, ecid, eid, d1, d2, filtered_cells,\n",
    "            # use_events\n",
    "            False)\n",
    "        if avg_corr is None:\n",
    "            continue\n",
    "        print (\"d1\", d1, \"d2\", d2, \"avg_corr\", avg_corr, \"num_pairs\", num_pairs, \"num_group1\", num_group1, \"num_group2\", num_group2)"
   ]
  }
 ],
 "metadata": {
  "kernelspec": {
   "display_name": "Python 3",
   "language": "python",
   "name": "python3"
  },
  "language_info": {
   "codemirror_mode": {
    "name": "ipython",
    "version": 3
   },
   "file_extension": ".py",
   "mimetype": "text/x-python",
   "name": "python",
   "nbconvert_exporter": "python",
   "pygments_lexer": "ipython3",
   "version": "3.7.3"
  }
 },
 "nbformat": 4,
 "nbformat_minor": 2
}

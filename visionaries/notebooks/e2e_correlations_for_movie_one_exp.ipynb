{
 "cells": [
  {
   "cell_type": "code",
   "execution_count": 1,
   "metadata": {},
   "outputs": [],
   "source": [
    "dsi_threshold = 0.5\n",
    "tf_for_dsi_calc = 2.0\n",
    "ecid = 511510650\n",
    "eid = 501836392\n",
    "# 501836392 501886692 501717543"
   ]
  },
  {
   "cell_type": "code",
   "execution_count": 2,
   "metadata": {},
   "outputs": [],
   "source": [
    "import os\n",
    "drive_path = '/media/stephen/Brain20191/allen-brain-observatory/visual-coding-2p/'\n",
    "if not os.path.isdir(drive_path):\n",
    "    drive_path = '/media/alihamodi/Brain2019/allen-brain-observatory/visual-coding-2p/'\n",
    "\n",
    "import warnings; warnings.simplefilter('ignore');\n",
    "from utils.polarplot import *\n",
    "from utils.polardata import *\n",
    "from utils.data_wrappers import *\n",
    "import os\n",
    "import pandas as pd\n",
    "from allensdk.core.brain_observatory_cache import BrainObservatoryCache\n",
    "import allensdk.brain_observatory.stimulus_info as stim_info\n",
    "from utils.data_wrappers import *\n",
    "manifest_file = os.path.join(drive_path,'manifest.json')\n",
    "boc = BrainObservatoryCache(manifest_file=manifest_file)\n",
    "\n",
    "import warnings;\n",
    "warnings.simplefilter('ignore');\n",
    "cells = boc.get_cell_specimens()\n",
    "cells = pd.DataFrame.from_records(cells)\n",
    "    \n",
    "# Outputs = [cell_specimen_id, experiment_container_id, pref_dir]\n"
   ]
  },
  {
   "cell_type": "code",
   "execution_count": 3,
   "metadata": {},
   "outputs": [
    {
     "data": {
      "text/html": [
       "<div>\n",
       "<style scoped>\n",
       "    .dataframe tbody tr th:only-of-type {\n",
       "        vertical-align: middle;\n",
       "    }\n",
       "\n",
       "    .dataframe tbody tr th {\n",
       "        vertical-align: top;\n",
       "    }\n",
       "\n",
       "    .dataframe thead th {\n",
       "        text-align: right;\n",
       "    }\n",
       "</style>\n",
       "<table border=\"1\" class=\"dataframe\">\n",
       "  <thead>\n",
       "    <tr style=\"text-align: right;\">\n",
       "      <th></th>\n",
       "      <th>acquisition_age_days</th>\n",
       "      <th>cre_line</th>\n",
       "      <th>donor_name</th>\n",
       "      <th>experiment_container_id</th>\n",
       "      <th>fail_eye_tracking</th>\n",
       "      <th>id</th>\n",
       "      <th>imaging_depth</th>\n",
       "      <th>reporter_line</th>\n",
       "      <th>session_type</th>\n",
       "      <th>specimen_name</th>\n",
       "      <th>targeted_structure</th>\n",
       "    </tr>\n",
       "  </thead>\n",
       "  <tbody>\n",
       "    <tr>\n",
       "      <th>0</th>\n",
       "      <td>109</td>\n",
       "      <td>Cux2-CreERT2</td>\n",
       "      <td>222425</td>\n",
       "      <td>511510650</td>\n",
       "      <td>False</td>\n",
       "      <td>501886692</td>\n",
       "      <td>175</td>\n",
       "      <td>Ai93(TITL-GCaMP6f)</td>\n",
       "      <td>three_session_B</td>\n",
       "      <td>Cux2-CreERT2;Camk2a-tTA;Ai93-222425</td>\n",
       "      <td>VISp</td>\n",
       "    </tr>\n",
       "    <tr>\n",
       "      <th>1</th>\n",
       "      <td>108</td>\n",
       "      <td>Cux2-CreERT2</td>\n",
       "      <td>222425</td>\n",
       "      <td>511510650</td>\n",
       "      <td>True</td>\n",
       "      <td>501836392</td>\n",
       "      <td>175</td>\n",
       "      <td>Ai93(TITL-GCaMP6f)</td>\n",
       "      <td>three_session_A</td>\n",
       "      <td>Cux2-CreERT2;Camk2a-tTA;Ai93-222425</td>\n",
       "      <td>VISp</td>\n",
       "    </tr>\n",
       "    <tr>\n",
       "      <th>2</th>\n",
       "      <td>104</td>\n",
       "      <td>Cux2-CreERT2</td>\n",
       "      <td>222425</td>\n",
       "      <td>511510650</td>\n",
       "      <td>True</td>\n",
       "      <td>501717543</td>\n",
       "      <td>175</td>\n",
       "      <td>Ai93(TITL-GCaMP6f)</td>\n",
       "      <td>three_session_C</td>\n",
       "      <td>Cux2-CreERT2;Camk2a-tTA;Ai93-222425</td>\n",
       "      <td>VISp</td>\n",
       "    </tr>\n",
       "  </tbody>\n",
       "</table>\n",
       "</div>"
      ],
      "text/plain": [
       "   acquisition_age_days      cre_line donor_name  experiment_container_id  \\\n",
       "0                   109  Cux2-CreERT2     222425                511510650   \n",
       "1                   108  Cux2-CreERT2     222425                511510650   \n",
       "2                   104  Cux2-CreERT2     222425                511510650   \n",
       "\n",
       "   fail_eye_tracking         id  imaging_depth       reporter_line  \\\n",
       "0              False  501886692            175  Ai93(TITL-GCaMP6f)   \n",
       "1               True  501836392            175  Ai93(TITL-GCaMP6f)   \n",
       "2               True  501717543            175  Ai93(TITL-GCaMP6f)   \n",
       "\n",
       "      session_type                        specimen_name targeted_structure  \n",
       "0  three_session_B  Cux2-CreERT2;Camk2a-tTA;Ai93-222425               VISp  \n",
       "1  three_session_A  Cux2-CreERT2;Camk2a-tTA;Ai93-222425               VISp  \n",
       "2  three_session_C  Cux2-CreERT2;Camk2a-tTA;Ai93-222425               VISp  "
      ]
     },
     "execution_count": 3,
     "metadata": {},
     "output_type": "execute_result"
    }
   ],
   "source": [
    "pd.DataFrame(boc.get_ophys_experiments(experiment_container_ids=[ecid]))"
   ]
  },
  {
   "cell_type": "code",
   "execution_count": 4,
   "metadata": {},
   "outputs": [
    {
     "name": "stdout",
     "output_type": "stream",
     "text": [
      "d1 0.0 d2 0.0 corr 0.11048086135101558 num_pairs 20 num_group1 5 num_group2 5\n",
      "d1 0.0 d2 45.0 corr -0.030074570334955062 num_pairs 30 num_group1 5 num_group2 6\n",
      "d1 0.0 d2 90.0 corr 0.01110424958857672 num_pairs 5 num_group1 5 num_group2 1\n",
      "d1 0.0 d2 135.0 corr 0.29735628893746247 num_pairs 5 num_group1 5 num_group2 1\n",
      "d1 0.0 d2 180.0 corr 0.08710700989274989 num_pairs 10 num_group1 5 num_group2 2\n",
      "d1 0.0 d2 225.0 corr 0.060787499095825884 num_pairs 40 num_group1 5 num_group2 8\n",
      "d1 0.0 d2 270.0 corr -0.17832355700949445 num_pairs 5 num_group1 5 num_group2 1\n",
      "d1 0.0 d2 315.0 corr 0.06417161161516871 num_pairs 20 num_group1 5 num_group2 4\n",
      "d1 45.0 d2 0.0 corr -0.03007457033495505 num_pairs 30 num_group1 6 num_group2 5\n",
      "d1 45.0 d2 45.0 corr 0.1073406467223642 num_pairs 30 num_group1 6 num_group2 6\n",
      "d1 45.0 d2 90.0 corr 0.35660030475268734 num_pairs 6 num_group1 6 num_group2 1\n",
      "d1 45.0 d2 135.0 corr -0.18484499805748256 num_pairs 6 num_group1 6 num_group2 1\n",
      "d1 45.0 d2 180.0 corr 0.24054419785766287 num_pairs 12 num_group1 6 num_group2 2\n",
      "d1 45.0 d2 225.0 corr 0.0947655042424652 num_pairs 48 num_group1 6 num_group2 8\n",
      "d1 45.0 d2 270.0 corr 0.25154411367968865 num_pairs 6 num_group1 6 num_group2 1\n",
      "d1 45.0 d2 315.0 corr 0.13189512349435706 num_pairs 24 num_group1 6 num_group2 4\n",
      "d1 90.0 d2 0.0 corr 0.01110424958857672 num_pairs 5 num_group1 1 num_group2 5\n",
      "d1 90.0 d2 45.0 corr 0.35660030475268734 num_pairs 6 num_group1 1 num_group2 6\n",
      "d1 90.0 d2 135.0 corr -0.5381561586330699 num_pairs 1 num_group1 1 num_group2 1\n",
      "d1 90.0 d2 180.0 corr 0.3042064668622009 num_pairs 2 num_group1 1 num_group2 2\n",
      "d1 90.0 d2 225.0 corr 0.14474488394510893 num_pairs 8 num_group1 1 num_group2 8\n",
      "d1 90.0 d2 270.0 corr 0.48147753366345314 num_pairs 1 num_group1 1 num_group2 1\n",
      "d1 90.0 d2 315.0 corr 0.09993938448285553 num_pairs 4 num_group1 1 num_group2 4\n",
      "d1 135.0 d2 0.0 corr 0.29735628893746247 num_pairs 5 num_group1 1 num_group2 5\n",
      "d1 135.0 d2 45.0 corr -0.18484499805748256 num_pairs 6 num_group1 1 num_group2 6\n",
      "d1 135.0 d2 90.0 corr -0.5381561586330699 num_pairs 1 num_group1 1 num_group2 1\n",
      "d1 135.0 d2 180.0 corr -0.21444815538446294 num_pairs 2 num_group1 1 num_group2 2\n",
      "d1 135.0 d2 225.0 corr 0.013981001841026644 num_pairs 8 num_group1 1 num_group2 8\n",
      "d1 135.0 d2 270.0 corr -0.7543661824885168 num_pairs 1 num_group1 1 num_group2 1\n",
      "d1 135.0 d2 315.0 corr 0.21344348763846122 num_pairs 4 num_group1 1 num_group2 4\n",
      "d1 180.0 d2 0.0 corr 0.08710700989274989 num_pairs 10 num_group1 2 num_group2 5\n",
      "d1 180.0 d2 45.0 corr 0.24054419785766287 num_pairs 12 num_group1 2 num_group2 6\n",
      "d1 180.0 d2 90.0 corr 0.3042064668622009 num_pairs 2 num_group1 2 num_group2 1\n",
      "d1 180.0 d2 135.0 corr -0.21444815538446294 num_pairs 2 num_group1 2 num_group2 1\n",
      "d1 180.0 d2 180.0 corr 0.22055787757117448 num_pairs 2 num_group1 2 num_group2 2\n",
      "d1 180.0 d2 225.0 corr 0.22728084514172436 num_pairs 16 num_group1 2 num_group2 8\n",
      "d1 180.0 d2 270.0 corr 0.10219600106587844 num_pairs 2 num_group1 2 num_group2 1\n",
      "d1 180.0 d2 315.0 corr 0.12322497820645341 num_pairs 8 num_group1 2 num_group2 4\n",
      "d1 225.0 d2 0.0 corr 0.06078749909582589 num_pairs 40 num_group1 8 num_group2 5\n",
      "d1 225.0 d2 45.0 corr 0.09476550424246517 num_pairs 48 num_group1 8 num_group2 6\n",
      "d1 225.0 d2 90.0 corr 0.14474488394510893 num_pairs 8 num_group1 8 num_group2 1\n",
      "d1 225.0 d2 135.0 corr 0.013981001841026644 num_pairs 8 num_group1 8 num_group2 1\n",
      "d1 225.0 d2 180.0 corr 0.22728084514172436 num_pairs 16 num_group1 8 num_group2 2\n",
      "d1 225.0 d2 225.0 corr 0.09318865401664629 num_pairs 56 num_group1 8 num_group2 8\n",
      "d1 225.0 d2 270.0 corr -0.04435176901140313 num_pairs 8 num_group1 8 num_group2 1\n",
      "d1 225.0 d2 315.0 corr 0.16339448800258013 num_pairs 32 num_group1 8 num_group2 4\n",
      "d1 270.0 d2 0.0 corr -0.17832355700949445 num_pairs 5 num_group1 1 num_group2 5\n",
      "d1 270.0 d2 45.0 corr 0.25154411367968865 num_pairs 6 num_group1 1 num_group2 6\n",
      "d1 270.0 d2 90.0 corr 0.48147753366345314 num_pairs 1 num_group1 1 num_group2 1\n",
      "d1 270.0 d2 135.0 corr -0.7543661824885168 num_pairs 1 num_group1 1 num_group2 1\n",
      "d1 270.0 d2 180.0 corr 0.10219600106587844 num_pairs 2 num_group1 1 num_group2 2\n",
      "d1 270.0 d2 225.0 corr -0.04435176901140313 num_pairs 8 num_group1 1 num_group2 8\n",
      "d1 270.0 d2 315.0 corr -0.1936545830523771 num_pairs 4 num_group1 1 num_group2 4\n",
      "d1 315.0 d2 0.0 corr 0.06417161161516871 num_pairs 20 num_group1 4 num_group2 5\n",
      "d1 315.0 d2 45.0 corr 0.13189512349435706 num_pairs 24 num_group1 4 num_group2 6\n",
      "d1 315.0 d2 90.0 corr 0.09993938448285553 num_pairs 4 num_group1 4 num_group2 1\n",
      "d1 315.0 d2 135.0 corr 0.21344348763846122 num_pairs 4 num_group1 4 num_group2 1\n",
      "d1 315.0 d2 180.0 corr 0.12322497820645342 num_pairs 8 num_group1 4 num_group2 2\n",
      "d1 315.0 d2 225.0 corr 0.16339448800258013 num_pairs 32 num_group1 4 num_group2 8\n",
      "d1 315.0 d2 270.0 corr -0.1936545830523771 num_pairs 4 num_group1 4 num_group2 1\n",
      "d1 315.0 d2 315.0 corr 0.18838624754578315 num_pairs 12 num_group1 4 num_group2 4\n"
     ]
    }
   ],
   "source": [
    "dg_response_filter = get_dg_response_filter_from_saskia()\n",
    "filtered_cells = get_filtered_cells(cells, dg_response_filter)\n",
    "filtered_cells = filtered_cells[filtered_cells.experiment_container_id==ecid]\n",
    "# Filter out based on tf-specific-dsi, rather than allen's global dsi\n",
    "new_col = []\n",
    "for index, row in filtered_cells.iterrows():\n",
    "    polardata_for_this_cell = get_avg_normalized_response(\n",
    "        boc = boc,\n",
    "        session_id = eid,\n",
    "        cell_specimen_id = row.cell_specimen_id,\n",
    "        temporal_frequency = tf_for_dsi_calc)\n",
    "    if polardata_for_this_cell is None:\n",
    "        # Put negative value so dsi selector will ignore this guy.\n",
    "        new_dsi_cell = -1\n",
    "    else:\n",
    "        new_dsi_cell = get_new_dsi(polardata_for_this_cell.to_frame())\n",
    "    new_col.append(new_dsi_cell)\n",
    "filtered_cells['tf_specific_dsi'] = new_col\n",
    "filtered_cells = filtered_cells[filtered_cells.tf_specific_dsi > dsi_threshold]\n",
    "\n",
    "\n",
    "dirs = [0.0, 45.0, 90.0, 135.0, 180.0, 225.0, 270.0, 315.0]\n",
    "dirs_to_avg_pairwise_corr = {}\n",
    "for d1 in dirs:\n",
    "    for d2 in dirs:\n",
    "        avg_corr, num_pairs, num_group1, num_group2 = pairwise_dir_avg_temp_corr_one_exp(\n",
    "            boc, ecid, eid, d1, d2, filtered_cells,\n",
    "            # use_events\n",
    "            True,\n",
    "            # noise_corr_else_avg_temp_corr\n",
    "            True)\n",
    "        if avg_corr is None:\n",
    "            continue\n",
    "        dirs_to_avg_pairwise_corr[(d1, d2)] = avg_corr\n",
    "        print (\"d1\", d1, \"d2\", d2, \"corr\", avg_corr, \"num_pairs\", num_pairs, \"num_group1\", num_group1, \"num_group2\", num_group2)"
   ]
  },
  {
   "cell_type": "code",
   "execution_count": 5,
   "metadata": {},
   "outputs": [
    {
     "data": {
      "text/plain": [
       "<matplotlib.axes._subplots.AxesSubplot at 0x7f5c6ca97588>"
      ]
     },
     "execution_count": 5,
     "metadata": {},
     "output_type": "execute_result"
    },
    {
     "data": {
      "image/png": "[encoded data removed]",
      "text/plain": [
       "<Figure size 432x288 with 2 Axes>"
      ]
     },
     "metadata": {
      "needs_background": "light"
     },
     "output_type": "display_data"
    }
   ],
   "source": [
    "import seaborn as sns;\n",
    "ser = pd.Series(list(dirs_to_avg_pairwise_corr.values()),\n",
    "                  index=pd.MultiIndex.from_tuples(dirs_to_avg_pairwise_corr.keys()))\n",
    "df = ser.unstack().fillna(0)\n",
    "df = df.sort_index(axis=0 ,ascending=False)\n",
    "sns.heatmap(df, center=0)"
   ]
  },
  {
   "cell_type": "code",
   "execution_count": 6,
   "metadata": {},
   "outputs": [
    {
     "name": "stdout",
     "output_type": "stream",
     "text": [
      "0.0 [135.0, 0.0, 180.0, 315.0, 225.0, 90.0, 45.0, 270.0]\n",
      "45.0 [90.0, 270.0, 180.0, 315.0, 45.0, 225.0, 0.0, 135.0]\n",
      "90.0 [270.0, 45.0, 180.0, 225.0, 315.0, 0.0, 135.0]\n",
      "135.0 [0.0, 315.0, 225.0, 45.0, 180.0, 90.0, 270.0]\n",
      "180.0 [90.0, 45.0, 225.0, 180.0, 315.0, 270.0, 0.0, 135.0]\n",
      "225.0 [180.0, 315.0, 90.0, 45.0, 225.0, 0.0, 135.0, 270.0]\n",
      "270.0 [90.0, 45.0, 180.0, 225.0, 0.0, 315.0, 135.0]\n",
      "315.0 [135.0, 315.0, 225.0, 45.0, 180.0, 90.0, 0.0, 270.0]\n"
     ]
    }
   ],
   "source": [
    "# For each angle, which angle groups are most correlated with it?\n",
    "for dir1 in dirs:\n",
    "    dir_partner_to_corr = {}\n",
    "    for dir2 in dirs:\n",
    "        key = (dir1, dir2)\n",
    "        if key in dirs_to_avg_pairwise_corr:\n",
    "            dir_partner_to_corr[dir2] = dirs_to_avg_pairwise_corr[key]\n",
    "    desc_sorted_keys = sorted(dir_partner_to_corr, key=dir_partner_to_corr.get, reverse=True)\n",
    "    print (dir1, desc_sorted_keys)\n",
    "# The orderings are:\n",
    "# For 501836392: [2,4,1,1,4,2,3], not bad, for a length of 8. mean ~2.43 ordering.\n",
    "#   And.. that was when I was using allen dsi. When using our dsi, it got worse :(\n",
    "# For 501886692: [6,5,7,2,2,3] - v bad\n",
    "# For 501717543: [7,7,6,7,2] - v bad"
   ]
  },
  {
   "cell_type": "code",
   "execution_count": null,
   "metadata": {},
   "outputs": [],
   "source": []
  }
 ],
 "metadata": {
  "kernelspec": {
   "display_name": "Python 3",
   "language": "python",
   "name": "python3"
  },
  "language_info": {
   "codemirror_mode": {
    "name": "ipython",
    "version": 3
   },
   "file_extension": ".py",
   "mimetype": "text/x-python",
   "name": "python",
   "nbconvert_exporter": "python",
   "pygments_lexer": "ipython3",
   "version": "3.7.3"
  }
 },
 "nbformat": 4,
 "nbformat_minor": 2
}

{
 "cells": [
  {
   "cell_type": "code",
   "execution_count": 1,
   "metadata": {},
   "outputs": [],
   "source": [
    "osi_threshold = 0.4\n",
    "#dsi_threshold = 0.5\n",
    "#tf_for_dsi_calc = 2.0\n",
    "ecid = 511510650\n",
    "eid = 501836392\n",
    "# 501836392 501886692 501717543\n",
    "\n",
    "# Events or dff\n",
    "use_events = True\n",
    "# Only pairs that are closer than these frames will be considered.\n",
    "# For reference, ko 2011 did 50um. Each 512 pixel field of view is 400 um. 64frames =50um.\n",
    "max_d = 64\n",
    "# corr_type = TEMP_CORR_AVG, AVG_TEMP_CORR, NOISE_CORR\n",
    "# Ho ko 2011 used TEMP_CORR_AVG for signal correlation.\n",
    "# \"Signal correlation was calculated as the correlation coefficient of the average responses to stimulus.\"\n",
    "# Then, NOISE_CORR for noise correlation.\n",
    "# \"Noise correlation was found by subtracting the average response from the responses\"\n",
    "corr_type = 'TEMP_CORR_AVG'\n"
   ]
  },
  {
   "cell_type": "code",
   "execution_count": 2,
   "metadata": {},
   "outputs": [],
   "source": [
    "import os\n",
    "drive_path = '/media/stephen/Brain20191/allen-brain-observatory/visual-coding-2p/'\n",
    "if not os.path.isdir(drive_path):\n",
    "    drive_path = '/media/alihamodi/Brain2019/allen-brain-observatory/visual-coding-2p/'\n",
    "\n",
    "import warnings; warnings.simplefilter('ignore');\n",
    "from utils.polarplot import *\n",
    "from utils.polardata import *\n",
    "from utils.data_wrappers import *\n",
    "import os\n",
    "import pandas as pd\n",
    "from allensdk.core.brain_observatory_cache import BrainObservatoryCache\n",
    "import allensdk.brain_observatory.stimulus_info as stim_info\n",
    "manifest_file = os.path.join(drive_path,'manifest.json')\n",
    "boc = BrainObservatoryCache(manifest_file=manifest_file)\n",
    "\n",
    "import warnings;\n",
    "warnings.simplefilter('ignore');\n",
    "cells = boc.get_cell_specimens()\n",
    "cells = pd.DataFrame.from_records(cells)\n",
    "    \n",
    "# Outputs = [cell_specimen_id, experiment_container_id, pref_dir]\n"
   ]
  },
  {
   "cell_type": "code",
   "execution_count": 11,
   "metadata": {},
   "outputs": [
    {
     "data": {
      "text/html": [
       "<div>\n",
       "<style scoped>\n",
       "    .dataframe tbody tr th:only-of-type {\n",
       "        vertical-align: middle;\n",
       "    }\n",
       "\n",
       "    .dataframe tbody tr th {\n",
       "        vertical-align: top;\n",
       "    }\n",
       "\n",
       "    .dataframe thead th {\n",
       "        text-align: right;\n",
       "    }\n",
       "</style>\n",
       "<table border=\"1\" class=\"dataframe\">\n",
       "  <thead>\n",
       "    <tr style=\"text-align: right;\">\n",
       "      <th></th>\n",
       "      <th>acquisition_age_days</th>\n",
       "      <th>cre_line</th>\n",
       "      <th>donor_name</th>\n",
       "      <th>experiment_container_id</th>\n",
       "      <th>fail_eye_tracking</th>\n",
       "      <th>id</th>\n",
       "      <th>imaging_depth</th>\n",
       "      <th>reporter_line</th>\n",
       "      <th>session_type</th>\n",
       "      <th>specimen_name</th>\n",
       "      <th>targeted_structure</th>\n",
       "    </tr>\n",
       "  </thead>\n",
       "  <tbody>\n",
       "    <tr>\n",
       "      <th>0</th>\n",
       "      <td>109</td>\n",
       "      <td>Cux2-CreERT2</td>\n",
       "      <td>222425</td>\n",
       "      <td>511510650</td>\n",
       "      <td>False</td>\n",
       "      <td>501886692</td>\n",
       "      <td>175</td>\n",
       "      <td>Ai93(TITL-GCaMP6f)</td>\n",
       "      <td>three_session_B</td>\n",
       "      <td>Cux2-CreERT2;Camk2a-tTA;Ai93-222425</td>\n",
       "      <td>VISp</td>\n",
       "    </tr>\n",
       "    <tr>\n",
       "      <th>1</th>\n",
       "      <td>108</td>\n",
       "      <td>Cux2-CreERT2</td>\n",
       "      <td>222425</td>\n",
       "      <td>511510650</td>\n",
       "      <td>True</td>\n",
       "      <td>501836392</td>\n",
       "      <td>175</td>\n",
       "      <td>Ai93(TITL-GCaMP6f)</td>\n",
       "      <td>three_session_A</td>\n",
       "      <td>Cux2-CreERT2;Camk2a-tTA;Ai93-222425</td>\n",
       "      <td>VISp</td>\n",
       "    </tr>\n",
       "    <tr>\n",
       "      <th>2</th>\n",
       "      <td>104</td>\n",
       "      <td>Cux2-CreERT2</td>\n",
       "      <td>222425</td>\n",
       "      <td>511510650</td>\n",
       "      <td>True</td>\n",
       "      <td>501717543</td>\n",
       "      <td>175</td>\n",
       "      <td>Ai93(TITL-GCaMP6f)</td>\n",
       "      <td>three_session_C</td>\n",
       "      <td>Cux2-CreERT2;Camk2a-tTA;Ai93-222425</td>\n",
       "      <td>VISp</td>\n",
       "    </tr>\n",
       "  </tbody>\n",
       "</table>\n",
       "</div>"
      ],
      "text/plain": [
       "   acquisition_age_days      cre_line donor_name  experiment_container_id  \\\n",
       "0                   109  Cux2-CreERT2     222425                511510650   \n",
       "1                   108  Cux2-CreERT2     222425                511510650   \n",
       "2                   104  Cux2-CreERT2     222425                511510650   \n",
       "\n",
       "   fail_eye_tracking         id  imaging_depth       reporter_line  \\\n",
       "0              False  501886692            175  Ai93(TITL-GCaMP6f)   \n",
       "1               True  501836392            175  Ai93(TITL-GCaMP6f)   \n",
       "2               True  501717543            175  Ai93(TITL-GCaMP6f)   \n",
       "\n",
       "      session_type                        specimen_name targeted_structure  \n",
       "0  three_session_B  Cux2-CreERT2;Camk2a-tTA;Ai93-222425               VISp  \n",
       "1  three_session_A  Cux2-CreERT2;Camk2a-tTA;Ai93-222425               VISp  \n",
       "2  three_session_C  Cux2-CreERT2;Camk2a-tTA;Ai93-222425               VISp  "
      ]
     },
     "execution_count": 11,
     "metadata": {},
     "output_type": "execute_result"
    }
   ],
   "source": [
    "pd.DataFrame(boc.get_ophys_experiments(experiment_container_ids=[ecid]))"
   ]
  },
  {
   "cell_type": "code",
   "execution_count": 27,
   "metadata": {},
   "outputs": [
    {
     "data": {
      "text/plain": [
       "array([ 60.,  30.,   0., 150., 120.,  90.])"
      ]
     },
     "execution_count": 27,
     "metadata": {},
     "output_type": "execute_result"
    }
   ],
   "source": [
    "# filtered_cells.columns\n",
    "filtered_cells['pref_ori'].unique()"
   ]
  },
  {
   "cell_type": "code",
   "execution_count": 4,
   "metadata": {},
   "outputs": [
    {
     "name": "stdout",
     "output_type": "stream",
     "text": [
      "0.0 [517419302 517419723 517419738 517420014 517420052 517420718 517420735\n",
      " 517421150 517421666 586183202]\n",
      "30.0 [517419288 517419310 517419927 517420158 517420275 517420573 517421502\n",
      " 517421717 586181540 586183081 586183175]\n",
      "60.0 [517419280 517419817 517419827 517420694]\n",
      "90.0 [517419746 517419753 517419807 517419837 517420087 517420102 517420179\n",
      " 517420380]\n",
      "120.0 [517419703 517419772 517420741 517421141 517421374 586183132 586183153\n",
      " 586183159]\n",
      "150.0 [517419306 517419419 517420095 517420418 517421693 586182529]\n",
      "d1 0.0 d2 0.0 num_pairs 4 num_group1 10 num_group2 10 corrs [-0.028112784332350774, -0.002166612126711318, -0.002166612126711318, -0.028112784332350774]\n",
      "d1 0.0 d2 30.0 num_pairs 11 num_group1 10 num_group2 11 corrs [0.04251643003498079, 0.016131174378048882, -0.011521322203188048, 0.14182673954765704, 0.022584463576281744, 0.001952883941156057, -0.023153117230172104, 0.06986908064744657, 0.011579934585122922, 0.023530846669737357, -0.003867604910922938]\n",
      "d1 0.0 d2 60.0 num_pairs 4 num_group1 10 num_group2 4 corrs [0.03765247191639091, 0.10429624931135911, -0.013725875593446336, 0.1108754968063067]\n",
      "d1 0.0 d2 90.0 num_pairs 8 num_group1 10 num_group2 8 corrs [-0.013471160753028923, -0.06862537093255235, -0.0461769769484905, -0.009645736938051774, -0.003956469316442553, -0.030602085079585895, -0.014851926723424613, 0.03701801025681405]\n",
      "d1 0.0 d2 120.0 num_pairs 4 num_group1 10 num_group2 8 corrs [-0.003068521806078143, -0.031865838530817446, 0.025011744191731092, 0.00942299698929578]\n",
      "d1 0.0 d2 150.0 num_pairs 2 num_group1 10 num_group2 6 corrs [0.07424282956228158, 0.054885348987058866]\n",
      "d1 30.0 d2 0.0 num_pairs 11 num_group1 11 num_group2 10 corrs [-0.023153117230172104, 0.022584463576281744, 0.023530846669737357, 0.04251643003498079, 0.001952883941156057, 0.016131174378048882, 0.06986908064744657, 0.14182673954765704, -0.011521322203188048, 0.011579934585122922, -0.003867604910922938]\n",
      "d1 30.0 d2 30.0 num_pairs 2 num_group1 11 num_group2 11 corrs [-0.03194168738298817, -0.03194168738298817]\n",
      "d1 30.0 d2 60.0 num_pairs 1 num_group1 11 num_group2 4 corrs [0.016518404228764764]\n",
      "d1 30.0 d2 90.0 num_pairs 4 num_group1 11 num_group2 8 corrs [-0.02770361080520542, 0.023219166348817964, 0.0026301003811799017, 0.017783401137087828]\n",
      "d1 30.0 d2 120.0 num_pairs 5 num_group1 11 num_group2 8 corrs [-0.003827602978099672, 0.041146153948109804, -0.01756007436617345, -0.02816361106170858, -0.0171151476154711]\n",
      "d1 30.0 d2 150.0 num_pairs 5 num_group1 11 num_group2 6 corrs [0.04449689313518616, 0.04384005292680053, 0.006392208956428527, -0.025632601110771987, -0.010007815632308237]\n",
      "d1 60.0 d2 0.0 num_pairs 4 num_group1 4 num_group2 10 corrs [0.03765247191639091, 0.1108754968063067, 0.10429624931135911, -0.013725875593446336]\n",
      "d1 60.0 d2 30.0 num_pairs 1 num_group1 4 num_group2 11 corrs [0.016518404228764764]\n",
      "d1 60.0 d2 90.0 num_pairs 4 num_group1 4 num_group2 8 corrs [0.08918644743411418, -0.003874956167865942, -0.00033243288273689803, 0.03364474728863883]\n",
      "d1 60.0 d2 120.0 num_pairs 2 num_group1 4 num_group2 8 corrs [0.014510672878684693, 0.023349445605262486]\n",
      "d1 90.0 d2 0.0 num_pairs 8 num_group1 8 num_group2 10 corrs [-0.013471160753028923, -0.009645736938051774, -0.030602085079585895, -0.003956469316442553, -0.06862537093255235, 0.03701801025681405, -0.0461769769484905, -0.014851926723424613]\n",
      "d1 90.0 d2 30.0 num_pairs 4 num_group1 8 num_group2 11 corrs [0.023219166348817964, 0.017783401137087828, 0.0026301003811799017, -0.02770361080520542]\n",
      "d1 90.0 d2 60.0 num_pairs 4 num_group1 8 num_group2 4 corrs [0.08918644743411418, -0.00033243288273689803, -0.003874956167865942, 0.03364474728863883]\n",
      "d1 90.0 d2 90.0 num_pairs 2 num_group1 8 num_group2 8 corrs [0.2028066463575427, 0.2028066463575427]\n",
      "d1 90.0 d2 120.0 num_pairs 6 num_group1 8 num_group2 8 corrs [-0.020077793937887636, -0.005867817117710918, -0.014074259893711525, 0.23535621108831592, -0.05065972573586701, -0.04715251073513675]\n",
      "d1 90.0 d2 150.0 num_pairs 3 num_group1 8 num_group2 6 corrs [-0.0013970808279388843, -0.02068725596393646, -0.03596729872590461]\n",
      "d1 120.0 d2 0.0 num_pairs 4 num_group1 8 num_group2 10 corrs [0.025011744191731092, -0.003068521806078143, 0.00942299698929578, -0.031865838530817446]\n",
      "d1 120.0 d2 30.0 num_pairs 5 num_group1 8 num_group2 11 corrs [0.041146153948109804, -0.003827602978099672, -0.02816361106170858, -0.0171151476154711, -0.01756007436617345]\n",
      "d1 120.0 d2 60.0 num_pairs 2 num_group1 8 num_group2 4 corrs [0.014510672878684693, 0.023349445605262486]\n",
      "d1 120.0 d2 90.0 num_pairs 6 num_group1 8 num_group2 8 corrs [-0.005867817117710918, 0.23535621108831592, -0.020077793937887636, -0.05065972573586701, -0.014074259893711525, -0.04715251073513675]\n",
      "d1 120.0 d2 120.0 num_pairs 2 num_group1 8 num_group2 8 corrs [-0.003642609452700403, -0.003642609452700403]\n",
      "d1 150.0 d2 0.0 num_pairs 2 num_group1 6 num_group2 10 corrs [0.054885348987058866, 0.07424282956228158]\n",
      "d1 150.0 d2 30.0 num_pairs 5 num_group1 6 num_group2 11 corrs [0.04384005292680053, 0.006392208956428527, 0.04449689313518616, -0.025632601110771987, -0.010007815632308237]\n",
      "d1 150.0 d2 90.0 num_pairs 3 num_group1 6 num_group2 8 corrs [-0.02068725596393646, -0.0013970808279388843, -0.03596729872590461]\n",
      "d1 150.0 d2 150.0 num_pairs 6 num_group1 6 num_group2 6 corrs [0.07282988243334562, 0.03131920706548714, 0.03131920706548714, 0.07282988243334562, -0.04336700668622405, -0.04336700668622405]\n"
     ]
    }
   ],
   "source": [
    "dg_response_filter = get_dg_response_filter_from_saskia()\n",
    "filtered_cells = get_filtered_cells(cells, dg_response_filter)\n",
    "filtered_cells = filtered_cells[filtered_cells.experiment_container_id==ecid]\n",
    "data_set = boc.get_ophys_experiment_data(eid)\n",
    "\n",
    "\n",
    "# Filter out based on tf-specific-dsi, rather than allen's global dsi\n",
    "# Also recalculate preferred direction using specific tf.\n",
    "\"\"\"\n",
    "tf_specific_dsi_col = []\n",
    "tf_specific_pref_dir_col = []\n",
    "for index, row in filtered_cells.iterrows():\n",
    "    polardata_for_this_cell = get_avg_normalized_response(\n",
    "        data_set = data_set,\n",
    "        cell_specimen_id = row.cell_specimen_id,\n",
    "        temporal_frequency = tf_for_dsi_calc)\n",
    "    if polardata_for_this_cell is None:\n",
    "        # Put negative value so dsi selector will ignore this guy.\n",
    "        new_dsi_cell = -1\n",
    "    else:\n",
    "        new_dsi_cell = get_new_dsi(polardata_for_this_cell.to_frame())\n",
    "    tf_specific_dsi_col.append(new_dsi_cell)\n",
    "    tf_specific_pref_dir_col.append(polardata_for_this_cell.argmax())\n",
    "filtered_cells['tf_specific_dsi'] = tf_specific_dsi_col\n",
    "filtered_cells['pref_dir'] = tf_specific_pref_dir_col\n",
    "\"\"\"\n",
    "# TODO: recompute this manually at a specific phase.\n",
    "filtered_cells['pref_ori'] = filtered_cells['pref_ori_sg'] \n",
    "# TODO: Do filtering by both osi and dsi threshold. Ko 2011 uses both. \n",
    "filtered_cells = filtered_cells[filtered_cells.osi_sg > osi_threshold]\n",
    "\n",
    "dirs = [0.0, 30.0, 60.0, 90.0, 120.0, 150.0]\n",
    "\n",
    "angle_to_cell_groups = {}\n",
    "for d in dirs:\n",
    "    angle_to_cell_groups[d] = filtered_cells[filtered_cells.pref_ori == d].cell_specimen_id.values\n",
    "    print(d, angle_to_cell_groups[d])\n",
    "\n",
    "dirs_to_avg_pairwise_corr = {}\n",
    "for d1 in dirs:\n",
    "    for d2 in dirs:\n",
    "        if len(angle_to_cell_groups[d1]) == 0 or len(angle_to_cell_groups[d2]) == 0:\n",
    "            continue\n",
    "        corrs, num_group1, num_group2 = pairwise_dir_avg_temp_corr_one_exp(\n",
    "            boc, eid,\n",
    "            angle_to_cell_groups[d1],\n",
    "            angle_to_cell_groups[d2],\n",
    "            max_d,\n",
    "            use_events,\n",
    "            corr_type)\n",
    "        if corrs is None:\n",
    "            continue\n",
    "        dirs_to_avg_pairwise_corr[(d1, d2)] = corrs\n",
    "        print (\"d1\", d1, \"d2\", d2, \"num_pairs\", len(corrs), \"num_group1\", num_group1, \"num_group2\", num_group2,\n",
    "              \"corrs\", corrs)"
   ]
  },
  {
   "cell_type": "code",
   "execution_count": 19,
   "metadata": {},
   "outputs": [
    {
     "name": "stdout",
     "output_type": "stream",
     "text": [
      "0.0 -0.04336700668622405 0.2028066463575427 0.02471562948442509 0.07602465200776444 16\n",
      "30.0 -0.05065972573586701 0.23535621108831592 0.02721850004810024 0.061198450041048076 48\n",
      "60.0 -0.03596729872590461 0.1108754968063067 0.01333750007218746 0.03778644409698752 44\n",
      "90.0 -0.06862537093255235 0.041146153948109804 -0.013525538346777352 0.028261456205109687 26\n"
     ]
    }
   ],
   "source": [
    "from scipy import stats\n",
    "angle_dist_to_corrs = {}\n",
    "for dir_pair, corrs in dirs_to_avg_pairwise_corr.items():\n",
    "    hi = max(dir_pair[0],dir_pair[1])\n",
    "    lo = min(dir_pair[0],dir_pair[1])\n",
    "    angle_dist = hi-lo\n",
    "    if angle_dist > 90:\n",
    "        angle_dist = 180-angle_dist\n",
    "    if angle_dist not in angle_dist_to_corrs:\n",
    "        angle_dist_to_corrs[angle_dist] = []\n",
    "    angle_dist_to_corrs[angle_dist].extend(corrs)\n",
    "for angle_dist, corrs in angle_dist_to_corrs.items():\n",
    "    print(angle_dist, min(corrs), max(corrs), np.mean(corrs), np.std(corrs), len(corrs))\n",
    "    "
   ]
  },
  {
   "cell_type": "code",
   "execution_count": 35,
   "metadata": {},
   "outputs": [
    {
     "data": {
      "text/plain": [
       "<matplotlib.axes._subplots.AxesSubplot at 0x7f4c8011ed68>"
      ]
     },
     "execution_count": 35,
     "metadata": {},
     "output_type": "execute_result"
    },
    {
     "data": {
      "image/png": "[encoded data removed]",
      "text/plain": [
       "<Figure size 432x288 with 2 Axes>"
      ]
     },
     "metadata": {
      "needs_background": "light"
     },
     "output_type": "display_data"
    }
   ],
   "source": [
    "import seaborn as sns;\n",
    "ser = pd.Series(list(dirs_to_avg_pairwise_corr.values()),\n",
    "                  index=pd.MultiIndex.from_tuples(dirs_to_avg_pairwise_corr.keys()))\n",
    "df = ser.unstack().fillna(0)\n",
    "df = df.sort_index(axis=0 ,ascending=False)\n",
    "sns.heatmap(df, center=0)"
   ]
  },
  {
   "cell_type": "code",
   "execution_count": 36,
   "metadata": {},
   "outputs": [
    {
     "name": "stdout",
     "output_type": "stream",
     "text": [
      "0.0 [150.0, 60.0, 30.0, 120.0, 0.0, 90.0]\n",
      "30.0 [0.0, 60.0, 150.0, 90.0, 120.0, 30.0]\n",
      "60.0 [0.0, 90.0, 120.0, 30.0]\n",
      "90.0 [90.0, 60.0, 120.0, 30.0, 0.0, 150.0]\n",
      "120.0 [60.0, 90.0, 0.0, 120.0, 30.0]\n",
      "150.0 [0.0, 150.0, 30.0, 90.0]\n"
     ]
    }
   ],
   "source": [
    "# For each angle, which angle groups are most correlated with it?\n",
    "for dir1 in dirs:\n",
    "    dir_partner_to_corr = {}\n",
    "    for dir2 in dirs:\n",
    "        key = (dir1, dir2)\n",
    "        if key in dirs_to_avg_pairwise_corr:\n",
    "            dir_partner_to_corr[dir2] = dirs_to_avg_pairwise_corr[key]\n",
    "    desc_sorted_keys = sorted(dir_partner_to_corr, key=dir_partner_to_corr.get, reverse=True)\n",
    "    print (dir1, desc_sorted_keys)\n",
    "# The orderings are:\n",
    "# For 501836392: [2,4,1,1,4,2,3], not bad, for a length of 8. mean ~2.43 ordering.\n",
    "#   And.. that was when I was using allen dsi. When using our dsi, it got worse :(\n",
    "# For 501886692: [6,5,7,2,2,3] - v bad\n",
    "# For 501717543: [7,7,6,7,2] - v bad"
   ]
  },
  {
   "cell_type": "code",
   "execution_count": null,
   "metadata": {},
   "outputs": [],
   "source": []
  }
 ],
 "metadata": {
  "kernelspec": {
   "display_name": "Python 3",
   "language": "python",
   "name": "python3"
  },
  "language_info": {
   "codemirror_mode": {
    "name": "ipython",
    "version": 3
   },
   "file_extension": ".py",
   "mimetype": "text/x-python",
   "name": "python",
   "nbconvert_exporter": "python",
   "pygments_lexer": "ipython3",
   "version": "3.7.3"
  }
 },
 "nbformat": 4,
 "nbformat_minor": 2
}

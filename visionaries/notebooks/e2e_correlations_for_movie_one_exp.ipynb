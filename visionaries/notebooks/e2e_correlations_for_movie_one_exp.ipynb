{
 "cells": [
  {
   "cell_type": "code",
   "execution_count": 7,
   "metadata": {},
   "outputs": [],
   "source": [
    "dsi_threshold = 0.5\n",
    "tf_for_dsi_calc = 2.0\n",
    "ecid = 511510650\n",
    "eid = 501836392\n",
    "# 501836392 501886692 501717543\n",
    "\n",
    "# Events or dff\n",
    "use_events = True\n",
    "# Only pairs that are closer than these frames will be considered.\n",
    "# For reference, ko 2011 did 50um. Each 512 pixel field of view is 400 um. 64frames =50um.\n",
    "max_d = 64\n",
    "# corr_type = TEMP_CORR_AVG, AVG_TEMP_CORR, NOISE_CORR\n",
    "# Ho ko 2011 used TEMP_CORR_AVG for signal correlation.\n",
    "# \"Signal correlation was calculated as the correlation coefficient of the average responses to stimulus.\"\n",
    "# Then, NOISE_CORR for noise correlation.\n",
    "# \"Noise correlation was found by subtracting the average response from the responses\"\n",
    "corr_type = 'TEMP_CORR_AVG'\n"
   ]
  },
  {
   "cell_type": "code",
   "execution_count": 8,
   "metadata": {},
   "outputs": [],
   "source": [
    "import os\n",
    "drive_path = '/media/stephen/Brain20191/allen-brain-observatory/visual-coding-2p/'\n",
    "if not os.path.isdir(drive_path):\n",
    "    drive_path = '/media/alihamodi/Brain2019/allen-brain-observatory/visual-coding-2p/'\n",
    "\n",
    "import warnings; warnings.simplefilter('ignore');\n",
    "from utils.polarplot import *\n",
    "from utils.polardata import *\n",
    "from utils.data_wrappers import *\n",
    "import os\n",
    "import pandas as pd\n",
    "from allensdk.core.brain_observatory_cache import BrainObservatoryCache\n",
    "import allensdk.brain_observatory.stimulus_info as stim_info\n",
    "manifest_file = os.path.join(drive_path,'manifest.json')\n",
    "boc = BrainObservatoryCache(manifest_file=manifest_file)\n",
    "\n",
    "import warnings;\n",
    "warnings.simplefilter('ignore');\n",
    "cells = boc.get_cell_specimens()\n",
    "cells = pd.DataFrame.from_records(cells)\n",
    "    \n",
    "# Outputs = [cell_specimen_id, experiment_container_id, pref_dir]\n"
   ]
  },
  {
   "cell_type": "code",
   "execution_count": 9,
   "metadata": {},
   "outputs": [
    {
     "data": {
      "text/html": [
       "<div>\n",
       "<style scoped>\n",
       "    .dataframe tbody tr th:only-of-type {\n",
       "        vertical-align: middle;\n",
       "    }\n",
       "\n",
       "    .dataframe tbody tr th {\n",
       "        vertical-align: top;\n",
       "    }\n",
       "\n",
       "    .dataframe thead th {\n",
       "        text-align: right;\n",
       "    }\n",
       "</style>\n",
       "<table border=\"1\" class=\"dataframe\">\n",
       "  <thead>\n",
       "    <tr style=\"text-align: right;\">\n",
       "      <th></th>\n",
       "      <th>acquisition_age_days</th>\n",
       "      <th>cre_line</th>\n",
       "      <th>donor_name</th>\n",
       "      <th>experiment_container_id</th>\n",
       "      <th>fail_eye_tracking</th>\n",
       "      <th>id</th>\n",
       "      <th>imaging_depth</th>\n",
       "      <th>reporter_line</th>\n",
       "      <th>session_type</th>\n",
       "      <th>specimen_name</th>\n",
       "      <th>targeted_structure</th>\n",
       "    </tr>\n",
       "  </thead>\n",
       "  <tbody>\n",
       "    <tr>\n",
       "      <th>0</th>\n",
       "      <td>109</td>\n",
       "      <td>Cux2-CreERT2</td>\n",
       "      <td>222425</td>\n",
       "      <td>511510650</td>\n",
       "      <td>False</td>\n",
       "      <td>501886692</td>\n",
       "      <td>175</td>\n",
       "      <td>Ai93(TITL-GCaMP6f)</td>\n",
       "      <td>three_session_B</td>\n",
       "      <td>Cux2-CreERT2;Camk2a-tTA;Ai93-222425</td>\n",
       "      <td>VISp</td>\n",
       "    </tr>\n",
       "    <tr>\n",
       "      <th>1</th>\n",
       "      <td>108</td>\n",
       "      <td>Cux2-CreERT2</td>\n",
       "      <td>222425</td>\n",
       "      <td>511510650</td>\n",
       "      <td>True</td>\n",
       "      <td>501836392</td>\n",
       "      <td>175</td>\n",
       "      <td>Ai93(TITL-GCaMP6f)</td>\n",
       "      <td>three_session_A</td>\n",
       "      <td>Cux2-CreERT2;Camk2a-tTA;Ai93-222425</td>\n",
       "      <td>VISp</td>\n",
       "    </tr>\n",
       "    <tr>\n",
       "      <th>2</th>\n",
       "      <td>104</td>\n",
       "      <td>Cux2-CreERT2</td>\n",
       "      <td>222425</td>\n",
       "      <td>511510650</td>\n",
       "      <td>True</td>\n",
       "      <td>501717543</td>\n",
       "      <td>175</td>\n",
       "      <td>Ai93(TITL-GCaMP6f)</td>\n",
       "      <td>three_session_C</td>\n",
       "      <td>Cux2-CreERT2;Camk2a-tTA;Ai93-222425</td>\n",
       "      <td>VISp</td>\n",
       "    </tr>\n",
       "  </tbody>\n",
       "</table>\n",
       "</div>"
      ],
      "text/plain": [
       "   acquisition_age_days      cre_line donor_name  experiment_container_id  \\\n",
       "0                   109  Cux2-CreERT2     222425                511510650   \n",
       "1                   108  Cux2-CreERT2     222425                511510650   \n",
       "2                   104  Cux2-CreERT2     222425                511510650   \n",
       "\n",
       "   fail_eye_tracking         id  imaging_depth       reporter_line  \\\n",
       "0              False  501886692            175  Ai93(TITL-GCaMP6f)   \n",
       "1               True  501836392            175  Ai93(TITL-GCaMP6f)   \n",
       "2               True  501717543            175  Ai93(TITL-GCaMP6f)   \n",
       "\n",
       "      session_type                        specimen_name targeted_structure  \n",
       "0  three_session_B  Cux2-CreERT2;Camk2a-tTA;Ai93-222425               VISp  \n",
       "1  three_session_A  Cux2-CreERT2;Camk2a-tTA;Ai93-222425               VISp  \n",
       "2  three_session_C  Cux2-CreERT2;Camk2a-tTA;Ai93-222425               VISp  "
      ]
     },
     "execution_count": 9,
     "metadata": {},
     "output_type": "execute_result"
    }
   ],
   "source": [
    "pd.DataFrame(boc.get_ophys_experiments(experiment_container_ids=[ecid]))"
   ]
  },
  {
   "cell_type": "code",
   "execution_count": 10,
   "metadata": {},
   "outputs": [
    {
     "name": "stdout",
     "output_type": "stream",
     "text": [
      "0.0 [517419280 517419533 517419817 517420158 517420247 517420857]\n",
      "45.0 [517419101 517419419 517420452 517421374 586183175]\n",
      "90.0 [517420573 517420741 586183159]\n",
      "135.0 [517420095]\n",
      "180.0 [517420735 586180112 586183153]\n",
      "225.0 [517419302 517421085 586183081]\n",
      "270.0 [517419064 517419874 517421717 586181540]\n",
      "315.0 [517419797 517420418 517421098]\n",
      "d1 0.0 d2 45.0 corr 0.005986900518476012 num_pairs 1 num_group1 6 num_group2 5\n",
      "d1 0.0 d2 90.0 corr 0.014510672878684693 num_pairs 1 num_group1 6 num_group2 3\n",
      "d1 0.0 d2 135.0 corr 0.36520214491849595 num_pairs 1 num_group1 6 num_group2 1\n",
      "d1 0.0 d2 225.0 corr -0.025471006369026404 num_pairs 1 num_group1 6 num_group2 3\n",
      "d1 0.0 d2 270.0 corr -0.030318402624835476 num_pairs 2 num_group1 6 num_group2 4\n",
      "d1 0.0 d2 315.0 corr -0.032968747645659005 num_pairs 1 num_group1 6 num_group2 3\n"
     ]
    },
    {
     "ename": "KeyboardInterrupt",
     "evalue": "",
     "output_type": "error",
     "traceback": [
      "\u001b[0;31m---------------------------------------------------------------------------\u001b[0m",
      "\u001b[0;31mKeyboardInterrupt\u001b[0m                         Traceback (most recent call last)",
      "\u001b[0;32m<ipython-input-10-e070ae5ce99e>\u001b[0m in \u001b[0;36m<module>\u001b[0;34m\u001b[0m\n\u001b[1;32m     40\u001b[0m             \u001b[0mmax_d\u001b[0m\u001b[0;34m,\u001b[0m\u001b[0;34m\u001b[0m\u001b[0;34m\u001b[0m\u001b[0m\n\u001b[1;32m     41\u001b[0m             \u001b[0muse_events\u001b[0m\u001b[0;34m,\u001b[0m\u001b[0;34m\u001b[0m\u001b[0;34m\u001b[0m\u001b[0m\n\u001b[0;32m---> 42\u001b[0;31m             corr_type)\n\u001b[0m\u001b[1;32m     43\u001b[0m         \u001b[0;32mif\u001b[0m \u001b[0mavg_corr\u001b[0m \u001b[0;32mis\u001b[0m \u001b[0;32mNone\u001b[0m\u001b[0;34m:\u001b[0m\u001b[0;34m\u001b[0m\u001b[0;34m\u001b[0m\u001b[0m\n\u001b[1;32m     44\u001b[0m             \u001b[0;32mcontinue\u001b[0m\u001b[0;34m\u001b[0m\u001b[0;34m\u001b[0m\u001b[0m\n",
      "\u001b[0;32m~/Documents/dynbrain/swdb_2019_student/visionaries/notebooks/utils/data_wrappers.py\u001b[0m in \u001b[0;36mpairwise_dir_avg_temp_corr_one_exp\u001b[0;34m(boc, eid, cs_d1, cs_d2, max_d, use_events, corr_type)\u001b[0m\n\u001b[1;32m    226\u001b[0m   \u001b[0mdata_set\u001b[0m \u001b[0;34m=\u001b[0m \u001b[0mboc\u001b[0m\u001b[0;34m.\u001b[0m\u001b[0mget_ophys_experiment_data\u001b[0m\u001b[0;34m(\u001b[0m\u001b[0meid\u001b[0m\u001b[0;34m)\u001b[0m\u001b[0;34m\u001b[0m\u001b[0;34m\u001b[0m\u001b[0m\n\u001b[1;32m    227\u001b[0m   \u001b[0mevents\u001b[0m \u001b[0;34m=\u001b[0m \u001b[0mboc\u001b[0m\u001b[0;34m.\u001b[0m\u001b[0mget_ophys_experiment_events\u001b[0m\u001b[0;34m(\u001b[0m\u001b[0mophys_experiment_id\u001b[0m\u001b[0;34m=\u001b[0m\u001b[0meid\u001b[0m\u001b[0;34m)\u001b[0m\u001b[0;34m\u001b[0m\u001b[0;34m\u001b[0m\u001b[0m\n\u001b[0;32m--> 228\u001b[0;31m   \u001b[0mloc_x\u001b[0m\u001b[0;34m,\u001b[0m \u001b[0mloc_y\u001b[0m \u001b[0;34m=\u001b[0m \u001b[0mget_cell_locations\u001b[0m\u001b[0;34m(\u001b[0m\u001b[0mdata_set\u001b[0m\u001b[0;34m)\u001b[0m\u001b[0;34m\u001b[0m\u001b[0;34m\u001b[0m\u001b[0m\n\u001b[0m\u001b[1;32m    229\u001b[0m   \u001b[0mresult\u001b[0m \u001b[0;34m=\u001b[0m \u001b[0;34m[\u001b[0m\u001b[0;34m]\u001b[0m\u001b[0;34m\u001b[0m\u001b[0;34m\u001b[0m\u001b[0m\n\u001b[1;32m    230\u001b[0m   \u001b[0;32mfor\u001b[0m \u001b[0mc1\u001b[0m \u001b[0;32min\u001b[0m \u001b[0mcs_d1\u001b[0m\u001b[0;34m:\u001b[0m\u001b[0;34m\u001b[0m\u001b[0;34m\u001b[0m\u001b[0m\n",
      "\u001b[0;32m~/Documents/dynbrain/swdb_2019_student/visionaries/notebooks/utils/data_wrappers.py\u001b[0m in \u001b[0;36mget_cell_locations\u001b[0;34m(data_set)\u001b[0m\n\u001b[1;32m    250\u001b[0m \u001b[0;34m\u001b[0m\u001b[0m\n\u001b[1;32m    251\u001b[0m     \u001b[0;32mfor\u001b[0m \u001b[0mi\u001b[0m \u001b[0;32min\u001b[0m \u001b[0mrange\u001b[0m\u001b[0;34m(\u001b[0m\u001b[0mnum_cells\u001b[0m\u001b[0;34m)\u001b[0m\u001b[0;34m:\u001b[0m\u001b[0;34m\u001b[0m\u001b[0;34m\u001b[0m\u001b[0m\n\u001b[0;32m--> 252\u001b[0;31m         \u001b[0mind\u001b[0m \u001b[0;34m=\u001b[0m \u001b[0mnp\u001b[0m\u001b[0;34m.\u001b[0m\u001b[0mwhere\u001b[0m\u001b[0;34m(\u001b[0m\u001b[0mrois\u001b[0m\u001b[0;34m[\u001b[0m\u001b[0mi\u001b[0m\u001b[0;34m]\u001b[0m\u001b[0;34m)\u001b[0m\u001b[0;34m\u001b[0m\u001b[0;34m\u001b[0m\u001b[0m\n\u001b[0m\u001b[1;32m    253\u001b[0m         \u001b[0mloc_x\u001b[0m\u001b[0;34m[\u001b[0m\u001b[0mi\u001b[0m\u001b[0;34m]\u001b[0m \u001b[0;34m=\u001b[0m \u001b[0mnp\u001b[0m\u001b[0;34m.\u001b[0m\u001b[0mmean\u001b[0m\u001b[0;34m(\u001b[0m\u001b[0mind\u001b[0m\u001b[0;34m[\u001b[0m\u001b[0;36m1\u001b[0m\u001b[0;34m]\u001b[0m\u001b[0;34m)\u001b[0m\u001b[0;34m\u001b[0m\u001b[0;34m\u001b[0m\u001b[0m\n\u001b[1;32m    254\u001b[0m         \u001b[0mloc_y\u001b[0m\u001b[0;34m[\u001b[0m\u001b[0mi\u001b[0m\u001b[0;34m]\u001b[0m \u001b[0;34m=\u001b[0m \u001b[0mnp\u001b[0m\u001b[0;34m.\u001b[0m\u001b[0mmean\u001b[0m\u001b[0;34m(\u001b[0m\u001b[0mind\u001b[0m\u001b[0;34m[\u001b[0m\u001b[0;36m0\u001b[0m\u001b[0;34m]\u001b[0m\u001b[0;34m)\u001b[0m\u001b[0;34m\u001b[0m\u001b[0;34m\u001b[0m\u001b[0m\n",
      "\u001b[0;31mKeyboardInterrupt\u001b[0m: "
     ]
    }
   ],
   "source": [
    "dg_response_filter = get_dg_response_filter_from_saskia()\n",
    "filtered_cells = get_filtered_cells(cells, dg_response_filter)\n",
    "filtered_cells = filtered_cells[filtered_cells.experiment_container_id==ecid]\n",
    "# Filter out based on tf-specific-dsi, rather than allen's global dsi\n",
    "# Also recalculate preferred direction using specific tf.\n",
    "tf_specific_dsi_col = []\n",
    "tf_specific_pref_dir_col = []\n",
    "data_set = boc.get_ophys_experiment_data(eid)\n",
    "for index, row in filtered_cells.iterrows():\n",
    "    polardata_for_this_cell = get_avg_normalized_response(\n",
    "        data_set = data_set,\n",
    "        cell_specimen_id = row.cell_specimen_id,\n",
    "        temporal_frequency = tf_for_dsi_calc)\n",
    "    if polardata_for_this_cell is None:\n",
    "        # Put negative value so dsi selector will ignore this guy.\n",
    "        new_dsi_cell = -1\n",
    "    else:\n",
    "        new_dsi_cell = get_new_dsi(polardata_for_this_cell.to_frame())\n",
    "    tf_specific_dsi_col.append(new_dsi_cell)\n",
    "    tf_specific_pref_dir_col.append(polardata_for_this_cell.argmax())\n",
    "filtered_cells['tf_specific_dsi'] = tf_specific_dsi_col\n",
    "filtered_cells['pref_dir'] = tf_specific_pref_dir_col\n",
    "\n",
    "filtered_cells = filtered_cells[filtered_cells.tf_specific_dsi > dsi_threshold]\n",
    "\n",
    "dirs = [0.0, 45.0, 90.0, 135.0, 180.0, 225.0, 270.0, 315.0]\n",
    "\n",
    "angle_to_cell_groups = {}\n",
    "for d in dirs:\n",
    "    angle_to_cell_groups[d] = filtered_cells[filtered_cells.pref_dir == d].cell_specimen_id.values\n",
    "    print(d, angle_to_cell_groups[d])\n",
    "\n",
    "dirs_to_avg_pairwise_corr = {}\n",
    "for d1 in dirs:\n",
    "    for d2 in dirs:\n",
    "        avg_corr, num_pairs, num_group1, num_group2 = pairwise_dir_avg_temp_corr_one_exp(\n",
    "            boc, eid,\n",
    "            angle_to_cell_groups[d1],\n",
    "            angle_to_cell_groups[d2],\n",
    "            max_d,\n",
    "            use_events,\n",
    "            corr_type)\n",
    "        if avg_corr is None:\n",
    "            continue\n",
    "        dirs_to_avg_pairwise_corr[(d1, d2)] = avg_corr\n",
    "        print (\"d1\", d1, \"d2\", d2, \"corr\", avg_corr, \"num_pairs\", num_pairs, \"num_group1\", num_group1, \"num_group2\", num_group2)"
   ]
  },
  {
   "cell_type": "code",
   "execution_count": 5,
   "metadata": {},
   "outputs": [
    {
     "data": {
      "text/plain": [
       "<matplotlib.axes._subplots.AxesSubplot at 0x7fb6653177f0>"
      ]
     },
     "execution_count": 5,
     "metadata": {},
     "output_type": "execute_result"
    },
    {
     "data": {
      "image/png": "[encoded data removed]",
      "text/plain": [
       "<Figure size 432x288 with 2 Axes>"
      ]
     },
     "metadata": {
      "needs_background": "light"
     },
     "output_type": "display_data"
    }
   ],
   "source": [
    "import seaborn as sns;\n",
    "ser = pd.Series(list(dirs_to_avg_pairwise_corr.values()),\n",
    "                  index=pd.MultiIndex.from_tuples(dirs_to_avg_pairwise_corr.keys()))\n",
    "df = ser.unstack().fillna(0)\n",
    "df = df.sort_index(axis=0 ,ascending=False)\n",
    "sns.heatmap(df, center=0)"
   ]
  },
  {
   "cell_type": "code",
   "execution_count": 6,
   "metadata": {},
   "outputs": [
    {
     "name": "stdout",
     "output_type": "stream",
     "text": [
      "0.0 [135.0, 225.0, 270.0, 45.0, 90.0, 315.0]\n",
      "45.0 [180.0, 135.0, 270.0, 0.0, 225.0]\n",
      "90.0 [90.0, 225.0, 0.0, 315.0]\n",
      "135.0 [0.0, 45.0]\n",
      "180.0 [270.0, 45.0, 225.0, 315.0]\n",
      "225.0 [270.0, 0.0, 225.0, 90.0, 45.0, 180.0]\n",
      "270.0 [180.0, 225.0, 0.0, 45.0]\n",
      "315.0 [180.0, 90.0, 0.0]\n"
     ]
    }
   ],
   "source": [
    "# For each angle, which angle groups are most correlated with it?\n",
    "for dir1 in dirs:\n",
    "    dir_partner_to_corr = {}\n",
    "    for dir2 in dirs:\n",
    "        key = (dir1, dir2)\n",
    "        if key in dirs_to_avg_pairwise_corr:\n",
    "            dir_partner_to_corr[dir2] = dirs_to_avg_pairwise_corr[key]\n",
    "    desc_sorted_keys = sorted(dir_partner_to_corr, key=dir_partner_to_corr.get, reverse=True)\n",
    "    print (dir1, desc_sorted_keys)\n",
    "# The orderings are:\n",
    "# For 501836392: [2,4,1,1,4,2,3], not bad, for a length of 8. mean ~2.43 ordering.\n",
    "#   And.. that was when I was using allen dsi. When using our dsi, it got worse :(\n",
    "# For 501886692: [6,5,7,2,2,3] - v bad\n",
    "# For 501717543: [7,7,6,7,2] - v bad"
   ]
  },
  {
   "cell_type": "code",
   "execution_count": null,
   "metadata": {},
   "outputs": [],
   "source": []
  }
 ],
 "metadata": {
  "kernelspec": {
   "display_name": "Python 3",
   "language": "python",
   "name": "python3"
  },
  "language_info": {
   "codemirror_mode": {
    "name": "ipython",
    "version": 3
   },
   "file_extension": ".py",
   "mimetype": "text/x-python",
   "name": "python",
   "nbconvert_exporter": "python",
   "pygments_lexer": "ipython3",
   "version": "3.7.3"
  }
 },
 "nbformat": 4,
 "nbformat_minor": 2
}

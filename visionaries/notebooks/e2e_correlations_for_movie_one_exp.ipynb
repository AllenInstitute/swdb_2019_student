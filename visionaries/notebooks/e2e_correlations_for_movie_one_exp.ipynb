{
 "cells": [
  {
   "cell_type": "code",
   "execution_count": 1,
   "metadata": {},
   "outputs": [],
   "source": [
    "osi_threshold = 0.4\n",
    "#dsi_threshold = 0.5\n",
    "#tf_for_dsi_calc = 2.0\n",
    "# ecid = 511510650\n",
    "# ecid,eid pairs\n",
    "eids = [(511510650,501836392), (511510650,501886692), (511510650,501717543)]\n",
    "# 501836392 501886692 501717543\n",
    "\n",
    "# Events or dff\n",
    "use_events = True\n",
    "# Only pairs that are closer than these frames will be considered.\n",
    "# For reference, ko 2011 did 50um. Each 512 pixel field of view is 400 um. 64frames =50um.\n",
    "max_d = 64\n",
    "# corr_type = TEMP_CORR_AVG, AVG_TEMP_CORR, NOISE_CORR\n",
    "# Ho ko 2011 used TEMP_CORR_AVG for signal correlation.\n",
    "# \"Signal correlation was calculated as the correlation coefficient of the average responses to stimulus.\"\n",
    "# Then, NOISE_CORR for noise correlation.\n",
    "# \"Noise correlation was found by subtracting the average response from the responses\"\n",
    "corr_type = 'TEMP_CORR_AVG'"
   ]
  },
  {
   "cell_type": "code",
   "execution_count": 2,
   "metadata": {},
   "outputs": [
    {
     "data": {
      "text/plain": [
       "0"
      ]
     },
     "execution_count": 2,
     "metadata": {},
     "output_type": "execute_result"
    }
   ],
   "source": [
    "import os\n",
    "drive_path = '/media/stephen/Brain20191/allen-brain-observatory/visual-coding-2p/'\n",
    "if not os.path.isdir(drive_path):\n",
    "    drive_path = '/media/alihamodi/Brain2019/allen-brain-observatory/visual-coding-2p/'\n",
    "\n",
    "import warnings; warnings.simplefilter('ignore');\n",
    "from utils.polarplot import *\n",
    "from utils.polardata import *\n",
    "from utils.data_wrappers import *\n",
    "import os\n",
    "import pandas as pd\n",
    "from allensdk.core.brain_observatory_cache import BrainObservatoryCache\n",
    "import allensdk.brain_observatory.stimulus_info as stim_info\n",
    "manifest_file = os.path.join(drive_path,'manifest.json')\n",
    "boc = BrainObservatoryCache(manifest_file=manifest_file)\n",
    "\n",
    "import warnings;\n",
    "warnings.simplefilter('ignore');\n",
    "cells = boc.get_cell_specimens()\n",
    "cells = pd.DataFrame.from_records(cells)\n",
    "    \n",
    "# Outputs = [cell_specimen_id, experiment_container_id, pref_dir]\n",
    "#pd.DataFrame(boc.get_ophys_experiments(experiment_container_ids=[ecid]))\n",
    "0"
   ]
  },
  {
   "cell_type": "code",
   "execution_count": null,
   "metadata": {},
   "outputs": [
    {
     "name": "stdout",
     "output_type": "stream",
     "text": [
      "Processing ecid 511510650, eid 501836392\n",
      "0.0 [517419302 517419723 517419738 517420014 517420052 517420718 517420735\n",
      " 517421150 517421666 586183202]\n",
      "30.0 [517419288 517419310 517419927 517420158 517420275 517420573 517421502\n",
      " 517421717 586181540 586183081 586183175]\n",
      "60.0 [517419280 517419817 517419827 517420694]\n",
      "90.0 [517419746 517419753 517419807 517419837 517420087 517420102 517420179\n",
      " 517420380]\n",
      "120.0 [517419703 517419772 517420741 517421141 517421374 586183132 586183153\n",
      " 586183159]\n",
      "150.0 [517419306 517419419 517420095 517420418 517421693 586182529]\n",
      "d1 0.0 d2 0.0 num_pairs 4 num_group1 10 num_group2 10 max corr val, best-pair -0.002166612126711318 (517419723, 517420014) corrs [-0.028112784332350774, -0.002166612126711318, -0.002166612126711318, -0.028112784332350774]\n",
      "d1 0.0 d2 30.0 num_pairs 11 num_group1 10 num_group2 11 max corr val, best-pair 0.14182673954765704 (517419738, 586181540) corrs [0.04251643003498079, 0.016131174378048882, -0.011521322203188048, 0.14182673954765704, 0.022584463576281744, 0.001952883941156057, -0.023153117230172104, 0.06986908064744657, 0.011579934585122922, 0.023530846669737357, -0.003867604910922938]\n",
      "d1 0.0 d2 60.0 num_pairs 4 num_group1 10 num_group2 4 max corr val, best-pair 0.1108754968063067 (517421666, 517419817) corrs [0.03765247191639091, 0.10429624931135911, -0.013725875593446336, 0.1108754968063067]\n",
      "d1 0.0 d2 90.0 num_pairs 8 num_group1 10 num_group2 8 max corr val, best-pair 0.03701801025681405 (586183202, 517419837) corrs [-0.013471160753028923, -0.06862537093255235, -0.0461769769484905, -0.009645736938051774, -0.003956469316442553, -0.030602085079585895, -0.014851926723424613, 0.03701801025681405]\n",
      "d1 0.0 d2 120.0 num_pairs 4 num_group1 10 num_group2 8 max corr val, best-pair 0.025011744191731092 (517420052, 517421374) corrs [-0.003068521806078143, -0.031865838530817446, 0.025011744191731092, 0.00942299698929578]\n",
      "d1 0.0 d2 150.0 num_pairs 2 num_group1 10 num_group2 6 max corr val, best-pair 0.07424282956228158 (517419723, 517421693) corrs [0.07424282956228158, 0.054885348987058866]\n",
      "d1 30.0 d2 0.0 num_pairs 11 num_group1 11 num_group2 10 max corr val, best-pair 0.14182673954765704 (586181540, 517419738) corrs [-0.023153117230172104, 0.022584463576281744, 0.023530846669737357, 0.04251643003498079, 0.001952883941156057, 0.016131174378048882, 0.06986908064744657, 0.14182673954765704, -0.011521322203188048, 0.011579934585122922, -0.003867604910922938]\n",
      "d1 30.0 d2 30.0 num_pairs 2 num_group1 11 num_group2 11 max corr val, best-pair -0.03194168738298817 (517421717, 586183175) corrs [-0.03194168738298817, -0.03194168738298817]\n",
      "d1 30.0 d2 60.0 num_pairs 1 num_group1 11 num_group2 4 max corr val, best-pair 0.016518404228764764 (586181540, 517419827) corrs [0.016518404228764764]\n",
      "d1 30.0 d2 90.0 num_pairs 4 num_group1 11 num_group2 8 max corr val, best-pair 0.023219166348817964 (517420158, 517419837) corrs [-0.02770361080520542, 0.023219166348817964, 0.0026301003811799017, 0.017783401137087828]\n",
      "d1 30.0 d2 120.0 num_pairs 5 num_group1 11 num_group2 8 max corr val, best-pair 0.041146153948109804 (517420275, 517419703) corrs [-0.003827602978099672, 0.041146153948109804, -0.01756007436617345, -0.02816361106170858, -0.0171151476154711]\n",
      "d1 30.0 d2 150.0 num_pairs 5 num_group1 11 num_group2 6 max corr val, best-pair 0.04449689313518616 (517419288, 517419419) corrs [0.04449689313518616, 0.04384005292680053, 0.006392208956428527, -0.025632601110771987, -0.010007815632308237]\n",
      "d1 60.0 d2 0.0 num_pairs 4 num_group1 4 num_group2 10 max corr val, best-pair 0.1108754968063067 (517419817, 517421666) corrs [0.03765247191639091, 0.1108754968063067, 0.10429624931135911, -0.013725875593446336]\n"
     ]
    }
   ],
   "source": [
    "def get_dir_pairs_to_corrs_one_exp(boc, cells, ecid, eid):\n",
    "    print(\"Processing ecid {}, eid {}\".format(ecid, eid))\n",
    "    dg_response_filter = get_dg_response_filter_from_saskia()\n",
    "    filtered_cells = get_filtered_cells(cells, dg_response_filter)\n",
    "    filtered_cells = filtered_cells[filtered_cells.experiment_container_id==ecid]\n",
    "    data_set = boc.get_ophys_experiment_data(eid)\n",
    "\n",
    "    # Filter out based on tf-specific-dsi, rather than allen's global dsi\n",
    "    # Also recalculate preferred direction using specific tf.\n",
    "    \"\"\"\n",
    "    tf_specific_dsi_col = []\n",
    "    tf_specific_pref_dir_col = []\n",
    "    for index, row in filtered_cells.iterrows():\n",
    "        polardata_for_this_cell = get_avg_normalized_response(\n",
    "            data_set = data_set,\n",
    "            cell_specimen_id = row.cell_specimen_id,\n",
    "            temporal_frequency = tf_for_dsi_calc)\n",
    "        if polardata_for_this_cell is None:\n",
    "            # Put negative value so dsi selector will ignore this guy.\n",
    "            new_dsi_cell = -1\n",
    "        else:\n",
    "            new_dsi_cell = get_new_dsi(polardata_for_this_cell.to_frame())\n",
    "        tf_specific_dsi_col.append(new_dsi_cell)\n",
    "        tf_specific_pref_dir_col.append(polardata_for_this_cell.argmax())\n",
    "    filtered_cells['tf_specific_dsi'] = tf_specific_dsi_col\n",
    "    filtered_cells['pref_dir'] = tf_specific_pref_dir_col\n",
    "    \"\"\"\n",
    "    # TODO: recompute this manually at a specific phase.\n",
    "    filtered_cells['pref_ori'] = filtered_cells['pref_ori_sg'] \n",
    "    # TODO: Do filtering by both osi and dsi threshold. Ko 2011 uses both. \n",
    "    filtered_cells = filtered_cells[filtered_cells.osi_sg > osi_threshold]\n",
    "\n",
    "    dirs = [0.0, 30.0, 60.0, 90.0, 120.0, 150.0]\n",
    "\n",
    "    angle_to_cell_groups = {}\n",
    "    for d in dirs:\n",
    "        angle_to_cell_groups[d] = filtered_cells[filtered_cells.pref_ori == d].cell_specimen_id.values\n",
    "        print(d, angle_to_cell_groups[d])\n",
    "\n",
    "    dir_pairs_to_corrs = {}\n",
    "    for d1 in dirs:\n",
    "        for d2 in dirs:\n",
    "            if len(angle_to_cell_groups[d1]) == 0 or len(angle_to_cell_groups[d2]) == 0:\n",
    "                continue\n",
    "            corrs, num_group1, num_group2, best_pair, max_pair_corr = pairwise_dir_avg_temp_corr_one_exp(\n",
    "                boc, eid,\n",
    "                angle_to_cell_groups[d1],\n",
    "                angle_to_cell_groups[d2],\n",
    "                max_d,\n",
    "                use_events,\n",
    "                corr_type)\n",
    "            if corrs is None:\n",
    "                continue\n",
    "            dir_pairs_to_corrs[(d1, d2)] = corrs\n",
    "            print (\"d1\", d1,\n",
    "                   \"d2\", d2,\n",
    "                   \"num_pairs\", len(corrs),\n",
    "                   \"num_group1\", num_group1,\n",
    "                   \"num_group2\", num_group2,\n",
    "                   \"max corr val, best-pair\", max_pair_corr, best_pair,\n",
    "                \"corrs\", corrs)\n",
    "    return dir_pairs_to_corrs\n",
    "\n",
    "all_dir_pairs_to_corrs = {}\n",
    "for ecid, eid in eids:\n",
    "    dir_pairs_to_corrs = get_dir_pairs_to_corrs_one_exp(boc, cells, ecid, eid)\n",
    "    for dir_pair, corrs in dir_pairs_to_corrs.items():\n",
    "        if dir_pair not in all_dir_pairs_to_corrs:\n",
    "            all_dir_pairs_to_corrs[dir_pair] = []\n",
    "        all_dir_pairs_to_corrs[dir_pair].extend(corrs)"
   ]
  },
  {
   "cell_type": "code",
   "execution_count": null,
   "metadata": {},
   "outputs": [],
   "source": [
    "from scipy import stats\n",
    "angle_dist_to_corrs = {}\n",
    "for dir_pair, corrs in all_dir_pairs_to_corrs.items():\n",
    "    hi = max(dir_pair[0],dir_pair[1])\n",
    "    lo = min(dir_pair[0],dir_pair[1])\n",
    "    angle_dist = hi-lo\n",
    "    if angle_dist > 90:\n",
    "        angle_dist = 180-angle_dist\n",
    "    if angle_dist not in angle_dist_to_corrs:\n",
    "        angle_dist_to_corrs[angle_dist] = []\n",
    "    angle_dist_to_corrs[angle_dist].extend(corrs)\n"
   ]
  },
  {
   "cell_type": "code",
   "execution_count": 57,
   "metadata": {},
   "outputs": [
    {
     "name": "stdout",
     "output_type": "stream",
     "text": [
      "0.0 -0.04336700668622405 0.2028066463575427 0.019417231892697 0.05964356575926409 38\n",
      "30.0 -0.051984852407583215 0.26613034726182105 0.027681558097070888 0.07013308247999797 104\n",
      "60.0 -0.03669219005137689 0.1108754968063067 0.009380429766994769 0.03932165943488684 100\n",
      "90.0 -0.06862537093255235 0.04396197772841792 -0.008738965670600332 0.025630750995423356 62\n"
     ]
    },
    {
     "data": {
      "image/png": "[encoded data removed]",
      "text/plain": [
       "<Figure size 432x288 with 1 Axes>"
      ]
     },
     "metadata": {
      "needs_background": "light"
     },
     "output_type": "display_data"
    }
   ],
   "source": [
    "fig, ax = plt.subplots(nrows=1, ncols=1)\n",
    "data = []\n",
    "for angle_dist, corrs in angle_dist_to_corrs.items():\n",
    "    data.append(corrs)\n",
    "ax.boxplot(data)\n",
    "ax.set_xticklabels(['0', '30', '60', '90'])\n",
    "ax.set_xlabel(\"Angle difference\")\n",
    "if corr_type == \"TEMP_CORR_AVG\":\n",
    "    ax.set_ylabel(\"Signal correlation\")\n",
    "elif corr_type == \"NOISE_CORR\":\n",
    "    ax.set_ylabel(\"Noise correlation\")\n",
    "#TODO: Just manually label the n's\n",
    "\n",
    "for angle_dist, corrs in angle_dist_to_corrs.items():\n",
    "    print(angle_dist, min(corrs), max(corrs), np.mean(corrs), np.std(corrs), len(corrs))"
   ]
  },
  {
   "cell_type": "code",
   "execution_count": 46,
   "metadata": {
    "scrolled": true
   },
   "outputs": [
    {
     "data": {
      "text/plain": [
       "0"
      ]
     },
     "execution_count": 46,
     "metadata": {},
     "output_type": "execute_result"
    }
   ],
   "source": [
    "\"\"\"\n",
    "Unused code that might be useful again someday\n",
    "\"\"\"\n",
    "\"\"\"\n",
    "import seaborn as sns;\n",
    "ser = pd.Series(list(dir_pairs_to_corrs.values()),\n",
    "                  index=pd.MultiIndex.from_tuples(dir_pairs_to_corrs.keys()))\n",
    "df = ser.unstack().fillna(0)\n",
    "df = df.sort_index(axis=0 ,ascending=False)\n",
    "sns.heatmap(df, center=0)\n",
    "\n",
    "# For each angle, which angle groups are most correlated with it?\n",
    "for dir1 in dirs:\n",
    "    dir_partner_to_corr = {}\n",
    "    for dir2 in dirs:\n",
    "        key = (dir1, dir2)\n",
    "        if key in dir_pairs_to_corrs:\n",
    "            dir_partner_to_corr[dir2] = dir_pairs_to_corrs[key]\n",
    "    desc_sorted_keys = sorted(dir_partner_to_corr, key=dir_partner_to_corr.get, reverse=True)\n",
    "    print (dir1, desc_sorted_keys)\n",
    "# The orderings are:\n",
    "# For 501836392: [2,4,1,1,4,2,3], not bad, for a length of 8. mean ~2.43 ordering.\n",
    "#   And.. that was when I was using allen dsi. When using our dsi, it got worse :(\n",
    "# For 501886692: [6,5,7,2,2,3] - v bad\n",
    "# For 501717543: [7,7,6,7,2] - v bad\n",
    "\n",
    "\"\"\"\n",
    "0"
   ]
  },
  {
   "cell_type": "code",
   "execution_count": null,
   "metadata": {},
   "outputs": [],
   "source": []
  }
 ],
 "metadata": {
  "kernelspec": {
   "display_name": "Python 3",
   "language": "python",
   "name": "python3"
  },
  "language_info": {
   "codemirror_mode": {
    "name": "ipython",
    "version": 3
   },
   "file_extension": ".py",
   "mimetype": "text/x-python",
   "name": "python",
   "nbconvert_exporter": "python",
   "pygments_lexer": "ipython3",
   "version": "3.7.3"
  }
 },
 "nbformat": 4,
 "nbformat_minor": 2
}

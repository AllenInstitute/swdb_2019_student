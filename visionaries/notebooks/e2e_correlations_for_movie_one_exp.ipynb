{
 "cells": [
  {
   "cell_type": "code",
   "execution_count": 1,
   "metadata": {},
   "outputs": [],
   "source": [
    "osi_threshold = 0.4\n",
    "dsi_threshold = 0.3\n",
    "#tf_for_dsi_calc = 2.0\n",
    "# ecid = 511510650\n",
    "# ecid,eid pairs\n",
    "eids = [(511510650,501836392), (511510650,501886692), (511510650,501717543)]\n",
    "# 501836392 501886692 501717543\n",
    "\n",
    "# Events or dff\n",
    "use_events = True\n",
    "# Only pairs that are closer than these frames will be considered.\n",
    "# For reference, ko 2011 did 50um. Each 512 pixel field of view is 400 um. 64frames =50um.\n",
    "max_d = 64\n",
    "# So we don't cheat and reuse the same cell, since there are some segmentation errors.\n",
    "# And, to reduce the confound of fluorescence affecting neighbors \n",
    "min_d = 5\n",
    "# corr_type = TEMP_CORR_AVG, AVG_TEMP_CORR, NOISE_CORR\n",
    "# Ho ko 2011 used TEMP_CORR_AVG for signal correlation.\n",
    "# \"Signal correlation was calculated as the correlation coefficient of the average responses to stimulus.\"\n",
    "# Then, NOISE_CORR for noise correlation.\n",
    "# \"Noise correlation was found by subtracting the average response from the responses\"\n",
    "corr_type = 'NOISE_CORR'"
   ]
  },
  {
   "cell_type": "code",
   "execution_count": 2,
   "metadata": {},
   "outputs": [
    {
     "data": {
      "text/plain": [
       "0"
      ]
     },
     "execution_count": 2,
     "metadata": {},
     "output_type": "execute_result"
    }
   ],
   "source": [
    "import os\n",
    "drive_path = '/media/stephen/Brain20191/allen-brain-observatory/visual-coding-2p/'\n",
    "if not os.path.isdir(drive_path):\n",
    "    drive_path = '/media/alihamodi/Brain2019/allen-brain-observatory/visual-coding-2p/'\n",
    "\n",
    "import warnings; warnings.simplefilter('ignore');\n",
    "from utils.polarplot import *\n",
    "from utils.polardata import *\n",
    "from utils.data_wrappers import *\n",
    "import os\n",
    "import pandas as pd\n",
    "from allensdk.core.brain_observatory_cache import BrainObservatoryCache\n",
    "import allensdk.brain_observatory.stimulus_info as stim_info\n",
    "manifest_file = os.path.join(drive_path,'manifest.json')\n",
    "boc = BrainObservatoryCache(manifest_file=manifest_file)\n",
    "\n",
    "import warnings;\n",
    "warnings.simplefilter('ignore');\n",
    "cells = boc.get_cell_specimens()\n",
    "cells = pd.DataFrame.from_records(cells)\n",
    "    \n",
    "# Outputs = [cell_specimen_id, experiment_container_id, pref_dir]\n",
    "#pd.DataFrame(boc.get_ophys_experiments(experiment_container_ids=[ecid]))\n",
    "0"
   ]
  },
  {
   "cell_type": "code",
   "execution_count": null,
   "metadata": {},
   "outputs": [
    {
     "name": "stdout",
     "output_type": "stream",
     "text": [
      "Processing ecid 511510650, eid 501836392\n",
      "0.0 [517419302 517419723 517420735 517421666]\n",
      "30.0 [517420158 517420275 517420573 517421502 517421717 586183081]\n",
      "60.0 [517419280 517419817 517420694]\n",
      "90.0 [517419753 517419807 517420102 517420179]\n",
      "120.0 [517419703 517419772 517420741 517421141 517421374 586183153 586183159]\n",
      "150.0 [517420095 517420418]\n",
      "d1 0.0 d2 0.0 num_pairs 2 num_group1 4 num_group2 4 max corr val, best-pair -0.1817205685268525 (517419302, 517420735) corrs [-0.1817205685268525, -0.1817205685268525]\n",
      "d1 0.0 d2 30.0 num_pairs 3 num_group1 4 num_group2 6 max corr val, best-pair 0.4697868089752341 (517419302, 517420573) corrs [0.4697868089752341, -0.17450970179394365, -0.29717815685575844]\n",
      "d1 0.0 d2 60.0 num_pairs 1 num_group1 4 num_group2 3 max corr val, best-pair -0.26727454339888246 (517421666, 517419817) corrs [-0.26727454339888246]\n",
      "d1 0.0 d2 90.0 num_pairs 1 num_group1 4 num_group2 4 max corr val, best-pair 0.055028962061219766 (517421666, 517420179) corrs [0.055028962061219766]\n",
      "d1 0.0 d2 120.0 num_pairs 1 num_group1 4 num_group2 7 max corr val, best-pair -0.07200857898543239 (517419302, 586183159) corrs [-0.07200857898543239]\n",
      "d1 30.0 d2 0.0 num_pairs 3 num_group1 6 num_group2 4 max corr val, best-pair 0.4697868089752341 (517420573, 517419302) corrs [0.4697868089752341, -0.17450970179394365, -0.29717815685575844]\n",
      "d1 30.0 d2 90.0 num_pairs 1 num_group1 6 num_group2 4 max corr val, best-pair -0.0577192757903428 (517420573, 517420102) corrs [-0.0577192757903428]\n",
      "d1 30.0 d2 120.0 num_pairs 2 num_group1 6 num_group2 7 max corr val, best-pair 0.17413690377032154 (517420573, 586183159) corrs [-0.04062969265860236, 0.17413690377032154]\n",
      "d1 60.0 d2 0.0 num_pairs 1 num_group1 3 num_group2 4 max corr val, best-pair -0.26727454339888246 (517419817, 517421666) corrs [-0.26727454339888246]\n",
      "d1 60.0 d2 90.0 num_pairs 2 num_group1 3 num_group2 4 max corr val, best-pair 0.2098357762077842 (517419817, 517419807) corrs [0.2098357762077842, 0.15052462918612647]\n",
      "d1 60.0 d2 120.0 num_pairs 1 num_group1 3 num_group2 7 max corr val, best-pair 0.6676106593510509 (517419280, 517420741) corrs [0.6676106593510509]\n",
      "d1 90.0 d2 0.0 num_pairs 1 num_group1 4 num_group2 4 max corr val, best-pair 0.055028962061219766 (517420179, 517421666) corrs [0.055028962061219766]\n",
      "d1 90.0 d2 30.0 num_pairs 1 num_group1 4 num_group2 6 max corr val, best-pair -0.0577192757903428 (517420102, 517420573) corrs [-0.0577192757903428]\n",
      "d1 90.0 d2 60.0 num_pairs 2 num_group1 4 num_group2 3 max corr val, best-pair 0.2098357762077842 (517419807, 517419817) corrs [0.2098357762077842, 0.15052462918612647]\n",
      "d1 90.0 d2 90.0 num_pairs 2 num_group1 4 num_group2 4 max corr val, best-pair 0.1697281897510491 (517419807, 517420179) corrs [0.1697281897510491, 0.1697281897510491]\n",
      "d1 90.0 d2 120.0 num_pairs 4 num_group1 4 num_group2 7 max corr val, best-pair 0.5167325957321067 (517420102, 586183159) corrs [-0.18582972804219677, -0.23477827925773717, -0.22287884460988824, 0.5167325957321067]\n",
      "d1 120.0 d2 0.0 num_pairs 1 num_group1 7 num_group2 4 max corr val, best-pair -0.07200857898543239 (586183159, 517419302) corrs [-0.07200857898543239]\n",
      "d1 120.0 d2 30.0 num_pairs 2 num_group1 7 num_group2 6 max corr val, best-pair 0.17413690377032154 (586183159, 517420573) corrs [-0.04062969265860236, 0.17413690377032154]\n",
      "d1 120.0 d2 60.0 num_pairs 1 num_group1 7 num_group2 3 max corr val, best-pair 0.6676106593510509 (517420741, 517419280) corrs [0.6676106593510509]\n"
     ]
    }
   ],
   "source": [
    "def get_dir_pairs_to_corrs_one_exp(boc, cells, ecid, eid):\n",
    "    print(\"Processing ecid {}, eid {}\".format(ecid, eid))\n",
    "    dg_response_filter = get_dg_response_filter_from_saskia()\n",
    "    filtered_cells = get_filtered_cells(cells, dg_response_filter)\n",
    "    filtered_cells = filtered_cells[filtered_cells.experiment_container_id==ecid]\n",
    "    data_set = boc.get_ophys_experiment_data(eid)\n",
    "\n",
    "    # Filter out based on tf-specific-dsi, rather than allen's global dsi\n",
    "    # Also recalculate preferred direction using specific tf.\n",
    "    \"\"\"\n",
    "    tf_specific_dsi_col = []\n",
    "    tf_specific_pref_dir_col = []\n",
    "    for index, row in filtered_cells.iterrows():\n",
    "        polardata_for_this_cell = get_avg_normalized_response(\n",
    "            data_set = data_set,\n",
    "            cell_specimen_id = row.cell_specimen_id,\n",
    "            temporal_frequency = tf_for_dsi_calc)\n",
    "        if polardata_for_this_cell is None:\n",
    "            # Put negative value so dsi selector will ignore this guy.\n",
    "            new_dsi_cell = -1\n",
    "        else:\n",
    "            new_dsi_cell = get_new_dsi(polardata_for_this_cell.to_frame())\n",
    "        tf_specific_dsi_col.append(new_dsi_cell)\n",
    "        tf_specific_pref_dir_col.append(polardata_for_this_cell.argmax())\n",
    "    filtered_cells['tf_specific_dsi'] = tf_specific_dsi_col\n",
    "    filtered_cells['pref_dir'] = tf_specific_pref_dir_col\n",
    "    \"\"\"\n",
    "    # TODO: recompute this manually at a specific phase.\n",
    "    filtered_cells['pref_ori'] = filtered_cells['pref_ori_sg'] \n",
    "    # Ko 2011 uses both.\n",
    "    # TODO: recompute the dsi and osi based on a fixed sf and tf\n",
    "    filtered_cells = filtered_cells[filtered_cells.osi_sg > osi_threshold]\n",
    "    filtered_cells = filtered_cells[filtered_cells.dsi_dg > dsi_threshold]\n",
    "\n",
    "    dirs = [0.0, 30.0, 60.0, 90.0, 120.0, 150.0]\n",
    "\n",
    "    angle_to_cell_groups = {}\n",
    "    for d in dirs:\n",
    "        angle_to_cell_groups[d] = filtered_cells[filtered_cells.pref_ori == d].cell_specimen_id.values\n",
    "        print(d, angle_to_cell_groups[d])\n",
    "\n",
    "    dir_pairs_to_corrs = {}\n",
    "    for d1 in dirs:\n",
    "        for d2 in dirs:\n",
    "            if len(angle_to_cell_groups[d1]) == 0 or len(angle_to_cell_groups[d2]) == 0:\n",
    "                continue\n",
    "            corrs, num_group1, num_group2, best_pair, max_pair_corr = pairwise_dir_avg_temp_corr_one_exp(\n",
    "                boc, eid,\n",
    "                angle_to_cell_groups[d1],\n",
    "                angle_to_cell_groups[d2],\n",
    "                max_d,\n",
    "                min_d,\n",
    "                use_events,\n",
    "                corr_type)\n",
    "            if corrs is None:\n",
    "                continue\n",
    "            dir_pairs_to_corrs[(d1, d2)] = corrs\n",
    "            print (\"d1\", d1,\n",
    "                   \"d2\", d2,\n",
    "                   \"num_pairs\", len(corrs),\n",
    "                   \"num_group1\", num_group1,\n",
    "                   \"num_group2\", num_group2,\n",
    "                   \"max corr val, best-pair\", max_pair_corr, best_pair,\n",
    "                \"corrs\", corrs)\n",
    "    return dir_pairs_to_corrs\n",
    "\n",
    "all_dir_pairs_to_corrs = {}\n",
    "for ecid, eid in eids:\n",
    "    dir_pairs_to_corrs = get_dir_pairs_to_corrs_one_exp(boc, cells, ecid, eid)\n",
    "    for dir_pair, corrs in dir_pairs_to_corrs.items():\n",
    "        if dir_pair not in all_dir_pairs_to_corrs:\n",
    "            all_dir_pairs_to_corrs[dir_pair] = []\n",
    "        all_dir_pairs_to_corrs[dir_pair].extend(corrs)"
   ]
  },
  {
   "cell_type": "code",
   "execution_count": null,
   "metadata": {},
   "outputs": [],
   "source": [
    "from scipy import stats\n",
    "angle_dist_to_corrs = {}\n",
    "for dir_pair, corrs in all_dir_pairs_to_corrs.items():\n",
    "    hi = max(dir_pair[0],dir_pair[1])\n",
    "    lo = min(dir_pair[0],dir_pair[1])\n",
    "    angle_dist = hi-lo\n",
    "    if angle_dist > 90:\n",
    "        angle_dist = 180-angle_dist\n",
    "    if angle_dist not in angle_dist_to_corrs:\n",
    "        angle_dist_to_corrs[angle_dist] = []\n",
    "    angle_dist_to_corrs[angle_dist].extend(corrs)\n"
   ]
  },
  {
   "cell_type": "code",
   "execution_count": null,
   "metadata": {},
   "outputs": [],
   "source": [
    "fig, ax = plt.subplots(nrows=1, ncols=1)\n",
    "data = []\n",
    "for angle_dist, corrs in angle_dist_to_corrs.items():\n",
    "    data.append(corrs)\n",
    "ax.boxplot(data)\n",
    "ax.set_xticklabels(['0', '30', '60', '90'])\n",
    "ax.set_xlabel(\"Angle difference\")\n",
    "if corr_type == \"TEMP_CORR_AVG\":\n",
    "    ax.set_ylabel(\"Signal correlation\")\n",
    "elif corr_type == \"NOISE_CORR\":\n",
    "    ax.set_ylabel(\"Noise correlation\")\n",
    "#TODO: Just manually label the n's\n",
    "\n",
    "for angle_dist, corrs in angle_dist_to_corrs.items():\n",
    "    print(angle_dist, min(corrs), max(corrs), np.mean(corrs), np.std(corrs), len(corrs))"
   ]
  },
  {
   "cell_type": "code",
   "execution_count": 46,
   "metadata": {
    "scrolled": true
   },
   "outputs": [
    {
     "data": {
      "text/plain": [
       "0"
      ]
     },
     "execution_count": 46,
     "metadata": {},
     "output_type": "execute_result"
    }
   ],
   "source": [
    "\"\"\"\n",
    "Unused code that might be useful again someday\n",
    "\"\"\"\n",
    "\"\"\"\n",
    "import seaborn as sns;\n",
    "ser = pd.Series(list(dir_pairs_to_corrs.values()),\n",
    "                  index=pd.MultiIndex.from_tuples(dir_pairs_to_corrs.keys()))\n",
    "df = ser.unstack().fillna(0)\n",
    "df = df.sort_index(axis=0 ,ascending=False)\n",
    "sns.heatmap(df, center=0)\n",
    "\n",
    "# For each angle, which angle groups are most correlated with it?\n",
    "for dir1 in dirs:\n",
    "    dir_partner_to_corr = {}\n",
    "    for dir2 in dirs:\n",
    "        key = (dir1, dir2)\n",
    "        if key in dir_pairs_to_corrs:\n",
    "            dir_partner_to_corr[dir2] = dir_pairs_to_corrs[key]\n",
    "    desc_sorted_keys = sorted(dir_partner_to_corr, key=dir_partner_to_corr.get, reverse=True)\n",
    "    print (dir1, desc_sorted_keys)\n",
    "# The orderings are:\n",
    "# For 501836392: [2,4,1,1,4,2,3], not bad, for a length of 8. mean ~2.43 ordering.\n",
    "#   And.. that was when I was using allen dsi. When using our dsi, it got worse :(\n",
    "# For 501886692: [6,5,7,2,2,3] - v bad\n",
    "# For 501717543: [7,7,6,7,2] - v bad\n",
    "\n",
    "\"\"\"\n",
    "0"
   ]
  },
  {
   "cell_type": "code",
   "execution_count": null,
   "metadata": {},
   "outputs": [],
   "source": []
  }
 ],
 "metadata": {
  "kernelspec": {
   "display_name": "Python 3",
   "language": "python",
   "name": "python3"
  },
  "language_info": {
   "codemirror_mode": {
    "name": "ipython",
    "version": 3
   },
   "file_extension": ".py",
   "mimetype": "text/x-python",
   "name": "python",
   "nbconvert_exporter": "python",
   "pygments_lexer": "ipython3",
   "version": "3.7.3"
  }
 },
 "nbformat": 4,
 "nbformat_minor": 2
}

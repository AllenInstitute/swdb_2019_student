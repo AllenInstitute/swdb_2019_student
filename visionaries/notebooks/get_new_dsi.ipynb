{
 "cells": [
  {
   "cell_type": "code",
   "execution_count": null,
   "metadata": {},
   "outputs": [],
   "source": [
    "def get_new_dsi(responses_df):\n",
    "    pref_dir = responses_df['mean_dff'].argmax()\n",
    "    non_pref_dir = (pref_dir + 180) % 360\n",
    "    pref_dir_val = responses_df.loc[pref_dir].mean_dff\n",
    "    non_pref_dir_val = responses_df.loc[non_pref_dir].mean_dff\n",
    "    new_dsi = (pref_dir_val-non_pref_dir_val)/(pref_dir_val+non_pref_dir_val)\n",
    "    return new_dsi"
   ]
  }
 ],
 "metadata": {
  "kernelspec": {
   "display_name": "Python 3",
   "language": "python",
   "name": "python3"
  },
  "language_info": {
   "codemirror_mode": {
    "name": "ipython",
    "version": 3
   },
   "file_extension": ".py",
   "mimetype": "text/x-python",
   "name": "python",
   "nbconvert_exporter": "python",
   "pygments_lexer": "ipython3",
   "version": "3.7.4"
  }
 },
 "nbformat": 4,
 "nbformat_minor": 2
}

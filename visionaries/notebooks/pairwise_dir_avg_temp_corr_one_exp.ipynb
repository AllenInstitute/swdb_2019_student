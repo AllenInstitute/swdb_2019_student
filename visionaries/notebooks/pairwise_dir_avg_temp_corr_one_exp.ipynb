{
 "cells": [
  {
   "cell_type": "markdown",
   "metadata": {},
   "source": [
    "On one experiment, average temporal correlation between cell groups that prefer dir1 vs dir2"
   ]
  },
  {
   "cell_type": "code",
   "execution_count": 28,
   "metadata": {},
   "outputs": [],
   "source": [
    "import os\n",
    "drive_path = '/media/stephen/Brain20191/allen-brain-observatory/visual-coding-2p/'\n",
    "if not os.path.isdir(drive_path):\n",
    "    drive_path = '/media/alihamodi/Brain2019/allen-brain-observatory/visual-coding-2p/'\n",
    "    \n",
    "import warnings;\n",
    "warnings.simplefilter('ignore');\n",
    "import os\n",
    "import pandas as pd\n",
    "from allensdk.core.brain_observatory_cache import BrainObservatoryCache\n",
    "import allensdk.brain_observatory.stimulus_info as stim_info\n",
    "from utils.data_wrappers import *\n",
    "from utils.polardata import *\n",
    "from utils.polarplot import *\n",
    "manifest_file = os.path.join(drive_path,'manifest.json')\n",
    "\n",
    "boc = BrainObservatoryCache(manifest_file=manifest_file)\n",
    "d1 = 180.0\n",
    "d2 = 90.0\n",
    "eid = 501836392\n",
    "ecid = 201\n",
    "# TODO: Recompute direction likeness w/ a single tf, instead of using allen's\n",
    "# A dataframe with: [cell_specimen_id, experiment_container_id, pref_dir]\n",
    "data = [[101, 201, 180.0], [102, 201, 180], [103, 201, 90], [104, 201, 90], [105, 202, 90]] \n",
    "c_df = pd.DataFrame(data, columns = ['cell_specimen_id', 'experiment_container_id', 'pref_dir']) \n"
   ]
  },
  {
   "cell_type": "code",
   "execution_count": 29,
   "metadata": {},
   "outputs": [],
   "source": [
    "def pairwise_dir_avg_temp_corr_one_exp(boc, ecid, eid, d1, d2, c_df):\n",
    "    \"\"\"On one experiment, average temporal correlation between cell groups that prefer d1 vs d2\n",
    "    Conceptually, the average correlation of spontaneous activity of a cell that likes d1 vs cell that likes d2.\n",
    "    @param d1, d2 = the two directions to compare. E.g. 180.0\n",
    "    @param c_df A dataframe with: [cell_specimen_id, experiment_container_id, pref_dir].\n",
    "        You should already filter out the non-responsive / selective cells.\n",
    "    \"\"\"\n",
    "\n",
    "    c_df = c_df[c_df.experiment_container_id == ecid]\n",
    "    cs_d1 = c_df[c_df.pref_dir == d1]\n",
    "    cs_d2 = c_df[c_df.pref_dir == d2]\n",
    "\n",
    "    result = []\n",
    "    for c1 in cs_d1.cell_specimen_id:\n",
    "        for c2 in cs_d2.cell_specimen_id:\n",
    "            if c1 == c2:\n",
    "                continue\n",
    "            pair_corr = avg_temp_corr_one_exp(boc, eid, c1, c2)\n",
    "            if pair_corr is None:\n",
    "                continue\n",
    "            result.append(pair_corr)\n",
    "            print(c1, c2)\n",
    "    print (result)\n",
    "    if len(result) is 0:\n",
    "        return None\n",
    "    return np.mean(result)"
   ]
  },
  {
   "cell_type": "code",
   "execution_count": 30,
   "metadata": {},
   "outputs": [
    {
     "name": "stdout",
     "output_type": "stream",
     "text": [
      "101 103\n",
      "101 104\n",
      "102 103\n",
      "102 104\n",
      "[3, 3, 3, 3]\n"
     ]
    },
    {
     "data": {
      "text/plain": [
       "3.0"
      ]
     },
     "execution_count": 30,
     "metadata": {},
     "output_type": "execute_result"
    }
   ],
   "source": [
    "pairwise_dir_avg_temp_corr_one_exp(boc, ecid, eid, d1, d2, c_df)\n",
    "# If you want to test on mock data, just mock out avg_temp_corr_one_exp"
   ]
  },
  {
   "cell_type": "code",
   "execution_count": null,
   "metadata": {},
   "outputs": [],
   "source": []
  }
 ],
 "metadata": {
  "kernelspec": {
   "display_name": "Python 3",
   "language": "python",
   "name": "python3"
  },
  "language_info": {
   "codemirror_mode": {
    "name": "ipython",
    "version": 3
   },
   "file_extension": ".py",
   "mimetype": "text/x-python",
   "name": "python",
   "nbconvert_exporter": "python",
   "pygments_lexer": "ipython3",
   "version": "3.7.3"
  }
 },
 "nbformat": 4,
 "nbformat_minor": 2
}

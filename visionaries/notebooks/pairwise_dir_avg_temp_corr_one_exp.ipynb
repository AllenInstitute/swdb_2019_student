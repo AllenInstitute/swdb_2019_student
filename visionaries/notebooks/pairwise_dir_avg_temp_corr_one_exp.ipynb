{
 "cells": [
  {
   "cell_type": "markdown",
   "metadata": {},
   "source": [
    "On one experiment, average temporal correlation between cell groups that prefer dir1 vs dir2"
   ]
  },
  {
   "cell_type": "code",
   "execution_count": 4,
   "metadata": {},
   "outputs": [],
   "source": [
    "import os\n",
    "drive_path = '/media/stephen/Brain20191/allen-brain-observatory/visual-coding-2p/'\n",
    "if not os.path.isdir(drive_path):\n",
    "    drive_path = '/media/alihamodi/Brain2019/allen-brain-observatory/visual-coding-2p/'\n",
    "    \n",
    "import warnings;\n",
    "warnings.simplefilter('ignore');\n",
    "import os\n",
    "import pandas as pd\n",
    "from allensdk.core.brain_observatory_cache import BrainObservatoryCache\n",
    "import allensdk.brain_observatory.stimulus_info as stim_info\n",
    "from utils.data_wrappers import *\n",
    "from utils.polardata import *\n",
    "from utils.polarplot import *\n",
    "manifest_file = os.path.join(drive_path,'manifest.json')\n",
    "\n",
    "boc = BrainObservatoryCache(manifest_file=manifest_file)\n",
    "d1 = 180.0\n",
    "d2 = 90.0\n",
    "eid = 501836392\n",
    "ecid = 201\n",
    "# TODO: Recompute direction likeness w/ a single tf, instead of using allen's\n",
    "# A dataframe with: [cell_specimen_id, experiment_container_id, pref_dir]\n",
    "data = [[101, 201, 180.0], [102, 201, 180], [103, 201, 90], [104, 201, 90], [105, 202, 90]] \n",
    "c_df = pd.DataFrame(data, columns = ['cell_specimen_id', 'experiment_container_id', 'pref_dir']) \n"
   ]
  },
  {
   "cell_type": "code",
   "execution_count": 5,
   "metadata": {},
   "outputs": [],
   "source": [
    "pairwise_dir_avg_temp_corr_one_exp(boc, ecid, eid, d1, d2, c_df)\n",
    "# If you want to test on mock data, just mock out avg_temp_corr_one_exp"
   ]
  }
 ],
 "metadata": {
  "kernelspec": {
   "display_name": "Python 3",
   "language": "python",
   "name": "python3"
  },
  "language_info": {
   "codemirror_mode": {
    "name": "ipython",
    "version": 3
   },
   "file_extension": ".py",
   "mimetype": "text/x-python",
   "name": "python",
   "nbconvert_exporter": "python",
   "pygments_lexer": "ipython3",
   "version": "3.7.3"
  }
 },
 "nbformat": 4,
 "nbformat_minor": 2
}

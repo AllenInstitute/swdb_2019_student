{
 "cells": [
  {
   "cell_type": "code",
   "execution_count": 18,
   "metadata": {},
   "outputs": [
    {
     "data": {
      "text/plain": [
       "array([150., 150., 150., 150., 150., 150., 150., 150., 150., 150.])"
      ]
     },
     "execution_count": 18,
     "metadata": {},
     "output_type": "execute_result"
    }
   ],
   "source": [
    "import numpy as np\n",
    "\n",
    "# given two time series, average them\n",
    "start = np.full((1,10), 100)\n",
    "ts1 = start[0]\n",
    "ts2 = start[0] + 100\n",
    "\n",
    "def avg_ts(tses):\n",
    "    ts_tot = np.zeros(len(tses[0]))\n",
    "    for ts in tses:\n",
    "        ts_tot += ts\n",
    "    return ts_tot / len(tses)\n",
    "avg_ts([ts1, ts2])"
   ]
  },
  {
   "cell_type": "code",
   "execution_count": 19,
   "metadata": {},
   "outputs": [
    {
     "data": {
      "text/plain": [
       "array([-50., -50., -50., -50., -50., -50., -50., -50., -50., -50.])"
      ]
     },
     "execution_count": 19,
     "metadata": {},
     "output_type": "execute_result"
    }
   ],
   "source": [
    "# given two time series, deduct one from the other.\n",
    "ts1 - avg_ts([ts1, ts2])"
   ]
  },
  {
   "cell_type": "code",
   "execution_count": null,
   "metadata": {},
   "outputs": [],
   "source": []
  }
 ],
 "metadata": {
  "kernelspec": {
   "display_name": "Python 3",
   "language": "python",
   "name": "python3"
  },
  "language_info": {
   "codemirror_mode": {
    "name": "ipython",
    "version": 3
   },
   "file_extension": ".py",
   "mimetype": "text/x-python",
   "name": "python",
   "nbconvert_exporter": "python",
   "pygments_lexer": "ipython3",
   "version": "3.7.3"
  }
 },
 "nbformat": 4,
 "nbformat_minor": 2
}

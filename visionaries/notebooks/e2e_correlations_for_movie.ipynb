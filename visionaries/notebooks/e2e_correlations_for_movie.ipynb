{
 "cells": [
  {
   "cell_type": "code",
   "execution_count": 1,
   "metadata": {},
   "outputs": [],
   "source": [
    "dsi_dg_threshold = 0.5\n",
    "ecid = 511510650\n",
    "eid = 501836392"
   ]
  },
  {
   "cell_type": "code",
   "execution_count": 2,
   "metadata": {},
   "outputs": [],
   "source": [
    "import os\n",
    "drive_path = '/media/stephen/Brain20191/allen-brain-observatory/visual-coding-2p/'\n",
    "if not os.path.isdir(drive_path):\n",
    "    drive_path = '/media/alihamodi/Brain2019/allen-brain-observatory/visual-coding-2p/'\n",
    "\n",
    "import warnings; warnings.simplefilter('ignore');\n",
    "from utils.polarplot import *\n",
    "from utils.polardata import *\n",
    "from utils.data_wrappers import *\n",
    "import os\n",
    "import pandas as pd\n",
    "from allensdk.core.brain_observatory_cache import BrainObservatoryCache\n",
    "import allensdk.brain_observatory.stimulus_info as stim_info\n",
    "from utils.data_wrappers import *\n",
    "manifest_file = os.path.join(drive_path,'manifest.json')\n",
    "boc = BrainObservatoryCache(manifest_file=manifest_file)\n",
    "\n",
    "import warnings;\n",
    "warnings.simplefilter('ignore');\n",
    "cells = boc.get_cell_specimens()\n",
    "cells = pd.DataFrame.from_records(cells)\n",
    "    \n",
    "# Outputs = [cell_specimen_id, experiment_container_id, pref_dir]\n"
   ]
  },
  {
   "cell_type": "code",
   "execution_count": 6,
   "metadata": {},
   "outputs": [
    {
     "name": "stdout",
     "output_type": "stream",
     "text": [
      "d1 0.0 d2 0.0 corr 0.11104731151747638 num_pairs 30 num_group1 6 num_group2 6\n",
      "d1 0.0 d2 45.0 corr -0.029380227544801216 num_pairs 36 num_group1 6 num_group2 6\n",
      "d1 0.0 d2 90.0 corr 0.09586833816210363 num_pairs 18 num_group1 6 num_group2 3\n",
      "d1 0.0 d2 135.0 corr 0.20918582524816254 num_pairs 6 num_group1 6 num_group2 1\n",
      "d1 0.0 d2 180.0 corr -0.009536907491978339 num_pairs 12 num_group1 6 num_group2 2\n",
      "d1 0.0 d2 225.0 corr 0.055455379913315714 num_pairs 54 num_group1 6 num_group2 9\n",
      "d1 0.0 d2 270.0 corr -0.0257318590586559 num_pairs 24 num_group1 6 num_group2 4\n",
      "d1 0.0 d2 315.0 corr 0.09966234320008814 num_pairs 36 num_group1 6 num_group2 6\n",
      "d1 45.0 d2 0.0 corr -0.029380227544801223 num_pairs 36 num_group1 6 num_group2 6\n",
      "d1 45.0 d2 45.0 corr 0.10489405452167223 num_pairs 30 num_group1 6 num_group2 6\n",
      "d1 45.0 d2 90.0 corr 0.16799077258136458 num_pairs 18 num_group1 6 num_group2 3\n",
      "d1 45.0 d2 135.0 corr -0.30306589423635666 num_pairs 6 num_group1 6 num_group2 1\n",
      "d1 45.0 d2 180.0 corr 0.25996805998386446 num_pairs 12 num_group1 6 num_group2 2\n",
      "d1 45.0 d2 225.0 corr 0.05407251671169875 num_pairs 54 num_group1 6 num_group2 9\n",
      "d1 45.0 d2 270.0 corr 0.1156967296346502 num_pairs 24 num_group1 6 num_group2 4\n",
      "d1 45.0 d2 315.0 corr 0.04982675323392319 num_pairs 36 num_group1 6 num_group2 6\n",
      "d1 90.0 d2 0.0 corr 0.09586833816210362 num_pairs 18 num_group1 3 num_group2 6\n",
      "d1 90.0 d2 45.0 corr 0.1679907725813646 num_pairs 18 num_group1 3 num_group2 6\n",
      "d1 90.0 d2 90.0 corr 0.432889287615221 num_pairs 6 num_group1 3 num_group2 3\n",
      "d1 90.0 d2 135.0 corr -0.4054312560037645 num_pairs 3 num_group1 3 num_group2 1\n",
      "d1 90.0 d2 180.0 corr 0.2872739137008646 num_pairs 6 num_group1 3 num_group2 2\n",
      "d1 90.0 d2 225.0 corr 0.1470855060978645 num_pairs 27 num_group1 3 num_group2 9\n",
      "d1 90.0 d2 270.0 corr 0.3475882911413882 num_pairs 12 num_group1 3 num_group2 4\n",
      "d1 90.0 d2 315.0 corr 0.052859209293199254 num_pairs 18 num_group1 3 num_group2 6\n",
      "d1 135.0 d2 0.0 corr 0.20918582524816254 num_pairs 6 num_group1 1 num_group2 6\n",
      "d1 135.0 d2 45.0 corr -0.30306589423635666 num_pairs 6 num_group1 1 num_group2 6\n",
      "d1 135.0 d2 90.0 corr -0.4054312560037645 num_pairs 3 num_group1 1 num_group2 3\n",
      "d1 135.0 d2 180.0 corr -0.22343250465374803 num_pairs 2 num_group1 1 num_group2 2\n",
      "d1 135.0 d2 225.0 corr 0.0016092619553368566 num_pairs 9 num_group1 1 num_group2 9\n",
      "d1 135.0 d2 270.0 corr -0.27939384330797595 num_pairs 4 num_group1 1 num_group2 4\n",
      "d1 135.0 d2 315.0 corr 0.029473754385386228 num_pairs 6 num_group1 1 num_group2 6\n",
      "d1 180.0 d2 0.0 corr -0.00953690749197835 num_pairs 12 num_group1 2 num_group2 6\n",
      "d1 180.0 d2 45.0 corr 0.25996805998386446 num_pairs 12 num_group1 2 num_group2 6\n",
      "d1 180.0 d2 90.0 corr 0.28727391370086464 num_pairs 6 num_group1 2 num_group2 3\n",
      "d1 180.0 d2 135.0 corr -0.22343250465374803 num_pairs 2 num_group1 2 num_group2 1\n",
      "d1 180.0 d2 180.0 corr 0.3059680460734955 num_pairs 2 num_group1 2 num_group2 2\n",
      "d1 180.0 d2 225.0 corr 0.24830318094849207 num_pairs 18 num_group1 2 num_group2 9\n",
      "d1 180.0 d2 270.0 corr 0.06902010388890308 num_pairs 8 num_group1 2 num_group2 4\n",
      "d1 180.0 d2 315.0 corr 0.26858504115641496 num_pairs 12 num_group1 2 num_group2 6\n",
      "d1 225.0 d2 0.0 corr 0.0554553799133157 num_pairs 54 num_group1 9 num_group2 6\n",
      "d1 225.0 d2 45.0 corr 0.05407251671169875 num_pairs 54 num_group1 9 num_group2 6\n",
      "d1 225.0 d2 90.0 corr 0.1470855060978645 num_pairs 27 num_group1 9 num_group2 3\n",
      "d1 225.0 d2 135.0 corr 0.0016092619553368566 num_pairs 9 num_group1 9 num_group2 1\n",
      "d1 225.0 d2 180.0 corr 0.24830318094849207 num_pairs 18 num_group1 9 num_group2 2\n",
      "d1 225.0 d2 225.0 corr 0.11383397697394224 num_pairs 72 num_group1 9 num_group2 9\n",
      "d1 225.0 d2 270.0 corr 0.00872607068170626 num_pairs 36 num_group1 9 num_group2 4\n",
      "d1 225.0 d2 315.0 corr 0.12817825673317249 num_pairs 54 num_group1 9 num_group2 6\n",
      "d1 270.0 d2 0.0 corr -0.025731859058655906 num_pairs 24 num_group1 4 num_group2 6\n",
      "d1 270.0 d2 45.0 corr 0.11569672963465018 num_pairs 24 num_group1 4 num_group2 6\n",
      "d1 270.0 d2 90.0 corr 0.3475882911413882 num_pairs 12 num_group1 4 num_group2 3\n",
      "d1 270.0 d2 135.0 corr -0.27939384330797595 num_pairs 4 num_group1 4 num_group2 1\n",
      "d1 270.0 d2 180.0 corr 0.06902010388890306 num_pairs 8 num_group1 4 num_group2 2\n",
      "d1 270.0 d2 225.0 corr 0.00872607068170627 num_pairs 36 num_group1 4 num_group2 9\n",
      "d1 270.0 d2 270.0 corr 0.1402625438730085 num_pairs 12 num_group1 4 num_group2 4\n",
      "d1 270.0 d2 315.0 corr -0.025626199782995466 num_pairs 24 num_group1 4 num_group2 6\n",
      "d1 315.0 d2 0.0 corr 0.0996623432000881 num_pairs 36 num_group1 6 num_group2 6\n",
      "d1 315.0 d2 45.0 corr 0.04982675323392319 num_pairs 36 num_group1 6 num_group2 6\n",
      "d1 315.0 d2 90.0 corr 0.05285920929319925 num_pairs 18 num_group1 6 num_group2 3\n",
      "d1 315.0 d2 135.0 corr 0.029473754385386228 num_pairs 6 num_group1 6 num_group2 1\n",
      "d1 315.0 d2 180.0 corr 0.2685850411564149 num_pairs 12 num_group1 6 num_group2 2\n",
      "d1 315.0 d2 225.0 corr 0.12817825673317243 num_pairs 54 num_group1 6 num_group2 9\n",
      "d1 315.0 d2 270.0 corr -0.025626199782995466 num_pairs 24 num_group1 6 num_group2 4\n",
      "d1 315.0 d2 315.0 corr 0.1225676655982033 num_pairs 30 num_group1 6 num_group2 6\n"
     ]
    }
   ],
   "source": [
    "dg_response_filter = get_dg_response_filter_from_saskia()\n",
    "filtered_cells = get_filtered_cells(cells, dg_response_filter)\n",
    "filtered_cells = filtered_cells[filtered_cells.dsi_dg > dsi_dg_threshold]\n",
    "dirs = [0.0, 45.0, 90.0, 135.0, 180.0, 225.0, 270.0, 315.0]\n",
    "dirs_to_avg_pairwise_corr = {}\n",
    "for d1 in dirs:\n",
    "    for d2 in dirs:\n",
    "        avg_corr, num_pairs, num_group1, num_group2 = pairwise_dir_avg_temp_corr_one_exp(\n",
    "            boc, ecid, eid, d1, d2, filtered_cells,\n",
    "            # use_events\n",
    "            True,\n",
    "            # noise_corr_else_avg_temp_corr\n",
    "            True)\n",
    "        if avg_corr is None:\n",
    "            continue\n",
    "        dirs_to_avg_pairwise_corr[(d1, d2)] = avg_corr\n",
    "        print (\"d1\", d1, \"d2\", d2, \"corr\", avg_corr, \"num_pairs\", num_pairs, \"num_group1\", num_group1, \"num_group2\", num_group2)"
   ]
  },
  {
   "cell_type": "code",
   "execution_count": 16,
   "metadata": {},
   "outputs": [
    {
     "data": {
      "text/plain": [
       "<matplotlib.axes._subplots.AxesSubplot at 0x7f2c41f9a7f0>"
      ]
     },
     "execution_count": 16,
     "metadata": {},
     "output_type": "execute_result"
    },
    {
     "data": {
      "image/png": "[encoded data removed]",
      "text/plain": [
       "<Figure size 432x288 with 2 Axes>"
      ]
     },
     "metadata": {
      "needs_background": "light"
     },
     "output_type": "display_data"
    }
   ],
   "source": [
    "import seaborn as sns;\n",
    "ser = pd.Series(list(dirs_to_avg_pairwise_corr.values()),\n",
    "                  index=pd.MultiIndex.from_tuples(dirs_to_avg_pairwise_corr.keys()))\n",
    "df = ser.unstack().fillna(0)\n",
    "df = df.sort_index(axis=0 ,ascending=False)\n",
    "sns.heatmap(df, center=0)"
   ]
  },
  {
   "cell_type": "code",
   "execution_count": 18,
   "metadata": {},
   "outputs": [
    {
     "name": "stdout",
     "output_type": "stream",
     "text": [
      "0.0 [135.0, 0.0, 315.0, 90.0, 225.0, 180.0, 270.0, 45.0]\n",
      "45.0 [180.0, 90.0, 270.0, 45.0, 225.0, 315.0, 0.0, 135.0]\n",
      "90.0 [90.0, 270.0, 180.0, 45.0, 225.0, 0.0, 315.0, 135.0]\n",
      "135.0 [0.0, 315.0, 225.0, 180.0, 270.0, 45.0, 90.0]\n",
      "180.0 [180.0, 90.0, 315.0, 45.0, 225.0, 270.0, 0.0, 135.0]\n",
      "225.0 [180.0, 90.0, 315.0, 225.0, 0.0, 45.0, 270.0, 135.0]\n",
      "270.0 [90.0, 270.0, 45.0, 180.0, 225.0, 315.0, 0.0, 135.0]\n",
      "315.0 [180.0, 225.0, 315.0, 0.0, 90.0, 45.0, 135.0, 270.0]\n"
     ]
    }
   ],
   "source": [
    "# For each angle, which angle groups are most correlated with it?\n",
    "for dir1 in dirs:\n",
    "    dir_partner_to_corr = {}\n",
    "    for dir2 in dirs:\n",
    "        key = (dir1, dir2)\n",
    "        if key in dirs_to_avg_pairwise_corr:\n",
    "            dir_partner_to_corr[dir2] = dirs_to_avg_pairwise_corr[key]\n",
    "    desc_sorted_keys = sorted(dir_partner_to_corr, key=dir_partner_to_corr.get, reverse=True)\n",
    "    print (dir1, desc_sorted_keys)\n",
    "# The orderings are: [2,4,1,1,4,2,3], not bad, for a length of 8. mean ~2.43 ordering."
   ]
  },
  {
   "cell_type": "code",
   "execution_count": null,
   "metadata": {},
   "outputs": [],
   "source": []
  }
 ],
 "metadata": {
  "kernelspec": {
   "display_name": "Python 3",
   "language": "python",
   "name": "python3"
  },
  "language_info": {
   "codemirror_mode": {
    "name": "ipython",
    "version": 3
   },
   "file_extension": ".py",
   "mimetype": "text/x-python",
   "name": "python",
   "nbconvert_exporter": "python",
   "pygments_lexer": "ipython3",
   "version": "3.7.3"
  }
 },
 "nbformat": 4,
 "nbformat_minor": 2
}

{
 "cells": [
  {
   "cell_type": "markdown",
   "metadata": {},
   "source": [
    "Set your drive path here"
   ]
  },
  {
   "cell_type": "code",
   "execution_count": 95,
   "metadata": {},
   "outputs": [],
   "source": [
    "drive_path = '/media/stephen/Brain20191/allen-brain-observatory/visual-coding-2p/'"
   ]
  },
  {
   "cell_type": "code",
   "execution_count": 96,
   "metadata": {},
   "outputs": [],
   "source": [
    "import os\n",
    "import pandas as pd\n",
    "from allensdk.core.brain_observatory_cache import BrainObservatoryCache\n",
    "import allensdk.brain_observatory.stimulus_info as stim_info\n",
    "manifest_file = os.path.join(drive_path,'manifest.json')\n",
    "boc = BrainObservatoryCache(manifest_file=manifest_file)\n"
   ]
  },
  {
   "cell_type": "markdown",
   "metadata": {},
   "source": [
    "Print the various values for brain area, layer, celltype"
   ]
  },
  {
   "cell_type": "code",
   "execution_count": 97,
   "metadata": {},
   "outputs": [
    {
     "data": {
      "text/plain": [
       "['VISal', 'VISam', 'VISl', 'VISp', 'VISpm', 'VISrl']"
      ]
     },
     "execution_count": 97,
     "metadata": {},
     "output_type": "execute_result"
    }
   ],
   "source": [
    "brain_areas = boc.get_all_targeted_structures()\n",
    "brain_areas"
   ]
  },
  {
   "cell_type": "code",
   "execution_count": 98,
   "metadata": {},
   "outputs": [
    {
     "data": {
      "text/plain": [
       "[175,\n",
       " 185,\n",
       " 195,\n",
       " 200,\n",
       " 205,\n",
       " 225,\n",
       " 250,\n",
       " 265,\n",
       " 275,\n",
       " 276,\n",
       " 285,\n",
       " 300,\n",
       " 320,\n",
       " 325,\n",
       " 335,\n",
       " 350,\n",
       " 365,\n",
       " 375,\n",
       " 390,\n",
       " 400,\n",
       " 550,\n",
       " 570,\n",
       " 625]"
      ]
     },
     "execution_count": 98,
     "metadata": {},
     "output_type": "execute_result"
    }
   ],
   "source": [
    "depths = boc.get_all_imaging_depths()\n",
    "depths"
   ]
  },
  {
   "cell_type": "code",
   "execution_count": 99,
   "metadata": {},
   "outputs": [
    {
     "data": {
      "text/plain": [
       "['Ai148(TIT2L-GC6f-ICL-tTA2)',\n",
       " 'Ai162(TIT2L-GC6s-ICL-tTA2)',\n",
       " 'Ai93(TITL-GCaMP6f)',\n",
       " 'Ai93(TITL-GCaMP6f)-hyg',\n",
       " 'Ai94(TITL-GCaMP6s)']"
      ]
     },
     "execution_count": 99,
     "metadata": {},
     "output_type": "execute_result"
    }
   ],
   "source": [
    "cell_types = boc.get_all_reporter_lines()\n",
    "cell_types"
   ]
  },
  {
   "cell_type": "markdown",
   "metadata": {},
   "source": [
    "Experiment counts by brain area, layer, reporter line"
   ]
  },
  {
   "cell_type": "code",
   "execution_count": 100,
   "metadata": {},
   "outputs": [
    {
     "data": {
      "text/plain": [
       "targeted_structure  imaging_depth  reporter_line             \n",
       "VISal               175            Ai93(TITL-GCaMP6f)             9\n",
       "                    265            Ai93(TITL-GCaMP6f)             1\n",
       "                    275            Ai148(TIT2L-GC6f-ICL-tTA2)     1\n",
       "                                   Ai93(TITL-GCaMP6f)            14\n",
       "                    276            Ai93(TITL-GCaMP6f)             1\n",
       "                    300            Ai93(TITL-GCaMP6f)             1\n",
       "                    350            Ai93(TITL-GCaMP6f)             5\n",
       "                    365            Ai93(TITL-GCaMP6f)             1\n",
       "                    375            Ai93(TITL-GCaMP6f)             8\n",
       "VISam               175            Ai93(TITL-GCaMP6f)             8\n",
       "                    275            Ai93(TITL-GCaMP6f)            15\n",
       "                    320            Ai93(TITL-GCaMP6f)             1\n",
       "                    325            Ai93(TITL-GCaMP6f)             1\n",
       "                    350            Ai93(TITL-GCaMP6f)             4\n",
       "                    375            Ai93(TITL-GCaMP6f)             9\n",
       "VISl                175            Ai148(TIT2L-GC6f-ICL-tTA2)     8\n",
       "                                   Ai93(TITL-GCaMP6f)            17\n",
       "                    250            Ai148(TIT2L-GC6f-ICL-tTA2)     3\n",
       "                    275            Ai148(TIT2L-GC6f-ICL-tTA2)    14\n",
       "                                   Ai162(TIT2L-GC6s-ICL-tTA2)     5\n",
       "                                   Ai93(TITL-GCaMP6f)            19\n",
       "                    325            Ai93(TITL-GCaMP6f)             1\n",
       "                    350            Ai93(TITL-GCaMP6f)             5\n",
       "                    375            Ai148(TIT2L-GC6f-ICL-tTA2)    14\n",
       "                                   Ai93(TITL-GCaMP6f)            12\n",
       "                    400            Ai148(TIT2L-GC6f-ICL-tTA2)     1\n",
       "                    550            Ai148(TIT2L-GC6f-ICL-tTA2)     4\n",
       "                    570            Ai148(TIT2L-GC6f-ICL-tTA2)     1\n",
       "                    625            Ai148(TIT2L-GC6f-ICL-tTA2)     2\n",
       "VISp                175            Ai148(TIT2L-GC6f-ICL-tTA2)     9\n",
       "                                                                 ..\n",
       "                    375            Ai162(TIT2L-GC6s-ICL-tTA2)     3\n",
       "                                   Ai93(TITL-GCaMP6f)            16\n",
       "                    390            Ai148(TIT2L-GC6f-ICL-tTA2)     1\n",
       "                    400            Ai148(TIT2L-GC6f-ICL-tTA2)     2\n",
       "                    550            Ai148(TIT2L-GC6f-ICL-tTA2)     6\n",
       "VISpm               175            Ai148(TIT2L-GC6f-ICL-tTA2)     7\n",
       "                                   Ai93(TITL-GCaMP6f)            15\n",
       "                                   Ai93(TITL-GCaMP6f)-hyg         1\n",
       "                    275            Ai148(TIT2L-GC6f-ICL-tTA2)    15\n",
       "                                   Ai93(TITL-GCaMP6f)            15\n",
       "                                   Ai93(TITL-GCaMP6f)-hyg         1\n",
       "                    300            Ai148(TIT2L-GC6f-ICL-tTA2)     1\n",
       "                                   Ai93(TITL-GCaMP6f)             1\n",
       "                    325            Ai148(TIT2L-GC6f-ICL-tTA2)     1\n",
       "                                   Ai93(TITL-GCaMP6f)             1\n",
       "                    335            Ai93(TITL-GCaMP6f)             1\n",
       "                    350            Ai148(TIT2L-GC6f-ICL-tTA2)     1\n",
       "                                   Ai93(TITL-GCaMP6f)             4\n",
       "                    375            Ai148(TIT2L-GC6f-ICL-tTA2)     5\n",
       "                                   Ai93(TITL-GCaMP6f)            13\n",
       "                    550            Ai148(TIT2L-GC6f-ICL-tTA2)     3\n",
       "                    570            Ai148(TIT2L-GC6f-ICL-tTA2)     1\n",
       "                    625            Ai148(TIT2L-GC6f-ICL-tTA2)     1\n",
       "VISrl               175            Ai93(TITL-GCaMP6f)            10\n",
       "                                   Ai93(TITL-GCaMP6f)-hyg         1\n",
       "                    275            Ai148(TIT2L-GC6f-ICL-tTA2)     1\n",
       "                                   Ai93(TITL-GCaMP6f)            15\n",
       "                    350            Ai93(TITL-GCaMP6f)             6\n",
       "                    375            Ai148(TIT2L-GC6f-ICL-tTA2)     1\n",
       "                                   Ai93(TITL-GCaMP6f)             6\n",
       "Name: id, Length: 77, dtype: int64"
      ]
     },
     "execution_count": 100,
     "metadata": {},
     "output_type": "execute_result"
    }
   ],
   "source": [
    "exps = boc.get_ophys_experiments(stimuli=[stim_info.DRIFTING_GRATINGS])\n",
    "exps_df = pd.DataFrame.from_dict(exps)\n",
    "exps_df.groupby(['targeted_structure', 'imaging_depth', 'reporter_line'])['id'].count()"
   ]
  },
  {
   "cell_type": "markdown",
   "metadata": {},
   "source": [
    "Get cells given brain area, depth, cell type"
   ]
  },
  {
   "cell_type": "code",
   "execution_count": 101,
   "metadata": {},
   "outputs": [],
   "source": [
    "cells = boc.get_cell_specimens()\n",
    "cells = pd.DataFrame.from_records(cells)\n",
    "\n",
    "def get_cells(brain_area, depth, cell_type):\n",
    "    exps = boc.get_ophys_experiments(stimuli=[stim_info.DRIFTING_GRATINGS],\n",
    "        targeted_structures = [brain_area],\n",
    "        imaging_depths = [depth],\n",
    "        reporter_lines = [cell_type])\n",
    "    # Can't find [targeted_structure, reporter_line] in cell table, so have to combine w/ exps.\n",
    "    exps_df = pd.DataFrame.from_dict(exps)\n",
    "    if len(exps_df)== 0:\n",
    "        return []\n",
    "    is_in_relevant_container_mask = False * len(cells)\n",
    "    for relevant_container_id in (exps_df.experiment_container_id.values):\n",
    "        is_in_relevant_container_mask |= (cells.experiment_container_id == relevant_container_id)\n",
    "    return cells[is_in_relevant_container_mask]\n",
    "#cells_df = get_cells('VISl', 175, 'Ai148(TIT2L-GC6f-ICL-tTA2)')\n",
    "#cells_df\n"
   ]
  },
  {
   "cell_type": "markdown",
   "metadata": {},
   "source": [
    "Get cell counts per brain area, depth, cell type"
   ]
  },
  {
   "cell_type": "code",
   "execution_count": 102,
   "metadata": {},
   "outputs": [
    {
     "name": "stdout",
     "output_type": "stream",
     "text": [
      "VISal 175 Ai93(TITL-GCaMP6f) 1802\n",
      "VISal 265 Ai93(TITL-GCaMP6f) 346\n",
      "VISal 275 Ai148(TIT2L-GC6f-ICL-tTA2) 24\n",
      "VISal 275 Ai93(TITL-GCaMP6f) 3709\n",
      "VISal 276 Ai93(TITL-GCaMP6f) 212\n",
      "VISal 300 Ai93(TITL-GCaMP6f) 78\n",
      "VISal 350 Ai93(TITL-GCaMP6f) 142\n",
      "VISal 365 Ai93(TITL-GCaMP6f) 162\n",
      "VISal 375 Ai93(TITL-GCaMP6f) 716\n",
      "VISam 175 Ai93(TITL-GCaMP6f) 1021\n",
      "VISam 275 Ai93(TITL-GCaMP6f) 1927\n",
      "VISam 320 Ai93(TITL-GCaMP6f) 5\n",
      "VISam 325 Ai93(TITL-GCaMP6f) 75\n",
      "VISam 350 Ai93(TITL-GCaMP6f) 91\n",
      "VISam 375 Ai93(TITL-GCaMP6f) 450\n",
      "VISl 175 Ai148(TIT2L-GC6f-ICL-tTA2) 161\n",
      "VISl 175 Ai93(TITL-GCaMP6f) 3445\n",
      "VISl 250 Ai148(TIT2L-GC6f-ICL-tTA2) 83\n",
      "VISl 275 Ai148(TIT2L-GC6f-ICL-tTA2) 235\n",
      "VISl 275 Ai162(TIT2L-GC6s-ICL-tTA2) 139\n",
      "VISl 275 Ai93(TITL-GCaMP6f) 5396\n",
      "VISl 325 Ai93(TITL-GCaMP6f) 33\n",
      "VISl 350 Ai93(TITL-GCaMP6f) 388\n",
      "VISl 375 Ai148(TIT2L-GC6f-ICL-tTA2) 1888\n",
      "VISl 375 Ai93(TITL-GCaMP6f) 955\n",
      "VISl 400 Ai148(TIT2L-GC6f-ICL-tTA2) 176\n",
      "VISl 550 Ai148(TIT2L-GC6f-ICL-tTA2) 502\n",
      "VISl 570 Ai148(TIT2L-GC6f-ICL-tTA2) 35\n",
      "VISl 625 Ai148(TIT2L-GC6f-ICL-tTA2) 182\n",
      "VISp 175 Ai148(TIT2L-GC6f-ICL-tTA2) 157\n",
      "VISp 175 Ai162(TIT2L-GC6s-ICL-tTA2) 52\n",
      "VISp 175 Ai93(TITL-GCaMP6f) 4783\n",
      "VISp 175 Ai94(TITL-GCaMP6s) 404\n",
      "VISp 185 Ai162(TIT2L-GC6s-ICL-tTA2) 14\n",
      "VISp 195 Ai162(TIT2L-GC6s-ICL-tTA2) 13\n",
      "VISp 200 Ai162(TIT2L-GC6s-ICL-tTA2) 11\n",
      "VISp 205 Ai94(TITL-GCaMP6s) 1015\n",
      "VISp 225 Ai162(TIT2L-GC6s-ICL-tTA2) 28\n",
      "VISp 265 Ai148(TIT2L-GC6f-ICL-tTA2) 27\n",
      "VISp 275 Ai148(TIT2L-GC6f-ICL-tTA2) 308\n",
      "VISp 275 Ai162(TIT2L-GC6s-ICL-tTA2) 155\n",
      "VISp 275 Ai93(TITL-GCaMP6f) 8314\n",
      "VISp 285 Ai148(TIT2L-GC6f-ICL-tTA2) 19\n",
      "VISp 335 Ai93(TITL-GCaMP6f) 229\n",
      "VISp 350 Ai148(TIT2L-GC6f-ICL-tTA2) 29\n",
      "VISp 350 Ai93(TITL-GCaMP6f) 1953\n",
      "VISp 375 Ai148(TIT2L-GC6f-ICL-tTA2) 1355\n",
      "VISp 375 Ai162(TIT2L-GC6s-ICL-tTA2) 49\n",
      "VISp 375 Ai93(TITL-GCaMP6f) 2842\n",
      "VISp 390 Ai148(TIT2L-GC6f-ICL-tTA2) 109\n",
      "VISp 400 Ai148(TIT2L-GC6f-ICL-tTA2) 202\n",
      "VISp 550 Ai148(TIT2L-GC6f-ICL-tTA2) 573\n",
      "VISpm 175 Ai148(TIT2L-GC6f-ICL-tTA2) 182\n",
      "VISpm 175 Ai93(TITL-GCaMP6f) 2207\n",
      "VISpm 175 Ai93(TITL-GCaMP6f)-hyg 229\n",
      "VISpm 275 Ai148(TIT2L-GC6f-ICL-tTA2) 318\n",
      "VISpm 275 Ai93(TITL-GCaMP6f) 2243\n",
      "VISpm 275 Ai93(TITL-GCaMP6f)-hyg 308\n",
      "VISpm 300 Ai148(TIT2L-GC6f-ICL-tTA2) 19\n",
      "VISpm 300 Ai93(TITL-GCaMP6f) 23\n",
      "VISpm 325 Ai148(TIT2L-GC6f-ICL-tTA2) 27\n",
      "VISpm 325 Ai93(TITL-GCaMP6f) 49\n",
      "VISpm 335 Ai93(TITL-GCaMP6f) 65\n",
      "VISpm 350 Ai148(TIT2L-GC6f-ICL-tTA2) 6\n",
      "VISpm 350 Ai93(TITL-GCaMP6f) 194\n",
      "VISpm 375 Ai148(TIT2L-GC6f-ICL-tTA2) 82\n",
      "VISpm 375 Ai93(TITL-GCaMP6f) 1452\n",
      "VISpm 550 Ai148(TIT2L-GC6f-ICL-tTA2) 330\n",
      "VISpm 570 Ai148(TIT2L-GC6f-ICL-tTA2) 103\n",
      "VISpm 625 Ai148(TIT2L-GC6f-ICL-tTA2) 148\n",
      "VISrl 175 Ai93(TITL-GCaMP6f) 1528\n",
      "VISrl 175 Ai93(TITL-GCaMP6f)-hyg 294\n",
      "VISrl 275 Ai148(TIT2L-GC6f-ICL-tTA2) 37\n",
      "VISrl 275 Ai93(TITL-GCaMP6f) 4132\n",
      "VISrl 350 Ai93(TITL-GCaMP6f) 1658\n",
      "VISrl 375 Ai148(TIT2L-GC6f-ICL-tTA2) 9\n",
      "VISrl 375 Ai93(TITL-GCaMP6f) 589\n"
     ]
    }
   ],
   "source": [
    "exps = boc.get_ophys_experiments(stimuli=[stim_info.DRIFTING_GRATINGS])\n",
    "exps_df = pd.DataFrame.from_dict(exps)\n",
    "for brain_area in brain_areas:\n",
    "    for depth in depths:\n",
    "        for cell_type in boc.get_all_reporter_lines():\n",
    "            if len(exps_df[\n",
    "                (exps_df['targeted_structure'] == brain_area) &\n",
    "                (exps_df['imaging_depth'] == depth) &\n",
    "                (exps_df['reporter_line'] == cell_type)\n",
    "                ]) == 0:\n",
    "                continue\n",
    "            cell_count = len(get_cells(brain_area, depth, cell_type))\n",
    "            if cell_count == 0:\n",
    "                continue\n",
    "            print (brain_area, depth, cell_type, cell_count)"
   ]
  }
 ],
 "metadata": {
  "kernelspec": {
   "display_name": "Python 3",
   "language": "python",
   "name": "python3"
  },
  "language_info": {
   "codemirror_mode": {
    "name": "ipython",
    "version": 3
   },
   "file_extension": ".py",
   "mimetype": "text/x-python",
   "name": "python",
   "nbconvert_exporter": "python",
   "pygments_lexer": "ipython3",
   "version": "3.7.3"
  }
 },
 "nbformat": 4,
 "nbformat_minor": 2
}

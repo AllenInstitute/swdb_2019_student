{
 "cells": [
  {
   "cell_type": "markdown",
   "metadata": {},
   "source": [
    "# Draw polar plots for all categories"
   ]
  },
  {
   "cell_type": "code",
   "execution_count": 409,
   "metadata": {},
   "outputs": [],
   "source": [
    "# See this for the list of valid ones https://pastebin.com/NGzvE0Ky\n",
    "interesting_categories = [\n",
    "#    ('VISp', [175, 185, 205], ['Cux2-CreERT2', 'Emx1-IRES-Cre', 'Slc17a7-IRES2-Cre', 'Slc17a7-IRES2-Cre']),\n",
    "#    ('VISp', [275, 335, 350], ['Cux2-CreERT2', 'Emx1-IRES-Cre', 'Slc17a7-IRES2-Cre', 'Rorb-IRES2-Cre', 'Scnn1a-Tg3-Cre']),\n",
    "#    ('VISp', [375, 390, 400], ['Emx1-IRES-Cre', 'Slc17a7-IRES2-Cre', 'Fezf2-CreER', 'Rbp4-Cre_KL100', 'Tlx3-Cre_PL56'])\n",
    "#    ('VISp', [550], ['Ntsr1-Cre_GN220'])\n",
    "#    ('VISp', [175, 185, 195, 200, 225, 275], ['Pvalb-IRES-Cre'])\n",
    "#    ('VISp', [175, 275], ['Vip-IRES-Cre'])\n",
    "#    ('VISp', [265, 285, 350], ['Sst-IRES-Cre'])\n",
    "#    ('VISal', [175, 265] ['Cux2-CreERT2', 'Emx1-IRES-Cre', 'Slc17a7-IRES2-Cre'] \n",
    "#    ('VISal', [275], ['Sst-IRES-Cre']),\n",
    "#    ('VISal', [275, 276, 300, 350], ['Cux2-CreERT2', 'Emx1-IRES-Cre', 'Slc17a7-IRES2-Cre', 'Rorb-IRES2-Cre', 'Nr5a1-Cre'])\n",
    "#    ('VISal', [365, 375], ['Emx1-IRES-Cre', 'Rbp4-Cre_KL100']),\n",
    "#    ('VISam', [175], ['Cux2-CreERT2', 'Emx1-IRES-Cre', 'Slc17a7-IRES2-Cre'])\n",
    "#    ('VISam', [275, 320, 325, 350], ['Cux2-CreERT2', 'Emx1-IRES-Cre', 'Rorb-IRES2-Cre', 'Nr5a1-Cre'])\n",
    "#    ('VISam', [375], ['Emx1-IRES-Cre', 'Rbp4-Cre_KL100'])\n",
    "#    ('VISl', [175], ['Cux2-CreERT2', 'Emx1-IRES-Cre', 'Slc17a7-IRES2-Cre'])\n",
    "#    ('VISl', [275, 325, 350], ['Cux2-CreERT2', 'Emx1-IRES-Cre', 'Slc17a7-IRES2-Cre', 'Rorb-IRES2-Cre', 'Nr5a1-Cre'])\n",
    "#    ('VISl', [375, 400], ['Fezf2-CreER', 'Rbp4-Cre_KL100', 'Tlx3-Cre_PL56 ', 'Emx1-IRES-Cre', 'Slc17a7-IRES2-Cre', 'Rorb-IRES2-Cre', 'Nr5a1-Cre'])\n",
    "#    ('VISl', [550, 570, 625], ['Ntsr1-Cre_GN220'])\n",
    "#    ('VISl', [175, 250, 275], ['Vip-IRES-Cre'])\n",
    "#    ('VISl', [250, 275], ['Sst-IRES-Cre'])\n",
    "#    ('VISl', [375], ['Sst-IRES-Cre'])\n",
    "#    ('VISpm', [175], ['Cux2-CreERT2', 'Emx1-IRES-Cre', 'Slc17a7-IRES2-Cre'])\n",
    "#    ('VISpm', [275, 300, 325, 335, 350], ['Cux2-CreERT2', 'Emx1-IRES-Cre', 'Slc17a7-IRES2-Cre', 'Rorb-IRES2-Cre', 'Nr5a1-Cre'])\n",
    "#    ('VISpm', [550], ['Ntsr1-Cre_GN220'])\n",
    "#    ('VISpm', [175, 275], ['Vip-IRES-Cre'])\n",
    "#    ('VISpm', [275, 300, 325, 350, 375], ['Sst-IRES-Cre'])\n",
    "#    ('VISrl', [175], ['Cux2-CreERT2', 'Emx1-IRES-Cre', 'Slc17a7-IRES2-Cre'])\n",
    "#    ('VISrl', [275, 350], ['Cux2-CreERT2', 'Emx1-IRES-Cre', 'Rorb-IRES2-Cre', 'Nr5a1-Cre'])\n",
    "#    ('VISrl', [375], ['Rbp4-Cre_KL100 ', 'Emx1-IRES-Cre', 'Slc17a7-IRES2-Cre'])\n",
    "    ('VISrl', [375], ['Sst-IRES-Cre']),\n",
    "]\n",
    "    \n",
    "dsi_dg_threshold = 0.5"
   ]
  },
  {
   "cell_type": "code",
   "execution_count": 410,
   "metadata": {},
   "outputs": [],
   "source": [
    "import os\n",
    "drive_path = '/media/stephen/Brain20191/allen-brain-observatory/visual-coding-2p/'\n",
    "if not os.path.isdir(drive_path):\n",
    "    drive_path = '/media/alihamodi/Brain2019/allen-brain-observatory/visual-coding-2p/'\n",
    "    \n",
    "import warnings; warnings.simplefilter('ignore');\n",
    "from utils.polarplot import *\n",
    "from utils.polardata import *\n",
    "from utils.data_wrappers import *\n",
    "import os\n",
    "import pandas as pd\n",
    "from allensdk.core.brain_observatory_cache import BrainObservatoryCache\n",
    "import allensdk.brain_observatory.stimulus_info as stim_info\n",
    "from utils.data_wrappers import *\n",
    "manifest_file = os.path.join(drive_path,'manifest.json')\n",
    "boc = BrainObservatoryCache(manifest_file=manifest_file)\n",
    "\n",
    "cells = boc.get_cell_specimens()\n",
    "cells = pd.DataFrame.from_records(cells)"
   ]
  },
  {
   "cell_type": "code",
   "execution_count": 411,
   "metadata": {},
   "outputs": [],
   "source": [
    "get_one_category_polar_data_cache = {}"
   ]
  },
  {
   "cell_type": "code",
   "execution_count": 412,
   "metadata": {},
   "outputs": [],
   "source": [
    "def get_avg_cell_polar_in_experiment(boc, ec_id, exp_id, cells):\n",
    "    \"\"\"\n",
    "    Get the polar data for all cells in this experiment, then average them out to get a single polar data.\n",
    "    \"\"\"\n",
    "    in_category_cells = cells[cells.experiment_container_id == ec_id]\n",
    "    dg_response_filter = get_dg_response_filter_from_saskia()\n",
    "    filtered_cells = get_filtered_cells(in_category_cells, dg_response_filter)\n",
    "    filtered_cells = filtered_cells[filtered_cells.dsi_dg > dsi_dg_threshold]\n",
    "    print (\"In this experiment, we have\", len(in_category_cells),\n",
    "           \"cells, but after filtering, we have\", len(filtered_cells), \"cells\")\n",
    "    \n",
    "    thetas = []\n",
    "    rs = []\n",
    "    cell_ids = []\n",
    "    for ii, row in filtered_cells.iterrows():\n",
    "        cell_specimen_id = row.cell_specimen_id\n",
    "        pref_tf = row.pref_tf\n",
    "        one_cell_polar_data_dict = get_avg_normalized_response(\n",
    "            boc=boc,\n",
    "            session_id=exp_id,\n",
    "            cell_specimen_id = cell_specimen_id,\n",
    "            temporal_frequency=pref_tf)\n",
    "        if one_cell_polar_data_dict is None:\n",
    "            continue\n",
    "        theta, r = convert_polar_dict_to_arrays(one_cell_polar_data_dict)\n",
    "        thetas.append(theta)\n",
    "        rs.append(r)\n",
    "        cell_ids.append(cell_specimen_id)\n",
    "        \n",
    "    print (\"In this experiment, we have\", len(in_category_cells),\n",
    "           \"cells, but after filtering and removing negative mean dffs, we have\", len(thetas), \"cells\")\n",
    "    if len(thetas) == 0:\n",
    "        return None, None, None\n",
    "    agg_theta, agg_r = get_avg_polar(thetas, rs)\n",
    "    return agg_theta, agg_r, len(thetas)"
   ]
  },
  {
   "cell_type": "code",
   "execution_count": 413,
   "metadata": {},
   "outputs": [],
   "source": [
    "def get_one_category_polar_data(boc, targeted_structure, imaging_depths, cre_lines):\n",
    "    cache_key = (targeted_structure, tuple(imaging_depths), tuple(cre_lines))\n",
    "    if cache_key in get_one_category_polar_data_cache:\n",
    "        return get_one_category_polar_data_cache[cache_key]\n",
    "    \n",
    "    exps = boc.get_ophys_experiments(stimuli=[stim_info.DRIFTING_GRATINGS],\n",
    "        targeted_structures = [targeted_structure],\n",
    "        imaging_depths = imaging_depths,\n",
    "        cre_lines = cre_lines)\n",
    "    if len(exps) == 0:\n",
    "        return None, None, None, None\n",
    "    print (\"There are\", len(exps), \"experiments for \", targeted_structure, imaging_depths, cre_lines)\n",
    "    \n",
    "    thetas = []\n",
    "    rs = []\n",
    "    total_num_cells = 0\n",
    "    for exp in exps:\n",
    "        e_id = exp['id']\n",
    "        ec_id = exp['experiment_container_id']\n",
    "        print(\"Processing experiment\", e_id)\n",
    "        theta, r, num_cells = get_avg_cell_polar_in_experiment(boc, ec_id, e_id, cells)\n",
    "        if theta is None or len(theta) == 0:\n",
    "            continue\n",
    "        thetas.append(theta)\n",
    "        rs.append(r)\n",
    "        total_num_cells += num_cells\n",
    "        \n",
    "    agg_theta, agg_r = get_avg_polar(thetas, rs)\n",
    "    \n",
    "    if len(thetas) == 0:\n",
    "        agg_theta, agg_r, thetas, rs, total_num_cells= None, None, None, None, None\n",
    "    \n",
    "    get_one_category_polar_data_cache[cache_key] = (agg_theta, agg_r, thetas, rs, total_num_cells)\n",
    "    return get_one_category_polar_data_cache[cache_key]\n"
   ]
  },
  {
   "cell_type": "code",
   "execution_count": 414,
   "metadata": {},
   "outputs": [
    {
     "name": "stdout",
     "output_type": "stream",
     "text": [
      "There are 1 experiments for  VISrl [375] ['Sst-IRES-Cre']\n",
      "Processing experiment 589755795\n",
      "In this experiment, we have 9 cells, but after filtering, we have 2 cells\n",
      "In this experiment, we have 9 cells, but after filtering and removing negative mean dffs, we have 2 cells\n",
      "VISrl [375] ['Sst-IRES-Cre'] #Experiments:  1 #Cells: 2\n"
     ]
    },
    {
     "data": {
      "image/png": "[encoded data removed]",
      "text/plain": [
       "<Figure size 432x288 with 1 Axes>"
      ]
     },
     "metadata": {
      "needs_background": "light"
     },
     "output_type": "display_data"
    }
   ],
   "source": [
    "import warnings; warnings.simplefilter('ignore');\n",
    "for targeted_structure, imaging_depths, cre_lines in interesting_categories:\n",
    "    agg_theta, agg_r, thetas, rs, num_cells = get_one_category_polar_data(\n",
    "        boc,\n",
    "        targeted_structure,\n",
    "        imaging_depths,\n",
    "        cre_lines)\n",
    "    if agg_theta is None:\n",
    "        continue\n",
    "    print(targeted_structure, imaging_depths, cre_lines, \"#Experiments: \", len(thetas), \"#Cells:\", num_cells)\n",
    "    fig, ax = plt.subplots(nrows=1, ncols=1, subplot_kw=dict(polar=True))\n",
    "    polar_plot_population(ax=ax,\n",
    "        bold_theta = agg_theta,\n",
    "        bold_r = agg_r,\n",
    "        grey_thetas = thetas, \n",
    "        grey_rs = rs)\n",
    "    plt.show()"
   ]
  },
  {
   "cell_type": "code",
   "execution_count": null,
   "metadata": {},
   "outputs": [],
   "source": []
  },
  {
   "cell_type": "code",
   "execution_count": null,
   "metadata": {},
   "outputs": [],
   "source": []
  }
 ],
 "metadata": {
  "kernelspec": {
   "display_name": "Python 3",
   "language": "python",
   "name": "python3"
  },
  "language_info": {
   "codemirror_mode": {
    "name": "ipython",
    "version": 3
   },
   "file_extension": ".py",
   "mimetype": "text/x-python",
   "name": "python",
   "nbconvert_exporter": "python",
   "pygments_lexer": "ipython3",
   "version": "3.7.4"
  }
 },
 "nbformat": 4,
 "nbformat_minor": 2
}

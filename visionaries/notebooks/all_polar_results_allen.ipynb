{
 "cells": [
  {
   "cell_type": "markdown",
   "metadata": {},
   "source": [
    "# Draw polar plots for all categories"
   ]
  },
  {
   "cell_type": "code",
   "execution_count": 25,
   "metadata": {},
   "outputs": [],
   "source": [
    "# See this for the list of valid ones https://pastebin.com/NGzvE0Ky\n",
    "interesting_categories = [\n",
    "    ('VISp', [175, 185, 205], ['Cux2-CreERT2', 'Emx1-IRES-Cre', 'Slc17a7-IRES2-Cre', 'Slc17a7-IRES2-Cre']),\n",
    "]\n",
    "dsi_dg_threshold = 0.2"
   ]
  },
  {
   "cell_type": "code",
   "execution_count": 26,
   "metadata": {},
   "outputs": [],
   "source": [
    "import os\n",
    "drive_path = '/media/stephen/Brain20191/allen-brain-observatory/visual-coding-2p/'\n",
    "if not os.path.isdir(drive_path):\n",
    "    drive_path = '/media/alihamodi/Brain2019/allen-brain-observatory/visual-coding-2p/'\n",
    "    \n",
    "import warnings; warnings.simplefilter('ignore');\n",
    "from utils.polarplot import *\n",
    "from utils.polardata import *\n",
    "from utils.data_wrappers import *\n",
    "import os\n",
    "import pandas as pd\n",
    "from allensdk.core.brain_observatory_cache import BrainObservatoryCache\n",
    "import allensdk.brain_observatory.stimulus_info as stim_info\n",
    "from utils.data_wrappers import *\n",
    "manifest_file = os.path.join(drive_path,'manifest.json')\n",
    "boc = BrainObservatoryCache(manifest_file=manifest_file)\n",
    "\n",
    "cells = boc.get_cell_specimens()\n",
    "cells = pd.DataFrame.from_records(cells)"
   ]
  },
  {
   "cell_type": "code",
   "execution_count": 27,
   "metadata": {},
   "outputs": [],
   "source": [
    "get_one_category_polar_data_cache = {}"
   ]
  },
  {
   "cell_type": "code",
   "execution_count": 28,
   "metadata": {},
   "outputs": [],
   "source": [
    "def get_avg_cell_polar_in_experiment(boc, ec_id, exp_id, cells):\n",
    "    \"\"\"\n",
    "    Get the polar data for all cells in this experiment, then average them out to get a single polar data.\n",
    "    \"\"\"\n",
    "    in_category_cells = cells[cells.experiment_container_id == ec_id]\n",
    "    dg_response_filter = get_dg_response_filter_from_saskia()\n",
    "    filtered_cells = get_filtered_cells(in_category_cells, dg_response_filter)\n",
    "    filtered_cells = filtered_cells[filtered_cells.dsi_dg > dsi_dg_threshold]\n",
    "    print (\"In this experiment, we have\", len(in_category_cells),\n",
    "           \"cells, but after filtering, we have\", len(filtered_cells), \"cells\")\n",
    "    \n",
    "    thetas = []\n",
    "    rs = []\n",
    "    cell_ids = []\n",
    "    for ii, row in filtered_cells.iterrows():\n",
    "        cell_specimen_id = row.cell_specimen_id\n",
    "        pref_tf = row.pref_tf\n",
    "        one_cell_polar_data_dict = get_avg_normalized_response(\n",
    "            boc=boc,\n",
    "            session_id=exp_id,\n",
    "            cell_specimen_id = cell_specimen_id,\n",
    "            temporal_frequency=pref_tf)\n",
    "        if one_cell_polar_data_dict is None:\n",
    "            continue\n",
    "        theta, r = convert_polar_dict_to_arrays(one_cell_polar_data_dict)\n",
    "        thetas.append(theta)\n",
    "        rs.append(r)\n",
    "        cell_ids.append(cell_specimen_id)\n",
    "        \n",
    "    print (\"In this experiment, we have\", len(in_category_cells),\n",
    "           \"cells, but after filtering and removing negative mean dffs, we have\", len(thetas), \"cells\")\n",
    "    if len(thetas) == 0:\n",
    "        return None, None, None\n",
    "    agg_theta, agg_r = get_avg_polar(thetas, rs)\n",
    "    return agg_theta, agg_r, len(thetas)"
   ]
  },
  {
   "cell_type": "code",
   "execution_count": 29,
   "metadata": {},
   "outputs": [],
   "source": [
    "def get_one_category_polar_data(boc, targeted_structure, imaging_depths, cre_lines):\n",
    "    cache_key = (targeted_structure, tuple(imaging_depths), tuple(cre_lines))\n",
    "    if cache_key in get_one_category_polar_data_cache:\n",
    "        return get_one_category_polar_data_cache[cache_key]\n",
    "    \n",
    "    exps = boc.get_ophys_experiments(stimuli=[stim_info.DRIFTING_GRATINGS],\n",
    "        targeted_structures = [targeted_structure],\n",
    "        imaging_depths = imaging_depths,\n",
    "        cre_lines = cre_lines)\n",
    "    if len(exps) == 0:\n",
    "        return None, None, None, None\n",
    "    print (\"There are\", len(exps), \"experiments for \", targeted_structure, imaging_depths, cre_lines)\n",
    "    \n",
    "    thetas = []\n",
    "    rs = []\n",
    "    total_num_cells = 0\n",
    "    for exp in exps:\n",
    "        e_id = exp['id']\n",
    "        ec_id = exp['experiment_container_id']\n",
    "        print(\"Processing experiment\", e_id)\n",
    "        theta, r, num_cells = get_avg_cell_polar_in_experiment(boc, ec_id, e_id, cells)\n",
    "        if theta is None or len(theta) == 0:\n",
    "            continue\n",
    "        thetas.append(theta)\n",
    "        rs.append(r)\n",
    "        total_num_cells += num_cells\n",
    "        \n",
    "    agg_theta, agg_r = get_avg_polar(thetas, rs)\n",
    "    \n",
    "    if len(thetas) == 0:\n",
    "        agg_theta, agg_r, thetas, rs, total_num_cells= None, None, None, None, None\n",
    "    \n",
    "    get_one_category_polar_data_cache[cache_key] = (agg_theta, agg_r, thetas, rs, total_num_cells)\n",
    "    return get_one_category_polar_data_cache[cache_key]\n"
   ]
  },
  {
   "cell_type": "code",
   "execution_count": 30,
   "metadata": {},
   "outputs": [
    {
     "name": "stdout",
     "output_type": "stream",
     "text": [
      "There are 20 experiments for  VISp [175, 185, 205] ['Cux2-CreERT2', 'Emx1-IRES-Cre', 'Slc17a7-IRES2-Cre', 'Slc17a7-IRES2-Cre']\n",
      "Processing experiment 704298735\n",
      "In this experiment, we have 157 cells, but after filtering, we have 32 cells\n",
      "In this experiment, we have 157 cells, but after filtering and removing negative mean dffs, we have 32 cells\n",
      "Processing experiment 545446482\n",
      "In this experiment, we have 282 cells, but after filtering, we have 50 cells\n",
      "In this experiment, we have 282 cells, but after filtering and removing negative mean dffs, we have 49 cells\n",
      "Processing experiment 663485329\n",
      "In this experiment, we have 243 cells, but after filtering, we have 43 cells\n",
      "In this experiment, we have 243 cells, but after filtering and removing negative mean dffs, we have 43 cells\n",
      "Processing experiment 510514474\n",
      "In this experiment, we have 402 cells, but after filtering, we have 48 cells\n",
      "In this experiment, we have 402 cells, but after filtering and removing negative mean dffs, we have 48 cells\n",
      "Processing experiment 501704220\n",
      "In this experiment, we have 225 cells, but after filtering, we have 53 cells\n",
      "In this experiment, we have 225 cells, but after filtering and removing negative mean dffs, we have 53 cells\n",
      "Processing experiment 683257169\n",
      "In this experiment, we have 413 cells, but after filtering, we have 0 cells\n",
      "In this experiment, we have 413 cells, but after filtering and removing negative mean dffs, we have 0 cells\n",
      "Processing experiment 502205092\n",
      "In this experiment, we have 396 cells, but after filtering, we have 104 cells\n",
      "In this experiment, we have 396 cells, but after filtering and removing negative mean dffs, we have 104 cells\n",
      "Processing experiment 526504941\n",
      "In this experiment, we have 236 cells, but after filtering, we have 53 cells\n",
      "In this experiment, we have 236 cells, but after filtering and removing negative mean dffs, we have 53 cells\n",
      "Processing experiment 661437140\n",
      "In this experiment, we have 142 cells, but after filtering, we have 39 cells\n",
      "In this experiment, we have 142 cells, but after filtering and removing negative mean dffs, we have 39 cells\n",
      "Processing experiment 501271265\n",
      "In this experiment, we have 295 cells, but after filtering, we have 101 cells\n",
      "In this experiment, we have 295 cells, but after filtering and removing negative mean dffs, we have 101 cells\n",
      "Processing experiment 501836392\n",
      "In this experiment, we have 243 cells, but after filtering, we have 59 cells\n",
      "In this experiment, we have 243 cells, but after filtering and removing negative mean dffs, we have 59 cells\n",
      "Processing experiment 688678766\n",
      "In this experiment, we have 602 cells, but after filtering, we have 0 cells\n",
      "In this experiment, we have 602 cells, but after filtering and removing negative mean dffs, we have 0 cells\n",
      "Processing experiment 652842572\n",
      "In this experiment, we have 316 cells, but after filtering, we have 99 cells\n",
      "In this experiment, we have 316 cells, but after filtering and removing negative mean dffs, we have 99 cells\n",
      "Processing experiment 653125130\n",
      "In this experiment, we have 291 cells, but after filtering, we have 115 cells\n",
      "In this experiment, we have 291 cells, but after filtering and removing negative mean dffs, we have 115 cells\n",
      "Processing experiment 510517131\n",
      "In this experiment, we have 396 cells, but after filtering, we have 72 cells\n",
      "In this experiment, we have 396 cells, but after filtering and removing negative mean dffs, we have 72 cells\n",
      "Processing experiment 680156911\n",
      "In this experiment, we have 404 cells, but after filtering, we have 0 cells\n",
      "In this experiment, we have 404 cells, but after filtering and removing negative mean dffs, we have 0 cells\n",
      "Processing experiment 540684467\n",
      "In this experiment, we have 413 cells, but after filtering, we have 135 cells\n",
      "In this experiment, we have 413 cells, but after filtering and removing negative mean dffs, we have 135 cells\n",
      "Processing experiment 667364442\n",
      "In this experiment, we have 149 cells, but after filtering, we have 21 cells\n",
      "In this experiment, we have 149 cells, but after filtering and removing negative mean dffs, we have 21 cells\n",
      "Processing experiment 502115959\n",
      "In this experiment, we have 305 cells, but after filtering, we have 76 cells\n",
      "In this experiment, we have 305 cells, but after filtering and removing negative mean dffs, we have 76 cells\n",
      "Processing experiment 652094901\n",
      "In this experiment, we have 292 cells, but after filtering, we have 79 cells\n",
      "In this experiment, we have 292 cells, but after filtering and removing negative mean dffs, we have 79 cells\n",
      "VISp [175, 185, 205] ['Cux2-CreERT2', 'Emx1-IRES-Cre', 'Slc17a7-IRES2-Cre', 'Slc17a7-IRES2-Cre'] #Experiments:  17 #Cells: 1178\n"
     ]
    },
    {
     "data": {
      "image/png": "[encoded data removed]",
      "text/plain": [
       "<Figure size 432x288 with 1 Axes>"
      ]
     },
     "metadata": {
      "needs_background": "light"
     },
     "output_type": "display_data"
    }
   ],
   "source": [
    "import warnings; warnings.simplefilter('ignore');\n",
    "for targeted_structure, imaging_depths, cre_lines in interesting_categories:\n",
    "    agg_theta, agg_r, thetas, rs, num_cells = get_one_category_polar_data(\n",
    "        boc,\n",
    "        targeted_structure,\n",
    "        imaging_depths,\n",
    "        cre_lines)\n",
    "    if agg_theta is None:\n",
    "        continue\n",
    "    print(targeted_structure, imaging_depths, cre_lines, \"#Experiments: \", len(thetas), \"#Cells:\", num_cells)\n",
    "    fig, ax = plt.subplots(nrows=1, ncols=1, subplot_kw=dict(polar=True))\n",
    "    polar_plot_population(ax=ax,\n",
    "        bold_theta = agg_theta,\n",
    "        bold_r = agg_r,\n",
    "        grey_thetas = thetas, \n",
    "        grey_rs = rs)\n",
    "    plt.show()"
   ]
  },
  {
   "cell_type": "code",
   "execution_count": null,
   "metadata": {},
   "outputs": [],
   "source": []
  },
  {
   "cell_type": "code",
   "execution_count": null,
   "metadata": {},
   "outputs": [],
   "source": []
  }
 ],
 "metadata": {
  "kernelspec": {
   "display_name": "Python 3",
   "language": "python",
   "name": "python3"
  },
  "language_info": {
   "codemirror_mode": {
    "name": "ipython",
    "version": 3
   },
   "file_extension": ".py",
   "mimetype": "text/x-python",
   "name": "python",
   "nbconvert_exporter": "python",
   "pygments_lexer": "ipython3",
   "version": "3.7.4"
  }
 },
 "nbformat": 4,
 "nbformat_minor": 2
}

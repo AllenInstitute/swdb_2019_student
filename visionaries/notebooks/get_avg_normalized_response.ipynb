{
 "cells": [
  {
   "cell_type": "code",
   "execution_count": 33,
   "metadata": {},
   "outputs": [],
   "source": [
    "def get_avg_normalized_response(boc, session_id, cell_specimen_id, temporal_frequency=2.0):\n",
    "    ''' generate normalized average response for each grating orientation\n",
    "    '''\n",
    "    data_set = boc.get_ophys_experiment_data(session_id)\n",
    "    \n",
    "    timestamps, dff = data_set.get_dff_traces(cell_specimen_ids=[cell_specimen_id])\n",
    "    dff_trace = dff[0,:]\n",
    "    \n",
    "    stim_table = data_set.get_stimulus_table('drifting_gratings')\n",
    "    \n",
    "    #Calculate the mean DF/F for each grating presentation in this stimulus\n",
    "    rows = list()\n",
    "    for i in range(len(stim_table)):\n",
    "        new_row = {\n",
    "            'orientation': stim_table.orientation[i],\n",
    "            'temporal_frequency': stim_table.temporal_frequency[i],\n",
    "            'max_dff': dff_trace[stim_table.start[i]:stim_table.end[i]].max()\n",
    "        }\n",
    "        rows.append(new_row)\n",
    "\n",
    "    cell_response = pd.DataFrame.from_dict(rows)\n",
    "    tf2_response = cell_response[cell_response.temporal_frequency==temporal_frequency]\n",
    "    \n",
    "    mean_dff_ori = tf2_response.groupby('orientation').mean()\n",
    "    \n",
    "    max_response = tf2_response['max_dff'].max()\n",
    "    \n",
    "    return mean_dff_ori['max_dff']/max_response"
   ]
  },
  {
   "cell_type": "code",
   "execution_count": 34,
   "metadata": {},
   "outputs": [],
   "source": [
    "import numpy as np\n",
    "import pandas as pd\n",
    "import matplotlib.pyplot as plt\n",
    "%matplotlib inline\n",
    "import os\n",
    "\n",
    "from allensdk.core.brain_observatory_cache import BrainObservatoryCache\n",
    "drive_path = '/data/allen-brain-observatory/visual-coding-2p'\n",
    "manifest_file = os.path.join(drive_path,'manifest.json')\n",
    "\n",
    "boc = BrainObservatoryCache(manifest_file=manifest_file)\n",
    "\n",
    "experiment_container_id = 511510640\n",
    "cell_specimen_id = 517416426\n",
    "session_id = 502793808"
   ]
  },
  {
   "cell_type": "code",
   "execution_count": 35,
   "metadata": {},
   "outputs": [
    {
     "data": {
      "text/plain": [
       "orientation\n",
       "0.0      0.155069\n",
       "45.0     0.284084\n",
       "90.0     0.144569\n",
       "135.0    0.153308\n",
       "180.0    0.159300\n",
       "225.0    0.144278\n",
       "270.0    0.131686\n",
       "315.0    0.142347\n",
       "Name: max_dff, dtype: float64"
      ]
     },
     "execution_count": 35,
     "metadata": {},
     "output_type": "execute_result"
    }
   ],
   "source": [
    "get_avg_normalized_response(boc, session_id, cell_specimen_id)"
   ]
  },
  {
   "cell_type": "code",
   "execution_count": null,
   "metadata": {},
   "outputs": [],
   "source": []
  }
 ],
 "metadata": {
  "kernelspec": {
   "display_name": "conda_python3",
   "language": "python",
   "name": "conda_python3"
  },
  "language_info": {
   "codemirror_mode": {
    "name": "ipython",
    "version": 3
   },
   "file_extension": ".py",
   "mimetype": "text/x-python",
   "name": "python",
   "nbconvert_exporter": "python",
   "pygments_lexer": "ipython3",
   "version": "3.6.5"
  }
 },
 "nbformat": 4,
 "nbformat_minor": 2
}
